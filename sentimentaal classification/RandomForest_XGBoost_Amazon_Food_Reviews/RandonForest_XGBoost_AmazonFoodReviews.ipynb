{
 "cells": [
  {
   "cell_type": "markdown",
   "metadata": {},
   "source": [
    "# Random Forest and XGBoost on Amazon Food Reviews"
   ]
  },
  {
   "cell_type": "markdown",
   "metadata": {},
   "source": [
    "Data Source: https://www.kaggle.com/snap/amazon-fine-food-reviews\n",
    "\n",
    "The Amazon Fine Food Reviews dataset consists of reviews of fine foods from Amazon.\n",
    "\n",
    "Number of reviews: 568,454 Number of users: 256,059 Number of products: 74,258 Timespan: Oct 1999 - Oct 2012 Number of Attributes/Columns in data: 10\n",
    "\n",
    "Attribute Information:\n",
    "\n",
    "1.  index\n",
    "2.  Id\n",
    "3.  ProductId - unique identifier for the product\n",
    "4.  UserId - unqiue identifier for the user\n",
    "5.  ProfileName\n",
    "6.  HelpfulnessNumerator - number of users who found the review helpful\n",
    "7.  HelpfulnessDenominator - number of users who indicated whether they found the review helpful or not\n",
    "8.  Score - rating between 1 and 5\n",
    "9.  Time - timestamp for the review\n",
    "10. Summary - brief summary of the review\n",
    "11. Text - text of the review\n",
    "12. ProcessedText - Cleaned & Preprocessed Text of the review\n",
    "\n",
    "**Objective: Given Amazon Food reviews, convert all the reviews into a vector using two techniques: **<br>\n",
    "**1. Average W2V.**<br>\n",
    "**2. Average TFIDF-W2V.**<br>\n",
    "\n",
    "**Then perform following tasks under each technique:**<br>\n",
    "**Task 1. Split train and test data in a ratio of 80:20.** <br>\n",
    "**Task 2. Perform GridSearch Cross Validation to find optimal value of number of base models in Random Forest.**<br>\n",
    "**Task 3. Apply Random Forest and report accuracy. Also check for train error.**<br>\n",
    "**Task 4. Perform GridSearch Cross Validation to find optimal number of base models and optimal value of depth of decision tree base models in XGBoost. **<br>\n",
    "**Task 5. Apply XGBoost and report accuracy. Also check for train error.**<br>\n",
    "\n",
    "[Q] How to determine if a review is positive or negative?\n",
    "\n",
    "[Ans] We could use the Score/Rating. A rating of 4 or 5 could be cosnidered a positive review. A review of 1 or 2 could be considered negative. A review of 3 is nuetral and ignored. This is an approximate and proxy way of determining the polarity (positivity/negativity) of a review.\n",
    "\n",
    "Loading the data\n",
    "\n",
    "SQLite Database\n",
    "\n",
    "In order to load the data, We have used the SQLITE dataset as it easier to query the data and visualise the data efficiently. Here as we only want to get the global sentiment of the recommendations (positive or negative), we will purposefully ignore all Scores equal to 3. If the score id above 3, then the recommendation wil be set to \"positive\". Otherwise, it will be set to \"negative\"."
   ]
  },
  {
   "cell_type": "code",
   "execution_count": 3,
   "metadata": {},
   "outputs": [],
   "source": [
    "import sqlite3\n",
    "import pandas as pd\n",
    "import numpy as np\n",
    "import seaborn as sns\n",
    "import matplotlib.pyplot as plt\n",
    "\n",
    "from gensim.models import Word2Vec\n",
    "import gensim\n",
    "from sklearn.metrics import accuracy_score, confusion_matrix\n",
    "from sklearn.feature_extraction.text import TfidfVectorizer\n",
    "\n",
    "from sklearn.ensemble import RandomForestClassifier\n",
    "import xgboost as xgb\n",
    "from sklearn.cross_validation import train_test_split\n",
    "from sklearn.grid_search import GridSearchCV"
   ]
  },
  {
   "cell_type": "code",
   "execution_count": 4,
   "metadata": {},
   "outputs": [],
   "source": [
    "connection = sqlite3.connect('FinalAmazonFoodReviewsDataset.sqlite')"
   ]
  },
  {
   "cell_type": "code",
   "execution_count": 5,
   "metadata": {},
   "outputs": [],
   "source": [
    "data = pd.read_sql_query(\"SELECT * FROM Reviews\", connection)"
   ]
  },
  {
   "cell_type": "code",
   "execution_count": 6,
   "metadata": {},
   "outputs": [
    {
     "data": {
      "text/html": [
       "<div>\n",
       "<style scoped>\n",
       "    .dataframe tbody tr th:only-of-type {\n",
       "        vertical-align: middle;\n",
       "    }\n",
       "\n",
       "    .dataframe tbody tr th {\n",
       "        vertical-align: top;\n",
       "    }\n",
       "\n",
       "    .dataframe thead th {\n",
       "        text-align: right;\n",
       "    }\n",
       "</style>\n",
       "<table border=\"1\" class=\"dataframe\">\n",
       "  <thead>\n",
       "    <tr style=\"text-align: right;\">\n",
       "      <th></th>\n",
       "      <th>index</th>\n",
       "      <th>Id</th>\n",
       "      <th>ProductId</th>\n",
       "      <th>UserId</th>\n",
       "      <th>ProfileName</th>\n",
       "      <th>HelpfulnessNumerator</th>\n",
       "      <th>HelpfulnessDenominator</th>\n",
       "      <th>Score</th>\n",
       "      <th>Time</th>\n",
       "      <th>Summary</th>\n",
       "      <th>Text</th>\n",
       "      <th>ProcessedText</th>\n",
       "    </tr>\n",
       "  </thead>\n",
       "  <tbody>\n",
       "    <tr>\n",
       "      <th>0</th>\n",
       "      <td>0</td>\n",
       "      <td>1</td>\n",
       "      <td>B001E4KFG0</td>\n",
       "      <td>A3SGXH7AUHU8GW</td>\n",
       "      <td>delmartian</td>\n",
       "      <td>1</td>\n",
       "      <td>1</td>\n",
       "      <td>Positive</td>\n",
       "      <td>1303862400</td>\n",
       "      <td>Good Quality Dog Food</td>\n",
       "      <td>I have bought several of the Vitality canned d...</td>\n",
       "      <td>have bought sever the vital can dog food produ...</td>\n",
       "    </tr>\n",
       "    <tr>\n",
       "      <th>1</th>\n",
       "      <td>1</td>\n",
       "      <td>2</td>\n",
       "      <td>B00813GRG4</td>\n",
       "      <td>A1D87F6ZCVE5NK</td>\n",
       "      <td>dll pa</td>\n",
       "      <td>0</td>\n",
       "      <td>0</td>\n",
       "      <td>Negative</td>\n",
       "      <td>1346976000</td>\n",
       "      <td>Not as Advertised</td>\n",
       "      <td>Product arrived labeled as Jumbo Salted Peanut...</td>\n",
       "      <td>product arriv label jumbo salt peanut the pean...</td>\n",
       "    </tr>\n",
       "    <tr>\n",
       "      <th>2</th>\n",
       "      <td>2</td>\n",
       "      <td>3</td>\n",
       "      <td>B000LQOCH0</td>\n",
       "      <td>ABXLMWJIXXAIN</td>\n",
       "      <td>Natalia Corres \"Natalia Corres\"</td>\n",
       "      <td>1</td>\n",
       "      <td>1</td>\n",
       "      <td>Positive</td>\n",
       "      <td>1219017600</td>\n",
       "      <td>\"Delight\" says it all</td>\n",
       "      <td>This is a confection that has been around a fe...</td>\n",
       "      <td>this confect that has been around few centuri ...</td>\n",
       "    </tr>\n",
       "    <tr>\n",
       "      <th>3</th>\n",
       "      <td>4</td>\n",
       "      <td>5</td>\n",
       "      <td>B006K2ZZ7K</td>\n",
       "      <td>A1UQRSCLF8GW1T</td>\n",
       "      <td>Michael D. Bigham \"M. Wassir\"</td>\n",
       "      <td>0</td>\n",
       "      <td>0</td>\n",
       "      <td>Positive</td>\n",
       "      <td>1350777600</td>\n",
       "      <td>Great taffy</td>\n",
       "      <td>Great taffy at a great price.  There was a wid...</td>\n",
       "      <td>great taffi great price there was wide assort ...</td>\n",
       "    </tr>\n",
       "    <tr>\n",
       "      <th>4</th>\n",
       "      <td>5</td>\n",
       "      <td>6</td>\n",
       "      <td>B006K2ZZ7K</td>\n",
       "      <td>ADT0SRK1MGOEU</td>\n",
       "      <td>Twoapennything</td>\n",
       "      <td>0</td>\n",
       "      <td>0</td>\n",
       "      <td>Positive</td>\n",
       "      <td>1342051200</td>\n",
       "      <td>Nice Taffy</td>\n",
       "      <td>I got a wild hair for taffy and ordered this f...</td>\n",
       "      <td>got wild hair for taffi and order this five po...</td>\n",
       "    </tr>\n",
       "  </tbody>\n",
       "</table>\n",
       "</div>"
      ],
      "text/plain": [
       "   index  Id   ProductId          UserId                      ProfileName  \\\n",
       "0      0   1  B001E4KFG0  A3SGXH7AUHU8GW                       delmartian   \n",
       "1      1   2  B00813GRG4  A1D87F6ZCVE5NK                           dll pa   \n",
       "2      2   3  B000LQOCH0   ABXLMWJIXXAIN  Natalia Corres \"Natalia Corres\"   \n",
       "3      4   5  B006K2ZZ7K  A1UQRSCLF8GW1T    Michael D. Bigham \"M. Wassir\"   \n",
       "4      5   6  B006K2ZZ7K   ADT0SRK1MGOEU                   Twoapennything   \n",
       "\n",
       "   HelpfulnessNumerator  HelpfulnessDenominator     Score        Time  \\\n",
       "0                     1                       1  Positive  1303862400   \n",
       "1                     0                       0  Negative  1346976000   \n",
       "2                     1                       1  Positive  1219017600   \n",
       "3                     0                       0  Positive  1350777600   \n",
       "4                     0                       0  Positive  1342051200   \n",
       "\n",
       "                 Summary                                               Text  \\\n",
       "0  Good Quality Dog Food  I have bought several of the Vitality canned d...   \n",
       "1      Not as Advertised  Product arrived labeled as Jumbo Salted Peanut...   \n",
       "2  \"Delight\" says it all  This is a confection that has been around a fe...   \n",
       "3            Great taffy  Great taffy at a great price.  There was a wid...   \n",
       "4             Nice Taffy  I got a wild hair for taffy and ordered this f...   \n",
       "\n",
       "                                       ProcessedText  \n",
       "0  have bought sever the vital can dog food produ...  \n",
       "1  product arriv label jumbo salt peanut the pean...  \n",
       "2  this confect that has been around few centuri ...  \n",
       "3  great taffi great price there was wide assort ...  \n",
       "4  got wild hair for taffi and order this five po...  "
      ]
     },
     "execution_count": 6,
     "metadata": {},
     "output_type": "execute_result"
    }
   ],
   "source": [
    "data.head()"
   ]
  },
  {
   "cell_type": "code",
   "execution_count": 7,
   "metadata": {},
   "outputs": [
    {
     "data": {
      "text/plain": [
       "(364171, 12)"
      ]
     },
     "execution_count": 7,
     "metadata": {},
     "output_type": "execute_result"
    }
   ],
   "source": [
    "data.shape"
   ]
  },
  {
   "cell_type": "code",
   "execution_count": 8,
   "metadata": {},
   "outputs": [
    {
     "data": {
      "text/plain": [
       "Positive    307061\n",
       "Negative     57110\n",
       "Name: Score, dtype: int64"
      ]
     },
     "execution_count": 8,
     "metadata": {},
     "output_type": "execute_result"
    }
   ],
   "source": [
    "data[\"Score\"].value_counts()"
   ]
  },
  {
   "cell_type": "code",
   "execution_count": 9,
   "metadata": {},
   "outputs": [],
   "source": [
    "def changingScores(score):\n",
    "    if score == \"Positive\":\n",
    "        return 1\n",
    "    else:\n",
    "        return 0"
   ]
  },
  {
   "cell_type": "code",
   "execution_count": 10,
   "metadata": {},
   "outputs": [],
   "source": [
    "# changing score\n",
    "# Positive = 1\n",
    "# Negative = 0\n",
    "actualScore = list(data[\"Score\"])                                                                                         \n",
    "positiveNegative = list(map(changingScores, actualScore)) #map(function, list of numbers)\n",
    "data['Score'] = positiveNegative"
   ]
  },
  {
   "cell_type": "code",
   "execution_count": 11,
   "metadata": {},
   "outputs": [],
   "source": [
    "#taking 10000 random samples\n",
    "data = data.sample(n = 10000)"
   ]
  },
  {
   "cell_type": "code",
   "execution_count": 12,
   "metadata": {},
   "outputs": [
    {
     "data": {
      "text/html": [
       "<div>\n",
       "<style scoped>\n",
       "    .dataframe tbody tr th:only-of-type {\n",
       "        vertical-align: middle;\n",
       "    }\n",
       "\n",
       "    .dataframe tbody tr th {\n",
       "        vertical-align: top;\n",
       "    }\n",
       "\n",
       "    .dataframe thead th {\n",
       "        text-align: right;\n",
       "    }\n",
       "</style>\n",
       "<table border=\"1\" class=\"dataframe\">\n",
       "  <thead>\n",
       "    <tr style=\"text-align: right;\">\n",
       "      <th></th>\n",
       "      <th>index</th>\n",
       "      <th>Id</th>\n",
       "      <th>ProductId</th>\n",
       "      <th>UserId</th>\n",
       "      <th>ProfileName</th>\n",
       "      <th>HelpfulnessNumerator</th>\n",
       "      <th>HelpfulnessDenominator</th>\n",
       "      <th>Score</th>\n",
       "      <th>Time</th>\n",
       "      <th>Summary</th>\n",
       "      <th>Text</th>\n",
       "      <th>ProcessedText</th>\n",
       "    </tr>\n",
       "  </thead>\n",
       "  <tbody>\n",
       "    <tr>\n",
       "      <th>1771</th>\n",
       "      <td>2319</td>\n",
       "      <td>2525</td>\n",
       "      <td>B000NY4SZQ</td>\n",
       "      <td>A1IDF30FSGME1L</td>\n",
       "      <td>Shari</td>\n",
       "      <td>2</td>\n",
       "      <td>2</td>\n",
       "      <td>1</td>\n",
       "      <td>1283040000</td>\n",
       "      <td>Thomy Mustard Maniac</td>\n",
       "      <td>This is the best I've ever eaten.  If you like...</td>\n",
       "      <td>this the best ive ever eaten you like mustard ...</td>\n",
       "    </tr>\n",
       "    <tr>\n",
       "      <th>307570</th>\n",
       "      <td>442577</td>\n",
       "      <td>478546</td>\n",
       "      <td>B000E3XCG2</td>\n",
       "      <td>A3N8XPE3QXZ62Q</td>\n",
       "      <td>Connie L. Roberts \"Daeshii\"</td>\n",
       "      <td>1</td>\n",
       "      <td>1</td>\n",
       "      <td>1</td>\n",
       "      <td>1185321600</td>\n",
       "      <td>Oh, Yummy!!</td>\n",
       "      <td>I've always been a big fan of Zatarain's produ...</td>\n",
       "      <td>ive alway been big fan zatarain product and th...</td>\n",
       "    </tr>\n",
       "    <tr>\n",
       "      <th>309959</th>\n",
       "      <td>445341</td>\n",
       "      <td>481519</td>\n",
       "      <td>B004OY7FD8</td>\n",
       "      <td>A18F3YI8GZCIIY</td>\n",
       "      <td>Karmali</td>\n",
       "      <td>0</td>\n",
       "      <td>0</td>\n",
       "      <td>1</td>\n",
       "      <td>1340496000</td>\n",
       "      <td>Delicious crackers.</td>\n",
       "      <td>These are delicious crackers that taste very d...</td>\n",
       "      <td>these are delici cracker that tast veri delici...</td>\n",
       "    </tr>\n",
       "    <tr>\n",
       "      <th>183392</th>\n",
       "      <td>259085</td>\n",
       "      <td>280861</td>\n",
       "      <td>B000FFLHSY</td>\n",
       "      <td>A3JETXRRUHIOUH</td>\n",
       "      <td>rain21004</td>\n",
       "      <td>3</td>\n",
       "      <td>4</td>\n",
       "      <td>0</td>\n",
       "      <td>1271980800</td>\n",
       "      <td>Drain cleaner</td>\n",
       "      <td>Each time I have eaten these (either in a smoo...</td>\n",
       "      <td>each time have eaten these either smoothi mix ...</td>\n",
       "    </tr>\n",
       "    <tr>\n",
       "      <th>303846</th>\n",
       "      <td>436877</td>\n",
       "      <td>472419</td>\n",
       "      <td>B001F1U5WG</td>\n",
       "      <td>A1GZVRXW89KZST</td>\n",
       "      <td>kawtamer</td>\n",
       "      <td>1</td>\n",
       "      <td>1</td>\n",
       "      <td>1</td>\n",
       "      <td>1301011200</td>\n",
       "      <td>Great!</td>\n",
       "      <td>This is a GREAT alternative to coffee. I've tr...</td>\n",
       "      <td>this great altern coffe ive tri the vanilla nu...</td>\n",
       "    </tr>\n",
       "  </tbody>\n",
       "</table>\n",
       "</div>"
      ],
      "text/plain": [
       "         index      Id   ProductId          UserId  \\\n",
       "1771      2319    2525  B000NY4SZQ  A1IDF30FSGME1L   \n",
       "307570  442577  478546  B000E3XCG2  A3N8XPE3QXZ62Q   \n",
       "309959  445341  481519  B004OY7FD8  A18F3YI8GZCIIY   \n",
       "183392  259085  280861  B000FFLHSY  A3JETXRRUHIOUH   \n",
       "303846  436877  472419  B001F1U5WG  A1GZVRXW89KZST   \n",
       "\n",
       "                        ProfileName  HelpfulnessNumerator  \\\n",
       "1771                          Shari                     2   \n",
       "307570  Connie L. Roberts \"Daeshii\"                     1   \n",
       "309959                      Karmali                     0   \n",
       "183392                    rain21004                     3   \n",
       "303846                     kawtamer                     1   \n",
       "\n",
       "        HelpfulnessDenominator  Score        Time               Summary  \\\n",
       "1771                         2      1  1283040000  Thomy Mustard Maniac   \n",
       "307570                       1      1  1185321600           Oh, Yummy!!   \n",
       "309959                       0      1  1340496000   Delicious crackers.   \n",
       "183392                       4      0  1271980800         Drain cleaner   \n",
       "303846                       1      1  1301011200                Great!   \n",
       "\n",
       "                                                     Text  \\\n",
       "1771    This is the best I've ever eaten.  If you like...   \n",
       "307570  I've always been a big fan of Zatarain's produ...   \n",
       "309959  These are delicious crackers that taste very d...   \n",
       "183392  Each time I have eaten these (either in a smoo...   \n",
       "303846  This is a GREAT alternative to coffee. I've tr...   \n",
       "\n",
       "                                            ProcessedText  \n",
       "1771    this the best ive ever eaten you like mustard ...  \n",
       "307570  ive alway been big fan zatarain product and th...  \n",
       "309959  these are delici cracker that tast veri delici...  \n",
       "183392  each time have eaten these either smoothi mix ...  \n",
       "303846  this great altern coffe ive tri the vanilla nu...  "
      ]
     },
     "execution_count": 12,
     "metadata": {},
     "output_type": "execute_result"
    }
   ],
   "source": [
    "data.head()"
   ]
  },
  {
   "cell_type": "code",
   "execution_count": 13,
   "metadata": {},
   "outputs": [
    {
     "data": {
      "text/plain": [
       "(10000, 12)"
      ]
     },
     "execution_count": 13,
     "metadata": {},
     "output_type": "execute_result"
    }
   ],
   "source": [
    "data.shape"
   ]
  },
  {
   "cell_type": "code",
   "execution_count": 14,
   "metadata": {},
   "outputs": [
    {
     "data": {
      "text/plain": [
       "1    8456\n",
       "0    1544\n",
       "Name: Score, dtype: int64"
      ]
     },
     "execution_count": 14,
     "metadata": {},
     "output_type": "execute_result"
    }
   ],
   "source": [
    "data[\"Score\"].value_counts()"
   ]
  },
  {
   "cell_type": "code",
   "execution_count": 15,
   "metadata": {},
   "outputs": [],
   "source": [
    "data = data.sort_values('Time', axis=0, ascending=True)"
   ]
  },
  {
   "cell_type": "code",
   "execution_count": 16,
   "metadata": {},
   "outputs": [],
   "source": [
    "Data = data"
   ]
  },
  {
   "cell_type": "code",
   "execution_count": 17,
   "metadata": {},
   "outputs": [],
   "source": [
    "Data_Labels = data[\"Score\"]"
   ]
  },
  {
   "cell_type": "code",
   "execution_count": 18,
   "metadata": {},
   "outputs": [
    {
     "name": "stdout",
     "output_type": "stream",
     "text": [
      "(10000, 12)\n",
      "(10000,)\n"
     ]
    }
   ],
   "source": [
    "print(Data.shape)\n",
    "print(Data_Labels.shape)"
   ]
  },
  {
   "cell_type": "code",
   "execution_count": 19,
   "metadata": {},
   "outputs": [
    {
     "data": {
      "text/html": [
       "<div>\n",
       "<style scoped>\n",
       "    .dataframe tbody tr th:only-of-type {\n",
       "        vertical-align: middle;\n",
       "    }\n",
       "\n",
       "    .dataframe tbody tr th {\n",
       "        vertical-align: top;\n",
       "    }\n",
       "\n",
       "    .dataframe thead th {\n",
       "        text-align: right;\n",
       "    }\n",
       "</style>\n",
       "<table border=\"1\" class=\"dataframe\">\n",
       "  <thead>\n",
       "    <tr style=\"text-align: right;\">\n",
       "      <th></th>\n",
       "      <th>index</th>\n",
       "      <th>Id</th>\n",
       "      <th>ProductId</th>\n",
       "      <th>UserId</th>\n",
       "      <th>ProfileName</th>\n",
       "      <th>HelpfulnessNumerator</th>\n",
       "      <th>HelpfulnessDenominator</th>\n",
       "      <th>Score</th>\n",
       "      <th>Time</th>\n",
       "      <th>Summary</th>\n",
       "      <th>Text</th>\n",
       "      <th>ProcessedText</th>\n",
       "    </tr>\n",
       "  </thead>\n",
       "  <tbody>\n",
       "    <tr>\n",
       "      <th>97415</th>\n",
       "      <td>138001</td>\n",
       "      <td>149770</td>\n",
       "      <td>B00004S1C5</td>\n",
       "      <td>A1KXONFPU2XQ5K</td>\n",
       "      <td>Stephanie Manley</td>\n",
       "      <td>8</td>\n",
       "      <td>8</td>\n",
       "      <td>1</td>\n",
       "      <td>965779200</td>\n",
       "      <td>Very easy to use</td>\n",
       "      <td>This are so much easier to use than the Wilson...</td>\n",
       "      <td>this are much easier use than the wilson past ...</td>\n",
       "    </tr>\n",
       "    <tr>\n",
       "      <th>238632</th>\n",
       "      <td>346030</td>\n",
       "      <td>374332</td>\n",
       "      <td>B00004CI84</td>\n",
       "      <td>AEPJYN0NAX9N4</td>\n",
       "      <td>Jody L. Schoth</td>\n",
       "      <td>0</td>\n",
       "      <td>0</td>\n",
       "      <td>1</td>\n",
       "      <td>1014163200</td>\n",
       "      <td>Excellent... Hilarious</td>\n",
       "      <td>Just hilarious... my favorite part is the dini...</td>\n",
       "      <td>just hilari favorit part the dine room scene w...</td>\n",
       "    </tr>\n",
       "    <tr>\n",
       "      <th>308591</th>\n",
       "      <td>443674</td>\n",
       "      <td>479736</td>\n",
       "      <td>B00005U2FA</td>\n",
       "      <td>A1UUIV2251UKHJ</td>\n",
       "      <td>S. McMillian</td>\n",
       "      <td>2</td>\n",
       "      <td>2</td>\n",
       "      <td>1</td>\n",
       "      <td>1052179200</td>\n",
       "      <td>Vacu Vin</td>\n",
       "      <td>Although this was a gift to use for keeping wi...</td>\n",
       "      <td>although this was gift use for keep wine have ...</td>\n",
       "    </tr>\n",
       "    <tr>\n",
       "      <th>267514</th>\n",
       "      <td>388413</td>\n",
       "      <td>419994</td>\n",
       "      <td>B0000A0BS5</td>\n",
       "      <td>A238V1XTSK9NFE</td>\n",
       "      <td>Andrew Lynn</td>\n",
       "      <td>46</td>\n",
       "      <td>59</td>\n",
       "      <td>0</td>\n",
       "      <td>1064361600</td>\n",
       "      <td>Not actually for use in espresso machines</td>\n",
       "      <td>Few things I'd like to point out:&lt;p&gt;1.  &amp;quot;...</td>\n",
       "      <td>few thing like point not roast it drink northe...</td>\n",
       "    </tr>\n",
       "    <tr>\n",
       "      <th>129891</th>\n",
       "      <td>184396</td>\n",
       "      <td>200021</td>\n",
       "      <td>B0000D9N5Q</td>\n",
       "      <td>A176XYKMRF1U8Q</td>\n",
       "      <td>Lance Arthur</td>\n",
       "      <td>0</td>\n",
       "      <td>0</td>\n",
       "      <td>1</td>\n",
       "      <td>1067990400</td>\n",
       "      <td>A small taste of heaven</td>\n",
       "      <td>Pierre Robert is similar to Brie but with a sm...</td>\n",
       "      <td>pierr robert similar brie but with smoother cr...</td>\n",
       "    </tr>\n",
       "  </tbody>\n",
       "</table>\n",
       "</div>"
      ],
      "text/plain": [
       "         index      Id   ProductId          UserId       ProfileName  \\\n",
       "97415   138001  149770  B00004S1C5  A1KXONFPU2XQ5K  Stephanie Manley   \n",
       "238632  346030  374332  B00004CI84   AEPJYN0NAX9N4    Jody L. Schoth   \n",
       "308591  443674  479736  B00005U2FA  A1UUIV2251UKHJ      S. McMillian   \n",
       "267514  388413  419994  B0000A0BS5  A238V1XTSK9NFE       Andrew Lynn   \n",
       "129891  184396  200021  B0000D9N5Q  A176XYKMRF1U8Q      Lance Arthur   \n",
       "\n",
       "        HelpfulnessNumerator  HelpfulnessDenominator  Score        Time  \\\n",
       "97415                      8                       8      1   965779200   \n",
       "238632                     0                       0      1  1014163200   \n",
       "308591                     2                       2      1  1052179200   \n",
       "267514                    46                      59      0  1064361600   \n",
       "129891                     0                       0      1  1067990400   \n",
       "\n",
       "                                          Summary  \\\n",
       "97415                            Very easy to use   \n",
       "238632                     Excellent... Hilarious   \n",
       "308591                                   Vacu Vin   \n",
       "267514  Not actually for use in espresso machines   \n",
       "129891                    A small taste of heaven   \n",
       "\n",
       "                                                     Text  \\\n",
       "97415   This are so much easier to use than the Wilson...   \n",
       "238632  Just hilarious... my favorite part is the dini...   \n",
       "308591  Although this was a gift to use for keeping wi...   \n",
       "267514  Few things I'd like to point out:<p>1.  &quot;...   \n",
       "129891  Pierre Robert is similar to Brie but with a sm...   \n",
       "\n",
       "                                            ProcessedText  \n",
       "97415   this are much easier use than the wilson past ...  \n",
       "238632  just hilari favorit part the dine room scene w...  \n",
       "308591  although this was gift use for keep wine have ...  \n",
       "267514  few thing like point not roast it drink northe...  \n",
       "129891  pierr robert similar brie but with smoother cr...  "
      ]
     },
     "execution_count": 19,
     "metadata": {},
     "output_type": "execute_result"
    }
   ],
   "source": [
    "Data.head()"
   ]
  },
  {
   "cell_type": "markdown",
   "metadata": {},
   "source": [
    "## 1. Avg W2V"
   ]
  },
  {
   "cell_type": "code",
   "execution_count": 20,
   "metadata": {},
   "outputs": [],
   "source": [
    "i = 0\n",
    "listOfSentences = []\n",
    "for sentence in Data[\"ProcessedText\"].values:\n",
    "    subSentence = []\n",
    "    for word in sentence.split():\n",
    "        subSentence.append(word)\n",
    "        \n",
    "    listOfSentences.append(subSentence)"
   ]
  },
  {
   "cell_type": "code",
   "execution_count": 21,
   "metadata": {},
   "outputs": [
    {
     "name": "stdout",
     "output_type": "stream",
     "text": [
      "this are much easier use than the wilson past color color are vibrant and not taint the frost like some color can these are simpl use and not make mess onli complaint that did not find these year ago this must have you decor often\n",
      "\n",
      "\n",
      "[['this', 'are', 'much', 'easier', 'use', 'than', 'the', 'wilson', 'past', 'color', 'color', 'are', 'vibrant', 'and', 'not', 'taint', 'the', 'frost', 'like', 'some', 'color', 'can', 'these', 'are', 'simpl', 'use', 'and', 'not', 'make', 'mess', 'onli', 'complaint', 'that', 'did', 'not', 'find', 'these', 'year', 'ago', 'this', 'must', 'have', 'you', 'decor', 'often'], ['just', 'hilari', 'favorit', 'part', 'the', 'dine', 'room', 'scene', 'with', 'all', 'the', 'sing', 'and', 'danc', 'classic', 'moment', 'not', 'miss', 'winona', 'rider', 'and', 'geena', 'davi', 'are', 'spectacular', 'this', 'movi', 'and', 'michael', 'keaton', 'unbeliev', 'funni', 'couldnt', 'stop', 'laugh', 'great', 'famili', 'movi', 'will', 'keep', 'you', 'stitch']]\n",
      "\n",
      "\n",
      "<class 'list'>\n"
     ]
    }
   ],
   "source": [
    "print(Data['ProcessedText'].values[0])\n",
    "print(\"\\n\")\n",
    "print(listOfSentences[0:2])\n",
    "print(\"\\n\")\n",
    "print(type(listOfSentences))"
   ]
  },
  {
   "cell_type": "code",
   "execution_count": 22,
   "metadata": {},
   "outputs": [],
   "source": [
    "w2vModel = gensim.models.Word2Vec(listOfSentences, size=300, min_count=5, workers=4)"
   ]
  },
  {
   "cell_type": "code",
   "execution_count": 23,
   "metadata": {},
   "outputs": [
    {
     "name": "stdout",
     "output_type": "stream",
     "text": [
      "<class 'list'>\n",
      "10000\n",
      "300\n"
     ]
    }
   ],
   "source": [
    "# compute average word2vec for each review.\n",
    "sentenceAsW2V = []\n",
    "for sentence in listOfSentences:\n",
    "    sentenceVector = np.zeros(300)\n",
    "    TotalWordsPerSentence = 0\n",
    "    for word in sentence:\n",
    "        try:\n",
    "            vect = w2vModel.wv[word]\n",
    "            sentenceVector += vect\n",
    "            TotalWordsPerSentence += 1\n",
    "        except:\n",
    "            pass\n",
    "    if TotalWordsPerSentence!= 0:\n",
    "        sentenceVector /= TotalWordsPerSentence\n",
    "        sentenceAsW2V.append(sentenceVector)\n",
    "\n",
    "print(type(sentenceAsW2V))\n",
    "print(len(sentenceAsW2V))\n",
    "print(len(sentenceAsW2V[0]))"
   ]
  },
  {
   "cell_type": "markdown",
   "metadata": {},
   "source": [
    "### Task 1. Split train and test data in a ratio of 80:20."
   ]
  },
  {
   "cell_type": "code",
   "execution_count": 24,
   "metadata": {},
   "outputs": [],
   "source": [
    "X_train_AvgW2V, X_test_AvgW2V, Y_train_labels_AvgW2V, Y_test_labels_AvgW2V = train_test_split(sentenceAsW2V, Data_Labels, test_size = 0.2)"
   ]
  },
  {
   "cell_type": "code",
   "execution_count": 25,
   "metadata": {},
   "outputs": [],
   "source": [
    "train_AvgW2V = np.array(X_train_AvgW2V)\n",
    "test_AvgW2V = np.array(X_test_AvgW2V)\n",
    "train_labels_AvgW2V = np.array(Y_train_labels_AvgW2V)\n",
    "test_labels_AvgW2V = np.array(Y_test_labels_AvgW2V)"
   ]
  },
  {
   "cell_type": "code",
   "execution_count": 26,
   "metadata": {},
   "outputs": [
    {
     "data": {
      "text/plain": [
       "((8000, 300), (2000, 300), (8000,), (2000,))"
      ]
     },
     "execution_count": 26,
     "metadata": {},
     "output_type": "execute_result"
    }
   ],
   "source": [
    "train_AvgW2V.shape, test_AvgW2V.shape, train_labels_AvgW2V.shape, test_labels_AvgW2V.shape"
   ]
  },
  {
   "cell_type": "markdown",
   "metadata": {},
   "source": [
    "### Task 2. Perform GridSearch Cross Validation to find optimal value of number of base models in Random Forest."
   ]
  },
  {
   "cell_type": "code",
   "execution_count": 125,
   "metadata": {},
   "outputs": [
    {
     "name": "stdout",
     "output_type": "stream",
     "text": [
      "RandomForestClassifier(bootstrap=True, class_weight=None, criterion='gini',\n",
      "            max_depth=None, max_features='auto', max_leaf_nodes=None,\n",
      "            min_impurity_decrease=0.0, min_impurity_split=None,\n",
      "            min_samples_leaf=1, min_samples_split=2,\n",
      "            min_weight_fraction_leaf=0.0, n_estimators=29, n_jobs=-1,\n",
      "            oob_score=False, random_state=None, verbose=0,\n",
      "            warm_start=False)\n"
     ]
    }
   ],
   "source": [
    "values = []\n",
    "for i in range(1, 31, 2):\n",
    "    values.append(i)\n",
    "\n",
    "clf = RandomForestClassifier(n_jobs = -1)\n",
    "\n",
    "hyper_parameters = {'n_estimators': values}\n",
    "bestScore = GridSearchCV(clf, hyper_parameters, scoring = \"accuracy\", cv = 3)\n",
    "bestScore.fit(train_AvgW2V, train_labels_AvgW2V)\n",
    "\n",
    "print(bestScore.best_estimator_)"
   ]
  },
  {
   "cell_type": "code",
   "execution_count": 126,
   "metadata": {},
   "outputs": [
    {
     "data": {
      "text/plain": [
       "29"
      ]
     },
     "execution_count": 126,
     "metadata": {},
     "output_type": "execute_result"
    }
   ],
   "source": [
    "best_parameter = bestScore.best_params_ \n",
    "bp = best_parameter[\"n_estimators\"]\n",
    "bp"
   ]
  },
  {
   "cell_type": "code",
   "execution_count": 127,
   "metadata": {},
   "outputs": [
    {
     "data": {
      "text/plain": [
       "[mean: 0.78112, std: 0.00458, params: {'n_estimators': 1},\n",
       " mean: 0.83050, std: 0.00185, params: {'n_estimators': 3},\n",
       " mean: 0.83850, std: 0.00621, params: {'n_estimators': 5},\n",
       " mean: 0.85062, std: 0.00498, params: {'n_estimators': 7},\n",
       " mean: 0.85262, std: 0.00159, params: {'n_estimators': 9},\n",
       " mean: 0.85175, std: 0.00097, params: {'n_estimators': 11},\n",
       " mean: 0.85850, std: 0.00356, params: {'n_estimators': 13},\n",
       " mean: 0.86038, std: 0.00272, params: {'n_estimators': 15},\n",
       " mean: 0.85788, std: 0.00082, params: {'n_estimators': 17},\n",
       " mean: 0.85913, std: 0.00034, params: {'n_estimators': 19},\n",
       " mean: 0.85975, std: 0.00293, params: {'n_estimators': 21},\n",
       " mean: 0.85850, std: 0.00204, params: {'n_estimators': 23},\n",
       " mean: 0.86075, std: 0.00428, params: {'n_estimators': 25},\n",
       " mean: 0.86162, std: 0.00359, params: {'n_estimators': 27},\n",
       " mean: 0.86400, std: 0.00015, params: {'n_estimators': 29}]"
      ]
     },
     "execution_count": 127,
     "metadata": {},
     "output_type": "execute_result"
    }
   ],
   "source": [
    "scoreData = bestScore.grid_scores_\n",
    "scoreData"
   ]
  },
  {
   "cell_type": "code",
   "execution_count": 128,
   "metadata": {},
   "outputs": [
    {
     "data": {
      "image/png": "[encoded data removed]",
      "text/plain": [
       "<Figure size 720x576 with 1 Axes>"
      ]
     },
     "metadata": {},
     "output_type": "display_data"
    }
   ],
   "source": [
    "error = []\n",
    "parameter = []\n",
    "for i in range(len(scoreData)):\n",
    "    error.append(1 - scoreData[i][1])\n",
    "    parameter.append(scoreData[i][0][\"n_estimators\"])\n",
    "\n",
    "plt.figure(figsize=(10,8))\n",
    "plt.plot(parameter, error)\n",
    "\n",
    "plt.title(\"Plot of [Cross Validation Error vs Number of base learners]\", fontsize=20)\n",
    "plt.xlabel(\"Number of base learners\", fontsize=20)\n",
    "plt.ylabel(\"Cross Validation Error\", fontsize=20)\n",
    "plt.grid(linestyle='-', linewidth=0.5)\n",
    "\n",
    "errorMin = min(error)\n",
    "errorMin\n",
    "\n",
    "for xy in zip(parameter, error):\n",
    "    if xy == (bp, errorMin):\n",
    "        plt.annotate(xy, xy)"
   ]
  },
  {
   "cell_type": "markdown",
   "metadata": {},
   "source": [
    "### Task 3. Apply Random Forest and report accuracy. Also check for train error."
   ]
  },
  {
   "cell_type": "code",
   "execution_count": 129,
   "metadata": {},
   "outputs": [
    {
     "name": "stdout",
     "output_type": "stream",
     "text": [
      "Train error of Random Forest = 0.1%\n"
     ]
    }
   ],
   "source": [
    "#First checking for train error\n",
    "model_rf_tr = RandomForestClassifier(n_estimators = bp, n_jobs = -1)\n",
    "\n",
    "model_rf_tr.fit(train_AvgW2V, train_labels_AvgW2V)\n",
    "\n",
    "prediction_AvgW2V_rf_tr = model_rf_tr.predict(train_AvgW2V)\n",
    "\n",
    "AccuracyScore_AvgW2V_rf_tr = accuracy_score(train_labels_AvgW2V, prediction_AvgW2V_rf_tr)\n",
    "\n",
    "print(\"Train error of Random Forest = \"+str(np.round(((1 - AccuracyScore_AvgW2V_rf_tr) * 100), 4))+\"%\")"
   ]
  },
  {
   "cell_type": "code",
   "execution_count": 130,
   "metadata": {},
   "outputs": [
    {
     "name": "stdout",
     "output_type": "stream",
     "text": [
      "Accuracy score of Random Forest = 85.25%\n"
     ]
    }
   ],
   "source": [
    "model_rf = RandomForestClassifier(n_estimators = bp, n_jobs = -1)\n",
    "\n",
    "model_rf.fit(train_AvgW2V, train_labels_AvgW2V)\n",
    "\n",
    "prediction_AvgW2V_rf = model_rf.predict(test_AvgW2V)\n",
    "\n",
    "AccuracyScore_AvgW2V_rf = accuracy_score(test_labels_AvgW2V, prediction_AvgW2V_rf) * 100\n",
    "\n",
    "print(\"Accuracy score of Random Forest = \"+str(AccuracyScore_AvgW2V_rf)+\"%\")"
   ]
  },
  {
   "cell_type": "code",
   "execution_count": 131,
   "metadata": {},
   "outputs": [
    {
     "name": "stdout",
     "output_type": "stream",
     "text": [
      "Confusion Matrix on L2 regularization  \n",
      "[[  82  262]\n",
      " [  33 1623]]\n"
     ]
    }
   ],
   "source": [
    "Confusion_Matrix = confusion_matrix(test_labels_AvgW2V, prediction_AvgW2V_rf)\n",
    "print(\"Confusion Matrix on L2 regularization  \\n\"+str(Confusion_Matrix))"
   ]
  },
  {
   "cell_type": "code",
   "execution_count": 132,
   "metadata": {},
   "outputs": [
    {
     "data": {
      "text/plain": [
       "(82, 262, 33, 1623)"
      ]
     },
     "execution_count": 132,
     "metadata": {},
     "output_type": "execute_result"
    }
   ],
   "source": [
    "tn, fp, fn, tp = confusion_matrix(test_labels_AvgW2V, prediction_AvgW2V_rf).ravel()\n",
    "tn, fp, fn, tp"
   ]
  },
  {
   "cell_type": "markdown",
   "metadata": {},
   "source": [
    "### Task 4. Perform GridSearch Cross Validation to find optimal number of base models and optimal value of depth of decision tree base models in XGBoost. "
   ]
  },
  {
   "cell_type": "code",
   "execution_count": 31,
   "metadata": {
    "scrolled": false
   },
   "outputs": [
    {
     "name": "stderr",
     "output_type": "stream",
     "text": [
      "C:\\Users\\GauravP\\Anaconda3\\lib\\site-packages\\sklearn\\preprocessing\\label.py:151: DeprecationWarning: The truth value of an empty array is ambiguous. Returning False, but in future this will result in an error. Use `array.size > 0` to check that an array is not empty.\n",
      "  if diff:\n",
      "C:\\Users\\GauravP\\Anaconda3\\lib\\site-packages\\sklearn\\preprocessing\\label.py:151: DeprecationWarning: The truth value of an empty array is ambiguous. Returning False, but in future this will result in an error. Use `array.size > 0` to check that an array is not empty.\n",
      "  if diff:\n",
      "C:\\Users\\GauravP\\Anaconda3\\lib\\site-packages\\sklearn\\preprocessing\\label.py:151: DeprecationWarning: The truth value of an empty array is ambiguous. Returning False, but in future this will result in an error. Use `array.size > 0` to check that an array is not empty.\n",
      "  if diff:\n",
      "C:\\Users\\GauravP\\Anaconda3\\lib\\site-packages\\sklearn\\preprocessing\\label.py:151: DeprecationWarning: The truth value of an empty array is ambiguous. Returning False, but in future this will result in an error. Use `array.size > 0` to check that an array is not empty.\n",
      "  if diff:\n",
      "C:\\Users\\GauravP\\Anaconda3\\lib\\site-packages\\sklearn\\preprocessing\\label.py:151: DeprecationWarning: The truth value of an empty array is ambiguous. Returning False, but in future this will result in an error. Use `array.size > 0` to check that an array is not empty.\n",
      "  if diff:\n",
      "C:\\Users\\GauravP\\Anaconda3\\lib\\site-packages\\sklearn\\preprocessing\\label.py:151: DeprecationWarning: The truth value of an empty array is ambiguous. Returning False, but in future this will result in an error. Use `array.size > 0` to check that an array is not empty.\n",
      "  if diff:\n",
      "C:\\Users\\GauravP\\Anaconda3\\lib\\site-packages\\sklearn\\preprocessing\\label.py:151: DeprecationWarning: The truth value of an empty array is ambiguous. Returning False, but in future this will result in an error. Use `array.size > 0` to check that an array is not empty.\n",
      "  if diff:\n",
      "C:\\Users\\GauravP\\Anaconda3\\lib\\site-packages\\sklearn\\preprocessing\\label.py:151: DeprecationWarning: The truth value of an empty array is ambiguous. Returning False, but in future this will result in an error. Use `array.size > 0` to check that an array is not empty.\n",
      "  if diff:\n",
      "C:\\Users\\GauravP\\Anaconda3\\lib\\site-packages\\sklearn\\preprocessing\\label.py:151: DeprecationWarning: The truth value of an empty array is ambiguous. Returning False, but in future this will result in an error. Use `array.size > 0` to check that an array is not empty.\n",
      "  if diff:\n",
      "C:\\Users\\GauravP\\Anaconda3\\lib\\site-packages\\sklearn\\preprocessing\\label.py:151: DeprecationWarning: The truth value of an empty array is ambiguous. Returning False, but in future this will result in an error. Use `array.size > 0` to check that an array is not empty.\n",
      "  if diff:\n",
      "C:\\Users\\GauravP\\Anaconda3\\lib\\site-packages\\sklearn\\preprocessing\\label.py:151: DeprecationWarning: The truth value of an empty array is ambiguous. Returning False, but in future this will result in an error. Use `array.size > 0` to check that an array is not empty.\n",
      "  if diff:\n",
      "C:\\Users\\GauravP\\Anaconda3\\lib\\site-packages\\sklearn\\preprocessing\\label.py:151: DeprecationWarning: The truth value of an empty array is ambiguous. Returning False, but in future this will result in an error. Use `array.size > 0` to check that an array is not empty.\n",
      "  if diff:\n",
      "C:\\Users\\GauravP\\Anaconda3\\lib\\site-packages\\sklearn\\preprocessing\\label.py:151: DeprecationWarning: The truth value of an empty array is ambiguous. Returning False, but in future this will result in an error. Use `array.size > 0` to check that an array is not empty.\n",
      "  if diff:\n",
      "C:\\Users\\GauravP\\Anaconda3\\lib\\site-packages\\sklearn\\preprocessing\\label.py:151: DeprecationWarning: The truth value of an empty array is ambiguous. Returning False, but in future this will result in an error. Use `array.size > 0` to check that an array is not empty.\n",
      "  if diff:\n",
      "C:\\Users\\GauravP\\Anaconda3\\lib\\site-packages\\sklearn\\preprocessing\\label.py:151: DeprecationWarning: The truth value of an empty array is ambiguous. Returning False, but in future this will result in an error. Use `array.size > 0` to check that an array is not empty.\n",
      "  if diff:\n",
      "C:\\Users\\GauravP\\Anaconda3\\lib\\site-packages\\sklearn\\preprocessing\\label.py:151: DeprecationWarning: The truth value of an empty array is ambiguous. Returning False, but in future this will result in an error. Use `array.size > 0` to check that an array is not empty.\n",
      "  if diff:\n",
      "C:\\Users\\GauravP\\Anaconda3\\lib\\site-packages\\sklearn\\preprocessing\\label.py:151: DeprecationWarning: The truth value of an empty array is ambiguous. Returning False, but in future this will result in an error. Use `array.size > 0` to check that an array is not empty.\n",
      "  if diff:\n",
      "C:\\Users\\GauravP\\Anaconda3\\lib\\site-packages\\sklearn\\preprocessing\\label.py:151: DeprecationWarning: The truth value of an empty array is ambiguous. Returning False, but in future this will result in an error. Use `array.size > 0` to check that an array is not empty.\n",
      "  if diff:\n",
      "C:\\Users\\GauravP\\Anaconda3\\lib\\site-packages\\sklearn\\preprocessing\\label.py:151: DeprecationWarning: The truth value of an empty array is ambiguous. Returning False, but in future this will result in an error. Use `array.size > 0` to check that an array is not empty.\n",
      "  if diff:\n",
      "C:\\Users\\GauravP\\Anaconda3\\lib\\site-packages\\sklearn\\preprocessing\\label.py:151: DeprecationWarning: The truth value of an empty array is ambiguous. Returning False, but in future this will result in an error. Use `array.size > 0` to check that an array is not empty.\n",
      "  if diff:\n",
      "C:\\Users\\GauravP\\Anaconda3\\lib\\site-packages\\sklearn\\preprocessing\\label.py:151: DeprecationWarning: The truth value of an empty array is ambiguous. Returning False, but in future this will result in an error. Use `array.size > 0` to check that an array is not empty.\n",
      "  if diff:\n",
      "C:\\Users\\GauravP\\Anaconda3\\lib\\site-packages\\sklearn\\preprocessing\\label.py:151: DeprecationWarning: The truth value of an empty array is ambiguous. Returning False, but in future this will result in an error. Use `array.size > 0` to check that an array is not empty.\n",
      "  if diff:\n",
      "C:\\Users\\GauravP\\Anaconda3\\lib\\site-packages\\sklearn\\preprocessing\\label.py:151: DeprecationWarning: The truth value of an empty array is ambiguous. Returning False, but in future this will result in an error. Use `array.size > 0` to check that an array is not empty.\n",
      "  if diff:\n",
      "C:\\Users\\GauravP\\Anaconda3\\lib\\site-packages\\sklearn\\preprocessing\\label.py:151: DeprecationWarning: The truth value of an empty array is ambiguous. Returning False, but in future this will result in an error. Use `array.size > 0` to check that an array is not empty.\n",
      "  if diff:\n",
      "C:\\Users\\GauravP\\Anaconda3\\lib\\site-packages\\sklearn\\preprocessing\\label.py:151: DeprecationWarning: The truth value of an empty array is ambiguous. Returning False, but in future this will result in an error. Use `array.size > 0` to check that an array is not empty.\n",
      "  if diff:\n",
      "C:\\Users\\GauravP\\Anaconda3\\lib\\site-packages\\sklearn\\preprocessing\\label.py:151: DeprecationWarning: The truth value of an empty array is ambiguous. Returning False, but in future this will result in an error. Use `array.size > 0` to check that an array is not empty.\n",
      "  if diff:\n",
      "C:\\Users\\GauravP\\Anaconda3\\lib\\site-packages\\sklearn\\preprocessing\\label.py:151: DeprecationWarning: The truth value of an empty array is ambiguous. Returning False, but in future this will result in an error. Use `array.size > 0` to check that an array is not empty.\n",
      "  if diff:\n",
      "C:\\Users\\GauravP\\Anaconda3\\lib\\site-packages\\sklearn\\preprocessing\\label.py:151: DeprecationWarning: The truth value of an empty array is ambiguous. Returning False, but in future this will result in an error. Use `array.size > 0` to check that an array is not empty.\n",
      "  if diff:\n",
      "C:\\Users\\GauravP\\Anaconda3\\lib\\site-packages\\sklearn\\preprocessing\\label.py:151: DeprecationWarning: The truth value of an empty array is ambiguous. Returning False, but in future this will result in an error. Use `array.size > 0` to check that an array is not empty.\n",
      "  if diff:\n",
      "C:\\Users\\GauravP\\Anaconda3\\lib\\site-packages\\sklearn\\preprocessing\\label.py:151: DeprecationWarning: The truth value of an empty array is ambiguous. Returning False, but in future this will result in an error. Use `array.size > 0` to check that an array is not empty.\n",
      "  if diff:\n"
     ]
    },
    {
     "name": "stderr",
     "output_type": "stream",
     "text": [
      "C:\\Users\\GauravP\\Anaconda3\\lib\\site-packages\\sklearn\\preprocessing\\label.py:151: DeprecationWarning: The truth value of an empty array is ambiguous. Returning False, but in future this will result in an error. Use `array.size > 0` to check that an array is not empty.\n",
      "  if diff:\n",
      "C:\\Users\\GauravP\\Anaconda3\\lib\\site-packages\\sklearn\\preprocessing\\label.py:151: DeprecationWarning: The truth value of an empty array is ambiguous. Returning False, but in future this will result in an error. Use `array.size > 0` to check that an array is not empty.\n",
      "  if diff:\n",
      "C:\\Users\\GauravP\\Anaconda3\\lib\\site-packages\\sklearn\\preprocessing\\label.py:151: DeprecationWarning: The truth value of an empty array is ambiguous. Returning False, but in future this will result in an error. Use `array.size > 0` to check that an array is not empty.\n",
      "  if diff:\n",
      "C:\\Users\\GauravP\\Anaconda3\\lib\\site-packages\\sklearn\\preprocessing\\label.py:151: DeprecationWarning: The truth value of an empty array is ambiguous. Returning False, but in future this will result in an error. Use `array.size > 0` to check that an array is not empty.\n",
      "  if diff:\n",
      "C:\\Users\\GauravP\\Anaconda3\\lib\\site-packages\\sklearn\\preprocessing\\label.py:151: DeprecationWarning: The truth value of an empty array is ambiguous. Returning False, but in future this will result in an error. Use `array.size > 0` to check that an array is not empty.\n",
      "  if diff:\n",
      "C:\\Users\\GauravP\\Anaconda3\\lib\\site-packages\\sklearn\\preprocessing\\label.py:151: DeprecationWarning: The truth value of an empty array is ambiguous. Returning False, but in future this will result in an error. Use `array.size > 0` to check that an array is not empty.\n",
      "  if diff:\n",
      "C:\\Users\\GauravP\\Anaconda3\\lib\\site-packages\\sklearn\\preprocessing\\label.py:151: DeprecationWarning: The truth value of an empty array is ambiguous. Returning False, but in future this will result in an error. Use `array.size > 0` to check that an array is not empty.\n",
      "  if diff:\n",
      "C:\\Users\\GauravP\\Anaconda3\\lib\\site-packages\\sklearn\\preprocessing\\label.py:151: DeprecationWarning: The truth value of an empty array is ambiguous. Returning False, but in future this will result in an error. Use `array.size > 0` to check that an array is not empty.\n",
      "  if diff:\n",
      "C:\\Users\\GauravP\\Anaconda3\\lib\\site-packages\\sklearn\\preprocessing\\label.py:151: DeprecationWarning: The truth value of an empty array is ambiguous. Returning False, but in future this will result in an error. Use `array.size > 0` to check that an array is not empty.\n",
      "  if diff:\n",
      "C:\\Users\\GauravP\\Anaconda3\\lib\\site-packages\\sklearn\\preprocessing\\label.py:151: DeprecationWarning: The truth value of an empty array is ambiguous. Returning False, but in future this will result in an error. Use `array.size > 0` to check that an array is not empty.\n",
      "  if diff:\n",
      "C:\\Users\\GauravP\\Anaconda3\\lib\\site-packages\\sklearn\\preprocessing\\label.py:151: DeprecationWarning: The truth value of an empty array is ambiguous. Returning False, but in future this will result in an error. Use `array.size > 0` to check that an array is not empty.\n",
      "  if diff:\n",
      "C:\\Users\\GauravP\\Anaconda3\\lib\\site-packages\\sklearn\\preprocessing\\label.py:151: DeprecationWarning: The truth value of an empty array is ambiguous. Returning False, but in future this will result in an error. Use `array.size > 0` to check that an array is not empty.\n",
      "  if diff:\n",
      "C:\\Users\\GauravP\\Anaconda3\\lib\\site-packages\\sklearn\\preprocessing\\label.py:151: DeprecationWarning: The truth value of an empty array is ambiguous. Returning False, but in future this will result in an error. Use `array.size > 0` to check that an array is not empty.\n",
      "  if diff:\n",
      "C:\\Users\\GauravP\\Anaconda3\\lib\\site-packages\\sklearn\\preprocessing\\label.py:151: DeprecationWarning: The truth value of an empty array is ambiguous. Returning False, but in future this will result in an error. Use `array.size > 0` to check that an array is not empty.\n",
      "  if diff:\n",
      "C:\\Users\\GauravP\\Anaconda3\\lib\\site-packages\\sklearn\\preprocessing\\label.py:151: DeprecationWarning: The truth value of an empty array is ambiguous. Returning False, but in future this will result in an error. Use `array.size > 0` to check that an array is not empty.\n",
      "  if diff:\n",
      "C:\\Users\\GauravP\\Anaconda3\\lib\\site-packages\\sklearn\\preprocessing\\label.py:151: DeprecationWarning: The truth value of an empty array is ambiguous. Returning False, but in future this will result in an error. Use `array.size > 0` to check that an array is not empty.\n",
      "  if diff:\n",
      "C:\\Users\\GauravP\\Anaconda3\\lib\\site-packages\\sklearn\\preprocessing\\label.py:151: DeprecationWarning: The truth value of an empty array is ambiguous. Returning False, but in future this will result in an error. Use `array.size > 0` to check that an array is not empty.\n",
      "  if diff:\n",
      "C:\\Users\\GauravP\\Anaconda3\\lib\\site-packages\\sklearn\\preprocessing\\label.py:151: DeprecationWarning: The truth value of an empty array is ambiguous. Returning False, but in future this will result in an error. Use `array.size > 0` to check that an array is not empty.\n",
      "  if diff:\n"
     ]
    },
    {
     "name": "stdout",
     "output_type": "stream",
     "text": [
      "XGBClassifier(base_score=0.5, booster='gbtree', colsample_bylevel=1,\n",
      "       colsample_bytree=1, gamma=0, learning_rate=0.1, max_delta_step=0,\n",
      "       max_depth=4, min_child_weight=1, missing=None, n_estimators=100,\n",
      "       n_jobs=1, nthread=None, objective='binary:logistic', random_state=0,\n",
      "       reg_alpha=0, reg_lambda=1, scale_pos_weight=1, seed=None,\n",
      "       silent=True, subsample=1)\n"
     ]
    }
   ],
   "source": [
    "xgb_model = xgb.XGBClassifier()\n",
    "\n",
    "hyperParameters = {'max_depth':[1, 2, 3, 4], 'n_estimators':[30, 50, 70, 100]}\n",
    "\n",
    "clf = GridSearchCV(estimator = xgb_model, param_grid = hyperParameters, scoring='accuracy', cv=3)\n",
    "clf.fit(train_AvgW2V, train_labels_AvgW2V)\n",
    "\n",
    "print(clf.best_estimator_)"
   ]
  },
  {
   "cell_type": "code",
   "execution_count": 32,
   "metadata": {},
   "outputs": [
    {
     "data": {
      "text/plain": [
       "{'max_depth': 4, 'n_estimators': 100}"
      ]
     },
     "execution_count": 32,
     "metadata": {},
     "output_type": "execute_result"
    }
   ],
   "source": [
    "best_parameter = clf.best_params_ \n",
    "best_parameter"
   ]
  },
  {
   "cell_type": "code",
   "execution_count": 33,
   "metadata": {},
   "outputs": [
    {
     "data": {
      "text/plain": [
       "[mean: 0.84350, std: 0.00012, params: {'max_depth': 1, 'n_estimators': 30},\n",
       " mean: 0.84613, std: 0.00072, params: {'max_depth': 1, 'n_estimators': 50},\n",
       " mean: 0.85037, std: 0.00078, params: {'max_depth': 1, 'n_estimators': 70},\n",
       " mean: 0.85525, std: 0.00086, params: {'max_depth': 1, 'n_estimators': 100},\n",
       " mean: 0.85200, std: 0.00186, params: {'max_depth': 2, 'n_estimators': 30},\n",
       " mean: 0.85650, std: 0.00204, params: {'max_depth': 2, 'n_estimators': 50},\n",
       " mean: 0.85800, std: 0.00450, params: {'max_depth': 2, 'n_estimators': 70},\n",
       " mean: 0.85825, std: 0.00455, params: {'max_depth': 2, 'n_estimators': 100},\n",
       " mean: 0.85588, std: 0.00390, params: {'max_depth': 3, 'n_estimators': 30},\n",
       " mean: 0.86087, std: 0.00615, params: {'max_depth': 3, 'n_estimators': 50},\n",
       " mean: 0.86038, std: 0.00522, params: {'max_depth': 3, 'n_estimators': 70},\n",
       " mean: 0.86075, std: 0.00586, params: {'max_depth': 3, 'n_estimators': 100},\n",
       " mean: 0.85975, std: 0.00527, params: {'max_depth': 4, 'n_estimators': 30},\n",
       " mean: 0.86087, std: 0.00606, params: {'max_depth': 4, 'n_estimators': 50},\n",
       " mean: 0.86287, std: 0.00540, params: {'max_depth': 4, 'n_estimators': 70},\n",
       " mean: 0.86513, std: 0.00589, params: {'max_depth': 4, 'n_estimators': 100}]"
      ]
     },
     "execution_count": 33,
     "metadata": {},
     "output_type": "execute_result"
    }
   ],
   "source": [
    "scoreData = clf.grid_scores_\n",
    "scoreData"
   ]
  },
  {
   "cell_type": "code",
   "execution_count": 34,
   "metadata": {},
   "outputs": [],
   "source": [
    "error = []\n",
    "eachError = []\n",
    "for i in range(len(scoreData)):\n",
    "    eachError.append(np.round((1 - scoreData[i][1]), 4))\n",
    "    if i == 3 or i == 7 or i == 11 or i == 15:\n",
    "        error.append(eachError)\n",
    "        eachError = []"
   ]
  },
  {
   "cell_type": "code",
   "execution_count": 35,
   "metadata": {},
   "outputs": [
    {
     "data": {
      "text/plain": [
       "[[0.1565, 0.1539, 0.1496, 0.1448],\n",
       " [0.148, 0.1435, 0.142, 0.1418],\n",
       " [0.1441, 0.1391, 0.1396, 0.1392],\n",
       " [0.1402, 0.1391, 0.1371, 0.1349]]"
      ]
     },
     "execution_count": 35,
     "metadata": {},
     "output_type": "execute_result"
    }
   ],
   "source": [
    "error"
   ]
  },
  {
   "cell_type": "code",
   "execution_count": 36,
   "metadata": {},
   "outputs": [],
   "source": [
    "columnNames = [30, 50, 70, 100]"
   ]
  },
  {
   "cell_type": "code",
   "execution_count": 37,
   "metadata": {},
   "outputs": [],
   "source": [
    "errorFrame = pd.DataFrame(error, columns = columnNames)"
   ]
  },
  {
   "cell_type": "code",
   "execution_count": 38,
   "metadata": {},
   "outputs": [
    {
     "data": {
      "text/html": [
       "<div>\n",
       "<style scoped>\n",
       "    .dataframe tbody tr th:only-of-type {\n",
       "        vertical-align: middle;\n",
       "    }\n",
       "\n",
       "    .dataframe tbody tr th {\n",
       "        vertical-align: top;\n",
       "    }\n",
       "\n",
       "    .dataframe thead th {\n",
       "        text-align: right;\n",
       "    }\n",
       "</style>\n",
       "<table border=\"1\" class=\"dataframe\">\n",
       "  <thead>\n",
       "    <tr style=\"text-align: right;\">\n",
       "      <th></th>\n",
       "      <th>30</th>\n",
       "      <th>50</th>\n",
       "      <th>70</th>\n",
       "      <th>100</th>\n",
       "    </tr>\n",
       "  </thead>\n",
       "  <tbody>\n",
       "    <tr>\n",
       "      <th>0</th>\n",
       "      <td>0.1565</td>\n",
       "      <td>0.1539</td>\n",
       "      <td>0.1496</td>\n",
       "      <td>0.1448</td>\n",
       "    </tr>\n",
       "    <tr>\n",
       "      <th>1</th>\n",
       "      <td>0.1480</td>\n",
       "      <td>0.1435</td>\n",
       "      <td>0.1420</td>\n",
       "      <td>0.1418</td>\n",
       "    </tr>\n",
       "    <tr>\n",
       "      <th>2</th>\n",
       "      <td>0.1441</td>\n",
       "      <td>0.1391</td>\n",
       "      <td>0.1396</td>\n",
       "      <td>0.1392</td>\n",
       "    </tr>\n",
       "    <tr>\n",
       "      <th>3</th>\n",
       "      <td>0.1402</td>\n",
       "      <td>0.1391</td>\n",
       "      <td>0.1371</td>\n",
       "      <td>0.1349</td>\n",
       "    </tr>\n",
       "  </tbody>\n",
       "</table>\n",
       "</div>"
      ],
      "text/plain": [
       "      30      50      70      100\n",
       "0  0.1565  0.1539  0.1496  0.1448\n",
       "1  0.1480  0.1435  0.1420  0.1418\n",
       "2  0.1441  0.1391  0.1396  0.1392\n",
       "3  0.1402  0.1391  0.1371  0.1349"
      ]
     },
     "execution_count": 38,
     "metadata": {},
     "output_type": "execute_result"
    }
   ],
   "source": [
    "errorFrame"
   ]
  },
  {
   "cell_type": "code",
   "execution_count": 39,
   "metadata": {},
   "outputs": [],
   "source": [
    "indexNames = [1, 2, 3, 4]\n",
    "errorFrame[\"Max_depth\"] = indexNames"
   ]
  },
  {
   "cell_type": "code",
   "execution_count": 40,
   "metadata": {},
   "outputs": [
    {
     "data": {
      "text/html": [
       "<div>\n",
       "<style scoped>\n",
       "    .dataframe tbody tr th:only-of-type {\n",
       "        vertical-align: middle;\n",
       "    }\n",
       "\n",
       "    .dataframe tbody tr th {\n",
       "        vertical-align: top;\n",
       "    }\n",
       "\n",
       "    .dataframe thead th {\n",
       "        text-align: right;\n",
       "    }\n",
       "</style>\n",
       "<table border=\"1\" class=\"dataframe\">\n",
       "  <thead>\n",
       "    <tr style=\"text-align: right;\">\n",
       "      <th></th>\n",
       "      <th>30</th>\n",
       "      <th>50</th>\n",
       "      <th>70</th>\n",
       "      <th>100</th>\n",
       "      <th>Max_depth</th>\n",
       "    </tr>\n",
       "  </thead>\n",
       "  <tbody>\n",
       "    <tr>\n",
       "      <th>0</th>\n",
       "      <td>0.1565</td>\n",
       "      <td>0.1539</td>\n",
       "      <td>0.1496</td>\n",
       "      <td>0.1448</td>\n",
       "      <td>1</td>\n",
       "    </tr>\n",
       "    <tr>\n",
       "      <th>1</th>\n",
       "      <td>0.1480</td>\n",
       "      <td>0.1435</td>\n",
       "      <td>0.1420</td>\n",
       "      <td>0.1418</td>\n",
       "      <td>2</td>\n",
       "    </tr>\n",
       "    <tr>\n",
       "      <th>2</th>\n",
       "      <td>0.1441</td>\n",
       "      <td>0.1391</td>\n",
       "      <td>0.1396</td>\n",
       "      <td>0.1392</td>\n",
       "      <td>3</td>\n",
       "    </tr>\n",
       "    <tr>\n",
       "      <th>3</th>\n",
       "      <td>0.1402</td>\n",
       "      <td>0.1391</td>\n",
       "      <td>0.1371</td>\n",
       "      <td>0.1349</td>\n",
       "      <td>4</td>\n",
       "    </tr>\n",
       "  </tbody>\n",
       "</table>\n",
       "</div>"
      ],
      "text/plain": [
       "       30      50      70     100  Max_depth\n",
       "0  0.1565  0.1539  0.1496  0.1448          1\n",
       "1  0.1480  0.1435  0.1420  0.1418          2\n",
       "2  0.1441  0.1391  0.1396  0.1392          3\n",
       "3  0.1402  0.1391  0.1371  0.1349          4"
      ]
     },
     "execution_count": 40,
     "metadata": {},
     "output_type": "execute_result"
    }
   ],
   "source": [
    "errorFrame"
   ]
  },
  {
   "cell_type": "code",
   "execution_count": 41,
   "metadata": {},
   "outputs": [],
   "source": [
    "errorFrame.set_index(\"Max_depth\", append = False, drop = True, inplace = True)"
   ]
  },
  {
   "cell_type": "code",
   "execution_count": 42,
   "metadata": {},
   "outputs": [
    {
     "data": {
      "text/html": [
       "<div>\n",
       "<style scoped>\n",
       "    .dataframe tbody tr th:only-of-type {\n",
       "        vertical-align: middle;\n",
       "    }\n",
       "\n",
       "    .dataframe tbody tr th {\n",
       "        vertical-align: top;\n",
       "    }\n",
       "\n",
       "    .dataframe thead th {\n",
       "        text-align: right;\n",
       "    }\n",
       "</style>\n",
       "<table border=\"1\" class=\"dataframe\">\n",
       "  <thead>\n",
       "    <tr style=\"text-align: right;\">\n",
       "      <th></th>\n",
       "      <th>30</th>\n",
       "      <th>50</th>\n",
       "      <th>70</th>\n",
       "      <th>100</th>\n",
       "    </tr>\n",
       "    <tr>\n",
       "      <th>Max_depth</th>\n",
       "      <th></th>\n",
       "      <th></th>\n",
       "      <th></th>\n",
       "      <th></th>\n",
       "    </tr>\n",
       "  </thead>\n",
       "  <tbody>\n",
       "    <tr>\n",
       "      <th>1</th>\n",
       "      <td>0.1565</td>\n",
       "      <td>0.1539</td>\n",
       "      <td>0.1496</td>\n",
       "      <td>0.1448</td>\n",
       "    </tr>\n",
       "    <tr>\n",
       "      <th>2</th>\n",
       "      <td>0.1480</td>\n",
       "      <td>0.1435</td>\n",
       "      <td>0.1420</td>\n",
       "      <td>0.1418</td>\n",
       "    </tr>\n",
       "    <tr>\n",
       "      <th>3</th>\n",
       "      <td>0.1441</td>\n",
       "      <td>0.1391</td>\n",
       "      <td>0.1396</td>\n",
       "      <td>0.1392</td>\n",
       "    </tr>\n",
       "    <tr>\n",
       "      <th>4</th>\n",
       "      <td>0.1402</td>\n",
       "      <td>0.1391</td>\n",
       "      <td>0.1371</td>\n",
       "      <td>0.1349</td>\n",
       "    </tr>\n",
       "  </tbody>\n",
       "</table>\n",
       "</div>"
      ],
      "text/plain": [
       "              30      50      70      100\n",
       "Max_depth                                \n",
       "1          0.1565  0.1539  0.1496  0.1448\n",
       "2          0.1480  0.1435  0.1420  0.1418\n",
       "3          0.1441  0.1391  0.1396  0.1392\n",
       "4          0.1402  0.1391  0.1371  0.1349"
      ]
     },
     "execution_count": 42,
     "metadata": {},
     "output_type": "execute_result"
    }
   ],
   "source": [
    "errorFrame"
   ]
  },
  {
   "cell_type": "code",
   "execution_count": 43,
   "metadata": {},
   "outputs": [
    {
     "data": {
      "text/plain": [
       "Text(738.529,0.5,'Error')"
      ]
     },
     "execution_count": 43,
     "metadata": {},
     "output_type": "execute_result"
    },
    {
     "data": {
      "image/png": "[encoded data removed]",
      "text/plain": [
       "<Figure size 864x576 with 2 Axes>"
      ]
     },
     "metadata": {},
     "output_type": "display_data"
    }
   ],
   "source": [
    "plt.figure(figsize=(12, 8))\n",
    "plt.title(\"Heatmap of Error vs Max Depth and Number of base learners\", size = 15)\n",
    "ax = sns.heatmap(errorFrame, annot = True, linewidths=.5)\n",
    "ax.figure.axes[0].set_xlabel('Number of base learners', size = 15)\n",
    "ax.figure.axes[0].set_ylabel('Max_Depth', size = 15)\n",
    "ax.figure.axes[-1].set_ylabel('Error', size = 15)"
   ]
  },
  {
   "cell_type": "markdown",
   "metadata": {},
   "source": [
    "**Here above in heatmap you can see that the error is minimum when Number of base learners are 100 and Max_Depth value is 4. Therefore, from grid search we are considering our Number of base learners value as 100 and Max_Depth Value as 4.**"
   ]
  },
  {
   "cell_type": "markdown",
   "metadata": {},
   "source": [
    "### Task 5. Apply XGBoost and report accuracy. Also check for train error."
   ]
  },
  {
   "cell_type": "code",
   "execution_count": 45,
   "metadata": {},
   "outputs": [
    {
     "name": "stdout",
     "output_type": "stream",
     "text": [
      "Train Error of XGBoost = 8.1125%\n"
     ]
    },
    {
     "name": "stderr",
     "output_type": "stream",
     "text": [
      "C:\\Users\\GauravP\\Anaconda3\\lib\\site-packages\\sklearn\\preprocessing\\label.py:151: DeprecationWarning: The truth value of an empty array is ambiguous. Returning False, but in future this will result in an error. Use `array.size > 0` to check that an array is not empty.\n",
      "  if diff:\n"
     ]
    }
   ],
   "source": [
    "#checking for train error\n",
    "model_xg_tr = xgb.XGBClassifier(max_depth = 4, n_estimators = 100)\n",
    "\n",
    "model_xg_tr.fit(train_AvgW2V, train_labels_AvgW2V)\n",
    "\n",
    "prediction_AvgW2V_xg_tr = model_xg_tr.predict(train_AvgW2V)\n",
    "\n",
    "AccuracyScore_AvgW2V_xg_tr = accuracy_score(train_labels_AvgW2V, prediction_AvgW2V_xg_tr)\n",
    "\n",
    "print(\"Train Error of XGBoost = \"+str((1 - AccuracyScore_AvgW2V_xg_tr) * 100)+\"%\")"
   ]
  },
  {
   "cell_type": "code",
   "execution_count": 49,
   "metadata": {},
   "outputs": [
    {
     "name": "stdout",
     "output_type": "stream",
     "text": [
      "Accuracy score of XGBoost = 86.55000000000001%\n"
     ]
    },
    {
     "name": "stderr",
     "output_type": "stream",
     "text": [
      "C:\\Users\\GauravP\\Anaconda3\\lib\\site-packages\\sklearn\\preprocessing\\label.py:151: DeprecationWarning: The truth value of an empty array is ambiguous. Returning False, but in future this will result in an error. Use `array.size > 0` to check that an array is not empty.\n",
      "  if diff:\n"
     ]
    }
   ],
   "source": [
    "model_xg = xgb.XGBClassifier(max_depth = 4, n_estimators = 100)\n",
    "\n",
    "model_xg.fit(train_AvgW2V, train_labels_AvgW2V)\n",
    "\n",
    "prediction_xg = model_xg.predict(test_AvgW2V)\n",
    "\n",
    "AccuracyScore_xg = accuracy_score(test_labels_AvgW2V, prediction_xg) * 100\n",
    "\n",
    "print(\"Accuracy score of XGBoost = \"+str(AccuracyScore_xg)+\"%\")"
   ]
  },
  {
   "cell_type": "code",
   "execution_count": 50,
   "metadata": {},
   "outputs": [
    {
     "name": "stdout",
     "output_type": "stream",
     "text": [
      "Confusion Matrix on L2 regularization  \n",
      "[[  79  213]\n",
      " [  56 1652]]\n"
     ]
    }
   ],
   "source": [
    "Confusion_Matrix = confusion_matrix(test_labels_AvgW2V, prediction_xg)\n",
    "print(\"Confusion Matrix on L2 regularization  \\n\"+str(Confusion_Matrix))"
   ]
  },
  {
   "cell_type": "code",
   "execution_count": 51,
   "metadata": {},
   "outputs": [
    {
     "data": {
      "text/plain": [
       "(79, 213, 56, 1652)"
      ]
     },
     "execution_count": 51,
     "metadata": {},
     "output_type": "execute_result"
    }
   ],
   "source": [
    "tn, fp, fn, tp = confusion_matrix(test_labels_AvgW2V, prediction_xg).ravel()\n",
    "tn, fp, fn, tp"
   ]
  },
  {
   "cell_type": "markdown",
   "metadata": {},
   "source": [
    "## 2. Average TFIDF-W2V."
   ]
  },
  {
   "cell_type": "code",
   "execution_count": 150,
   "metadata": {},
   "outputs": [],
   "source": [
    "tfidf_vect = TfidfVectorizer(ngram_range = (1,2))\n",
    "tfidf = tfidf_vect.fit_transform(Data[\"ProcessedText\"].values)"
   ]
  },
  {
   "cell_type": "code",
   "execution_count": 151,
   "metadata": {},
   "outputs": [
    {
     "name": "stdout",
     "output_type": "stream",
     "text": [
      "(10000, 230778)\n",
      "<class 'scipy.sparse.csr.csr_matrix'>\n"
     ]
    }
   ],
   "source": [
    "print(tfidf.shape)\n",
    "print(type(tfidf))"
   ]
  },
  {
   "cell_type": "code",
   "execution_count": 98,
   "metadata": {},
   "outputs": [],
   "source": [
    "w2v_Model = gensim.models.Word2Vec(listOfSentences, size=300, min_count=5, workers=4)"
   ]
  },
  {
   "cell_type": "code",
   "execution_count": 152,
   "metadata": {},
   "outputs": [],
   "source": [
    "# TF-IDF weighted Word2Vec\n",
    "tfidf_features = tfidf_vect.get_feature_names()\n",
    "\n",
    "tfidf_w2v = []\n",
    "reviews = 0\n",
    "\n",
    "for sentence in listOfSentences:\n",
    "    sentenceVector = np.zeros(300)\n",
    "    weightTfidfSum = 0\n",
    "    for word in sentence:\n",
    "        try:\n",
    "            W2V_Vector = w2v_Model.wv[word]\n",
    "            tfidfVector = tfidf[reviews, tfidf_features.index(word)]\n",
    "            sentenceVector += (W2V_Vector * tfidfVector)\n",
    "            weightTfidfSum += tfidfVector\n",
    "        except:\n",
    "            pass\n",
    "    sentenceVector /= weightTfidfSum\n",
    "    tfidf_w2v.append(sentenceVector)\n",
    "    reviews += 1"
   ]
  },
  {
   "cell_type": "markdown",
   "metadata": {},
   "source": [
    "### Task 1. Split train and test data in a ratio of 80:20."
   ]
  },
  {
   "cell_type": "code",
   "execution_count": 153,
   "metadata": {},
   "outputs": [],
   "source": [
    "X_train_TFIDF_W2V, X_test_TFIDF_W2V, Y_train_labels_TFIDF_W2V, Y_test_labels_TFIDF_W2V = train_test_split(tfidf_w2v, Data_Labels, test_size = 0.2)"
   ]
  },
  {
   "cell_type": "code",
   "execution_count": 154,
   "metadata": {},
   "outputs": [],
   "source": [
    "train_TFIDF_W2V = np.array(X_train_TFIDF_W2V)\n",
    "test_TFIDF_W2V = np.array(X_test_TFIDF_W2V)\n",
    "train_labels_TFIDF_W2V = np.array(Y_train_labels_TFIDF_W2V)\n",
    "test_labels_TFIDF_W2V = np.array(Y_test_labels_TFIDF_W2V)"
   ]
  },
  {
   "cell_type": "code",
   "execution_count": 155,
   "metadata": {},
   "outputs": [
    {
     "data": {
      "text/plain": [
       "((8000, 300), (2000, 300), (8000,), (2000,))"
      ]
     },
     "execution_count": 155,
     "metadata": {},
     "output_type": "execute_result"
    }
   ],
   "source": [
    "train_TFIDF_W2V.shape, test_TFIDF_W2V.shape, train_labels_TFIDF_W2V.shape, test_labels_TFIDF_W2V.shape"
   ]
  },
  {
   "cell_type": "markdown",
   "metadata": {},
   "source": [
    "### Task 2. Perform GridSearch Cross Validation to find optimal value of number of base models in Random Forest."
   ]
  },
  {
   "cell_type": "code",
   "execution_count": 156,
   "metadata": {},
   "outputs": [
    {
     "name": "stdout",
     "output_type": "stream",
     "text": [
      "RandomForestClassifier(bootstrap=True, class_weight=None, criterion='gini',\n",
      "            max_depth=None, max_features='auto', max_leaf_nodes=None,\n",
      "            min_impurity_decrease=0.0, min_impurity_split=None,\n",
      "            min_samples_leaf=1, min_samples_split=2,\n",
      "            min_weight_fraction_leaf=0.0, n_estimators=19, n_jobs=-1,\n",
      "            oob_score=False, random_state=None, verbose=0,\n",
      "            warm_start=False)\n"
     ]
    }
   ],
   "source": [
    "values = []\n",
    "for i in range(1, 31, 2):\n",
    "    values.append(i)\n",
    "\n",
    "clf = RandomForestClassifier(n_jobs = -1)\n",
    "\n",
    "hyper_parameters = {'n_estimators': values}\n",
    "bestScore = GridSearchCV(clf, hyper_parameters, scoring = \"accuracy\", cv = 3)\n",
    "bestScore.fit(train_TFIDF_W2V, train_labels_TFIDF_W2V)\n",
    "\n",
    "print(bestScore.best_estimator_)"
   ]
  },
  {
   "cell_type": "code",
   "execution_count": 157,
   "metadata": {},
   "outputs": [
    {
     "data": {
      "text/plain": [
       "19"
      ]
     },
     "execution_count": 157,
     "metadata": {},
     "output_type": "execute_result"
    }
   ],
   "source": [
    "best_parameter = bestScore.best_params_ \n",
    "bp = best_parameter[\"n_estimators\"]\n",
    "bp"
   ]
  },
  {
   "cell_type": "code",
   "execution_count": 158,
   "metadata": {},
   "outputs": [
    {
     "data": {
      "text/plain": [
       "[mean: 0.76875, std: 0.01000, params: {'n_estimators': 1},\n",
       " mean: 0.80850, std: 0.00427, params: {'n_estimators': 3},\n",
       " mean: 0.83462, std: 0.00339, params: {'n_estimators': 5},\n",
       " mean: 0.83425, std: 0.00236, params: {'n_estimators': 7},\n",
       " mean: 0.84462, std: 0.00230, params: {'n_estimators': 9},\n",
       " mean: 0.84588, std: 0.00193, params: {'n_estimators': 11},\n",
       " mean: 0.84975, std: 0.00361, params: {'n_estimators': 13},\n",
       " mean: 0.84688, std: 0.00181, params: {'n_estimators': 15},\n",
       " mean: 0.85037, std: 0.00317, params: {'n_estimators': 17},\n",
       " mean: 0.85362, std: 0.00073, params: {'n_estimators': 19},\n",
       " mean: 0.85275, std: 0.00297, params: {'n_estimators': 21},\n",
       " mean: 0.85137, std: 0.00131, params: {'n_estimators': 23},\n",
       " mean: 0.84888, std: 0.00280, params: {'n_estimators': 25},\n",
       " mean: 0.85125, std: 0.00277, params: {'n_estimators': 27},\n",
       " mean: 0.85362, std: 0.00154, params: {'n_estimators': 29}]"
      ]
     },
     "execution_count": 158,
     "metadata": {},
     "output_type": "execute_result"
    }
   ],
   "source": [
    "scoreData = bestScore.grid_scores_\n",
    "scoreData"
   ]
  },
  {
   "cell_type": "code",
   "execution_count": 159,
   "metadata": {},
   "outputs": [
    {
     "data": {
      "image/png": "[encoded data removed]",
      "text/plain": [
       "<Figure size 720x576 with 1 Axes>"
      ]
     },
     "metadata": {},
     "output_type": "display_data"
    }
   ],
   "source": [
    "error = []\n",
    "parameter = []\n",
    "for i in range(len(scoreData)):\n",
    "    error.append(1 - scoreData[i][1])\n",
    "    parameter.append(scoreData[i][0][\"n_estimators\"])\n",
    "\n",
    "plt.figure(figsize=(10,8))\n",
    "plt.plot(parameter, error)\n",
    "\n",
    "plt.title(\"Plot of [Cross Validation Error vs Number of base learners]\", fontsize=20)\n",
    "plt.xlabel(\"Number of base learners\", fontsize=20)\n",
    "plt.ylabel(\"Cross Validation Error\", fontsize=20)\n",
    "plt.grid(linestyle='-', linewidth=0.5)\n",
    "\n",
    "errorMin = min(error)\n",
    "errorMin\n",
    "\n",
    "for xy in zip(parameter, error):\n",
    "    if xy == (bp, errorMin):\n",
    "        plt.annotate(xy, xy)"
   ]
  },
  {
   "cell_type": "markdown",
   "metadata": {},
   "source": [
    "### Task 3. Apply Random Forest and report accuracy. Also check for train error."
   ]
  },
  {
   "cell_type": "code",
   "execution_count": 160,
   "metadata": {},
   "outputs": [
    {
     "name": "stdout",
     "output_type": "stream",
     "text": [
      "Train error of Random Forest = 0.225%\n"
     ]
    }
   ],
   "source": [
    "#First checking for train error\n",
    "model_rf_tr = RandomForestClassifier(n_estimators = bp, n_jobs = -1)\n",
    "\n",
    "model_rf_tr.fit(train_TFIDF_W2V, train_labels_TFIDF_W2V)\n",
    "\n",
    "prediction_TFIDF_W2V_rf_tr = model_rf_tr.predict(train_TFIDF_W2V)\n",
    "\n",
    "AccuracyScore_TFIDF_W2V_rf_tr = accuracy_score(train_labels_TFIDF_W2V, prediction_TFIDF_W2V_rf_tr)\n",
    "\n",
    "print(\"Train error of Random Forest = \"+str(np.round(((1 - AccuracyScore_TFIDF_W2V_rf_tr) * 100), 4))+\"%\")"
   ]
  },
  {
   "cell_type": "code",
   "execution_count": 161,
   "metadata": {},
   "outputs": [
    {
     "name": "stdout",
     "output_type": "stream",
     "text": [
      "Accuracy score of Random Forest = 84.1%\n"
     ]
    }
   ],
   "source": [
    "model_rf = RandomForestClassifier(n_estimators = bp, n_jobs = -1)\n",
    "\n",
    "model_rf.fit(train_TFIDF_W2V, train_labels_TFIDF_W2V)\n",
    "\n",
    "prediction_TFIDF_W2V_rf = model_rf.predict(test_TFIDF_W2V)\n",
    "\n",
    "AccuracyScore_TFIDF_W2V_rf = accuracy_score(test_labels_TFIDF_W2V, prediction_TFIDF_W2V_rf) * 100\n",
    "\n",
    "print(\"Accuracy score of Random Forest = \"+str(AccuracyScore_TFIDF_W2V_rf)+\"%\")"
   ]
  },
  {
   "cell_type": "code",
   "execution_count": 162,
   "metadata": {},
   "outputs": [
    {
     "name": "stdout",
     "output_type": "stream",
     "text": [
      "Confusion Matrix on L2 regularization  \n",
      "[[  53  272]\n",
      " [  46 1629]]\n"
     ]
    }
   ],
   "source": [
    "Confusion_Matrix = confusion_matrix(test_labels_TFIDF_W2V, prediction_TFIDF_W2V_rf)\n",
    "print(\"Confusion Matrix on L2 regularization  \\n\"+str(Confusion_Matrix))"
   ]
  },
  {
   "cell_type": "code",
   "execution_count": 163,
   "metadata": {},
   "outputs": [
    {
     "data": {
      "text/plain": [
       "(53, 272, 46, 1629)"
      ]
     },
     "execution_count": 163,
     "metadata": {},
     "output_type": "execute_result"
    }
   ],
   "source": [
    "tn, fp, fn, tp = confusion_matrix(test_labels_TFIDF_W2V, prediction_TFIDF_W2V_rf).ravel()\n",
    "tn, fp, fn, tp"
   ]
  },
  {
   "cell_type": "markdown",
   "metadata": {},
   "source": [
    "### Task 4. Perform GridSearch Cross Validation to find optimal number of base models and optimal value of depth of decision tree base models in XGBoost."
   ]
  },
  {
   "cell_type": "code",
   "execution_count": 164,
   "metadata": {
    "scrolled": false
   },
   "outputs": [
    {
     "name": "stderr",
     "output_type": "stream",
     "text": [
      "C:\\Users\\GauravP\\Anaconda3\\lib\\site-packages\\sklearn\\preprocessing\\label.py:151: DeprecationWarning: The truth value of an empty array is ambiguous. Returning False, but in future this will result in an error. Use `array.size > 0` to check that an array is not empty.\n",
      "  if diff:\n",
      "C:\\Users\\GauravP\\Anaconda3\\lib\\site-packages\\sklearn\\preprocessing\\label.py:151: DeprecationWarning: The truth value of an empty array is ambiguous. Returning False, but in future this will result in an error. Use `array.size > 0` to check that an array is not empty.\n",
      "  if diff:\n",
      "C:\\Users\\GauravP\\Anaconda3\\lib\\site-packages\\sklearn\\preprocessing\\label.py:151: DeprecationWarning: The truth value of an empty array is ambiguous. Returning False, but in future this will result in an error. Use `array.size > 0` to check that an array is not empty.\n",
      "  if diff:\n",
      "C:\\Users\\GauravP\\Anaconda3\\lib\\site-packages\\sklearn\\preprocessing\\label.py:151: DeprecationWarning: The truth value of an empty array is ambiguous. Returning False, but in future this will result in an error. Use `array.size > 0` to check that an array is not empty.\n",
      "  if diff:\n",
      "C:\\Users\\GauravP\\Anaconda3\\lib\\site-packages\\sklearn\\preprocessing\\label.py:151: DeprecationWarning: The truth value of an empty array is ambiguous. Returning False, but in future this will result in an error. Use `array.size > 0` to check that an array is not empty.\n",
      "  if diff:\n",
      "C:\\Users\\GauravP\\Anaconda3\\lib\\site-packages\\sklearn\\preprocessing\\label.py:151: DeprecationWarning: The truth value of an empty array is ambiguous. Returning False, but in future this will result in an error. Use `array.size > 0` to check that an array is not empty.\n",
      "  if diff:\n",
      "C:\\Users\\GauravP\\Anaconda3\\lib\\site-packages\\sklearn\\preprocessing\\label.py:151: DeprecationWarning: The truth value of an empty array is ambiguous. Returning False, but in future this will result in an error. Use `array.size > 0` to check that an array is not empty.\n",
      "  if diff:\n",
      "C:\\Users\\GauravP\\Anaconda3\\lib\\site-packages\\sklearn\\preprocessing\\label.py:151: DeprecationWarning: The truth value of an empty array is ambiguous. Returning False, but in future this will result in an error. Use `array.size > 0` to check that an array is not empty.\n",
      "  if diff:\n",
      "C:\\Users\\GauravP\\Anaconda3\\lib\\site-packages\\sklearn\\preprocessing\\label.py:151: DeprecationWarning: The truth value of an empty array is ambiguous. Returning False, but in future this will result in an error. Use `array.size > 0` to check that an array is not empty.\n",
      "  if diff:\n",
      "C:\\Users\\GauravP\\Anaconda3\\lib\\site-packages\\sklearn\\preprocessing\\label.py:151: DeprecationWarning: The truth value of an empty array is ambiguous. Returning False, but in future this will result in an error. Use `array.size > 0` to check that an array is not empty.\n",
      "  if diff:\n",
      "C:\\Users\\GauravP\\Anaconda3\\lib\\site-packages\\sklearn\\preprocessing\\label.py:151: DeprecationWarning: The truth value of an empty array is ambiguous. Returning False, but in future this will result in an error. Use `array.size > 0` to check that an array is not empty.\n",
      "  if diff:\n",
      "C:\\Users\\GauravP\\Anaconda3\\lib\\site-packages\\sklearn\\preprocessing\\label.py:151: DeprecationWarning: The truth value of an empty array is ambiguous. Returning False, but in future this will result in an error. Use `array.size > 0` to check that an array is not empty.\n",
      "  if diff:\n",
      "C:\\Users\\GauravP\\Anaconda3\\lib\\site-packages\\sklearn\\preprocessing\\label.py:151: DeprecationWarning: The truth value of an empty array is ambiguous. Returning False, but in future this will result in an error. Use `array.size > 0` to check that an array is not empty.\n",
      "  if diff:\n",
      "C:\\Users\\GauravP\\Anaconda3\\lib\\site-packages\\sklearn\\preprocessing\\label.py:151: DeprecationWarning: The truth value of an empty array is ambiguous. Returning False, but in future this will result in an error. Use `array.size > 0` to check that an array is not empty.\n",
      "  if diff:\n",
      "C:\\Users\\GauravP\\Anaconda3\\lib\\site-packages\\sklearn\\preprocessing\\label.py:151: DeprecationWarning: The truth value of an empty array is ambiguous. Returning False, but in future this will result in an error. Use `array.size > 0` to check that an array is not empty.\n",
      "  if diff:\n",
      "C:\\Users\\GauravP\\Anaconda3\\lib\\site-packages\\sklearn\\preprocessing\\label.py:151: DeprecationWarning: The truth value of an empty array is ambiguous. Returning False, but in future this will result in an error. Use `array.size > 0` to check that an array is not empty.\n",
      "  if diff:\n",
      "C:\\Users\\GauravP\\Anaconda3\\lib\\site-packages\\sklearn\\preprocessing\\label.py:151: DeprecationWarning: The truth value of an empty array is ambiguous. Returning False, but in future this will result in an error. Use `array.size > 0` to check that an array is not empty.\n",
      "  if diff:\n",
      "C:\\Users\\GauravP\\Anaconda3\\lib\\site-packages\\sklearn\\preprocessing\\label.py:151: DeprecationWarning: The truth value of an empty array is ambiguous. Returning False, but in future this will result in an error. Use `array.size > 0` to check that an array is not empty.\n",
      "  if diff:\n",
      "C:\\Users\\GauravP\\Anaconda3\\lib\\site-packages\\sklearn\\preprocessing\\label.py:151: DeprecationWarning: The truth value of an empty array is ambiguous. Returning False, but in future this will result in an error. Use `array.size > 0` to check that an array is not empty.\n",
      "  if diff:\n",
      "C:\\Users\\GauravP\\Anaconda3\\lib\\site-packages\\sklearn\\preprocessing\\label.py:151: DeprecationWarning: The truth value of an empty array is ambiguous. Returning False, but in future this will result in an error. Use `array.size > 0` to check that an array is not empty.\n",
      "  if diff:\n",
      "C:\\Users\\GauravP\\Anaconda3\\lib\\site-packages\\sklearn\\preprocessing\\label.py:151: DeprecationWarning: The truth value of an empty array is ambiguous. Returning False, but in future this will result in an error. Use `array.size > 0` to check that an array is not empty.\n",
      "  if diff:\n",
      "C:\\Users\\GauravP\\Anaconda3\\lib\\site-packages\\sklearn\\preprocessing\\label.py:151: DeprecationWarning: The truth value of an empty array is ambiguous. Returning False, but in future this will result in an error. Use `array.size > 0` to check that an array is not empty.\n",
      "  if diff:\n",
      "C:\\Users\\GauravP\\Anaconda3\\lib\\site-packages\\sklearn\\preprocessing\\label.py:151: DeprecationWarning: The truth value of an empty array is ambiguous. Returning False, but in future this will result in an error. Use `array.size > 0` to check that an array is not empty.\n",
      "  if diff:\n",
      "C:\\Users\\GauravP\\Anaconda3\\lib\\site-packages\\sklearn\\preprocessing\\label.py:151: DeprecationWarning: The truth value of an empty array is ambiguous. Returning False, but in future this will result in an error. Use `array.size > 0` to check that an array is not empty.\n",
      "  if diff:\n",
      "C:\\Users\\GauravP\\Anaconda3\\lib\\site-packages\\sklearn\\preprocessing\\label.py:151: DeprecationWarning: The truth value of an empty array is ambiguous. Returning False, but in future this will result in an error. Use `array.size > 0` to check that an array is not empty.\n",
      "  if diff:\n",
      "C:\\Users\\GauravP\\Anaconda3\\lib\\site-packages\\sklearn\\preprocessing\\label.py:151: DeprecationWarning: The truth value of an empty array is ambiguous. Returning False, but in future this will result in an error. Use `array.size > 0` to check that an array is not empty.\n",
      "  if diff:\n",
      "C:\\Users\\GauravP\\Anaconda3\\lib\\site-packages\\sklearn\\preprocessing\\label.py:151: DeprecationWarning: The truth value of an empty array is ambiguous. Returning False, but in future this will result in an error. Use `array.size > 0` to check that an array is not empty.\n",
      "  if diff:\n",
      "C:\\Users\\GauravP\\Anaconda3\\lib\\site-packages\\sklearn\\preprocessing\\label.py:151: DeprecationWarning: The truth value of an empty array is ambiguous. Returning False, but in future this will result in an error. Use `array.size > 0` to check that an array is not empty.\n",
      "  if diff:\n",
      "C:\\Users\\GauravP\\Anaconda3\\lib\\site-packages\\sklearn\\preprocessing\\label.py:151: DeprecationWarning: The truth value of an empty array is ambiguous. Returning False, but in future this will result in an error. Use `array.size > 0` to check that an array is not empty.\n",
      "  if diff:\n",
      "C:\\Users\\GauravP\\Anaconda3\\lib\\site-packages\\sklearn\\preprocessing\\label.py:151: DeprecationWarning: The truth value of an empty array is ambiguous. Returning False, but in future this will result in an error. Use `array.size > 0` to check that an array is not empty.\n",
      "  if diff:\n"
     ]
    },
    {
     "name": "stderr",
     "output_type": "stream",
     "text": [
      "C:\\Users\\GauravP\\Anaconda3\\lib\\site-packages\\sklearn\\preprocessing\\label.py:151: DeprecationWarning: The truth value of an empty array is ambiguous. Returning False, but in future this will result in an error. Use `array.size > 0` to check that an array is not empty.\n",
      "  if diff:\n",
      "C:\\Users\\GauravP\\Anaconda3\\lib\\site-packages\\sklearn\\preprocessing\\label.py:151: DeprecationWarning: The truth value of an empty array is ambiguous. Returning False, but in future this will result in an error. Use `array.size > 0` to check that an array is not empty.\n",
      "  if diff:\n",
      "C:\\Users\\GauravP\\Anaconda3\\lib\\site-packages\\sklearn\\preprocessing\\label.py:151: DeprecationWarning: The truth value of an empty array is ambiguous. Returning False, but in future this will result in an error. Use `array.size > 0` to check that an array is not empty.\n",
      "  if diff:\n",
      "C:\\Users\\GauravP\\Anaconda3\\lib\\site-packages\\sklearn\\preprocessing\\label.py:151: DeprecationWarning: The truth value of an empty array is ambiguous. Returning False, but in future this will result in an error. Use `array.size > 0` to check that an array is not empty.\n",
      "  if diff:\n",
      "C:\\Users\\GauravP\\Anaconda3\\lib\\site-packages\\sklearn\\preprocessing\\label.py:151: DeprecationWarning: The truth value of an empty array is ambiguous. Returning False, but in future this will result in an error. Use `array.size > 0` to check that an array is not empty.\n",
      "  if diff:\n",
      "C:\\Users\\GauravP\\Anaconda3\\lib\\site-packages\\sklearn\\preprocessing\\label.py:151: DeprecationWarning: The truth value of an empty array is ambiguous. Returning False, but in future this will result in an error. Use `array.size > 0` to check that an array is not empty.\n",
      "  if diff:\n",
      "C:\\Users\\GauravP\\Anaconda3\\lib\\site-packages\\sklearn\\preprocessing\\label.py:151: DeprecationWarning: The truth value of an empty array is ambiguous. Returning False, but in future this will result in an error. Use `array.size > 0` to check that an array is not empty.\n",
      "  if diff:\n",
      "C:\\Users\\GauravP\\Anaconda3\\lib\\site-packages\\sklearn\\preprocessing\\label.py:151: DeprecationWarning: The truth value of an empty array is ambiguous. Returning False, but in future this will result in an error. Use `array.size > 0` to check that an array is not empty.\n",
      "  if diff:\n",
      "C:\\Users\\GauravP\\Anaconda3\\lib\\site-packages\\sklearn\\preprocessing\\label.py:151: DeprecationWarning: The truth value of an empty array is ambiguous. Returning False, but in future this will result in an error. Use `array.size > 0` to check that an array is not empty.\n",
      "  if diff:\n",
      "C:\\Users\\GauravP\\Anaconda3\\lib\\site-packages\\sklearn\\preprocessing\\label.py:151: DeprecationWarning: The truth value of an empty array is ambiguous. Returning False, but in future this will result in an error. Use `array.size > 0` to check that an array is not empty.\n",
      "  if diff:\n",
      "C:\\Users\\GauravP\\Anaconda3\\lib\\site-packages\\sklearn\\preprocessing\\label.py:151: DeprecationWarning: The truth value of an empty array is ambiguous. Returning False, but in future this will result in an error. Use `array.size > 0` to check that an array is not empty.\n",
      "  if diff:\n",
      "C:\\Users\\GauravP\\Anaconda3\\lib\\site-packages\\sklearn\\preprocessing\\label.py:151: DeprecationWarning: The truth value of an empty array is ambiguous. Returning False, but in future this will result in an error. Use `array.size > 0` to check that an array is not empty.\n",
      "  if diff:\n",
      "C:\\Users\\GauravP\\Anaconda3\\lib\\site-packages\\sklearn\\preprocessing\\label.py:151: DeprecationWarning: The truth value of an empty array is ambiguous. Returning False, but in future this will result in an error. Use `array.size > 0` to check that an array is not empty.\n",
      "  if diff:\n",
      "C:\\Users\\GauravP\\Anaconda3\\lib\\site-packages\\sklearn\\preprocessing\\label.py:151: DeprecationWarning: The truth value of an empty array is ambiguous. Returning False, but in future this will result in an error. Use `array.size > 0` to check that an array is not empty.\n",
      "  if diff:\n",
      "C:\\Users\\GauravP\\Anaconda3\\lib\\site-packages\\sklearn\\preprocessing\\label.py:151: DeprecationWarning: The truth value of an empty array is ambiguous. Returning False, but in future this will result in an error. Use `array.size > 0` to check that an array is not empty.\n",
      "  if diff:\n",
      "C:\\Users\\GauravP\\Anaconda3\\lib\\site-packages\\sklearn\\preprocessing\\label.py:151: DeprecationWarning: The truth value of an empty array is ambiguous. Returning False, but in future this will result in an error. Use `array.size > 0` to check that an array is not empty.\n",
      "  if diff:\n",
      "C:\\Users\\GauravP\\Anaconda3\\lib\\site-packages\\sklearn\\preprocessing\\label.py:151: DeprecationWarning: The truth value of an empty array is ambiguous. Returning False, but in future this will result in an error. Use `array.size > 0` to check that an array is not empty.\n",
      "  if diff:\n",
      "C:\\Users\\GauravP\\Anaconda3\\lib\\site-packages\\sklearn\\preprocessing\\label.py:151: DeprecationWarning: The truth value of an empty array is ambiguous. Returning False, but in future this will result in an error. Use `array.size > 0` to check that an array is not empty.\n",
      "  if diff:\n"
     ]
    },
    {
     "name": "stdout",
     "output_type": "stream",
     "text": [
      "XGBClassifier(base_score=0.5, booster='gbtree', colsample_bylevel=1,\n",
      "       colsample_bytree=1, gamma=0, learning_rate=0.1, max_delta_step=0,\n",
      "       max_depth=4, min_child_weight=1, missing=None, n_estimators=70,\n",
      "       n_jobs=1, nthread=None, objective='binary:logistic', random_state=0,\n",
      "       reg_alpha=0, reg_lambda=1, scale_pos_weight=1, seed=None,\n",
      "       silent=True, subsample=1)\n"
     ]
    }
   ],
   "source": [
    "xgb_model = xgb.XGBClassifier()\n",
    "\n",
    "hyperParameters = {'max_depth':[1, 2, 3, 4], 'n_estimators':[30, 50, 70, 100]}\n",
    "\n",
    "clf = GridSearchCV(estimator = xgb_model, param_grid = hyperParameters, scoring='accuracy', cv=3)\n",
    "clf.fit(train_TFIDF_W2V, train_labels_TFIDF_W2V)\n",
    "\n",
    "print(clf.best_estimator_)"
   ]
  },
  {
   "cell_type": "code",
   "execution_count": 165,
   "metadata": {},
   "outputs": [
    {
     "data": {
      "text/plain": [
       "{'max_depth': 4, 'n_estimators': 70}"
      ]
     },
     "execution_count": 165,
     "metadata": {},
     "output_type": "execute_result"
    }
   ],
   "source": [
    "best_parameter = clf.best_params_ \n",
    "best_parameter"
   ]
  },
  {
   "cell_type": "code",
   "execution_count": 166,
   "metadata": {},
   "outputs": [
    {
     "data": {
      "text/plain": [
       "[mean: 0.84500, std: 0.00012, params: {'max_depth': 1, 'n_estimators': 30},\n",
       " mean: 0.84500, std: 0.00012, params: {'max_depth': 1, 'n_estimators': 50},\n",
       " mean: 0.84950, std: 0.00154, params: {'max_depth': 1, 'n_estimators': 70},\n",
       " mean: 0.85175, std: 0.00108, params: {'max_depth': 1, 'n_estimators': 100},\n",
       " mean: 0.84975, std: 0.00204, params: {'max_depth': 2, 'n_estimators': 30},\n",
       " mean: 0.85488, std: 0.00157, params: {'max_depth': 2, 'n_estimators': 50},\n",
       " mean: 0.85675, std: 0.00294, params: {'max_depth': 2, 'n_estimators': 70},\n",
       " mean: 0.85888, std: 0.00327, params: {'max_depth': 2, 'n_estimators': 100},\n",
       " mean: 0.85600, std: 0.00245, params: {'max_depth': 3, 'n_estimators': 30},\n",
       " mean: 0.85813, std: 0.00413, params: {'max_depth': 3, 'n_estimators': 50},\n",
       " mean: 0.85950, std: 0.00468, params: {'max_depth': 3, 'n_estimators': 70},\n",
       " mean: 0.86150, std: 0.00348, params: {'max_depth': 3, 'n_estimators': 100},\n",
       " mean: 0.85788, std: 0.00277, params: {'max_depth': 4, 'n_estimators': 30},\n",
       " mean: 0.86087, std: 0.00370, params: {'max_depth': 4, 'n_estimators': 50},\n",
       " mean: 0.86413, std: 0.00645, params: {'max_depth': 4, 'n_estimators': 70},\n",
       " mean: 0.86200, std: 0.00447, params: {'max_depth': 4, 'n_estimators': 100}]"
      ]
     },
     "execution_count": 166,
     "metadata": {},
     "output_type": "execute_result"
    }
   ],
   "source": [
    "scoreData = clf.grid_scores_\n",
    "scoreData"
   ]
  },
  {
   "cell_type": "code",
   "execution_count": 167,
   "metadata": {},
   "outputs": [],
   "source": [
    "error = []\n",
    "eachError = []\n",
    "for i in range(len(scoreData)):\n",
    "    eachError.append(np.round((1 - scoreData[i][1]), 4))\n",
    "    if i == 3 or i == 7 or i == 11 or i == 15:\n",
    "        error.append(eachError)\n",
    "        eachError = []"
   ]
  },
  {
   "cell_type": "code",
   "execution_count": 168,
   "metadata": {},
   "outputs": [
    {
     "data": {
      "text/plain": [
       "[[0.155, 0.155, 0.1505, 0.1482],\n",
       " [0.1502, 0.1451, 0.1432, 0.1411],\n",
       " [0.144, 0.1419, 0.1405, 0.1385],\n",
       " [0.1421, 0.1391, 0.1359, 0.138]]"
      ]
     },
     "execution_count": 168,
     "metadata": {},
     "output_type": "execute_result"
    }
   ],
   "source": [
    "error"
   ]
  },
  {
   "cell_type": "code",
   "execution_count": 169,
   "metadata": {},
   "outputs": [],
   "source": [
    "columnNames = [30, 50, 70, 100]"
   ]
  },
  {
   "cell_type": "code",
   "execution_count": 170,
   "metadata": {},
   "outputs": [],
   "source": [
    "errorFrame = pd.DataFrame(error, columns = columnNames)"
   ]
  },
  {
   "cell_type": "code",
   "execution_count": 171,
   "metadata": {},
   "outputs": [
    {
     "data": {
      "text/html": [
       "<div>\n",
       "<style scoped>\n",
       "    .dataframe tbody tr th:only-of-type {\n",
       "        vertical-align: middle;\n",
       "    }\n",
       "\n",
       "    .dataframe tbody tr th {\n",
       "        vertical-align: top;\n",
       "    }\n",
       "\n",
       "    .dataframe thead th {\n",
       "        text-align: right;\n",
       "    }\n",
       "</style>\n",
       "<table border=\"1\" class=\"dataframe\">\n",
       "  <thead>\n",
       "    <tr style=\"text-align: right;\">\n",
       "      <th></th>\n",
       "      <th>30</th>\n",
       "      <th>50</th>\n",
       "      <th>70</th>\n",
       "      <th>100</th>\n",
       "    </tr>\n",
       "  </thead>\n",
       "  <tbody>\n",
       "    <tr>\n",
       "      <th>0</th>\n",
       "      <td>0.1550</td>\n",
       "      <td>0.1550</td>\n",
       "      <td>0.1505</td>\n",
       "      <td>0.1482</td>\n",
       "    </tr>\n",
       "    <tr>\n",
       "      <th>1</th>\n",
       "      <td>0.1502</td>\n",
       "      <td>0.1451</td>\n",
       "      <td>0.1432</td>\n",
       "      <td>0.1411</td>\n",
       "    </tr>\n",
       "    <tr>\n",
       "      <th>2</th>\n",
       "      <td>0.1440</td>\n",
       "      <td>0.1419</td>\n",
       "      <td>0.1405</td>\n",
       "      <td>0.1385</td>\n",
       "    </tr>\n",
       "    <tr>\n",
       "      <th>3</th>\n",
       "      <td>0.1421</td>\n",
       "      <td>0.1391</td>\n",
       "      <td>0.1359</td>\n",
       "      <td>0.1380</td>\n",
       "    </tr>\n",
       "  </tbody>\n",
       "</table>\n",
       "</div>"
      ],
      "text/plain": [
       "      30      50      70      100\n",
       "0  0.1550  0.1550  0.1505  0.1482\n",
       "1  0.1502  0.1451  0.1432  0.1411\n",
       "2  0.1440  0.1419  0.1405  0.1385\n",
       "3  0.1421  0.1391  0.1359  0.1380"
      ]
     },
     "execution_count": 171,
     "metadata": {},
     "output_type": "execute_result"
    }
   ],
   "source": [
    "errorFrame"
   ]
  },
  {
   "cell_type": "code",
   "execution_count": 172,
   "metadata": {},
   "outputs": [],
   "source": [
    "indexNames = [1, 2, 3, 4]\n",
    "errorFrame[\"Max_depth\"] = indexNames"
   ]
  },
  {
   "cell_type": "code",
   "execution_count": 173,
   "metadata": {},
   "outputs": [
    {
     "data": {
      "text/html": [
       "<div>\n",
       "<style scoped>\n",
       "    .dataframe tbody tr th:only-of-type {\n",
       "        vertical-align: middle;\n",
       "    }\n",
       "\n",
       "    .dataframe tbody tr th {\n",
       "        vertical-align: top;\n",
       "    }\n",
       "\n",
       "    .dataframe thead th {\n",
       "        text-align: right;\n",
       "    }\n",
       "</style>\n",
       "<table border=\"1\" class=\"dataframe\">\n",
       "  <thead>\n",
       "    <tr style=\"text-align: right;\">\n",
       "      <th></th>\n",
       "      <th>30</th>\n",
       "      <th>50</th>\n",
       "      <th>70</th>\n",
       "      <th>100</th>\n",
       "      <th>Max_depth</th>\n",
       "    </tr>\n",
       "  </thead>\n",
       "  <tbody>\n",
       "    <tr>\n",
       "      <th>0</th>\n",
       "      <td>0.1550</td>\n",
       "      <td>0.1550</td>\n",
       "      <td>0.1505</td>\n",
       "      <td>0.1482</td>\n",
       "      <td>1</td>\n",
       "    </tr>\n",
       "    <tr>\n",
       "      <th>1</th>\n",
       "      <td>0.1502</td>\n",
       "      <td>0.1451</td>\n",
       "      <td>0.1432</td>\n",
       "      <td>0.1411</td>\n",
       "      <td>2</td>\n",
       "    </tr>\n",
       "    <tr>\n",
       "      <th>2</th>\n",
       "      <td>0.1440</td>\n",
       "      <td>0.1419</td>\n",
       "      <td>0.1405</td>\n",
       "      <td>0.1385</td>\n",
       "      <td>3</td>\n",
       "    </tr>\n",
       "    <tr>\n",
       "      <th>3</th>\n",
       "      <td>0.1421</td>\n",
       "      <td>0.1391</td>\n",
       "      <td>0.1359</td>\n",
       "      <td>0.1380</td>\n",
       "      <td>4</td>\n",
       "    </tr>\n",
       "  </tbody>\n",
       "</table>\n",
       "</div>"
      ],
      "text/plain": [
       "       30      50      70     100  Max_depth\n",
       "0  0.1550  0.1550  0.1505  0.1482          1\n",
       "1  0.1502  0.1451  0.1432  0.1411          2\n",
       "2  0.1440  0.1419  0.1405  0.1385          3\n",
       "3  0.1421  0.1391  0.1359  0.1380          4"
      ]
     },
     "execution_count": 173,
     "metadata": {},
     "output_type": "execute_result"
    }
   ],
   "source": [
    "errorFrame"
   ]
  },
  {
   "cell_type": "code",
   "execution_count": 174,
   "metadata": {},
   "outputs": [],
   "source": [
    "errorFrame.set_index(\"Max_depth\", append = False, drop = True, inplace = True)"
   ]
  },
  {
   "cell_type": "code",
   "execution_count": 175,
   "metadata": {},
   "outputs": [
    {
     "data": {
      "text/html": [
       "<div>\n",
       "<style scoped>\n",
       "    .dataframe tbody tr th:only-of-type {\n",
       "        vertical-align: middle;\n",
       "    }\n",
       "\n",
       "    .dataframe tbody tr th {\n",
       "        vertical-align: top;\n",
       "    }\n",
       "\n",
       "    .dataframe thead th {\n",
       "        text-align: right;\n",
       "    }\n",
       "</style>\n",
       "<table border=\"1\" class=\"dataframe\">\n",
       "  <thead>\n",
       "    <tr style=\"text-align: right;\">\n",
       "      <th></th>\n",
       "      <th>30</th>\n",
       "      <th>50</th>\n",
       "      <th>70</th>\n",
       "      <th>100</th>\n",
       "    </tr>\n",
       "    <tr>\n",
       "      <th>Max_depth</th>\n",
       "      <th></th>\n",
       "      <th></th>\n",
       "      <th></th>\n",
       "      <th></th>\n",
       "    </tr>\n",
       "  </thead>\n",
       "  <tbody>\n",
       "    <tr>\n",
       "      <th>1</th>\n",
       "      <td>0.1550</td>\n",
       "      <td>0.1550</td>\n",
       "      <td>0.1505</td>\n",
       "      <td>0.1482</td>\n",
       "    </tr>\n",
       "    <tr>\n",
       "      <th>2</th>\n",
       "      <td>0.1502</td>\n",
       "      <td>0.1451</td>\n",
       "      <td>0.1432</td>\n",
       "      <td>0.1411</td>\n",
       "    </tr>\n",
       "    <tr>\n",
       "      <th>3</th>\n",
       "      <td>0.1440</td>\n",
       "      <td>0.1419</td>\n",
       "      <td>0.1405</td>\n",
       "      <td>0.1385</td>\n",
       "    </tr>\n",
       "    <tr>\n",
       "      <th>4</th>\n",
       "      <td>0.1421</td>\n",
       "      <td>0.1391</td>\n",
       "      <td>0.1359</td>\n",
       "      <td>0.1380</td>\n",
       "    </tr>\n",
       "  </tbody>\n",
       "</table>\n",
       "</div>"
      ],
      "text/plain": [
       "              30      50      70      100\n",
       "Max_depth                                \n",
       "1          0.1550  0.1550  0.1505  0.1482\n",
       "2          0.1502  0.1451  0.1432  0.1411\n",
       "3          0.1440  0.1419  0.1405  0.1385\n",
       "4          0.1421  0.1391  0.1359  0.1380"
      ]
     },
     "execution_count": 175,
     "metadata": {},
     "output_type": "execute_result"
    }
   ],
   "source": [
    "errorFrame"
   ]
  },
  {
   "cell_type": "code",
   "execution_count": 176,
   "metadata": {},
   "outputs": [
    {
     "data": {
      "text/plain": [
       "Text(738.529,0.5,'Error')"
      ]
     },
     "execution_count": 176,
     "metadata": {},
     "output_type": "execute_result"
    },
    {
     "data": {
      "image/png": "[encoded data removed]",
      "text/plain": [
       "<Figure size 864x576 with 2 Axes>"
      ]
     },
     "metadata": {},
     "output_type": "display_data"
    }
   ],
   "source": [
    "plt.figure(figsize=(12, 8))\n",
    "plt.title(\"Heatmap of Error vs Max Depth and Number of base learners\", size = 15)\n",
    "ax = sns.heatmap(errorFrame, annot = True, linewidths=.5)\n",
    "ax.figure.axes[0].set_xlabel('Number of base learners', size = 15)\n",
    "ax.figure.axes[0].set_ylabel('Max_Depth', size = 15)\n",
    "ax.figure.axes[-1].set_ylabel('Error', size = 15)"
   ]
  },
  {
   "cell_type": "markdown",
   "metadata": {},
   "source": [
    "**Here above in heatmap you can see that the error is minimum when Number of base learners are 70 and Max_Depth value is 4. Therefore, from grid search we are considering our Number of base learners value as 70 and Max_Depth Value as 4.**"
   ]
  },
  {
   "cell_type": "markdown",
   "metadata": {},
   "source": [
    "### Task 5. Apply XGBoost and report accuracy. Also check for train error."
   ]
  },
  {
   "cell_type": "code",
   "execution_count": 177,
   "metadata": {},
   "outputs": [
    {
     "name": "stdout",
     "output_type": "stream",
     "text": [
      "Train Error of XGBoost = 10.099999999999998%\n"
     ]
    },
    {
     "name": "stderr",
     "output_type": "stream",
     "text": [
      "C:\\Users\\GauravP\\Anaconda3\\lib\\site-packages\\sklearn\\preprocessing\\label.py:151: DeprecationWarning: The truth value of an empty array is ambiguous. Returning False, but in future this will result in an error. Use `array.size > 0` to check that an array is not empty.\n",
      "  if diff:\n"
     ]
    }
   ],
   "source": [
    "#checking for train error\n",
    "model_xg_tr = xgb.XGBClassifier(max_depth = 4, n_estimators = 70)\n",
    "\n",
    "model_xg_tr.fit(train_TFIDF_W2V, train_labels_TFIDF_W2V)\n",
    "\n",
    "prediction_TFIDF_W2V_xg_tr = model_xg_tr.predict(train_TFIDF_W2V)\n",
    "\n",
    "AccuracyScore_TFIDF_W2V_xg_tr = accuracy_score(train_labels_TFIDF_W2V, prediction_TFIDF_W2V_xg_tr)\n",
    "\n",
    "print(\"Train Error of XGBoost = \"+str((1 - AccuracyScore_TFIDF_W2V_xg_tr) * 100)+\"%\")"
   ]
  },
  {
   "cell_type": "code",
   "execution_count": 179,
   "metadata": {},
   "outputs": [
    {
     "name": "stdout",
     "output_type": "stream",
     "text": [
      "Accuracy score of XGBoost = 84.65%\n"
     ]
    },
    {
     "name": "stderr",
     "output_type": "stream",
     "text": [
      "C:\\Users\\GauravP\\Anaconda3\\lib\\site-packages\\sklearn\\preprocessing\\label.py:151: DeprecationWarning: The truth value of an empty array is ambiguous. Returning False, but in future this will result in an error. Use `array.size > 0` to check that an array is not empty.\n",
      "  if diff:\n"
     ]
    }
   ],
   "source": [
    "model_xg = xgb.XGBClassifier(max_depth = 4, n_estimators = 70)\n",
    "\n",
    "model_xg.fit(train_TFIDF_W2V, train_labels_TFIDF_W2V)\n",
    "\n",
    "prediction_xg = model_xg.predict(test_TFIDF_W2V)\n",
    "\n",
    "AccuracyScore_xg = accuracy_score(test_labels_TFIDF_W2V, prediction_xg) * 100\n",
    "\n",
    "print(\"Accuracy score of XGBoost = \"+str(AccuracyScore_xg)+\"%\")"
   ]
  },
  {
   "cell_type": "code",
   "execution_count": 180,
   "metadata": {},
   "outputs": [
    {
     "name": "stdout",
     "output_type": "stream",
     "text": [
      "Confusion Matrix on L2 regularization  \n",
      "[[  64  261]\n",
      " [  46 1629]]\n"
     ]
    }
   ],
   "source": [
    "Confusion_Matrix = confusion_matrix(test_labels_TFIDF_W2V, prediction_xg)\n",
    "print(\"Confusion Matrix on L2 regularization  \\n\"+str(Confusion_Matrix))"
   ]
  },
  {
   "cell_type": "code",
   "execution_count": 181,
   "metadata": {},
   "outputs": [
    {
     "data": {
      "text/plain": [
       "(64, 261, 46, 1629)"
      ]
     },
     "execution_count": 181,
     "metadata": {},
     "output_type": "execute_result"
    }
   ],
   "source": [
    "tn, fp, fn, tp = confusion_matrix(test_labels_TFIDF_W2V, prediction_xg).ravel()\n",
    "tn, fp, fn, tp"
   ]
  },
  {
   "cell_type": "markdown",
   "metadata": {},
   "source": [
    "## Summary\n",
    "\n",
    "### Avg W2V\n",
    "**1. Optimal Value of number of base learners in Random Forest from Grid Search = 29**<br>\n",
    "**2. Train Error in Random Forest  = 0.1%**<br>\n",
    "**3. Accuracy of Random Forest = 85.25%**<br>\n",
    "**4. Optimal Value of number of base learners and maximum depth of base learners in XGBoost from Grid Search = 100 & 4**<br>\n",
    "**5. Train Error in XGBoost 8.11%**<br>\n",
    "**6. Accuracy of XGBoost = 86.55%**<br>\n",
    "### TFIDF-W2V\n",
    "**1. Optimal Value of number of base learners in Random Forest from Grid Search = 19**<br>\n",
    "**2. Train Error in Random Forest  = 0.225%**<br>\n",
    "**3. Accuracy of Random Forest = 84.1%**<br>\n",
    "**4. Optimal Value of number of base learners and maximum depth of base learners in XGBoost from Grid Search = 70 & 4**<br>\n",
    "**5. Train Error in XGBoost 10.09%**<br>\n",
    "**6. Accuracy of XGBoost = 84.65%**<br>"
   ]
  }
 ],
 "metadata": {
  "kernelspec": {
   "display_name": "Python 3",
   "language": "python",
   "name": "python3"
  },
  "language_info": {
   "codemirror_mode": {
    "name": "ipython",
    "version": 3
   },
   "file_extension": ".py",
   "mimetype": "text/x-python",
   "name": "python",
   "nbconvert_exporter": "python",
   "pygments_lexer": "ipython3",
   "version": "3.6.5"
  }
 },
 "nbformat": 4,
 "nbformat_minor": 2
}
