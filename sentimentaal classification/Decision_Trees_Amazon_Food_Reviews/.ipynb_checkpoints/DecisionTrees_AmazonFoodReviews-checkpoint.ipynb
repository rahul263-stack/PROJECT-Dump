{
 "cells": [
  {
   "cell_type": "markdown",
   "metadata": {},
   "source": [
    "# Decision Trees on Amazon Food Reviews"
   ]
  },
  {
   "cell_type": "markdown",
   "metadata": {},
   "source": [
    "Data Source: https://www.kaggle.com/snap/amazon-fine-food-reviews\n",
    "\n",
    "The Amazon Fine Food Reviews dataset consists of reviews of fine foods from Amazon.\n",
    "\n",
    "Number of reviews: 568,454 Number of users: 256,059 Number of products: 74,258 Timespan: Oct 1999 - Oct 2012 Number of Attributes/Columns in data: 10\n",
    "\n",
    "Attribute Information:\n",
    "\n",
    "1.  index\n",
    "2.  Id\n",
    "3.  ProductId - unique identifier for the product\n",
    "4.  UserId - unqiue identifier for the user\n",
    "5.  ProfileName\n",
    "6.  HelpfulnessNumerator - number of users who found the review helpful\n",
    "7.  HelpfulnessDenominator - number of users who indicated whether they found the review helpful or not\n",
    "8.  Score - rating between 1 and 5\n",
    "9.  Time - timestamp for the review\n",
    "10. Summary - brief summary of the review\n",
    "11. Text - text of the review\n",
    "12. ProcessedText - Cleaned & Preprocessed Text of the review\n",
    "\n",
    "**Objective: Given Amazon Food reviews, convert all the reviews into a vector using three techniques: **<br>\n",
    "**1. Average W2V.**<br>\n",
    "**2. Average TFIDF-W2V.**<br>\n",
    "**3. GLoVe(Pre-trained).**<br>\n",
    "\n",
    "**Then perform following tasks under each technique:**<br>\n",
    "**Task 1. Split train and test data in a ratio of 80:20.** <br>\n",
    "**Task 2. Perform GridSearch Cross Validation to find optimal depth of decision tree.**<br>\n",
    "**Task 3. Apply DecisionTreeClassifier and report accuracy. Also check for train error.**<br>\n",
    "**Task 4. Plot decision tree using graphviz.**<br>\n",
    "\n",
    "[Q] How to determine if a review is positive or negative?\n",
    "\n",
    "[Ans] We could use the Score/Rating. A rating of 4 or 5 could be cosnidered a positive review. A review of 1 or 2 could be considered negative. A review of 3 is nuetral and ignored. This is an approximate and proxy way of determining the polarity (positivity/negativity) of a review.\n",
    "\n",
    "Loading the data\n",
    "\n",
    "SQLite Database\n",
    "\n",
    "In order to load the data, We have used the SQLITE dataset as it easier to query the data and visualise the data efficiently. Here as we only want to get the global sentiment of the recommendations (positive or negative), we will purposefully ignore all Scores equal to 3. If the score id above 3, then the recommendation wil be set to \"positive\". Otherwise, it will be set to \"negative\"."
   ]
  },
  {
   "cell_type": "code",
   "execution_count": 3,
   "metadata": {},
   "outputs": [],
   "source": [
    "import sqlite3\n",
    "import pandas as pd\n",
    "import numpy as np\n",
    "import matplotlib.pyplot as plt\n",
    "\n",
    "from gensim.models import Word2Vec\n",
    "import gensim\n",
    "import csv\n",
    "import re\n",
    "import graphviz \n",
    "from sklearn.metrics import accuracy_score, confusion_matrix\n",
    "from sklearn.feature_extraction.text import TfidfVectorizer\n",
    "\n",
    "from sklearn.tree import DecisionTreeClassifier\n",
    "from sklearn import tree\n",
    "from sklearn.cross_validation import train_test_split\n",
    "from sklearn.grid_search import GridSearchCV"
   ]
  },
  {
   "cell_type": "code",
   "execution_count": 3,
   "metadata": {
    "collapsed": true
   },
   "outputs": [],
   "source": [
    "connection = sqlite3.connect('FinalAmazonFoodReviewsDataset.sqlite')"
   ]
  },
  {
   "cell_type": "code",
   "execution_count": 4,
   "metadata": {
    "collapsed": true
   },
   "outputs": [],
   "source": [
    "data = pd.read_sql_query(\"SELECT * FROM Reviews\", connection)"
   ]
  },
  {
   "cell_type": "code",
   "execution_count": 5,
   "metadata": {},
   "outputs": [
    {
     "data": {
      "text/html": [
       "<div>\n",
       "<style>\n",
       "    .dataframe thead tr:only-child th {\n",
       "        text-align: right;\n",
       "    }\n",
       "\n",
       "    .dataframe thead th {\n",
       "        text-align: left;\n",
       "    }\n",
       "\n",
       "    .dataframe tbody tr th {\n",
       "        vertical-align: top;\n",
       "    }\n",
       "</style>\n",
       "<table border=\"1\" class=\"dataframe\">\n",
       "  <thead>\n",
       "    <tr style=\"text-align: right;\">\n",
       "      <th></th>\n",
       "      <th>index</th>\n",
       "      <th>Id</th>\n",
       "      <th>ProductId</th>\n",
       "      <th>UserId</th>\n",
       "      <th>ProfileName</th>\n",
       "      <th>HelpfulnessNumerator</th>\n",
       "      <th>HelpfulnessDenominator</th>\n",
       "      <th>Score</th>\n",
       "      <th>Time</th>\n",
       "      <th>Summary</th>\n",
       "      <th>Text</th>\n",
       "      <th>ProcessedText</th>\n",
       "    </tr>\n",
       "  </thead>\n",
       "  <tbody>\n",
       "    <tr>\n",
       "      <th>0</th>\n",
       "      <td>0</td>\n",
       "      <td>1</td>\n",
       "      <td>B001E4KFG0</td>\n",
       "      <td>A3SGXH7AUHU8GW</td>\n",
       "      <td>delmartian</td>\n",
       "      <td>1</td>\n",
       "      <td>1</td>\n",
       "      <td>Positive</td>\n",
       "      <td>1303862400</td>\n",
       "      <td>Good Quality Dog Food</td>\n",
       "      <td>I have bought several of the Vitality canned d...</td>\n",
       "      <td>have bought sever the vital can dog food produ...</td>\n",
       "    </tr>\n",
       "    <tr>\n",
       "      <th>1</th>\n",
       "      <td>1</td>\n",
       "      <td>2</td>\n",
       "      <td>B00813GRG4</td>\n",
       "      <td>A1D87F6ZCVE5NK</td>\n",
       "      <td>dll pa</td>\n",
       "      <td>0</td>\n",
       "      <td>0</td>\n",
       "      <td>Negative</td>\n",
       "      <td>1346976000</td>\n",
       "      <td>Not as Advertised</td>\n",
       "      <td>Product arrived labeled as Jumbo Salted Peanut...</td>\n",
       "      <td>product arriv label jumbo salt peanut the pean...</td>\n",
       "    </tr>\n",
       "    <tr>\n",
       "      <th>2</th>\n",
       "      <td>2</td>\n",
       "      <td>3</td>\n",
       "      <td>B000LQOCH0</td>\n",
       "      <td>ABXLMWJIXXAIN</td>\n",
       "      <td>Natalia Corres \"Natalia Corres\"</td>\n",
       "      <td>1</td>\n",
       "      <td>1</td>\n",
       "      <td>Positive</td>\n",
       "      <td>1219017600</td>\n",
       "      <td>\"Delight\" says it all</td>\n",
       "      <td>This is a confection that has been around a fe...</td>\n",
       "      <td>this confect that has been around few centuri ...</td>\n",
       "    </tr>\n",
       "    <tr>\n",
       "      <th>3</th>\n",
       "      <td>4</td>\n",
       "      <td>5</td>\n",
       "      <td>B006K2ZZ7K</td>\n",
       "      <td>A1UQRSCLF8GW1T</td>\n",
       "      <td>Michael D. Bigham \"M. Wassir\"</td>\n",
       "      <td>0</td>\n",
       "      <td>0</td>\n",
       "      <td>Positive</td>\n",
       "      <td>1350777600</td>\n",
       "      <td>Great taffy</td>\n",
       "      <td>Great taffy at a great price.  There was a wid...</td>\n",
       "      <td>great taffi great price there was wide assort ...</td>\n",
       "    </tr>\n",
       "    <tr>\n",
       "      <th>4</th>\n",
       "      <td>5</td>\n",
       "      <td>6</td>\n",
       "      <td>B006K2ZZ7K</td>\n",
       "      <td>ADT0SRK1MGOEU</td>\n",
       "      <td>Twoapennything</td>\n",
       "      <td>0</td>\n",
       "      <td>0</td>\n",
       "      <td>Positive</td>\n",
       "      <td>1342051200</td>\n",
       "      <td>Nice Taffy</td>\n",
       "      <td>I got a wild hair for taffy and ordered this f...</td>\n",
       "      <td>got wild hair for taffi and order this five po...</td>\n",
       "    </tr>\n",
       "  </tbody>\n",
       "</table>\n",
       "</div>"
      ],
      "text/plain": [
       "   index  Id   ProductId          UserId                      ProfileName  \\\n",
       "0      0   1  B001E4KFG0  A3SGXH7AUHU8GW                       delmartian   \n",
       "1      1   2  B00813GRG4  A1D87F6ZCVE5NK                           dll pa   \n",
       "2      2   3  B000LQOCH0   ABXLMWJIXXAIN  Natalia Corres \"Natalia Corres\"   \n",
       "3      4   5  B006K2ZZ7K  A1UQRSCLF8GW1T    Michael D. Bigham \"M. Wassir\"   \n",
       "4      5   6  B006K2ZZ7K   ADT0SRK1MGOEU                   Twoapennything   \n",
       "\n",
       "   HelpfulnessNumerator  HelpfulnessDenominator     Score        Time  \\\n",
       "0                     1                       1  Positive  1303862400   \n",
       "1                     0                       0  Negative  1346976000   \n",
       "2                     1                       1  Positive  1219017600   \n",
       "3                     0                       0  Positive  1350777600   \n",
       "4                     0                       0  Positive  1342051200   \n",
       "\n",
       "                 Summary                                               Text  \\\n",
       "0  Good Quality Dog Food  I have bought several of the Vitality canned d...   \n",
       "1      Not as Advertised  Product arrived labeled as Jumbo Salted Peanut...   \n",
       "2  \"Delight\" says it all  This is a confection that has been around a fe...   \n",
       "3            Great taffy  Great taffy at a great price.  There was a wid...   \n",
       "4             Nice Taffy  I got a wild hair for taffy and ordered this f...   \n",
       "\n",
       "                                       ProcessedText  \n",
       "0  have bought sever the vital can dog food produ...  \n",
       "1  product arriv label jumbo salt peanut the pean...  \n",
       "2  this confect that has been around few centuri ...  \n",
       "3  great taffi great price there was wide assort ...  \n",
       "4  got wild hair for taffi and order this five po...  "
      ]
     },
     "execution_count": 5,
     "metadata": {},
     "output_type": "execute_result"
    }
   ],
   "source": [
    "data.head()"
   ]
  },
  {
   "cell_type": "code",
   "execution_count": 6,
   "metadata": {},
   "outputs": [
    {
     "data": {
      "text/plain": [
       "(364171, 12)"
      ]
     },
     "execution_count": 6,
     "metadata": {},
     "output_type": "execute_result"
    }
   ],
   "source": [
    "data.shape"
   ]
  },
  {
   "cell_type": "code",
   "execution_count": 7,
   "metadata": {},
   "outputs": [
    {
     "data": {
      "text/plain": [
       "Positive    307061\n",
       "Negative     57110\n",
       "Name: Score, dtype: int64"
      ]
     },
     "execution_count": 7,
     "metadata": {},
     "output_type": "execute_result"
    }
   ],
   "source": [
    "data[\"Score\"].value_counts()"
   ]
  },
  {
   "cell_type": "code",
   "execution_count": 8,
   "metadata": {
    "collapsed": true
   },
   "outputs": [],
   "source": [
    "def changingScores(score):\n",
    "    if score == \"Positive\":\n",
    "        return 1\n",
    "    else:\n",
    "        return 0"
   ]
  },
  {
   "cell_type": "code",
   "execution_count": 9,
   "metadata": {
    "collapsed": true
   },
   "outputs": [],
   "source": [
    "# changing score\n",
    "# Positive = 1\n",
    "# Negative = 0\n",
    "actualScore = list(data[\"Score\"])                                                                                         \n",
    "positiveNegative = list(map(changingScores, actualScore)) #map(function, list of numbers)\n",
    "data['Score'] = positiveNegative"
   ]
  },
  {
   "cell_type": "code",
   "execution_count": 10,
   "metadata": {},
   "outputs": [
    {
     "data": {
      "text/html": [
       "<div>\n",
       "<style>\n",
       "    .dataframe thead tr:only-child th {\n",
       "        text-align: right;\n",
       "    }\n",
       "\n",
       "    .dataframe thead th {\n",
       "        text-align: left;\n",
       "    }\n",
       "\n",
       "    .dataframe tbody tr th {\n",
       "        vertical-align: top;\n",
       "    }\n",
       "</style>\n",
       "<table border=\"1\" class=\"dataframe\">\n",
       "  <thead>\n",
       "    <tr style=\"text-align: right;\">\n",
       "      <th></th>\n",
       "      <th>index</th>\n",
       "      <th>Id</th>\n",
       "      <th>ProductId</th>\n",
       "      <th>UserId</th>\n",
       "      <th>ProfileName</th>\n",
       "      <th>HelpfulnessNumerator</th>\n",
       "      <th>HelpfulnessDenominator</th>\n",
       "      <th>Score</th>\n",
       "      <th>Time</th>\n",
       "      <th>Summary</th>\n",
       "      <th>Text</th>\n",
       "      <th>ProcessedText</th>\n",
       "    </tr>\n",
       "  </thead>\n",
       "  <tbody>\n",
       "    <tr>\n",
       "      <th>0</th>\n",
       "      <td>0</td>\n",
       "      <td>1</td>\n",
       "      <td>B001E4KFG0</td>\n",
       "      <td>A3SGXH7AUHU8GW</td>\n",
       "      <td>delmartian</td>\n",
       "      <td>1</td>\n",
       "      <td>1</td>\n",
       "      <td>1</td>\n",
       "      <td>1303862400</td>\n",
       "      <td>Good Quality Dog Food</td>\n",
       "      <td>I have bought several of the Vitality canned d...</td>\n",
       "      <td>have bought sever the vital can dog food produ...</td>\n",
       "    </tr>\n",
       "    <tr>\n",
       "      <th>1</th>\n",
       "      <td>1</td>\n",
       "      <td>2</td>\n",
       "      <td>B00813GRG4</td>\n",
       "      <td>A1D87F6ZCVE5NK</td>\n",
       "      <td>dll pa</td>\n",
       "      <td>0</td>\n",
       "      <td>0</td>\n",
       "      <td>0</td>\n",
       "      <td>1346976000</td>\n",
       "      <td>Not as Advertised</td>\n",
       "      <td>Product arrived labeled as Jumbo Salted Peanut...</td>\n",
       "      <td>product arriv label jumbo salt peanut the pean...</td>\n",
       "    </tr>\n",
       "    <tr>\n",
       "      <th>2</th>\n",
       "      <td>2</td>\n",
       "      <td>3</td>\n",
       "      <td>B000LQOCH0</td>\n",
       "      <td>ABXLMWJIXXAIN</td>\n",
       "      <td>Natalia Corres \"Natalia Corres\"</td>\n",
       "      <td>1</td>\n",
       "      <td>1</td>\n",
       "      <td>1</td>\n",
       "      <td>1219017600</td>\n",
       "      <td>\"Delight\" says it all</td>\n",
       "      <td>This is a confection that has been around a fe...</td>\n",
       "      <td>this confect that has been around few centuri ...</td>\n",
       "    </tr>\n",
       "    <tr>\n",
       "      <th>3</th>\n",
       "      <td>4</td>\n",
       "      <td>5</td>\n",
       "      <td>B006K2ZZ7K</td>\n",
       "      <td>A1UQRSCLF8GW1T</td>\n",
       "      <td>Michael D. Bigham \"M. Wassir\"</td>\n",
       "      <td>0</td>\n",
       "      <td>0</td>\n",
       "      <td>1</td>\n",
       "      <td>1350777600</td>\n",
       "      <td>Great taffy</td>\n",
       "      <td>Great taffy at a great price.  There was a wid...</td>\n",
       "      <td>great taffi great price there was wide assort ...</td>\n",
       "    </tr>\n",
       "    <tr>\n",
       "      <th>4</th>\n",
       "      <td>5</td>\n",
       "      <td>6</td>\n",
       "      <td>B006K2ZZ7K</td>\n",
       "      <td>ADT0SRK1MGOEU</td>\n",
       "      <td>Twoapennything</td>\n",
       "      <td>0</td>\n",
       "      <td>0</td>\n",
       "      <td>1</td>\n",
       "      <td>1342051200</td>\n",
       "      <td>Nice Taffy</td>\n",
       "      <td>I got a wild hair for taffy and ordered this f...</td>\n",
       "      <td>got wild hair for taffi and order this five po...</td>\n",
       "    </tr>\n",
       "  </tbody>\n",
       "</table>\n",
       "</div>"
      ],
      "text/plain": [
       "   index  Id   ProductId          UserId                      ProfileName  \\\n",
       "0      0   1  B001E4KFG0  A3SGXH7AUHU8GW                       delmartian   \n",
       "1      1   2  B00813GRG4  A1D87F6ZCVE5NK                           dll pa   \n",
       "2      2   3  B000LQOCH0   ABXLMWJIXXAIN  Natalia Corres \"Natalia Corres\"   \n",
       "3      4   5  B006K2ZZ7K  A1UQRSCLF8GW1T    Michael D. Bigham \"M. Wassir\"   \n",
       "4      5   6  B006K2ZZ7K   ADT0SRK1MGOEU                   Twoapennything   \n",
       "\n",
       "   HelpfulnessNumerator  HelpfulnessDenominator  Score        Time  \\\n",
       "0                     1                       1      1  1303862400   \n",
       "1                     0                       0      0  1346976000   \n",
       "2                     1                       1      1  1219017600   \n",
       "3                     0                       0      1  1350777600   \n",
       "4                     0                       0      1  1342051200   \n",
       "\n",
       "                 Summary                                               Text  \\\n",
       "0  Good Quality Dog Food  I have bought several of the Vitality canned d...   \n",
       "1      Not as Advertised  Product arrived labeled as Jumbo Salted Peanut...   \n",
       "2  \"Delight\" says it all  This is a confection that has been around a fe...   \n",
       "3            Great taffy  Great taffy at a great price.  There was a wid...   \n",
       "4             Nice Taffy  I got a wild hair for taffy and ordered this f...   \n",
       "\n",
       "                                       ProcessedText  \n",
       "0  have bought sever the vital can dog food produ...  \n",
       "1  product arriv label jumbo salt peanut the pean...  \n",
       "2  this confect that has been around few centuri ...  \n",
       "3  great taffi great price there was wide assort ...  \n",
       "4  got wild hair for taffi and order this five po...  "
      ]
     },
     "execution_count": 10,
     "metadata": {},
     "output_type": "execute_result"
    }
   ],
   "source": [
    "data.head()"
   ]
  },
  {
   "cell_type": "code",
   "execution_count": 11,
   "metadata": {
    "collapsed": true
   },
   "outputs": [],
   "source": [
    "allPositiveReviews = data[(data[\"Score\"] == 1)]"
   ]
  },
  {
   "cell_type": "code",
   "execution_count": 12,
   "metadata": {},
   "outputs": [
    {
     "data": {
      "text/plain": [
       "(307061, 12)"
      ]
     },
     "execution_count": 12,
     "metadata": {},
     "output_type": "execute_result"
    }
   ],
   "source": [
    "allPositiveReviews.shape"
   ]
  },
  {
   "cell_type": "code",
   "execution_count": 13,
   "metadata": {
    "collapsed": true
   },
   "outputs": [],
   "source": [
    "positiveReviews_5000 = allPositiveReviews[:5000]"
   ]
  },
  {
   "cell_type": "code",
   "execution_count": 14,
   "metadata": {},
   "outputs": [
    {
     "data": {
      "text/plain": [
       "(5000, 12)"
      ]
     },
     "execution_count": 14,
     "metadata": {},
     "output_type": "execute_result"
    }
   ],
   "source": [
    "positiveReviews_5000.shape"
   ]
  },
  {
   "cell_type": "code",
   "execution_count": 15,
   "metadata": {},
   "outputs": [
    {
     "data": {
      "text/html": [
       "<div>\n",
       "<style>\n",
       "    .dataframe thead tr:only-child th {\n",
       "        text-align: right;\n",
       "    }\n",
       "\n",
       "    .dataframe thead th {\n",
       "        text-align: left;\n",
       "    }\n",
       "\n",
       "    .dataframe tbody tr th {\n",
       "        vertical-align: top;\n",
       "    }\n",
       "</style>\n",
       "<table border=\"1\" class=\"dataframe\">\n",
       "  <thead>\n",
       "    <tr style=\"text-align: right;\">\n",
       "      <th></th>\n",
       "      <th>index</th>\n",
       "      <th>Id</th>\n",
       "      <th>ProductId</th>\n",
       "      <th>UserId</th>\n",
       "      <th>ProfileName</th>\n",
       "      <th>HelpfulnessNumerator</th>\n",
       "      <th>HelpfulnessDenominator</th>\n",
       "      <th>Score</th>\n",
       "      <th>Time</th>\n",
       "      <th>Summary</th>\n",
       "      <th>Text</th>\n",
       "      <th>ProcessedText</th>\n",
       "    </tr>\n",
       "  </thead>\n",
       "  <tbody>\n",
       "    <tr>\n",
       "      <th>0</th>\n",
       "      <td>0</td>\n",
       "      <td>1</td>\n",
       "      <td>B001E4KFG0</td>\n",
       "      <td>A3SGXH7AUHU8GW</td>\n",
       "      <td>delmartian</td>\n",
       "      <td>1</td>\n",
       "      <td>1</td>\n",
       "      <td>1</td>\n",
       "      <td>1303862400</td>\n",
       "      <td>Good Quality Dog Food</td>\n",
       "      <td>I have bought several of the Vitality canned d...</td>\n",
       "      <td>have bought sever the vital can dog food produ...</td>\n",
       "    </tr>\n",
       "    <tr>\n",
       "      <th>2</th>\n",
       "      <td>2</td>\n",
       "      <td>3</td>\n",
       "      <td>B000LQOCH0</td>\n",
       "      <td>ABXLMWJIXXAIN</td>\n",
       "      <td>Natalia Corres \"Natalia Corres\"</td>\n",
       "      <td>1</td>\n",
       "      <td>1</td>\n",
       "      <td>1</td>\n",
       "      <td>1219017600</td>\n",
       "      <td>\"Delight\" says it all</td>\n",
       "      <td>This is a confection that has been around a fe...</td>\n",
       "      <td>this confect that has been around few centuri ...</td>\n",
       "    </tr>\n",
       "    <tr>\n",
       "      <th>3</th>\n",
       "      <td>4</td>\n",
       "      <td>5</td>\n",
       "      <td>B006K2ZZ7K</td>\n",
       "      <td>A1UQRSCLF8GW1T</td>\n",
       "      <td>Michael D. Bigham \"M. Wassir\"</td>\n",
       "      <td>0</td>\n",
       "      <td>0</td>\n",
       "      <td>1</td>\n",
       "      <td>1350777600</td>\n",
       "      <td>Great taffy</td>\n",
       "      <td>Great taffy at a great price.  There was a wid...</td>\n",
       "      <td>great taffi great price there was wide assort ...</td>\n",
       "    </tr>\n",
       "    <tr>\n",
       "      <th>4</th>\n",
       "      <td>5</td>\n",
       "      <td>6</td>\n",
       "      <td>B006K2ZZ7K</td>\n",
       "      <td>ADT0SRK1MGOEU</td>\n",
       "      <td>Twoapennything</td>\n",
       "      <td>0</td>\n",
       "      <td>0</td>\n",
       "      <td>1</td>\n",
       "      <td>1342051200</td>\n",
       "      <td>Nice Taffy</td>\n",
       "      <td>I got a wild hair for taffy and ordered this f...</td>\n",
       "      <td>got wild hair for taffi and order this five po...</td>\n",
       "    </tr>\n",
       "    <tr>\n",
       "      <th>5</th>\n",
       "      <td>6</td>\n",
       "      <td>7</td>\n",
       "      <td>B006K2ZZ7K</td>\n",
       "      <td>A1SP2KVKFXXRU1</td>\n",
       "      <td>David C. Sullivan</td>\n",
       "      <td>0</td>\n",
       "      <td>0</td>\n",
       "      <td>1</td>\n",
       "      <td>1340150400</td>\n",
       "      <td>Great!  Just as good as the expensive brands!</td>\n",
       "      <td>This saltwater taffy had great flavors and was...</td>\n",
       "      <td>this saltwat taffi had great flavor and was ve...</td>\n",
       "    </tr>\n",
       "  </tbody>\n",
       "</table>\n",
       "</div>"
      ],
      "text/plain": [
       "   index  Id   ProductId          UserId                      ProfileName  \\\n",
       "0      0   1  B001E4KFG0  A3SGXH7AUHU8GW                       delmartian   \n",
       "2      2   3  B000LQOCH0   ABXLMWJIXXAIN  Natalia Corres \"Natalia Corres\"   \n",
       "3      4   5  B006K2ZZ7K  A1UQRSCLF8GW1T    Michael D. Bigham \"M. Wassir\"   \n",
       "4      5   6  B006K2ZZ7K   ADT0SRK1MGOEU                   Twoapennything   \n",
       "5      6   7  B006K2ZZ7K  A1SP2KVKFXXRU1                David C. Sullivan   \n",
       "\n",
       "   HelpfulnessNumerator  HelpfulnessDenominator  Score        Time  \\\n",
       "0                     1                       1      1  1303862400   \n",
       "2                     1                       1      1  1219017600   \n",
       "3                     0                       0      1  1350777600   \n",
       "4                     0                       0      1  1342051200   \n",
       "5                     0                       0      1  1340150400   \n",
       "\n",
       "                                         Summary  \\\n",
       "0                          Good Quality Dog Food   \n",
       "2                          \"Delight\" says it all   \n",
       "3                                    Great taffy   \n",
       "4                                     Nice Taffy   \n",
       "5  Great!  Just as good as the expensive brands!   \n",
       "\n",
       "                                                Text  \\\n",
       "0  I have bought several of the Vitality canned d...   \n",
       "2  This is a confection that has been around a fe...   \n",
       "3  Great taffy at a great price.  There was a wid...   \n",
       "4  I got a wild hair for taffy and ordered this f...   \n",
       "5  This saltwater taffy had great flavors and was...   \n",
       "\n",
       "                                       ProcessedText  \n",
       "0  have bought sever the vital can dog food produ...  \n",
       "2  this confect that has been around few centuri ...  \n",
       "3  great taffi great price there was wide assort ...  \n",
       "4  got wild hair for taffi and order this five po...  \n",
       "5  this saltwat taffi had great flavor and was ve...  "
      ]
     },
     "execution_count": 15,
     "metadata": {},
     "output_type": "execute_result"
    }
   ],
   "source": [
    "positiveReviews_5000.head()"
   ]
  },
  {
   "cell_type": "code",
   "execution_count": 16,
   "metadata": {
    "collapsed": true
   },
   "outputs": [],
   "source": [
    "allNegativeReviews = data[(data[\"Score\"] == 0)]"
   ]
  },
  {
   "cell_type": "code",
   "execution_count": 17,
   "metadata": {},
   "outputs": [
    {
     "data": {
      "text/plain": [
       "(57110, 12)"
      ]
     },
     "execution_count": 17,
     "metadata": {},
     "output_type": "execute_result"
    }
   ],
   "source": [
    "allNegativeReviews.shape"
   ]
  },
  {
   "cell_type": "code",
   "execution_count": 18,
   "metadata": {
    "collapsed": true
   },
   "outputs": [],
   "source": [
    "negativeReviews_5000 = allNegativeReviews[:5000]"
   ]
  },
  {
   "cell_type": "code",
   "execution_count": 19,
   "metadata": {},
   "outputs": [
    {
     "data": {
      "text/plain": [
       "(5000, 12)"
      ]
     },
     "execution_count": 19,
     "metadata": {},
     "output_type": "execute_result"
    }
   ],
   "source": [
    "negativeReviews_5000.shape"
   ]
  },
  {
   "cell_type": "code",
   "execution_count": 20,
   "metadata": {},
   "outputs": [
    {
     "data": {
      "text/html": [
       "<div>\n",
       "<style>\n",
       "    .dataframe thead tr:only-child th {\n",
       "        text-align: right;\n",
       "    }\n",
       "\n",
       "    .dataframe thead th {\n",
       "        text-align: left;\n",
       "    }\n",
       "\n",
       "    .dataframe tbody tr th {\n",
       "        vertical-align: top;\n",
       "    }\n",
       "</style>\n",
       "<table border=\"1\" class=\"dataframe\">\n",
       "  <thead>\n",
       "    <tr style=\"text-align: right;\">\n",
       "      <th></th>\n",
       "      <th>index</th>\n",
       "      <th>Id</th>\n",
       "      <th>ProductId</th>\n",
       "      <th>UserId</th>\n",
       "      <th>ProfileName</th>\n",
       "      <th>HelpfulnessNumerator</th>\n",
       "      <th>HelpfulnessDenominator</th>\n",
       "      <th>Score</th>\n",
       "      <th>Time</th>\n",
       "      <th>Summary</th>\n",
       "      <th>Text</th>\n",
       "      <th>ProcessedText</th>\n",
       "    </tr>\n",
       "  </thead>\n",
       "  <tbody>\n",
       "    <tr>\n",
       "      <th>1</th>\n",
       "      <td>1</td>\n",
       "      <td>2</td>\n",
       "      <td>B00813GRG4</td>\n",
       "      <td>A1D87F6ZCVE5NK</td>\n",
       "      <td>dll pa</td>\n",
       "      <td>0</td>\n",
       "      <td>0</td>\n",
       "      <td>0</td>\n",
       "      <td>1346976000</td>\n",
       "      <td>Not as Advertised</td>\n",
       "      <td>Product arrived labeled as Jumbo Salted Peanut...</td>\n",
       "      <td>product arriv label jumbo salt peanut the pean...</td>\n",
       "    </tr>\n",
       "    <tr>\n",
       "      <th>11</th>\n",
       "      <td>12</td>\n",
       "      <td>13</td>\n",
       "      <td>B0009XLVG0</td>\n",
       "      <td>A327PCT23YH90</td>\n",
       "      <td>LT</td>\n",
       "      <td>1</td>\n",
       "      <td>1</td>\n",
       "      <td>0</td>\n",
       "      <td>1339545600</td>\n",
       "      <td>My Cats Are Not Fans of the New Food</td>\n",
       "      <td>My cats have been happily eating Felidae Plati...</td>\n",
       "      <td>cat have been happili eat felida platinum for ...</td>\n",
       "    </tr>\n",
       "    <tr>\n",
       "      <th>15</th>\n",
       "      <td>16</td>\n",
       "      <td>17</td>\n",
       "      <td>B001GVISJM</td>\n",
       "      <td>A3KLWF6WQ5BNYO</td>\n",
       "      <td>Erica Neathery</td>\n",
       "      <td>0</td>\n",
       "      <td>0</td>\n",
       "      <td>0</td>\n",
       "      <td>1348099200</td>\n",
       "      <td>poor taste</td>\n",
       "      <td>I love eating them and they are good for watch...</td>\n",
       "      <td>love eat them and they are good for watch and ...</td>\n",
       "    </tr>\n",
       "    <tr>\n",
       "      <th>25</th>\n",
       "      <td>26</td>\n",
       "      <td>27</td>\n",
       "      <td>B001GVISJM</td>\n",
       "      <td>A3RXAU2N8KV45G</td>\n",
       "      <td>lady21</td>\n",
       "      <td>0</td>\n",
       "      <td>1</td>\n",
       "      <td>0</td>\n",
       "      <td>1332633600</td>\n",
       "      <td>Nasty No flavor</td>\n",
       "      <td>The candy is just red , No flavor . Just  plan...</td>\n",
       "      <td>the candi just red flavor just plan and chewi ...</td>\n",
       "    </tr>\n",
       "    <tr>\n",
       "      <th>45</th>\n",
       "      <td>47</td>\n",
       "      <td>51</td>\n",
       "      <td>B001EO5QW8</td>\n",
       "      <td>A108P30XVUFKXY</td>\n",
       "      <td>Roberto A</td>\n",
       "      <td>0</td>\n",
       "      <td>7</td>\n",
       "      <td>0</td>\n",
       "      <td>1203379200</td>\n",
       "      <td>Don't like it</td>\n",
       "      <td>This oatmeal is not good. Its mushy, soft, I d...</td>\n",
       "      <td>this oatmeal not good it mushi soft dont like ...</td>\n",
       "    </tr>\n",
       "  </tbody>\n",
       "</table>\n",
       "</div>"
      ],
      "text/plain": [
       "    index  Id   ProductId          UserId     ProfileName  \\\n",
       "1       1   2  B00813GRG4  A1D87F6ZCVE5NK          dll pa   \n",
       "11     12  13  B0009XLVG0   A327PCT23YH90              LT   \n",
       "15     16  17  B001GVISJM  A3KLWF6WQ5BNYO  Erica Neathery   \n",
       "25     26  27  B001GVISJM  A3RXAU2N8KV45G          lady21   \n",
       "45     47  51  B001EO5QW8  A108P30XVUFKXY       Roberto A   \n",
       "\n",
       "    HelpfulnessNumerator  HelpfulnessDenominator  Score        Time  \\\n",
       "1                      0                       0      0  1346976000   \n",
       "11                     1                       1      0  1339545600   \n",
       "15                     0                       0      0  1348099200   \n",
       "25                     0                       1      0  1332633600   \n",
       "45                     0                       7      0  1203379200   \n",
       "\n",
       "                                 Summary  \\\n",
       "1                      Not as Advertised   \n",
       "11  My Cats Are Not Fans of the New Food   \n",
       "15                            poor taste   \n",
       "25                       Nasty No flavor   \n",
       "45                         Don't like it   \n",
       "\n",
       "                                                 Text  \\\n",
       "1   Product arrived labeled as Jumbo Salted Peanut...   \n",
       "11  My cats have been happily eating Felidae Plati...   \n",
       "15  I love eating them and they are good for watch...   \n",
       "25  The candy is just red , No flavor . Just  plan...   \n",
       "45  This oatmeal is not good. Its mushy, soft, I d...   \n",
       "\n",
       "                                        ProcessedText  \n",
       "1   product arriv label jumbo salt peanut the pean...  \n",
       "11  cat have been happili eat felida platinum for ...  \n",
       "15  love eat them and they are good for watch and ...  \n",
       "25  the candi just red flavor just plan and chewi ...  \n",
       "45  this oatmeal not good it mushi soft dont like ...  "
      ]
     },
     "execution_count": 20,
     "metadata": {},
     "output_type": "execute_result"
    }
   ],
   "source": [
    "negativeReviews_5000.head()"
   ]
  },
  {
   "cell_type": "code",
   "execution_count": 21,
   "metadata": {
    "collapsed": true
   },
   "outputs": [],
   "source": [
    "frames_10000 = [positiveReviews_5000, negativeReviews_5000]"
   ]
  },
  {
   "cell_type": "code",
   "execution_count": 22,
   "metadata": {
    "collapsed": true
   },
   "outputs": [],
   "source": [
    "FinalPositiveNegative = pd.concat(frames_10000)"
   ]
  },
  {
   "cell_type": "code",
   "execution_count": 23,
   "metadata": {},
   "outputs": [
    {
     "data": {
      "text/plain": [
       "(10000, 12)"
      ]
     },
     "execution_count": 23,
     "metadata": {},
     "output_type": "execute_result"
    }
   ],
   "source": [
    "FinalPositiveNegative.shape"
   ]
  },
  {
   "cell_type": "code",
   "execution_count": 24,
   "metadata": {
    "collapsed": true
   },
   "outputs": [],
   "source": [
    "#Sorting FinalDataframe by \"Time\"\n",
    "FinalSortedPositiveNegative_10000 = FinalPositiveNegative.sort_values('Time', axis=0, ascending=True, inplace=False)"
   ]
  },
  {
   "cell_type": "code",
   "execution_count": 25,
   "metadata": {
    "collapsed": true
   },
   "outputs": [],
   "source": [
    "FinalSortedPositiveNegativeScore_10000 = FinalSortedPositiveNegative_10000[\"Score\"]"
   ]
  },
  {
   "cell_type": "code",
   "execution_count": 26,
   "metadata": {},
   "outputs": [
    {
     "data": {
      "text/plain": [
       "(10000, 12)"
      ]
     },
     "execution_count": 26,
     "metadata": {},
     "output_type": "execute_result"
    }
   ],
   "source": [
    "FinalSortedPositiveNegative_10000.shape"
   ]
  },
  {
   "cell_type": "code",
   "execution_count": 27,
   "metadata": {},
   "outputs": [
    {
     "data": {
      "text/plain": [
       "(10000,)"
      ]
     },
     "execution_count": 27,
     "metadata": {},
     "output_type": "execute_result"
    }
   ],
   "source": [
    "FinalSortedPositiveNegativeScore_10000.shape"
   ]
  },
  {
   "cell_type": "code",
   "execution_count": 28,
   "metadata": {
    "collapsed": true
   },
   "outputs": [],
   "source": [
    "Data = FinalSortedPositiveNegative_10000"
   ]
  },
  {
   "cell_type": "code",
   "execution_count": 29,
   "metadata": {
    "collapsed": true
   },
   "outputs": [],
   "source": [
    "Data_Labels = FinalSortedPositiveNegativeScore_10000"
   ]
  },
  {
   "cell_type": "code",
   "execution_count": 30,
   "metadata": {},
   "outputs": [
    {
     "name": "stdout",
     "output_type": "stream",
     "text": [
      "(10000, 12)\n",
      "(10000,)\n"
     ]
    }
   ],
   "source": [
    "print(Data.shape)\n",
    "print(Data_Labels.shape)"
   ]
  },
  {
   "cell_type": "code",
   "execution_count": 31,
   "metadata": {},
   "outputs": [
    {
     "data": {
      "text/html": [
       "<div>\n",
       "<style>\n",
       "    .dataframe thead tr:only-child th {\n",
       "        text-align: right;\n",
       "    }\n",
       "\n",
       "    .dataframe thead th {\n",
       "        text-align: left;\n",
       "    }\n",
       "\n",
       "    .dataframe tbody tr th {\n",
       "        vertical-align: top;\n",
       "    }\n",
       "</style>\n",
       "<table border=\"1\" class=\"dataframe\">\n",
       "  <thead>\n",
       "    <tr style=\"text-align: right;\">\n",
       "      <th></th>\n",
       "      <th>index</th>\n",
       "      <th>Id</th>\n",
       "      <th>ProductId</th>\n",
       "      <th>UserId</th>\n",
       "      <th>ProfileName</th>\n",
       "      <th>HelpfulnessNumerator</th>\n",
       "      <th>HelpfulnessDenominator</th>\n",
       "      <th>Score</th>\n",
       "      <th>Time</th>\n",
       "      <th>Summary</th>\n",
       "      <th>Text</th>\n",
       "      <th>ProcessedText</th>\n",
       "    </tr>\n",
       "  </thead>\n",
       "  <tbody>\n",
       "    <tr>\n",
       "      <th>772</th>\n",
       "      <td>1146</td>\n",
       "      <td>1245</td>\n",
       "      <td>B00002Z754</td>\n",
       "      <td>A29Z5PI9BW2PU3</td>\n",
       "      <td>Robbie</td>\n",
       "      <td>7</td>\n",
       "      <td>7</td>\n",
       "      <td>1</td>\n",
       "      <td>961718400</td>\n",
       "      <td>Great Product</td>\n",
       "      <td>This was a really good idea and the final prod...</td>\n",
       "      <td>this was realli good idea and the final produc...</td>\n",
       "    </tr>\n",
       "    <tr>\n",
       "      <th>771</th>\n",
       "      <td>1145</td>\n",
       "      <td>1244</td>\n",
       "      <td>B00002Z754</td>\n",
       "      <td>A3B8RCEI0FXFI6</td>\n",
       "      <td>B G Chase</td>\n",
       "      <td>10</td>\n",
       "      <td>10</td>\n",
       "      <td>1</td>\n",
       "      <td>962236800</td>\n",
       "      <td>WOW Make your own 'slickers' !</td>\n",
       "      <td>I just received my shipment and could hardly w...</td>\n",
       "      <td>just receiv shipment and could hard wait tri t...</td>\n",
       "    </tr>\n",
       "    <tr>\n",
       "      <th>5822</th>\n",
       "      <td>7427</td>\n",
       "      <td>8111</td>\n",
       "      <td>B0000EIE2Z</td>\n",
       "      <td>A3M174IC0VXOS2</td>\n",
       "      <td>Gail Cooke</td>\n",
       "      <td>3</td>\n",
       "      <td>3</td>\n",
       "      <td>1</td>\n",
       "      <td>1075420800</td>\n",
       "      <td>BEST BLUEBERRIES</td>\n",
       "      <td>In the winter when fresh blueberries exceed ou...</td>\n",
       "      <td>the winter when fresh blueberri exceed our foo...</td>\n",
       "    </tr>\n",
       "    <tr>\n",
       "      <th>2418</th>\n",
       "      <td>3481</td>\n",
       "      <td>3783</td>\n",
       "      <td>B00016UX0K</td>\n",
       "      <td>AF1PV3DIC0XM7</td>\n",
       "      <td>Robert Ashton</td>\n",
       "      <td>1</td>\n",
       "      <td>2</td>\n",
       "      <td>1</td>\n",
       "      <td>1081555200</td>\n",
       "      <td>Classic Condiment</td>\n",
       "      <td>Mae Ploy Sweet Chili Sauce is becoming a stand...</td>\n",
       "      <td>mae ploy sweet chili sauc becom standard condi...</td>\n",
       "    </tr>\n",
       "    <tr>\n",
       "      <th>5206</th>\n",
       "      <td>6790</td>\n",
       "      <td>7432</td>\n",
       "      <td>B0001E1IME</td>\n",
       "      <td>A2IKCTD1I73PLW</td>\n",
       "      <td>Adeba</td>\n",
       "      <td>2</td>\n",
       "      <td>8</td>\n",
       "      <td>1</td>\n",
       "      <td>1083456000</td>\n",
       "      <td>amazon monopoly/ripoff</td>\n",
       "      <td>love the snack.  wanted to buy a bunch.&lt;p&gt;ship...</td>\n",
       "      <td>love the snack want buy bunch ship amazon more...</td>\n",
       "    </tr>\n",
       "  </tbody>\n",
       "</table>\n",
       "</div>"
      ],
      "text/plain": [
       "      index    Id   ProductId          UserId    ProfileName  \\\n",
       "772    1146  1245  B00002Z754  A29Z5PI9BW2PU3         Robbie   \n",
       "771    1145  1244  B00002Z754  A3B8RCEI0FXFI6      B G Chase   \n",
       "5822   7427  8111  B0000EIE2Z  A3M174IC0VXOS2     Gail Cooke   \n",
       "2418   3481  3783  B00016UX0K   AF1PV3DIC0XM7  Robert Ashton   \n",
       "5206   6790  7432  B0001E1IME  A2IKCTD1I73PLW          Adeba   \n",
       "\n",
       "      HelpfulnessNumerator  HelpfulnessDenominator  Score        Time  \\\n",
       "772                      7                       7      1   961718400   \n",
       "771                     10                      10      1   962236800   \n",
       "5822                     3                       3      1  1075420800   \n",
       "2418                     1                       2      1  1081555200   \n",
       "5206                     2                       8      1  1083456000   \n",
       "\n",
       "                             Summary  \\\n",
       "772                    Great Product   \n",
       "771   WOW Make your own 'slickers' !   \n",
       "5822                BEST BLUEBERRIES   \n",
       "2418               Classic Condiment   \n",
       "5206          amazon monopoly/ripoff   \n",
       "\n",
       "                                                   Text  \\\n",
       "772   This was a really good idea and the final prod...   \n",
       "771   I just received my shipment and could hardly w...   \n",
       "5822  In the winter when fresh blueberries exceed ou...   \n",
       "2418  Mae Ploy Sweet Chili Sauce is becoming a stand...   \n",
       "5206  love the snack.  wanted to buy a bunch.<p>ship...   \n",
       "\n",
       "                                          ProcessedText  \n",
       "772   this was realli good idea and the final produc...  \n",
       "771   just receiv shipment and could hard wait tri t...  \n",
       "5822  the winter when fresh blueberri exceed our foo...  \n",
       "2418  mae ploy sweet chili sauc becom standard condi...  \n",
       "5206  love the snack want buy bunch ship amazon more...  "
      ]
     },
     "execution_count": 31,
     "metadata": {},
     "output_type": "execute_result"
    }
   ],
   "source": [
    "Data.head()"
   ]
  },
  {
   "cell_type": "markdown",
   "metadata": {},
   "source": [
    "## 1. Avg W2V"
   ]
  },
  {
   "cell_type": "code",
   "execution_count": 32,
   "metadata": {
    "collapsed": true
   },
   "outputs": [],
   "source": [
    "i = 0\n",
    "listOfSentences = []\n",
    "for sentence in Data[\"ProcessedText\"].values:\n",
    "    subSentence = []\n",
    "    for word in sentence.split():\n",
    "        subSentence.append(word)\n",
    "        \n",
    "    listOfSentences.append(subSentence)"
   ]
  },
  {
   "cell_type": "code",
   "execution_count": 33,
   "metadata": {},
   "outputs": [
    {
     "name": "stdout",
     "output_type": "stream",
     "text": [
      "this was realli good idea and the final product outstand use the decal car window and everybodi ask where bought the decal made two thumb\n",
      "\n",
      "\n",
      "[['this', 'was', 'realli', 'good', 'idea', 'and', 'the', 'final', 'product', 'outstand', 'use', 'the', 'decal', 'car', 'window', 'and', 'everybodi', 'ask', 'where', 'bought', 'the', 'decal', 'made', 'two', 'thumb'], ['just', 'receiv', 'shipment', 'and', 'could', 'hard', 'wait', 'tri', 'this', 'product', 'love', 'which', 'what', 'call', 'them', 'instead', 'sticker', 'becaus', 'they', 'can', 'remov', 'easili', 'daughter', 'design', 'sign', 'print', 'revers', 'use', 'her', 'car', 'window', 'they', 'print', 'beauti', 'have', 'the', 'print', 'shop', 'program', 'go', 'have', 'lot', 'fun', 'with', 'this', 'product', 'becaus', 'there', 'are', 'window', 'everywher', 'and', 'other', 'surfac', 'like', 'screen', 'and', 'comput', 'monitor']]\n",
      "\n",
      "\n",
      "<class 'list'>\n"
     ]
    }
   ],
   "source": [
    "print(Data['ProcessedText'].values[0])\n",
    "print(\"\\n\")\n",
    "print(listOfSentences[0:2])\n",
    "print(\"\\n\")\n",
    "print(type(listOfSentences))"
   ]
  },
  {
   "cell_type": "code",
   "execution_count": 34,
   "metadata": {
    "collapsed": true
   },
   "outputs": [],
   "source": [
    "w2vModel = gensim.models.Word2Vec(listOfSentences, size=300, min_count=5, workers=4)"
   ]
  },
  {
   "cell_type": "code",
   "execution_count": 35,
   "metadata": {},
   "outputs": [
    {
     "name": "stdout",
     "output_type": "stream",
     "text": [
      "<class 'list'>\n",
      "10000\n",
      "300\n"
     ]
    }
   ],
   "source": [
    "# compute average word2vec for each review.\n",
    "sentenceAsW2V = []\n",
    "for sentence in listOfSentences:\n",
    "    sentenceVector = np.zeros(300)\n",
    "    TotalWordsPerSentence = 0\n",
    "    for word in sentence:\n",
    "        try:\n",
    "            vect = w2vModel.wv[word]\n",
    "            sentenceVector += vect\n",
    "            TotalWordsPerSentence += 1\n",
    "        except:\n",
    "            pass\n",
    "    sentenceVector /= TotalWordsPerSentence\n",
    "    sentenceAsW2V.append(sentenceVector)\n",
    "\n",
    "print(type(sentenceAsW2V))\n",
    "print(len(sentenceAsW2V))\n",
    "print(len(sentenceAsW2V[0]))"
   ]
  },
  {
   "cell_type": "markdown",
   "metadata": {},
   "source": [
    "### Task 1. Split train and test data in a ratio of 80:20. "
   ]
  },
  {
   "cell_type": "code",
   "execution_count": 36,
   "metadata": {
    "collapsed": true
   },
   "outputs": [],
   "source": [
    "train_AvgW2V, test_AvgW2V, train_labels_AvgW2V, test_labels_AvgW2V = train_test_split(sentenceAsW2V, Data_Labels, test_size = 0.2)"
   ]
  },
  {
   "cell_type": "code",
   "execution_count": 37,
   "metadata": {},
   "outputs": [
    {
     "data": {
      "text/plain": [
       "(8000, 2000, 8000, 2000)"
      ]
     },
     "execution_count": 37,
     "metadata": {},
     "output_type": "execute_result"
    }
   ],
   "source": [
    "len(train_AvgW2V), len(test_AvgW2V), len(train_labels_AvgW2V), len(test_labels_AvgW2V)"
   ]
  },
  {
   "cell_type": "markdown",
   "metadata": {},
   "source": [
    "### Task 2. Perform GridSearch Cross Validation to find optimal depth of decision tree."
   ]
  },
  {
   "cell_type": "code",
   "execution_count": 38,
   "metadata": {},
   "outputs": [
    {
     "name": "stdout",
     "output_type": "stream",
     "text": [
      "DecisionTreeClassifier(class_weight=None, criterion='gini', max_depth=5,\n",
      "            max_features=None, max_leaf_nodes=None,\n",
      "            min_impurity_decrease=0.0, min_impurity_split=None,\n",
      "            min_samples_leaf=4, min_samples_split=4,\n",
      "            min_weight_fraction_leaf=0.0, presort=False, random_state=None,\n",
      "            splitter='best')\n"
     ]
    }
   ],
   "source": [
    "clf = DecisionTreeClassifier(min_samples_split = 4, min_samples_leaf = 4)\n",
    "    \n",
    "hyper_parameters = {'max_depth': [1, 2, 3, 4, 5, 6, 7, 8, 9, 11, 13, 15, 17]}\n",
    "bestCV = GridSearchCV(clf, hyper_parameters, scoring = \"accuracy\", cv = 3)\n",
    "bestCV.fit(train_AvgW2V, train_labels_AvgW2V)\n",
    "    \n",
    "print(bestCV.best_estimator_)"
   ]
  },
  {
   "cell_type": "code",
   "execution_count": 39,
   "metadata": {},
   "outputs": [
    {
     "data": {
      "text/plain": [
       "5"
      ]
     },
     "execution_count": 39,
     "metadata": {},
     "output_type": "execute_result"
    }
   ],
   "source": [
    "best_parameter = bestCV.best_params_ \n",
    "best_parameter[\"max_depth\"]"
   ]
  },
  {
   "cell_type": "code",
   "execution_count": 40,
   "metadata": {},
   "outputs": [
    {
     "data": {
      "text/plain": [
       "[mean: 0.70037, std: 0.01147, params: {'max_depth': 1},\n",
       " mean: 0.70950, std: 0.00853, params: {'max_depth': 2},\n",
       " mean: 0.72288, std: 0.01223, params: {'max_depth': 3},\n",
       " mean: 0.73275, std: 0.00629, params: {'max_depth': 4},\n",
       " mean: 0.73550, std: 0.00935, params: {'max_depth': 5},\n",
       " mean: 0.73088, std: 0.00579, params: {'max_depth': 6},\n",
       " mean: 0.71837, std: 0.00401, params: {'max_depth': 7},\n",
       " mean: 0.70862, std: 0.00808, params: {'max_depth': 8},\n",
       " mean: 0.70937, std: 0.00697, params: {'max_depth': 9},\n",
       " mean: 0.69737, std: 0.00369, params: {'max_depth': 11},\n",
       " mean: 0.68937, std: 0.00570, params: {'max_depth': 13},\n",
       " mean: 0.69475, std: 0.00222, params: {'max_depth': 15},\n",
       " mean: 0.69025, std: 0.00659, params: {'max_depth': 17}]"
      ]
     },
     "execution_count": 40,
     "metadata": {},
     "output_type": "execute_result"
    }
   ],
   "source": [
    "scoreData = bestCV.grid_scores_\n",
    "scoreData"
   ]
  },
  {
   "cell_type": "code",
   "execution_count": 41,
   "metadata": {},
   "outputs": [
    {
     "data": {
      "image/png": "[encoded data removed]",
      "text/plain": [
       "<matplotlib.figure.Figure at 0x36d5466358>"
      ]
     },
     "metadata": {},
     "output_type": "display_data"
    }
   ],
   "source": [
    "error = []\n",
    "parameter = []\n",
    "for i in range(len(scoreData)):\n",
    "    error.append(1 - scoreData[i][1])\n",
    "    parameter.append(scoreData[i][0][\"max_depth\"])\n",
    "    \n",
    "plt.plot(parameter, np.round(error, 4))\n",
    "plt.ylim(ymin=0.2) \n",
    "plt.ylim(ymax=0.4)\n",
    "plt.xlabel(\"Maximum Depth\", fontsize=16)\n",
    "plt.ylabel(\"Error\", fontsize=16)\n",
    "\n",
    "error1 = []\n",
    "for e in error:\n",
    "    error1.append(np.round(e,3))\n",
    "    \n",
    "parameter1 = []\n",
    "for p in parameter:\n",
    "    parameter1.append(np.round(p,3))\n",
    "\n",
    "for xy in zip(parameter1, error1):\n",
    "    plt.annotate(xy,xy)\n",
    "\n",
    "plt.show()"
   ]
  },
  {
   "cell_type": "markdown",
   "metadata": {},
   "source": [
    "### Task 3. Apply DecisionTreeClassifier and report accuracy. Also check for train error."
   ]
  },
  {
   "cell_type": "code",
   "execution_count": 42,
   "metadata": {},
   "outputs": [
    {
     "name": "stdout",
     "output_type": "stream",
     "text": [
      "Accuracy score of decision tree = 73.2%\n"
     ]
    }
   ],
   "source": [
    "clf_AvgW2V = DecisionTreeClassifier(max_depth = best_parameter[\"max_depth\"], min_samples_split = 4, min_samples_leaf = 4)\n",
    "\n",
    "clf_AvgW2V = clf_AvgW2V.fit(train_AvgW2V, train_labels_AvgW2V)\n",
    "\n",
    "prediction_AvgW2V = clf_AvgW2V.predict(test_AvgW2V)\n",
    "\n",
    "AccuracyScore_AvgW2V = accuracy_score(test_labels_AvgW2V, prediction_AvgW2V) * 100\n",
    "\n",
    "print(\"Accuracy score of decision tree = \"+str(AccuracyScore_AvgW2V)+\"%\")"
   ]
  },
  {
   "cell_type": "code",
   "execution_count": 43,
   "metadata": {},
   "outputs": [
    {
     "name": "stdout",
     "output_type": "stream",
     "text": [
      "Train error of decision tree = 0.21987500000000004\n"
     ]
    }
   ],
   "source": [
    "model_AvgW2V_tr = DecisionTreeClassifier(max_depth = best_parameter[\"max_depth\"], min_samples_split = 4, min_samples_leaf = 4)\n",
    "\n",
    "model_AvgW2V_tr.fit(train_AvgW2V, train_labels_AvgW2V)\n",
    "\n",
    "prediction_AvgW2V_tr = model_AvgW2V_tr.predict(train_AvgW2V)\n",
    "\n",
    "AccuracyScore_AvgW2V_tr = accuracy_score(train_labels_AvgW2V, prediction_AvgW2V_tr)\n",
    "\n",
    "print(\"Train error of decision tree = \"+str(1- AccuracyScore_AvgW2V_tr))"
   ]
  },
  {
   "cell_type": "code",
   "execution_count": 44,
   "metadata": {},
   "outputs": [
    {
     "name": "stdout",
     "output_type": "stream",
     "text": [
      "Confusion Matrix on L2 regularization  \n",
      "[[727 250]\n",
      " [286 737]]\n"
     ]
    }
   ],
   "source": [
    "Confusion_Matrix = confusion_matrix(test_labels_AvgW2V, prediction_AvgW2V)\n",
    "print(\"Confusion Matrix on L2 regularization  \\n\"+str(Confusion_Matrix))"
   ]
  },
  {
   "cell_type": "code",
   "execution_count": 45,
   "metadata": {},
   "outputs": [
    {
     "data": {
      "text/plain": [
       "(727, 250, 286, 737)"
      ]
     },
     "execution_count": 45,
     "metadata": {},
     "output_type": "execute_result"
    }
   ],
   "source": [
    "tn, fp, fn, tp = confusion_matrix(test_labels_AvgW2V, prediction_AvgW2V).ravel()\n",
    "tn, fp, fn, tp"
   ]
  },
  {
   "cell_type": "markdown",
   "metadata": {},
   "source": [
    "### Task 4. Plot decision tree using graphviz."
   ]
  },
  {
   "cell_type": "code",
   "execution_count": 65,
   "metadata": {},
   "outputs": [
    {
     "data": {
      "text/plain": [
       "'AvgW2V_DecisionTree_Graph.pdf'"
      ]
     },
     "execution_count": 65,
     "metadata": {},
     "output_type": "execute_result"
    }
   ],
   "source": [
    "dot_data = tree.export_graphviz(clf_AvgW2V, out_file=None, filled=True, rounded=True, special_characters=True) \n",
    "graph = graphviz.Source(dot_data) \n",
    "graph.render(\"AvgW2V_DecisionTree_Graph\") "
   ]
  },
  {
   "cell_type": "markdown",
   "metadata": {},
   "source": [
    "## 2. Average TFIDF-W2V."
   ]
  },
  {
   "cell_type": "code",
   "execution_count": 49,
   "metadata": {
    "collapsed": true
   },
   "outputs": [],
   "source": [
    "tfidf_vect = TfidfVectorizer(ngram_range = (1,2))\n",
    "tfidf = tfidf_vect.fit_transform(Data[\"ProcessedText\"].values)"
   ]
  },
  {
   "cell_type": "code",
   "execution_count": 50,
   "metadata": {
    "collapsed": true
   },
   "outputs": [],
   "source": [
    "w2v_Model = gensim.models.Word2Vec(listOfSentences, size=300, min_count=5, workers=4)"
   ]
  },
  {
   "cell_type": "code",
   "execution_count": 51,
   "metadata": {},
   "outputs": [
    {
     "name": "stdout",
     "output_type": "stream",
     "text": [
      "(10000, 237703)\n",
      "<class 'scipy.sparse.csr.csr_matrix'>\n"
     ]
    }
   ],
   "source": [
    "print(tfidf.shape)\n",
    "print(type(tfidf))"
   ]
  },
  {
   "cell_type": "code",
   "execution_count": 52,
   "metadata": {
    "collapsed": true
   },
   "outputs": [],
   "source": [
    "# TF-IDF weighted Word2Vec\n",
    "tfidf_features = tfidf_vect.get_feature_names()\n",
    "\n",
    "tfidf_w2v = []\n",
    "reviews = 0\n",
    "\n",
    "for sentence in listOfSentences:\n",
    "    sentenceVector = np.zeros(300)\n",
    "    weightTfidfSum = 0\n",
    "    for word in sentence:\n",
    "        try:\n",
    "            W2V_Vector = w2v_Model.wv[word]\n",
    "            tfidfVector = tfidf[reviews, tfidf_features.index(word)]\n",
    "            sentenceVector += (W2V_Vector * tfidfVector)\n",
    "            weightTfidfSum += tfidfVector\n",
    "        except:\n",
    "            pass\n",
    "    sentenceVector /= weightTfidfSum\n",
    "    tfidf_w2v.append(sentenceVector)\n",
    "    reviews += 1"
   ]
  },
  {
   "cell_type": "markdown",
   "metadata": {},
   "source": [
    "### Task 1. Split train and test data in a ratio of 80:20"
   ]
  },
  {
   "cell_type": "code",
   "execution_count": 53,
   "metadata": {
    "collapsed": true
   },
   "outputs": [],
   "source": [
    "train_tfidf_w2v, test_tfidf_w2v, train_labels_tfidf_w2v, test_labels_tfidf_w2v = train_test_split(tfidf_w2v, Data_Labels, test_size = 0.2)"
   ]
  },
  {
   "cell_type": "code",
   "execution_count": 54,
   "metadata": {},
   "outputs": [
    {
     "data": {
      "text/plain": [
       "(8000, 2000, 8000, 2000)"
      ]
     },
     "execution_count": 54,
     "metadata": {},
     "output_type": "execute_result"
    }
   ],
   "source": [
    "len(train_tfidf_w2v), len(test_tfidf_w2v), len(train_labels_tfidf_w2v), len(test_labels_tfidf_w2v)"
   ]
  },
  {
   "cell_type": "markdown",
   "metadata": {},
   "source": [
    "### Task 2. Perform GridSearch Cross Validation to find optimal depth of decision tree."
   ]
  },
  {
   "cell_type": "code",
   "execution_count": 56,
   "metadata": {},
   "outputs": [
    {
     "name": "stdout",
     "output_type": "stream",
     "text": [
      "DecisionTreeClassifier(class_weight=None, criterion='gini', max_depth=5,\n",
      "            max_features=None, max_leaf_nodes=None,\n",
      "            min_impurity_decrease=0.0, min_impurity_split=None,\n",
      "            min_samples_leaf=4, min_samples_split=4,\n",
      "            min_weight_fraction_leaf=0.0, presort=False, random_state=None,\n",
      "            splitter='best')\n"
     ]
    }
   ],
   "source": [
    "clf = DecisionTreeClassifier(min_samples_split = 4, min_samples_leaf = 4)\n",
    "    \n",
    "hyper_parameters = {'max_depth': [1, 2, 3, 4, 5, 6, 7, 8, 9, 11, 13, 15, 17]}\n",
    "bestCV = GridSearchCV(clf, hyper_parameters, scoring = \"accuracy\", cv = 3)\n",
    "bestCV.fit(train_tfidf_w2v, train_labels_tfidf_w2v)\n",
    "    \n",
    "print(bestCV.best_estimator_)"
   ]
  },
  {
   "cell_type": "code",
   "execution_count": 57,
   "metadata": {},
   "outputs": [
    {
     "data": {
      "text/plain": [
       "5"
      ]
     },
     "execution_count": 57,
     "metadata": {},
     "output_type": "execute_result"
    }
   ],
   "source": [
    "best_parameter = bestCV.best_params_ \n",
    "best_parameter[\"max_depth\"]"
   ]
  },
  {
   "cell_type": "code",
   "execution_count": 58,
   "metadata": {},
   "outputs": [
    {
     "data": {
      "text/plain": [
       "[mean: 0.67325, std: 0.00715, params: {'max_depth': 1},\n",
       " mean: 0.67550, std: 0.00439, params: {'max_depth': 2},\n",
       " mean: 0.68537, std: 0.00670, params: {'max_depth': 3},\n",
       " mean: 0.69650, std: 0.00656, params: {'max_depth': 4},\n",
       " mean: 0.70037, std: 0.00464, params: {'max_depth': 5},\n",
       " mean: 0.69763, std: 0.00508, params: {'max_depth': 6},\n",
       " mean: 0.69675, std: 0.00997, params: {'max_depth': 7},\n",
       " mean: 0.68137, std: 0.00942, params: {'max_depth': 8},\n",
       " mean: 0.67312, std: 0.01638, params: {'max_depth': 9},\n",
       " mean: 0.67050, std: 0.01209, params: {'max_depth': 11},\n",
       " mean: 0.66825, std: 0.01034, params: {'max_depth': 13},\n",
       " mean: 0.66212, std: 0.01194, params: {'max_depth': 15},\n",
       " mean: 0.66325, std: 0.00999, params: {'max_depth': 17}]"
      ]
     },
     "execution_count": 58,
     "metadata": {},
     "output_type": "execute_result"
    }
   ],
   "source": [
    "scoreData = bestCV.grid_scores_\n",
    "scoreData"
   ]
  },
  {
   "cell_type": "code",
   "execution_count": 59,
   "metadata": {},
   "outputs": [
    {
     "data": {
      "image/png": "[encoded data removed]",
      "text/plain": [
       "<matplotlib.figure.Figure at 0x36dea65780>"
      ]
     },
     "metadata": {},
     "output_type": "display_data"
    }
   ],
   "source": [
    "error = []\n",
    "parameter = []\n",
    "for i in range(len(scoreData)):\n",
    "    error.append(1 - scoreData[i][1])\n",
    "    parameter.append(scoreData[i][0][\"max_depth\"])\n",
    "    \n",
    "plt.plot(parameter, np.round(error, 4))\n",
    "plt.ylim(ymin=0.2) \n",
    "plt.ylim(ymax=0.4)\n",
    "plt.xlabel(\"Maximum Depth\", fontsize=16)\n",
    "plt.ylabel(\"Error\", fontsize=16)\n",
    "\n",
    "error1 = []\n",
    "for e in error:\n",
    "    error1.append(np.round(e,3))\n",
    "    \n",
    "parameter1 = []\n",
    "for p in parameter:\n",
    "    parameter1.append(np.round(p,3))\n",
    "\n",
    "for xy in zip(parameter1, error1):\n",
    "    plt.annotate(xy,xy)\n",
    "\n",
    "plt.show()"
   ]
  },
  {
   "cell_type": "markdown",
   "metadata": {},
   "source": [
    "### Task 3. Apply DecisionTreeClassifier and report accuracy. Also check for train error"
   ]
  },
  {
   "cell_type": "code",
   "execution_count": 60,
   "metadata": {},
   "outputs": [
    {
     "name": "stdout",
     "output_type": "stream",
     "text": [
      "Accuracy score of decision tree = 70.85000000000001%\n"
     ]
    }
   ],
   "source": [
    "clf_TFIDF_W2V = DecisionTreeClassifier(max_depth = best_parameter[\"max_depth\"], min_samples_split = 4, min_samples_leaf = 4)\n",
    "\n",
    "clf_TFIDF_W2V = clf_TFIDF_W2V.fit(train_tfidf_w2v, train_labels_tfidf_w2v)\n",
    "\n",
    "prediction_TFIDF_W2V = clf_TFIDF_W2V.predict(test_tfidf_w2v)\n",
    "\n",
    "AccuracyScore_TFIDF_W2V = accuracy_score(test_labels_tfidf_w2v, prediction_TFIDF_W2V) * 100\n",
    "\n",
    "print(\"Accuracy score of decision tree = \"+str(AccuracyScore_TFIDF_W2V)+\"%\")"
   ]
  },
  {
   "cell_type": "code",
   "execution_count": 96,
   "metadata": {},
   "outputs": [
    {
     "name": "stdout",
     "output_type": "stream",
     "text": [
      "Train error of decision tree = 0.25712500000000005\n"
     ]
    }
   ],
   "source": [
    "clf_TFIDF_W2V_tr = DecisionTreeClassifier(max_depth = best_parameter[\"max_depth\"], min_samples_split = 4, min_samples_leaf = 4)\n",
    "\n",
    "clf_TFIDF_W2V_tr = clf_TFIDF_W2V_tr.fit(train_tfidf_w2v, train_labels_tfidf_w2v)\n",
    "\n",
    "prediction_TFIDF_W2V_tr = clf_TFIDF_W2V_tr.predict(train_tfidf_w2v)\n",
    "\n",
    "AccuracyScore_TFIDF_W2V_tr = accuracy_score(train_labels_tfidf_w2v, prediction_TFIDF_W2V_tr)\n",
    "\n",
    "print(\"Train error of decision tree = \"+str(1- AccuracyScore_TFIDF_W2V_tr))"
   ]
  },
  {
   "cell_type": "code",
   "execution_count": 62,
   "metadata": {},
   "outputs": [
    {
     "name": "stdout",
     "output_type": "stream",
     "text": [
      "Confusion Matrix on L2 regularization  \n",
      "[[717 300]\n",
      " [283 700]]\n"
     ]
    }
   ],
   "source": [
    "Confusion_Matrix = confusion_matrix(test_labels_tfidf_w2v, prediction_TFIDF_W2V)\n",
    "print(\"Confusion Matrix on L2 regularization  \\n\"+str(Confusion_Matrix))"
   ]
  },
  {
   "cell_type": "code",
   "execution_count": 63,
   "metadata": {},
   "outputs": [
    {
     "data": {
      "text/plain": [
       "(727, 250, 286, 737)"
      ]
     },
     "execution_count": 63,
     "metadata": {},
     "output_type": "execute_result"
    }
   ],
   "source": [
    "tn, fp, fn, tp = confusion_matrix(test_labels_AvgW2V, prediction_AvgW2V).ravel()\n",
    "tn, fp, fn, tp"
   ]
  },
  {
   "cell_type": "markdown",
   "metadata": {},
   "source": [
    "### Task 4. Plot decision tree using graphviz."
   ]
  },
  {
   "cell_type": "code",
   "execution_count": 64,
   "metadata": {},
   "outputs": [
    {
     "data": {
      "text/plain": [
       "'TFIDF_W2V_DecisionTree_Graph.pdf'"
      ]
     },
     "execution_count": 64,
     "metadata": {},
     "output_type": "execute_result"
    }
   ],
   "source": [
    "dot_data = tree.export_graphviz(clf_TFIDF_W2V, out_file=None, filled=True, rounded=True, special_characters=True) \n",
    "graph = graphviz.Source(dot_data) \n",
    "graph.render(\"TFIDF_W2V_DecisionTree_Graph\") "
   ]
  },
  {
   "cell_type": "markdown",
   "metadata": {},
   "source": [
    "## 3. GLoVe"
   ]
  },
  {
   "cell_type": "code",
   "execution_count": 32,
   "metadata": {
    "collapsed": true
   },
   "outputs": [],
   "source": [
    "def cleanhtml(sentence): #function to clean htmltags\n",
    "    cleanr = re.compile(\"<.*?>\")\n",
    "    cleantext = re.sub(cleanr, \" \", sentence)\n",
    "    return cleantext\n",
    "\n",
    "def cleanpunc(sentence): #function to clean the word of any punctuation or special characters\n",
    "    cleaned = re.sub(r'[?|!|\\'|\"|#]',r'',sentence)\n",
    "    cleaned = re.sub(r'[.|,|)|(|\\|/]',r' ',cleaned)\n",
    "    return  cleaned"
   ]
  },
  {
   "cell_type": "code",
   "execution_count": 33,
   "metadata": {
    "collapsed": true
   },
   "outputs": [],
   "source": [
    "#removing HTML tags and punctuation from our text\n",
    "\n",
    "i = 0\n",
    "final_string = []\n",
    "s = \"\"\n",
    "for sentence in data[\"Text\"].values:\n",
    "    filteredSentence = []\n",
    "    EachReviewText = \"\"\n",
    "    sentenceHTMLCleaned = cleanhtml(sentence)\n",
    "    for eachWord in sentenceHTMLCleaned.split():\n",
    "        for sentencePunctCleaned in cleanpunc(eachWord).split():\n",
    "            if((sentencePunctCleaned.isalpha()) & (len(sentencePunctCleaned)>2)):\n",
    "                sentenceLower = sentencePunctCleaned.lower()\n",
    "                filteredSentence.append(sentenceLower)\n",
    "                     \n",
    "    EachReviewText = ' '.join(filteredSentence)\n",
    "    final_string.append(EachReviewText)"
   ]
  },
  {
   "cell_type": "code",
   "execution_count": 34,
   "metadata": {
    "collapsed": true
   },
   "outputs": [],
   "source": [
    "data[\"ProcessedText2\"] = final_string"
   ]
  },
  {
   "cell_type": "code",
   "execution_count": 35,
   "metadata": {},
   "outputs": [
    {
     "data": {
      "text/html": [
       "<div>\n",
       "<style>\n",
       "    .dataframe thead tr:only-child th {\n",
       "        text-align: right;\n",
       "    }\n",
       "\n",
       "    .dataframe thead th {\n",
       "        text-align: left;\n",
       "    }\n",
       "\n",
       "    .dataframe tbody tr th {\n",
       "        vertical-align: top;\n",
       "    }\n",
       "</style>\n",
       "<table border=\"1\" class=\"dataframe\">\n",
       "  <thead>\n",
       "    <tr style=\"text-align: right;\">\n",
       "      <th></th>\n",
       "      <th>index</th>\n",
       "      <th>Id</th>\n",
       "      <th>ProductId</th>\n",
       "      <th>UserId</th>\n",
       "      <th>ProfileName</th>\n",
       "      <th>HelpfulnessNumerator</th>\n",
       "      <th>HelpfulnessDenominator</th>\n",
       "      <th>Score</th>\n",
       "      <th>Time</th>\n",
       "      <th>Summary</th>\n",
       "      <th>Text</th>\n",
       "      <th>ProcessedText</th>\n",
       "      <th>ProcessedText2</th>\n",
       "    </tr>\n",
       "  </thead>\n",
       "  <tbody>\n",
       "    <tr>\n",
       "      <th>0</th>\n",
       "      <td>0</td>\n",
       "      <td>1</td>\n",
       "      <td>B001E4KFG0</td>\n",
       "      <td>A3SGXH7AUHU8GW</td>\n",
       "      <td>delmartian</td>\n",
       "      <td>1</td>\n",
       "      <td>1</td>\n",
       "      <td>1</td>\n",
       "      <td>1303862400</td>\n",
       "      <td>Good Quality Dog Food</td>\n",
       "      <td>I have bought several of the Vitality canned d...</td>\n",
       "      <td>have bought sever the vital can dog food produ...</td>\n",
       "      <td>have bought several the vitality canned dog fo...</td>\n",
       "    </tr>\n",
       "    <tr>\n",
       "      <th>1</th>\n",
       "      <td>1</td>\n",
       "      <td>2</td>\n",
       "      <td>B00813GRG4</td>\n",
       "      <td>A1D87F6ZCVE5NK</td>\n",
       "      <td>dll pa</td>\n",
       "      <td>0</td>\n",
       "      <td>0</td>\n",
       "      <td>0</td>\n",
       "      <td>1346976000</td>\n",
       "      <td>Not as Advertised</td>\n",
       "      <td>Product arrived labeled as Jumbo Salted Peanut...</td>\n",
       "      <td>product arriv label jumbo salt peanut the pean...</td>\n",
       "      <td>product arrived labeled jumbo salted peanuts t...</td>\n",
       "    </tr>\n",
       "    <tr>\n",
       "      <th>2</th>\n",
       "      <td>2</td>\n",
       "      <td>3</td>\n",
       "      <td>B000LQOCH0</td>\n",
       "      <td>ABXLMWJIXXAIN</td>\n",
       "      <td>Natalia Corres \"Natalia Corres\"</td>\n",
       "      <td>1</td>\n",
       "      <td>1</td>\n",
       "      <td>1</td>\n",
       "      <td>1219017600</td>\n",
       "      <td>\"Delight\" says it all</td>\n",
       "      <td>This is a confection that has been around a fe...</td>\n",
       "      <td>this confect that has been around few centuri ...</td>\n",
       "      <td>this confection that has been around few centu...</td>\n",
       "    </tr>\n",
       "    <tr>\n",
       "      <th>3</th>\n",
       "      <td>4</td>\n",
       "      <td>5</td>\n",
       "      <td>B006K2ZZ7K</td>\n",
       "      <td>A1UQRSCLF8GW1T</td>\n",
       "      <td>Michael D. Bigham \"M. Wassir\"</td>\n",
       "      <td>0</td>\n",
       "      <td>0</td>\n",
       "      <td>1</td>\n",
       "      <td>1350777600</td>\n",
       "      <td>Great taffy</td>\n",
       "      <td>Great taffy at a great price.  There was a wid...</td>\n",
       "      <td>great taffi great price there was wide assort ...</td>\n",
       "      <td>great taffy great price there was wide assortm...</td>\n",
       "    </tr>\n",
       "    <tr>\n",
       "      <th>4</th>\n",
       "      <td>5</td>\n",
       "      <td>6</td>\n",
       "      <td>B006K2ZZ7K</td>\n",
       "      <td>ADT0SRK1MGOEU</td>\n",
       "      <td>Twoapennything</td>\n",
       "      <td>0</td>\n",
       "      <td>0</td>\n",
       "      <td>1</td>\n",
       "      <td>1342051200</td>\n",
       "      <td>Nice Taffy</td>\n",
       "      <td>I got a wild hair for taffy and ordered this f...</td>\n",
       "      <td>got wild hair for taffi and order this five po...</td>\n",
       "      <td>got wild hair for taffy and ordered this five ...</td>\n",
       "    </tr>\n",
       "  </tbody>\n",
       "</table>\n",
       "</div>"
      ],
      "text/plain": [
       "   index  Id   ProductId          UserId                      ProfileName  \\\n",
       "0      0   1  B001E4KFG0  A3SGXH7AUHU8GW                       delmartian   \n",
       "1      1   2  B00813GRG4  A1D87F6ZCVE5NK                           dll pa   \n",
       "2      2   3  B000LQOCH0   ABXLMWJIXXAIN  Natalia Corres \"Natalia Corres\"   \n",
       "3      4   5  B006K2ZZ7K  A1UQRSCLF8GW1T    Michael D. Bigham \"M. Wassir\"   \n",
       "4      5   6  B006K2ZZ7K   ADT0SRK1MGOEU                   Twoapennything   \n",
       "\n",
       "   HelpfulnessNumerator  HelpfulnessDenominator  Score        Time  \\\n",
       "0                     1                       1      1  1303862400   \n",
       "1                     0                       0      0  1346976000   \n",
       "2                     1                       1      1  1219017600   \n",
       "3                     0                       0      1  1350777600   \n",
       "4                     0                       0      1  1342051200   \n",
       "\n",
       "                 Summary                                               Text  \\\n",
       "0  Good Quality Dog Food  I have bought several of the Vitality canned d...   \n",
       "1      Not as Advertised  Product arrived labeled as Jumbo Salted Peanut...   \n",
       "2  \"Delight\" says it all  This is a confection that has been around a fe...   \n",
       "3            Great taffy  Great taffy at a great price.  There was a wid...   \n",
       "4             Nice Taffy  I got a wild hair for taffy and ordered this f...   \n",
       "\n",
       "                                       ProcessedText  \\\n",
       "0  have bought sever the vital can dog food produ...   \n",
       "1  product arriv label jumbo salt peanut the pean...   \n",
       "2  this confect that has been around few centuri ...   \n",
       "3  great taffi great price there was wide assort ...   \n",
       "4  got wild hair for taffi and order this five po...   \n",
       "\n",
       "                                      ProcessedText2  \n",
       "0  have bought several the vitality canned dog fo...  \n",
       "1  product arrived labeled jumbo salted peanuts t...  \n",
       "2  this confection that has been around few centu...  \n",
       "3  great taffy great price there was wide assortm...  \n",
       "4  got wild hair for taffy and ordered this five ...  "
      ]
     },
     "execution_count": 35,
     "metadata": {},
     "output_type": "execute_result"
    }
   ],
   "source": [
    "data.head()"
   ]
  },
  {
   "cell_type": "code",
   "execution_count": 36,
   "metadata": {
    "collapsed": true
   },
   "outputs": [],
   "source": [
    "allPositiveReviews2 = data[(data[\"Score\"] == 1)]"
   ]
  },
  {
   "cell_type": "code",
   "execution_count": 37,
   "metadata": {},
   "outputs": [
    {
     "data": {
      "text/plain": [
       "(307061, 13)"
      ]
     },
     "execution_count": 37,
     "metadata": {},
     "output_type": "execute_result"
    }
   ],
   "source": [
    "allPositiveReviews2.shape"
   ]
  },
  {
   "cell_type": "code",
   "execution_count": 38,
   "metadata": {
    "collapsed": true
   },
   "outputs": [],
   "source": [
    "positiveReviews2_500 = allPositiveReviews2[:500]"
   ]
  },
  {
   "cell_type": "code",
   "execution_count": 39,
   "metadata": {},
   "outputs": [
    {
     "data": {
      "text/plain": [
       "(500, 13)"
      ]
     },
     "execution_count": 39,
     "metadata": {},
     "output_type": "execute_result"
    }
   ],
   "source": [
    "positiveReviews2_500.shape"
   ]
  },
  {
   "cell_type": "code",
   "execution_count": 40,
   "metadata": {},
   "outputs": [
    {
     "data": {
      "text/html": [
       "<div>\n",
       "<style>\n",
       "    .dataframe thead tr:only-child th {\n",
       "        text-align: right;\n",
       "    }\n",
       "\n",
       "    .dataframe thead th {\n",
       "        text-align: left;\n",
       "    }\n",
       "\n",
       "    .dataframe tbody tr th {\n",
       "        vertical-align: top;\n",
       "    }\n",
       "</style>\n",
       "<table border=\"1\" class=\"dataframe\">\n",
       "  <thead>\n",
       "    <tr style=\"text-align: right;\">\n",
       "      <th></th>\n",
       "      <th>index</th>\n",
       "      <th>Id</th>\n",
       "      <th>ProductId</th>\n",
       "      <th>UserId</th>\n",
       "      <th>ProfileName</th>\n",
       "      <th>HelpfulnessNumerator</th>\n",
       "      <th>HelpfulnessDenominator</th>\n",
       "      <th>Score</th>\n",
       "      <th>Time</th>\n",
       "      <th>Summary</th>\n",
       "      <th>Text</th>\n",
       "      <th>ProcessedText</th>\n",
       "      <th>ProcessedText2</th>\n",
       "    </tr>\n",
       "  </thead>\n",
       "  <tbody>\n",
       "    <tr>\n",
       "      <th>0</th>\n",
       "      <td>0</td>\n",
       "      <td>1</td>\n",
       "      <td>B001E4KFG0</td>\n",
       "      <td>A3SGXH7AUHU8GW</td>\n",
       "      <td>delmartian</td>\n",
       "      <td>1</td>\n",
       "      <td>1</td>\n",
       "      <td>1</td>\n",
       "      <td>1303862400</td>\n",
       "      <td>Good Quality Dog Food</td>\n",
       "      <td>I have bought several of the Vitality canned d...</td>\n",
       "      <td>have bought sever the vital can dog food produ...</td>\n",
       "      <td>have bought several the vitality canned dog fo...</td>\n",
       "    </tr>\n",
       "    <tr>\n",
       "      <th>2</th>\n",
       "      <td>2</td>\n",
       "      <td>3</td>\n",
       "      <td>B000LQOCH0</td>\n",
       "      <td>ABXLMWJIXXAIN</td>\n",
       "      <td>Natalia Corres \"Natalia Corres\"</td>\n",
       "      <td>1</td>\n",
       "      <td>1</td>\n",
       "      <td>1</td>\n",
       "      <td>1219017600</td>\n",
       "      <td>\"Delight\" says it all</td>\n",
       "      <td>This is a confection that has been around a fe...</td>\n",
       "      <td>this confect that has been around few centuri ...</td>\n",
       "      <td>this confection that has been around few centu...</td>\n",
       "    </tr>\n",
       "    <tr>\n",
       "      <th>3</th>\n",
       "      <td>4</td>\n",
       "      <td>5</td>\n",
       "      <td>B006K2ZZ7K</td>\n",
       "      <td>A1UQRSCLF8GW1T</td>\n",
       "      <td>Michael D. Bigham \"M. Wassir\"</td>\n",
       "      <td>0</td>\n",
       "      <td>0</td>\n",
       "      <td>1</td>\n",
       "      <td>1350777600</td>\n",
       "      <td>Great taffy</td>\n",
       "      <td>Great taffy at a great price.  There was a wid...</td>\n",
       "      <td>great taffi great price there was wide assort ...</td>\n",
       "      <td>great taffy great price there was wide assortm...</td>\n",
       "    </tr>\n",
       "    <tr>\n",
       "      <th>4</th>\n",
       "      <td>5</td>\n",
       "      <td>6</td>\n",
       "      <td>B006K2ZZ7K</td>\n",
       "      <td>ADT0SRK1MGOEU</td>\n",
       "      <td>Twoapennything</td>\n",
       "      <td>0</td>\n",
       "      <td>0</td>\n",
       "      <td>1</td>\n",
       "      <td>1342051200</td>\n",
       "      <td>Nice Taffy</td>\n",
       "      <td>I got a wild hair for taffy and ordered this f...</td>\n",
       "      <td>got wild hair for taffi and order this five po...</td>\n",
       "      <td>got wild hair for taffy and ordered this five ...</td>\n",
       "    </tr>\n",
       "    <tr>\n",
       "      <th>5</th>\n",
       "      <td>6</td>\n",
       "      <td>7</td>\n",
       "      <td>B006K2ZZ7K</td>\n",
       "      <td>A1SP2KVKFXXRU1</td>\n",
       "      <td>David C. Sullivan</td>\n",
       "      <td>0</td>\n",
       "      <td>0</td>\n",
       "      <td>1</td>\n",
       "      <td>1340150400</td>\n",
       "      <td>Great!  Just as good as the expensive brands!</td>\n",
       "      <td>This saltwater taffy had great flavors and was...</td>\n",
       "      <td>this saltwat taffi had great flavor and was ve...</td>\n",
       "      <td>this saltwater taffy had great flavors and was...</td>\n",
       "    </tr>\n",
       "  </tbody>\n",
       "</table>\n",
       "</div>"
      ],
      "text/plain": [
       "   index  Id   ProductId          UserId                      ProfileName  \\\n",
       "0      0   1  B001E4KFG0  A3SGXH7AUHU8GW                       delmartian   \n",
       "2      2   3  B000LQOCH0   ABXLMWJIXXAIN  Natalia Corres \"Natalia Corres\"   \n",
       "3      4   5  B006K2ZZ7K  A1UQRSCLF8GW1T    Michael D. Bigham \"M. Wassir\"   \n",
       "4      5   6  B006K2ZZ7K   ADT0SRK1MGOEU                   Twoapennything   \n",
       "5      6   7  B006K2ZZ7K  A1SP2KVKFXXRU1                David C. Sullivan   \n",
       "\n",
       "   HelpfulnessNumerator  HelpfulnessDenominator  Score        Time  \\\n",
       "0                     1                       1      1  1303862400   \n",
       "2                     1                       1      1  1219017600   \n",
       "3                     0                       0      1  1350777600   \n",
       "4                     0                       0      1  1342051200   \n",
       "5                     0                       0      1  1340150400   \n",
       "\n",
       "                                         Summary  \\\n",
       "0                          Good Quality Dog Food   \n",
       "2                          \"Delight\" says it all   \n",
       "3                                    Great taffy   \n",
       "4                                     Nice Taffy   \n",
       "5  Great!  Just as good as the expensive brands!   \n",
       "\n",
       "                                                Text  \\\n",
       "0  I have bought several of the Vitality canned d...   \n",
       "2  This is a confection that has been around a fe...   \n",
       "3  Great taffy at a great price.  There was a wid...   \n",
       "4  I got a wild hair for taffy and ordered this f...   \n",
       "5  This saltwater taffy had great flavors and was...   \n",
       "\n",
       "                                       ProcessedText  \\\n",
       "0  have bought sever the vital can dog food produ...   \n",
       "2  this confect that has been around few centuri ...   \n",
       "3  great taffi great price there was wide assort ...   \n",
       "4  got wild hair for taffi and order this five po...   \n",
       "5  this saltwat taffi had great flavor and was ve...   \n",
       "\n",
       "                                      ProcessedText2  \n",
       "0  have bought several the vitality canned dog fo...  \n",
       "2  this confection that has been around few centu...  \n",
       "3  great taffy great price there was wide assortm...  \n",
       "4  got wild hair for taffy and ordered this five ...  \n",
       "5  this saltwater taffy had great flavors and was...  "
      ]
     },
     "execution_count": 40,
     "metadata": {},
     "output_type": "execute_result"
    }
   ],
   "source": [
    "positiveReviews2_500.head()"
   ]
  },
  {
   "cell_type": "code",
   "execution_count": 41,
   "metadata": {
    "collapsed": true
   },
   "outputs": [],
   "source": [
    "allNegativeReviews2 = data[(data[\"Score\"] == 0)]"
   ]
  },
  {
   "cell_type": "code",
   "execution_count": 42,
   "metadata": {},
   "outputs": [
    {
     "data": {
      "text/plain": [
       "(57110, 13)"
      ]
     },
     "execution_count": 42,
     "metadata": {},
     "output_type": "execute_result"
    }
   ],
   "source": [
    "allNegativeReviews2.shape"
   ]
  },
  {
   "cell_type": "code",
   "execution_count": 43,
   "metadata": {
    "collapsed": true
   },
   "outputs": [],
   "source": [
    "negativeReviews2_500 = allNegativeReviews2[:500]"
   ]
  },
  {
   "cell_type": "code",
   "execution_count": 44,
   "metadata": {},
   "outputs": [
    {
     "data": {
      "text/plain": [
       "(500, 13)"
      ]
     },
     "execution_count": 44,
     "metadata": {},
     "output_type": "execute_result"
    }
   ],
   "source": [
    "negativeReviews2_500.shape"
   ]
  },
  {
   "cell_type": "code",
   "execution_count": 45,
   "metadata": {},
   "outputs": [
    {
     "data": {
      "text/html": [
       "<div>\n",
       "<style>\n",
       "    .dataframe thead tr:only-child th {\n",
       "        text-align: right;\n",
       "    }\n",
       "\n",
       "    .dataframe thead th {\n",
       "        text-align: left;\n",
       "    }\n",
       "\n",
       "    .dataframe tbody tr th {\n",
       "        vertical-align: top;\n",
       "    }\n",
       "</style>\n",
       "<table border=\"1\" class=\"dataframe\">\n",
       "  <thead>\n",
       "    <tr style=\"text-align: right;\">\n",
       "      <th></th>\n",
       "      <th>index</th>\n",
       "      <th>Id</th>\n",
       "      <th>ProductId</th>\n",
       "      <th>UserId</th>\n",
       "      <th>ProfileName</th>\n",
       "      <th>HelpfulnessNumerator</th>\n",
       "      <th>HelpfulnessDenominator</th>\n",
       "      <th>Score</th>\n",
       "      <th>Time</th>\n",
       "      <th>Summary</th>\n",
       "      <th>Text</th>\n",
       "      <th>ProcessedText</th>\n",
       "      <th>ProcessedText2</th>\n",
       "    </tr>\n",
       "  </thead>\n",
       "  <tbody>\n",
       "    <tr>\n",
       "      <th>1</th>\n",
       "      <td>1</td>\n",
       "      <td>2</td>\n",
       "      <td>B00813GRG4</td>\n",
       "      <td>A1D87F6ZCVE5NK</td>\n",
       "      <td>dll pa</td>\n",
       "      <td>0</td>\n",
       "      <td>0</td>\n",
       "      <td>0</td>\n",
       "      <td>1346976000</td>\n",
       "      <td>Not as Advertised</td>\n",
       "      <td>Product arrived labeled as Jumbo Salted Peanut...</td>\n",
       "      <td>product arriv label jumbo salt peanut the pean...</td>\n",
       "      <td>product arrived labeled jumbo salted peanuts t...</td>\n",
       "    </tr>\n",
       "    <tr>\n",
       "      <th>11</th>\n",
       "      <td>12</td>\n",
       "      <td>13</td>\n",
       "      <td>B0009XLVG0</td>\n",
       "      <td>A327PCT23YH90</td>\n",
       "      <td>LT</td>\n",
       "      <td>1</td>\n",
       "      <td>1</td>\n",
       "      <td>0</td>\n",
       "      <td>1339545600</td>\n",
       "      <td>My Cats Are Not Fans of the New Food</td>\n",
       "      <td>My cats have been happily eating Felidae Plati...</td>\n",
       "      <td>cat have been happili eat felida platinum for ...</td>\n",
       "      <td>cats have been happily eating felidae platinum...</td>\n",
       "    </tr>\n",
       "    <tr>\n",
       "      <th>15</th>\n",
       "      <td>16</td>\n",
       "      <td>17</td>\n",
       "      <td>B001GVISJM</td>\n",
       "      <td>A3KLWF6WQ5BNYO</td>\n",
       "      <td>Erica Neathery</td>\n",
       "      <td>0</td>\n",
       "      <td>0</td>\n",
       "      <td>0</td>\n",
       "      <td>1348099200</td>\n",
       "      <td>poor taste</td>\n",
       "      <td>I love eating them and they are good for watch...</td>\n",
       "      <td>love eat them and they are good for watch and ...</td>\n",
       "      <td>love eating them and they are good for watchin...</td>\n",
       "    </tr>\n",
       "    <tr>\n",
       "      <th>25</th>\n",
       "      <td>26</td>\n",
       "      <td>27</td>\n",
       "      <td>B001GVISJM</td>\n",
       "      <td>A3RXAU2N8KV45G</td>\n",
       "      <td>lady21</td>\n",
       "      <td>0</td>\n",
       "      <td>1</td>\n",
       "      <td>0</td>\n",
       "      <td>1332633600</td>\n",
       "      <td>Nasty No flavor</td>\n",
       "      <td>The candy is just red , No flavor . Just  plan...</td>\n",
       "      <td>the candi just red flavor just plan and chewi ...</td>\n",
       "      <td>the candy just red flavor just plan and chewy ...</td>\n",
       "    </tr>\n",
       "    <tr>\n",
       "      <th>45</th>\n",
       "      <td>47</td>\n",
       "      <td>51</td>\n",
       "      <td>B001EO5QW8</td>\n",
       "      <td>A108P30XVUFKXY</td>\n",
       "      <td>Roberto A</td>\n",
       "      <td>0</td>\n",
       "      <td>7</td>\n",
       "      <td>0</td>\n",
       "      <td>1203379200</td>\n",
       "      <td>Don't like it</td>\n",
       "      <td>This oatmeal is not good. Its mushy, soft, I d...</td>\n",
       "      <td>this oatmeal not good it mushi soft dont like ...</td>\n",
       "      <td>this oatmeal not good its mushy soft dont like...</td>\n",
       "    </tr>\n",
       "  </tbody>\n",
       "</table>\n",
       "</div>"
      ],
      "text/plain": [
       "    index  Id   ProductId          UserId     ProfileName  \\\n",
       "1       1   2  B00813GRG4  A1D87F6ZCVE5NK          dll pa   \n",
       "11     12  13  B0009XLVG0   A327PCT23YH90              LT   \n",
       "15     16  17  B001GVISJM  A3KLWF6WQ5BNYO  Erica Neathery   \n",
       "25     26  27  B001GVISJM  A3RXAU2N8KV45G          lady21   \n",
       "45     47  51  B001EO5QW8  A108P30XVUFKXY       Roberto A   \n",
       "\n",
       "    HelpfulnessNumerator  HelpfulnessDenominator  Score        Time  \\\n",
       "1                      0                       0      0  1346976000   \n",
       "11                     1                       1      0  1339545600   \n",
       "15                     0                       0      0  1348099200   \n",
       "25                     0                       1      0  1332633600   \n",
       "45                     0                       7      0  1203379200   \n",
       "\n",
       "                                 Summary  \\\n",
       "1                      Not as Advertised   \n",
       "11  My Cats Are Not Fans of the New Food   \n",
       "15                            poor taste   \n",
       "25                       Nasty No flavor   \n",
       "45                         Don't like it   \n",
       "\n",
       "                                                 Text  \\\n",
       "1   Product arrived labeled as Jumbo Salted Peanut...   \n",
       "11  My cats have been happily eating Felidae Plati...   \n",
       "15  I love eating them and they are good for watch...   \n",
       "25  The candy is just red , No flavor . Just  plan...   \n",
       "45  This oatmeal is not good. Its mushy, soft, I d...   \n",
       "\n",
       "                                        ProcessedText  \\\n",
       "1   product arriv label jumbo salt peanut the pean...   \n",
       "11  cat have been happili eat felida platinum for ...   \n",
       "15  love eat them and they are good for watch and ...   \n",
       "25  the candi just red flavor just plan and chewi ...   \n",
       "45  this oatmeal not good it mushi soft dont like ...   \n",
       "\n",
       "                                       ProcessedText2  \n",
       "1   product arrived labeled jumbo salted peanuts t...  \n",
       "11  cats have been happily eating felidae platinum...  \n",
       "15  love eating them and they are good for watchin...  \n",
       "25  the candy just red flavor just plan and chewy ...  \n",
       "45  this oatmeal not good its mushy soft dont like...  "
      ]
     },
     "execution_count": 45,
     "metadata": {},
     "output_type": "execute_result"
    }
   ],
   "source": [
    "negativeReviews2_500.head()"
   ]
  },
  {
   "cell_type": "code",
   "execution_count": 46,
   "metadata": {
    "collapsed": true
   },
   "outputs": [],
   "source": [
    "frames2_1000 = [positiveReviews2_500, negativeReviews2_500]"
   ]
  },
  {
   "cell_type": "code",
   "execution_count": 47,
   "metadata": {
    "collapsed": true
   },
   "outputs": [],
   "source": [
    "FinalPositiveNegative2 = pd.concat(frames2_1000)"
   ]
  },
  {
   "cell_type": "code",
   "execution_count": 48,
   "metadata": {},
   "outputs": [
    {
     "data": {
      "text/plain": [
       "(1000, 13)"
      ]
     },
     "execution_count": 48,
     "metadata": {},
     "output_type": "execute_result"
    }
   ],
   "source": [
    "FinalPositiveNegative2.shape"
   ]
  },
  {
   "cell_type": "code",
   "execution_count": 49,
   "metadata": {
    "collapsed": true
   },
   "outputs": [],
   "source": [
    "#Sorting FinalDataframe by \"Time\"\n",
    "FinalSortedPositiveNegative2_1000 = FinalPositiveNegative2.sort_values('Time', axis=0, ascending=True, inplace=False)"
   ]
  },
  {
   "cell_type": "code",
   "execution_count": 50,
   "metadata": {
    "collapsed": true
   },
   "outputs": [],
   "source": [
    "FinalSortedPositiveNegativeScore2_1000 = FinalSortedPositiveNegative2_1000[\"Score\"]"
   ]
  },
  {
   "cell_type": "code",
   "execution_count": 51,
   "metadata": {},
   "outputs": [
    {
     "data": {
      "text/plain": [
       "(1000, 13)"
      ]
     },
     "execution_count": 51,
     "metadata": {},
     "output_type": "execute_result"
    }
   ],
   "source": [
    "FinalSortedPositiveNegative2_1000.shape"
   ]
  },
  {
   "cell_type": "code",
   "execution_count": 52,
   "metadata": {},
   "outputs": [
    {
     "data": {
      "text/plain": [
       "(1000,)"
      ]
     },
     "execution_count": 52,
     "metadata": {},
     "output_type": "execute_result"
    }
   ],
   "source": [
    "FinalSortedPositiveNegativeScore2_1000.shape"
   ]
  },
  {
   "cell_type": "code",
   "execution_count": 53,
   "metadata": {
    "collapsed": true
   },
   "outputs": [],
   "source": [
    "Data2 = FinalSortedPositiveNegative2_1000"
   ]
  },
  {
   "cell_type": "code",
   "execution_count": 54,
   "metadata": {
    "collapsed": true
   },
   "outputs": [],
   "source": [
    "Data2_Labels = FinalSortedPositiveNegativeScore2_1000"
   ]
  },
  {
   "cell_type": "code",
   "execution_count": 55,
   "metadata": {},
   "outputs": [
    {
     "name": "stdout",
     "output_type": "stream",
     "text": [
      "(1000, 13)\n",
      "(1000,)\n"
     ]
    }
   ],
   "source": [
    "print(Data2.shape)\n",
    "print(Data2_Labels.shape)"
   ]
  },
  {
   "cell_type": "code",
   "execution_count": 56,
   "metadata": {},
   "outputs": [
    {
     "data": {
      "text/html": [
       "<div>\n",
       "<style>\n",
       "    .dataframe thead tr:only-child th {\n",
       "        text-align: right;\n",
       "    }\n",
       "\n",
       "    .dataframe thead th {\n",
       "        text-align: left;\n",
       "    }\n",
       "\n",
       "    .dataframe tbody tr th {\n",
       "        vertical-align: top;\n",
       "    }\n",
       "</style>\n",
       "<table border=\"1\" class=\"dataframe\">\n",
       "  <thead>\n",
       "    <tr style=\"text-align: right;\">\n",
       "      <th></th>\n",
       "      <th>index</th>\n",
       "      <th>Id</th>\n",
       "      <th>ProductId</th>\n",
       "      <th>UserId</th>\n",
       "      <th>ProfileName</th>\n",
       "      <th>HelpfulnessNumerator</th>\n",
       "      <th>HelpfulnessDenominator</th>\n",
       "      <th>Score</th>\n",
       "      <th>Time</th>\n",
       "      <th>Summary</th>\n",
       "      <th>Text</th>\n",
       "      <th>ProcessedText</th>\n",
       "      <th>ProcessedText2</th>\n",
       "    </tr>\n",
       "  </thead>\n",
       "  <tbody>\n",
       "    <tr>\n",
       "      <th>9</th>\n",
       "      <td>10</td>\n",
       "      <td>11</td>\n",
       "      <td>B0001PB9FE</td>\n",
       "      <td>A3HDKO7OW0QNK4</td>\n",
       "      <td>Canadian Fan</td>\n",
       "      <td>1</td>\n",
       "      <td>1</td>\n",
       "      <td>1</td>\n",
       "      <td>1107820800</td>\n",
       "      <td>The Best Hot Sauce in the World</td>\n",
       "      <td>I don't know if it's the cactus or the tequila...</td>\n",
       "      <td>dont know it the cactus the tequila just the u...</td>\n",
       "      <td>dont know its the cactus the tequila just the ...</td>\n",
       "    </tr>\n",
       "    <tr>\n",
       "      <th>1653</th>\n",
       "      <td>2106</td>\n",
       "      <td>2296</td>\n",
       "      <td>B0001VWE02</td>\n",
       "      <td>AQM74O8Z4FMS0</td>\n",
       "      <td>Sunshine</td>\n",
       "      <td>0</td>\n",
       "      <td>0</td>\n",
       "      <td>0</td>\n",
       "      <td>1127606400</td>\n",
       "      <td>Below standard</td>\n",
       "      <td>Too much of the white pith on this orange peel...</td>\n",
       "      <td>too much the white pith this orang peel make t...</td>\n",
       "      <td>too much the white pith this orange peel makin...</td>\n",
       "    </tr>\n",
       "    <tr>\n",
       "      <th>2558</th>\n",
       "      <td>3667</td>\n",
       "      <td>3984</td>\n",
       "      <td>B0005ZHWXI</td>\n",
       "      <td>A26HFSVLAGULIM</td>\n",
       "      <td>Heather L. Parisi \"Robert and Heather Parisi\"</td>\n",
       "      <td>0</td>\n",
       "      <td>1</td>\n",
       "      <td>0</td>\n",
       "      <td>1131235200</td>\n",
       "      <td>ADD SKIM MILK - BANANA - BLUEBERRIES  -  WHEAT...</td>\n",
       "      <td>SOMETHING TO EAT IF YOU'RE STARVING - BUT PLEA...</td>\n",
       "      <td>someth eat your starv but pleas give real food...</td>\n",
       "      <td>something eat youre starving but please give r...</td>\n",
       "    </tr>\n",
       "    <tr>\n",
       "      <th>1341</th>\n",
       "      <td>1779</td>\n",
       "      <td>1935</td>\n",
       "      <td>B000F4EU52</td>\n",
       "      <td>A2PNOU7NXB1JE4</td>\n",
       "      <td>Peggy \"pab920\"</td>\n",
       "      <td>14</td>\n",
       "      <td>17</td>\n",
       "      <td>0</td>\n",
       "      <td>1153008000</td>\n",
       "      <td>Inside of can corroded</td>\n",
       "      <td>After I enptied the can, I noticed it was blac...</td>\n",
       "      <td>after enpti the can notic was black area the t...</td>\n",
       "      <td>after enptied the can noticed was black area t...</td>\n",
       "    </tr>\n",
       "    <tr>\n",
       "      <th>2307</th>\n",
       "      <td>3362</td>\n",
       "      <td>3661</td>\n",
       "      <td>B000FDKQC4</td>\n",
       "      <td>A1PNP10DP0M7V1</td>\n",
       "      <td>D. Chamberlain \"dchamberlain072002\"</td>\n",
       "      <td>7</td>\n",
       "      <td>8</td>\n",
       "      <td>0</td>\n",
       "      <td>1156377600</td>\n",
       "      <td>A Bitter Pill</td>\n",
       "      <td>I have to say that I really wanted to like the...</td>\n",
       "      <td>have say that realli want like these muffin bu...</td>\n",
       "      <td>have say that really wanted like these muffins...</td>\n",
       "    </tr>\n",
       "  </tbody>\n",
       "</table>\n",
       "</div>"
      ],
      "text/plain": [
       "      index    Id   ProductId          UserId  \\\n",
       "9        10    11  B0001PB9FE  A3HDKO7OW0QNK4   \n",
       "1653   2106  2296  B0001VWE02   AQM74O8Z4FMS0   \n",
       "2558   3667  3984  B0005ZHWXI  A26HFSVLAGULIM   \n",
       "1341   1779  1935  B000F4EU52  A2PNOU7NXB1JE4   \n",
       "2307   3362  3661  B000FDKQC4  A1PNP10DP0M7V1   \n",
       "\n",
       "                                        ProfileName  HelpfulnessNumerator  \\\n",
       "9                                      Canadian Fan                     1   \n",
       "1653                                       Sunshine                     0   \n",
       "2558  Heather L. Parisi \"Robert and Heather Parisi\"                     0   \n",
       "1341                                 Peggy \"pab920\"                    14   \n",
       "2307            D. Chamberlain \"dchamberlain072002\"                     7   \n",
       "\n",
       "      HelpfulnessDenominator  Score        Time  \\\n",
       "9                          1      1  1107820800   \n",
       "1653                       0      0  1127606400   \n",
       "2558                       1      0  1131235200   \n",
       "1341                      17      0  1153008000   \n",
       "2307                       8      0  1156377600   \n",
       "\n",
       "                                                Summary  \\\n",
       "9                       The Best Hot Sauce in the World   \n",
       "1653                                     Below standard   \n",
       "2558  ADD SKIM MILK - BANANA - BLUEBERRIES  -  WHEAT...   \n",
       "1341                             Inside of can corroded   \n",
       "2307                                      A Bitter Pill   \n",
       "\n",
       "                                                   Text  \\\n",
       "9     I don't know if it's the cactus or the tequila...   \n",
       "1653  Too much of the white pith on this orange peel...   \n",
       "2558  SOMETHING TO EAT IF YOU'RE STARVING - BUT PLEA...   \n",
       "1341  After I enptied the can, I noticed it was blac...   \n",
       "2307  I have to say that I really wanted to like the...   \n",
       "\n",
       "                                          ProcessedText  \\\n",
       "9     dont know it the cactus the tequila just the u...   \n",
       "1653  too much the white pith this orang peel make t...   \n",
       "2558  someth eat your starv but pleas give real food...   \n",
       "1341  after enpti the can notic was black area the t...   \n",
       "2307  have say that realli want like these muffin bu...   \n",
       "\n",
       "                                         ProcessedText2  \n",
       "9     dont know its the cactus the tequila just the ...  \n",
       "1653  too much the white pith this orange peel makin...  \n",
       "2558  something eat youre starving but please give r...  \n",
       "1341  after enptied the can noticed was black area t...  \n",
       "2307  have say that really wanted like these muffins...  "
      ]
     },
     "execution_count": 56,
     "metadata": {},
     "output_type": "execute_result"
    }
   ],
   "source": [
    "Data2.head()"
   ]
  },
  {
   "cell_type": "code",
   "execution_count": 57,
   "metadata": {
    "collapsed": true
   },
   "outputs": [],
   "source": [
    "i = 0\n",
    "listOfSentences2 = []\n",
    "for sentence in Data2[\"ProcessedText2\"].values:\n",
    "    subSentence = []\n",
    "    for word in sentence.split():\n",
    "        subSentence.append(word)\n",
    "        \n",
    "    listOfSentences2.append(subSentence)"
   ]
  },
  {
   "cell_type": "code",
   "execution_count": 58,
   "metadata": {},
   "outputs": [
    {
     "name": "stdout",
     "output_type": "stream",
     "text": [
      "dont know its the cactus the tequila just the unique combination ingredients but the flavour this hot sauce makes one kind picked bottle once trip were and brought back home with and were totally blown away when realized that simply couldnt find anywhere our city were bummed now because the magic the internet have case the sauce and are ecstatic because you love hot sauce mean really love hot sauce but dont want sauce that tastelessly burns your throat grab bottle tequila picante gourmet inclan just realize that once you taste you will never want use any other sauce thank you for the personal incredible service\n",
      "\n",
      "\n",
      "[['dont', 'know', 'its', 'the', 'cactus', 'the', 'tequila', 'just', 'the', 'unique', 'combination', 'ingredients', 'but', 'the', 'flavour', 'this', 'hot', 'sauce', 'makes', 'one', 'kind', 'picked', 'bottle', 'once', 'trip', 'were', 'and', 'brought', 'back', 'home', 'with', 'and', 'were', 'totally', 'blown', 'away', 'when', 'realized', 'that', 'simply', 'couldnt', 'find', 'anywhere', 'our', 'city', 'were', 'bummed', 'now', 'because', 'the', 'magic', 'the', 'internet', 'have', 'case', 'the', 'sauce', 'and', 'are', 'ecstatic', 'because', 'you', 'love', 'hot', 'sauce', 'mean', 'really', 'love', 'hot', 'sauce', 'but', 'dont', 'want', 'sauce', 'that', 'tastelessly', 'burns', 'your', 'throat', 'grab', 'bottle', 'tequila', 'picante', 'gourmet', 'inclan', 'just', 'realize', 'that', 'once', 'you', 'taste', 'you', 'will', 'never', 'want', 'use', 'any', 'other', 'sauce', 'thank', 'you', 'for', 'the', 'personal', 'incredible', 'service'], ['too', 'much', 'the', 'white', 'pith', 'this', 'orange', 'peel', 'making', 'the', 'product', 'overly', 'bitter', 'and', 'diluting', 'the', 'real', 'good', 'taste', 'the', 'orange', 'zest']]\n",
      "\n",
      "\n",
      "<class 'list'>\n",
      "\n",
      "\n",
      "1000\n"
     ]
    }
   ],
   "source": [
    "print(Data2['ProcessedText2'].values[0])\n",
    "print(\"\\n\")\n",
    "print(listOfSentences2[0:2])\n",
    "print(\"\\n\")\n",
    "print(type(listOfSentences2))\n",
    "print(\"\\n\")\n",
    "print(len(listOfSentences2))"
   ]
  },
  {
   "cell_type": "code",
   "execution_count": 59,
   "metadata": {
    "collapsed": true
   },
   "outputs": [],
   "source": [
    "#loading pre-trained GloVe vectors\n",
    "words = pd.read_table(\"glove.6B.100d.txt\", sep=\" \", index_col=0, header=None, quoting=csv.QUOTE_NONE) \n",
    "\n",
    "# Here, We have downloaded pre-trained Glove vectors. You just have to type \"Glove word vectors\" on google then click on \n",
    "# \"https://nlp.stanford.edu/projects/glove/\" link. Then you can download pre-trained word-vectors. Zip file will be \n",
    "# downloaded, you just have to extract it then load the txt file from extracted folder into ipython notebook using pandas,\n",
    "# just like we have done above."
   ]
  },
  {
   "cell_type": "code",
   "execution_count": 60,
   "metadata": {
    "collapsed": true
   },
   "outputs": [],
   "source": [
    "def check(word):\n",
    "    if (words.index == word).any():\n",
    "        return 1\n",
    "    else:\n",
    "        return 0"
   ]
  },
  {
   "cell_type": "code",
   "execution_count": 61,
   "metadata": {},
   "outputs": [
    {
     "name": "stdout",
     "output_type": "stream",
     "text": [
      "<class 'list'>\n",
      "1000\n",
      "100\n"
     ]
    }
   ],
   "source": [
    "# compute average GloVe for each review.\n",
    "sentenceAsGlove = []\n",
    "for sentence in listOfSentences2:\n",
    "    sentenceVector = np.zeros(100)\n",
    "    TotalWordsPerSentence = 0\n",
    "    for word in sentence:\n",
    "        if check(word) == 1:\n",
    "            vect = words.loc[word]\n",
    "            sentenceVector += vect\n",
    "            TotalWordsPerSentence += 1\n",
    "            \n",
    "    sentenceVector /= TotalWordsPerSentence\n",
    "    sentenceAsGlove.append(sentenceVector)\n",
    "\n",
    "print(type(sentenceAsGlove))\n",
    "print(len(sentenceAsGlove))\n",
    "print(len(sentenceAsGlove[0]))"
   ]
  },
  {
   "cell_type": "markdown",
   "metadata": {},
   "source": [
    "### Task 1. Split train and test data in a ratio of 80:20"
   ]
  },
  {
   "cell_type": "code",
   "execution_count": 62,
   "metadata": {
    "collapsed": true
   },
   "outputs": [],
   "source": [
    "train_GLoVe, test_GLoVe, train_labels_GLoVe, test_labels_GLoVe = train_test_split(sentenceAsGlove, Data2_Labels, test_size = 0.2)"
   ]
  },
  {
   "cell_type": "code",
   "execution_count": 63,
   "metadata": {},
   "outputs": [
    {
     "data": {
      "text/plain": [
       "(800, 200, 800, 200)"
      ]
     },
     "execution_count": 63,
     "metadata": {},
     "output_type": "execute_result"
    }
   ],
   "source": [
    "len(train_GLoVe), len(test_GLoVe), len(train_labels_GLoVe), len(test_labels_GLoVe)"
   ]
  },
  {
   "cell_type": "markdown",
   "metadata": {},
   "source": [
    "### Task 2. Perform GridSearch Cross Validation to find optimal depth of decision tree."
   ]
  },
  {
   "cell_type": "code",
   "execution_count": 83,
   "metadata": {},
   "outputs": [
    {
     "name": "stdout",
     "output_type": "stream",
     "text": [
      "DecisionTreeClassifier(class_weight=None, criterion='gini', max_depth=1,\n",
      "            max_features=None, max_leaf_nodes=None,\n",
      "            min_impurity_decrease=0.0, min_impurity_split=None,\n",
      "            min_samples_leaf=4, min_samples_split=4,\n",
      "            min_weight_fraction_leaf=0.0, presort=False, random_state=None,\n",
      "            splitter='best')\n"
     ]
    }
   ],
   "source": [
    "clf = DecisionTreeClassifier(min_samples_split = 4, min_samples_leaf = 4)\n",
    "    \n",
    "hyper_parameters = {'max_depth': [1, 2, 3, 4, 5, 6, 7, 8, 9, 11, 13, 15, 17]}\n",
    "bestCV = GridSearchCV(clf, hyper_parameters, scoring = \"accuracy\", cv = 3)\n",
    "bestCV.fit(train_GLoVe, train_labels_GLoVe)\n",
    "    \n",
    "print(bestCV.best_estimator_)"
   ]
  },
  {
   "cell_type": "code",
   "execution_count": 84,
   "metadata": {},
   "outputs": [
    {
     "data": {
      "text/plain": [
       "1"
      ]
     },
     "execution_count": 84,
     "metadata": {},
     "output_type": "execute_result"
    }
   ],
   "source": [
    "best_parameter = bestCV.best_params_ \n",
    "best_parameter[\"max_depth\"]"
   ]
  },
  {
   "cell_type": "code",
   "execution_count": 85,
   "metadata": {},
   "outputs": [
    {
     "data": {
      "text/plain": [
       "[mean: 0.65625, std: 0.00854, params: {'max_depth': 1},\n",
       " mean: 0.63125, std: 0.01595, params: {'max_depth': 2},\n",
       " mean: 0.65250, std: 0.03836, params: {'max_depth': 3},\n",
       " mean: 0.63125, std: 0.02002, params: {'max_depth': 4},\n",
       " mean: 0.62250, std: 0.01838, params: {'max_depth': 5},\n",
       " mean: 0.62875, std: 0.03259, params: {'max_depth': 6},\n",
       " mean: 0.62875, std: 0.02142, params: {'max_depth': 7},\n",
       " mean: 0.63125, std: 0.03681, params: {'max_depth': 8},\n",
       " mean: 0.63750, std: 0.01427, params: {'max_depth': 9},\n",
       " mean: 0.62875, std: 0.01893, params: {'max_depth': 11},\n",
       " mean: 0.62625, std: 0.01323, params: {'max_depth': 13},\n",
       " mean: 0.63000, std: 0.02929, params: {'max_depth': 15},\n",
       " mean: 0.62875, std: 0.02118, params: {'max_depth': 17}]"
      ]
     },
     "execution_count": 85,
     "metadata": {},
     "output_type": "execute_result"
    }
   ],
   "source": [
    "scoreData = bestCV.grid_scores_\n",
    "scoreData"
   ]
  },
  {
   "cell_type": "code",
   "execution_count": 86,
   "metadata": {},
   "outputs": [
    {
     "data": {
      "image/png": "[encoded data removed]",
      "text/plain": [
       "<matplotlib.figure.Figure at 0x7782b18550>"
      ]
     },
     "metadata": {},
     "output_type": "display_data"
    }
   ],
   "source": [
    "error = []\n",
    "parameter = []\n",
    "for i in range(len(scoreData)):\n",
    "    error.append(1 - scoreData[i][1])\n",
    "    parameter.append(scoreData[i][0][\"max_depth\"])\n",
    "    \n",
    "plt.plot(parameter, np.round(error, 4))\n",
    "plt.ylim(ymin=0.2) \n",
    "plt.ylim(ymax=0.4)\n",
    "plt.xlabel(\"Maximum Depth\", fontsize=16)\n",
    "plt.ylabel(\"Error\", fontsize=16)\n",
    "\n",
    "error1 = []\n",
    "for e in error:\n",
    "    error1.append(np.round(e,3))\n",
    "    \n",
    "parameter1 = []\n",
    "for p in parameter:\n",
    "    parameter1.append(np.round(p,3))\n",
    "\n",
    "for xy in zip(parameter1, error1):\n",
    "    plt.annotate(xy,xy)\n",
    "\n",
    "plt.show()"
   ]
  },
  {
   "cell_type": "markdown",
   "metadata": {},
   "source": [
    "### Task 3. Apply DecisionTreeClassifier and report accuracy. Also check for train error"
   ]
  },
  {
   "cell_type": "code",
   "execution_count": 92,
   "metadata": {},
   "outputs": [
    {
     "name": "stdout",
     "output_type": "stream",
     "text": [
      "Accuracy score of decision tree = 64.0%\n"
     ]
    }
   ],
   "source": [
    "clf_GLoVe = DecisionTreeClassifier(max_depth = 5, min_samples_split = 4, min_samples_leaf = 4)\n",
    "\n",
    "clf_GLoVe = clf_GLoVe.fit(train_GLoVe, train_labels_GLoVe)\n",
    "\n",
    "prediction_GLoVe = clf_GLoVe.predict(test_GLoVe)\n",
    "\n",
    "AccuracyScore_GLoVe = accuracy_score(test_labels_GLoVe, prediction_GLoVe) * 100\n",
    "\n",
    "print(\"Accuracy score of decision tree = \"+str(AccuracyScore_GLoVe)+\"%\")"
   ]
  },
  {
   "cell_type": "code",
   "execution_count": 93,
   "metadata": {},
   "outputs": [
    {
     "name": "stdout",
     "output_type": "stream",
     "text": [
      "Train error of decision tree = 0.17000000000000004\n"
     ]
    }
   ],
   "source": [
    "clf_GLoVe_tr = DecisionTreeClassifier(max_depth = 5, min_samples_split = 4, min_samples_leaf = 4)\n",
    "\n",
    "clf_GLoVe_tr = clf_GLoVe_tr.fit(train_GLoVe, train_labels_GLoVe)\n",
    "\n",
    "prediction_GLoVe_tr = clf_GLoVe_tr.predict(train_GLoVe)\n",
    "\n",
    "AccuracyScore_GLoVe_tr = accuracy_score(train_labels_GLoVe, prediction_GLoVe_tr)\n",
    "\n",
    "print(\"Train error of decision tree = \"+str(1 - AccuracyScore_GLoVe_tr))"
   ]
  },
  {
   "cell_type": "code",
   "execution_count": 94,
   "metadata": {},
   "outputs": [
    {
     "name": "stdout",
     "output_type": "stream",
     "text": [
      "Confusion Matrix on L2 regularization  \n",
      "[[56 33]\n",
      " [39 72]]\n"
     ]
    }
   ],
   "source": [
    "Confusion_Matrix = confusion_matrix(test_labels_GLoVe, prediction_GLoVe)\n",
    "print(\"Confusion Matrix on L2 regularization  \\n\"+str(Confusion_Matrix))"
   ]
  },
  {
   "cell_type": "code",
   "execution_count": 95,
   "metadata": {},
   "outputs": [
    {
     "data": {
      "text/plain": [
       "(56, 33, 39, 72)"
      ]
     },
     "execution_count": 95,
     "metadata": {},
     "output_type": "execute_result"
    }
   ],
   "source": [
    "tn, fp, fn, tp = confusion_matrix(test_labels_GLoVe, prediction_GLoVe).ravel()\n",
    "tn, fp, fn, tp"
   ]
  },
  {
   "cell_type": "markdown",
   "metadata": {},
   "source": [
    "### Task 4. Plot decision tree using graphviz."
   ]
  },
  {
   "cell_type": "code",
   "execution_count": 96,
   "metadata": {},
   "outputs": [
    {
     "data": {
      "text/plain": [
       "'GLoVe_DecisionTree_Graph.pdf'"
      ]
     },
     "execution_count": 96,
     "metadata": {},
     "output_type": "execute_result"
    }
   ],
   "source": [
    "dot_data = tree.export_graphviz(clf_GLoVe, out_file=None, filled=True, rounded=True, special_characters=True) \n",
    "graph = graphviz.Source(dot_data) \n",
    "graph.render(\"GLoVe_DecisionTree_Graph\") "
   ]
  },
  {
   "cell_type": "markdown",
   "metadata": {},
   "source": [
    "# Summary\n",
    "\n",
    "## Avg W2V\n",
    "**1. Optimal Value of depth from Grid Search = 5**<br>\n",
    "**2. Accuracy = 73.2%**<br>\n",
    "**3. Train Error = 0.2198**<br>\n",
    "## TFIDF-W2V\n",
    "**1. Optimal Value of depth from Grid Search = 5**<br>\n",
    "**2. Accuracy = 70.85%**<br>\n",
    "**3. Train Error = 0.2571**<br>\n",
    "## GLoVe\n",
    "**1. Optimal Value of depth from Grid Search = 1**<br>\n",
    "**2. Final considered value of depth = 5**<br> \n",
    "**3. Accuracy = 64%**<br>\n",
    "**4. Train Error = 0.170**<br>"
   ]
  }
 ],
 "metadata": {
  "kernelspec": {
   "display_name": "Python 3",
   "language": "python",
   "name": "python3"
  },
  "language_info": {
   "codemirror_mode": {
    "name": "ipython",
    "version": 3
   },
   "file_extension": ".py",
   "mimetype": "text/x-python",
   "name": "python",
   "nbconvert_exporter": "python",
   "pygments_lexer": "ipython3",
   "version": "3.6.5"
  }
 },
 "nbformat": 4,
 "nbformat_minor": 2
}
