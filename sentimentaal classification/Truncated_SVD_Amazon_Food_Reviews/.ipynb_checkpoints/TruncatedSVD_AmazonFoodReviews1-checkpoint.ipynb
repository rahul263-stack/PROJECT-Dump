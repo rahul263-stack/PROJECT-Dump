{
 "cells": [
  {
   "cell_type": "markdown",
   "metadata": {},
   "source": [
    "# Compute Word Vectors using TruncatedSVD in Amazon Food Reviews.\n",
    "Data Source: https://www.kaggle.com/snap/amazon-fine-food-reviews\n",
    "\n",
    "The Amazon Fine Food Reviews dataset consists of reviews of fine foods from Amazon.\n",
    "\n",
    "Number of reviews: 568,454 Number of users: 256,059 Number of products: 74,258 Timespan: Oct 1999 - Oct 2012 Number of Attributes/Columns in data: 10\n",
    "\n",
    "Attribute Information:\n",
    "\n",
    "1.  index\n",
    "2.  Id\n",
    "3.  ProductId - unique identifier for the product\n",
    "4.  UserId - unqiue identifier for the user\n",
    "5.  ProfileName\n",
    "6.  HelpfulnessNumerator - number of users who found the review helpful\n",
    "7.  HelpfulnessDenominator - number of users who indicated whether they found the review helpful or not\n",
    "8.  Score - rating between 1 and 5\n",
    "9.  Time - timestamp for the review\n",
    "10. Summary - brief summary of the review\n",
    "11. Text - text of the review\n",
    "12. ProcessedText - Cleaned & Preprocessed Text of the review\n",
    "\n",
    "**Objective: Perform following tasks on Amazon Food reviews:**<br>\n",
    "\n",
    "**Task 1. Sample 25000 reviews then find top 10000 words corresponding to top 10000 Inverse Document Frequency(IDF) values.**<br>\n",
    "**Task 2. Compute co-occurrence matrix on those 10000 words.** <br>\n",
    "**Task 3. Find optimal value of number of components(reduced dimensions) using maximum variance.**<br>\n",
    "**Task 4. Apply TruncatedSVD using optimal value of number of components.**<br>\n",
    "**Task 5. Cluster words using K-Means.**<br>\n",
    "\n",
    "[Q] How to determine if a review is positive or negative?\n",
    "\n",
    "[Ans] We could use the Score/Rating. A rating of 4 or 5 could be cosnidered a positive review. A review of 1 or 2 could be considered negative. A review of 3 is nuetral and ignored. This is an approximate and proxy way of determining the polarity (positivity/negativity) of a review.\n",
    "\n",
    "Loading the data\n",
    "\n",
    "SQLite Database\n",
    "\n",
    "In order to load the data, We have used the SQLITE dataset as it easier to query the data and visualise the data efficiently. Here as we only want to get the global sentiment of the recommendations (positive or negative), we will purposefully ignore all Scores equal to 3. If the score id above 3, then the recommendation wil be set to \"positive\". Otherwise, it will be set to \"negative\"."
   ]
  },
  {
   "cell_type": "code",
   "execution_count": 173,
   "metadata": {},
   "outputs": [],
   "source": [
    "import sqlite3\n",
    "import pandas as pd\n",
    "import numpy as np\n",
    "import matplotlib.pyplot as plt\n",
    "\n",
    "import re\n",
    "import string\n",
    "import nltk\n",
    "from nltk.corpus import stopwords\n",
    "from nltk.stem import PorterStemmer\n",
    "from sklearn.preprocessing import StandardScaler\n",
    "\n",
    "from sklearn.feature_extraction.text import TfidfVectorizer\n",
    "from sklearn.decomposition import TruncatedSVD\n",
    "from sklearn.cluster import KMeans\n",
    "from sklearn.utils.extmath import randomized_svd"
   ]
  },
  {
   "cell_type": "code",
   "execution_count": 174,
   "metadata": {},
   "outputs": [
    {
     "data": {
      "text/html": [
       "<div>\n",
       "<style scoped>\n",
       "    .dataframe tbody tr th:only-of-type {\n",
       "        vertical-align: middle;\n",
       "    }\n",
       "\n",
       "    .dataframe tbody tr th {\n",
       "        vertical-align: top;\n",
       "    }\n",
       "\n",
       "    .dataframe thead th {\n",
       "        text-align: right;\n",
       "    }\n",
       "</style>\n",
       "<table border=\"1\" class=\"dataframe\">\n",
       "  <thead>\n",
       "    <tr style=\"text-align: right;\">\n",
       "      <th></th>\n",
       "      <th>index</th>\n",
       "      <th>Id</th>\n",
       "      <th>ProductId</th>\n",
       "      <th>UserId</th>\n",
       "      <th>ProfileName</th>\n",
       "      <th>HelpfulnessNumerator</th>\n",
       "      <th>HelpfulnessDenominator</th>\n",
       "      <th>Score</th>\n",
       "      <th>Time</th>\n",
       "      <th>Summary</th>\n",
       "      <th>Text</th>\n",
       "      <th>ProcessedText</th>\n",
       "    </tr>\n",
       "  </thead>\n",
       "  <tbody>\n",
       "    <tr>\n",
       "      <th>0</th>\n",
       "      <td>0</td>\n",
       "      <td>1</td>\n",
       "      <td>B001E4KFG0</td>\n",
       "      <td>A3SGXH7AUHU8GW</td>\n",
       "      <td>delmartian</td>\n",
       "      <td>1</td>\n",
       "      <td>1</td>\n",
       "      <td>Positive</td>\n",
       "      <td>1303862400</td>\n",
       "      <td>Good Quality Dog Food</td>\n",
       "      <td>I have bought several of the Vitality canned d...</td>\n",
       "      <td>have bought sever the vital can dog food produ...</td>\n",
       "    </tr>\n",
       "    <tr>\n",
       "      <th>1</th>\n",
       "      <td>1</td>\n",
       "      <td>2</td>\n",
       "      <td>B00813GRG4</td>\n",
       "      <td>A1D87F6ZCVE5NK</td>\n",
       "      <td>dll pa</td>\n",
       "      <td>0</td>\n",
       "      <td>0</td>\n",
       "      <td>Negative</td>\n",
       "      <td>1346976000</td>\n",
       "      <td>Not as Advertised</td>\n",
       "      <td>Product arrived labeled as Jumbo Salted Peanut...</td>\n",
       "      <td>product arriv label jumbo salt peanut the pean...</td>\n",
       "    </tr>\n",
       "    <tr>\n",
       "      <th>2</th>\n",
       "      <td>2</td>\n",
       "      <td>3</td>\n",
       "      <td>B000LQOCH0</td>\n",
       "      <td>ABXLMWJIXXAIN</td>\n",
       "      <td>Natalia Corres \"Natalia Corres\"</td>\n",
       "      <td>1</td>\n",
       "      <td>1</td>\n",
       "      <td>Positive</td>\n",
       "      <td>1219017600</td>\n",
       "      <td>\"Delight\" says it all</td>\n",
       "      <td>This is a confection that has been around a fe...</td>\n",
       "      <td>this confect that has been around few centuri ...</td>\n",
       "    </tr>\n",
       "    <tr>\n",
       "      <th>3</th>\n",
       "      <td>4</td>\n",
       "      <td>5</td>\n",
       "      <td>B006K2ZZ7K</td>\n",
       "      <td>A1UQRSCLF8GW1T</td>\n",
       "      <td>Michael D. Bigham \"M. Wassir\"</td>\n",
       "      <td>0</td>\n",
       "      <td>0</td>\n",
       "      <td>Positive</td>\n",
       "      <td>1350777600</td>\n",
       "      <td>Great taffy</td>\n",
       "      <td>Great taffy at a great price.  There was a wid...</td>\n",
       "      <td>great taffi great price there was wide assort ...</td>\n",
       "    </tr>\n",
       "    <tr>\n",
       "      <th>4</th>\n",
       "      <td>5</td>\n",
       "      <td>6</td>\n",
       "      <td>B006K2ZZ7K</td>\n",
       "      <td>ADT0SRK1MGOEU</td>\n",
       "      <td>Twoapennything</td>\n",
       "      <td>0</td>\n",
       "      <td>0</td>\n",
       "      <td>Positive</td>\n",
       "      <td>1342051200</td>\n",
       "      <td>Nice Taffy</td>\n",
       "      <td>I got a wild hair for taffy and ordered this f...</td>\n",
       "      <td>got wild hair for taffi and order this five po...</td>\n",
       "    </tr>\n",
       "  </tbody>\n",
       "</table>\n",
       "</div>"
      ],
      "text/plain": [
       "   index  Id   ProductId          UserId                      ProfileName  \\\n",
       "0      0   1  B001E4KFG0  A3SGXH7AUHU8GW                       delmartian   \n",
       "1      1   2  B00813GRG4  A1D87F6ZCVE5NK                           dll pa   \n",
       "2      2   3  B000LQOCH0   ABXLMWJIXXAIN  Natalia Corres \"Natalia Corres\"   \n",
       "3      4   5  B006K2ZZ7K  A1UQRSCLF8GW1T    Michael D. Bigham \"M. Wassir\"   \n",
       "4      5   6  B006K2ZZ7K   ADT0SRK1MGOEU                   Twoapennything   \n",
       "\n",
       "   HelpfulnessNumerator  HelpfulnessDenominator     Score        Time  \\\n",
       "0                     1                       1  Positive  1303862400   \n",
       "1                     0                       0  Negative  1346976000   \n",
       "2                     1                       1  Positive  1219017600   \n",
       "3                     0                       0  Positive  1350777600   \n",
       "4                     0                       0  Positive  1342051200   \n",
       "\n",
       "                 Summary                                               Text  \\\n",
       "0  Good Quality Dog Food  I have bought several of the Vitality canned d...   \n",
       "1      Not as Advertised  Product arrived labeled as Jumbo Salted Peanut...   \n",
       "2  \"Delight\" says it all  This is a confection that has been around a fe...   \n",
       "3            Great taffy  Great taffy at a great price.  There was a wid...   \n",
       "4             Nice Taffy  I got a wild hair for taffy and ordered this f...   \n",
       "\n",
       "                                       ProcessedText  \n",
       "0  have bought sever the vital can dog food produ...  \n",
       "1  product arriv label jumbo salt peanut the pean...  \n",
       "2  this confect that has been around few centuri ...  \n",
       "3  great taffi great price there was wide assort ...  \n",
       "4  got wild hair for taffi and order this five po...  "
      ]
     },
     "execution_count": 174,
     "metadata": {},
     "output_type": "execute_result"
    }
   ],
   "source": [
    "connection = sqlite3.connect('FinalAmazonFoodReviewsDataset.sqlite')\n",
    "\n",
    "data = pd.read_sql_query(\"SELECT * FROM Reviews\", connection)\n",
    "data.head()"
   ]
  },
  {
   "cell_type": "code",
   "execution_count": 175,
   "metadata": {},
   "outputs": [
    {
     "name": "stdout",
     "output_type": "stream",
     "text": [
      "(364171, 12)\n",
      "Positive    307061\n",
      "Negative     57110\n",
      "Name: Score, dtype: int64\n"
     ]
    }
   ],
   "source": [
    "print(data.shape)\n",
    "print(data[\"Score\"].value_counts())"
   ]
  },
  {
   "cell_type": "code",
   "execution_count": 176,
   "metadata": {},
   "outputs": [
    {
     "name": "stdout",
     "output_type": "stream",
     "text": [
      "{'against', 'couldn', 're', 't', \"won't\", 'i', \"that'll\", 'ain', 'its', 'up', 'isn', 'from', 'yours', 'doesn', 'or', 'why', 'haven', 'between', 'me', 'that', 'weren', 'what', 'not', 'other', 'm', \"you'd\", 'we', 'been', 'theirs', 'she', 'they', 'out', \"should've\", 've', \"doesn't\", 'mightn', 'on', \"it's\", 'such', 'about', \"hadn't\", 'hasn', 'herself', 'has', 'all', \"she's\", \"you'll\", \"weren't\", 'myself', 'above', 'him', 'below', 'does', 'his', 'very', \"hasn't\", 's', 'just', 'this', 'of', 'o', 'it', 'do', \"mightn't\", 'the', 'through', 'own', 'no', 'only', \"didn't\", 'down', 'any', 'your', 'didn', 'y', 'mustn', 'himself', 'should', 'needn', 'our', 'under', 'there', 'some', 'as', 'my', 'because', 'until', 'when', \"you've\", \"aren't\", 'was', 'then', 'itself', 'shouldn', \"mustn't\", 'few', 'her', 'over', 'd', 'll', 'by', 'having', 'he', \"haven't\", 'don', 'than', 'once', 'each', 'for', 'will', 'won', \"shan't\", 'shan', \"wasn't\", 'can', 'at', 'these', 'and', 'wouldn', 'themselves', 'being', 'same', 'am', 'had', 'while', \"isn't\", 'be', \"don't\", 'now', 'ma', 'so', 'have', 'where', 'ourselves', 'you', 'in', 'whom', \"needn't\", 'more', 'ours', 'too', 'hadn', 'but', 'who', 'hers', 'into', \"couldn't\", 'further', 'off', 'their', \"you're\", 'did', 'during', 'is', 'here', \"shouldn't\", 'after', 'a', 'aren', 'yourselves', 'them', 'an', 'how', 'wasn', 'before', 'those', \"wouldn't\", 'if', 'again', 'nor', 'with', 'were', 'to', 'most', 'both', 'which', 'are', 'yourself', 'doing'}\n"
     ]
    }
   ],
   "source": [
    "stop = set(stopwords.words(\"english\")) #set of stopwords\n",
    "sno = nltk.stem.SnowballStemmer(\"english\")\n",
    "print(stop)"
   ]
  },
  {
   "cell_type": "code",
   "execution_count": 177,
   "metadata": {},
   "outputs": [],
   "source": [
    "def cleanhtml(sentence): #function to clean htmltags\n",
    "    cleanr = re.compile(\"<.*?>\")\n",
    "    cleantext = re.sub(cleanr, \" \", sentence)\n",
    "    return cleantext\n",
    "\n",
    "def cleanpunc(sentence): #function to clean the word of any punctuation or special characters\n",
    "    cleaned = re.sub(r'[?|!|\\'|\"|#]',r'',sentence)\n",
    "    cleaned = re.sub(r'[.|,|)|(|\\|/]',r' ',cleaned)\n",
    "    return  cleaned"
   ]
  },
  {
   "cell_type": "code",
   "execution_count": 178,
   "metadata": {},
   "outputs": [],
   "source": [
    "#Code for removing stop-words from 'Text' column\n",
    "\n",
    "i = 0\n",
    "final_string = []\n",
    "s = \"\"\n",
    "for sentence in data[\"Text\"].values:\n",
    "    filteredSentence = []\n",
    "    EachReviewText = \"\"\n",
    "    sentenceHTMLCleaned = cleanhtml(sentence)\n",
    "    for eachWord in sentenceHTMLCleaned.split():\n",
    "        for sentencePunctCleaned in cleanpunc(eachWord).split():\n",
    "            if (sentencePunctCleaned.isalpha()) & (len(sentencePunctCleaned)>2):\n",
    "                if sentencePunctCleaned.lower() not in stop:\n",
    "                    sentenceLower = sentencePunctCleaned.lower()\n",
    "                    s = (sno.stem(sentenceLower))\n",
    "                    filteredSentence.append(s)\n",
    "                     \n",
    "    EachReviewText = ' '.join(filteredSentence)\n",
    "    final_string.append(EachReviewText)"
   ]
  },
  {
   "cell_type": "code",
   "execution_count": 179,
   "metadata": {},
   "outputs": [],
   "source": [
    "data[\"CleanedText\"] = final_string"
   ]
  },
  {
   "cell_type": "code",
   "execution_count": 180,
   "metadata": {},
   "outputs": [
    {
     "data": {
      "text/html": [
       "<div>\n",
       "<style scoped>\n",
       "    .dataframe tbody tr th:only-of-type {\n",
       "        vertical-align: middle;\n",
       "    }\n",
       "\n",
       "    .dataframe tbody tr th {\n",
       "        vertical-align: top;\n",
       "    }\n",
       "\n",
       "    .dataframe thead th {\n",
       "        text-align: right;\n",
       "    }\n",
       "</style>\n",
       "<table border=\"1\" class=\"dataframe\">\n",
       "  <thead>\n",
       "    <tr style=\"text-align: right;\">\n",
       "      <th></th>\n",
       "      <th>index</th>\n",
       "      <th>Id</th>\n",
       "      <th>ProductId</th>\n",
       "      <th>UserId</th>\n",
       "      <th>ProfileName</th>\n",
       "      <th>HelpfulnessNumerator</th>\n",
       "      <th>HelpfulnessDenominator</th>\n",
       "      <th>Score</th>\n",
       "      <th>Time</th>\n",
       "      <th>Summary</th>\n",
       "      <th>Text</th>\n",
       "      <th>ProcessedText</th>\n",
       "      <th>CleanedText</th>\n",
       "    </tr>\n",
       "  </thead>\n",
       "  <tbody>\n",
       "    <tr>\n",
       "      <th>0</th>\n",
       "      <td>0</td>\n",
       "      <td>1</td>\n",
       "      <td>B001E4KFG0</td>\n",
       "      <td>A3SGXH7AUHU8GW</td>\n",
       "      <td>delmartian</td>\n",
       "      <td>1</td>\n",
       "      <td>1</td>\n",
       "      <td>Positive</td>\n",
       "      <td>1303862400</td>\n",
       "      <td>Good Quality Dog Food</td>\n",
       "      <td>I have bought several of the Vitality canned d...</td>\n",
       "      <td>have bought sever the vital can dog food produ...</td>\n",
       "      <td>bought sever vital can dog food product found ...</td>\n",
       "    </tr>\n",
       "    <tr>\n",
       "      <th>1</th>\n",
       "      <td>1</td>\n",
       "      <td>2</td>\n",
       "      <td>B00813GRG4</td>\n",
       "      <td>A1D87F6ZCVE5NK</td>\n",
       "      <td>dll pa</td>\n",
       "      <td>0</td>\n",
       "      <td>0</td>\n",
       "      <td>Negative</td>\n",
       "      <td>1346976000</td>\n",
       "      <td>Not as Advertised</td>\n",
       "      <td>Product arrived labeled as Jumbo Salted Peanut...</td>\n",
       "      <td>product arriv label jumbo salt peanut the pean...</td>\n",
       "      <td>product arriv label jumbo salt peanut peanut a...</td>\n",
       "    </tr>\n",
       "    <tr>\n",
       "      <th>2</th>\n",
       "      <td>2</td>\n",
       "      <td>3</td>\n",
       "      <td>B000LQOCH0</td>\n",
       "      <td>ABXLMWJIXXAIN</td>\n",
       "      <td>Natalia Corres \"Natalia Corres\"</td>\n",
       "      <td>1</td>\n",
       "      <td>1</td>\n",
       "      <td>Positive</td>\n",
       "      <td>1219017600</td>\n",
       "      <td>\"Delight\" says it all</td>\n",
       "      <td>This is a confection that has been around a fe...</td>\n",
       "      <td>this confect that has been around few centuri ...</td>\n",
       "      <td>confect around centuri light pillowi citrus ge...</td>\n",
       "    </tr>\n",
       "    <tr>\n",
       "      <th>3</th>\n",
       "      <td>4</td>\n",
       "      <td>5</td>\n",
       "      <td>B006K2ZZ7K</td>\n",
       "      <td>A1UQRSCLF8GW1T</td>\n",
       "      <td>Michael D. Bigham \"M. Wassir\"</td>\n",
       "      <td>0</td>\n",
       "      <td>0</td>\n",
       "      <td>Positive</td>\n",
       "      <td>1350777600</td>\n",
       "      <td>Great taffy</td>\n",
       "      <td>Great taffy at a great price.  There was a wid...</td>\n",
       "      <td>great taffi great price there was wide assort ...</td>\n",
       "      <td>great taffi great price wide assort yummi taff...</td>\n",
       "    </tr>\n",
       "    <tr>\n",
       "      <th>4</th>\n",
       "      <td>5</td>\n",
       "      <td>6</td>\n",
       "      <td>B006K2ZZ7K</td>\n",
       "      <td>ADT0SRK1MGOEU</td>\n",
       "      <td>Twoapennything</td>\n",
       "      <td>0</td>\n",
       "      <td>0</td>\n",
       "      <td>Positive</td>\n",
       "      <td>1342051200</td>\n",
       "      <td>Nice Taffy</td>\n",
       "      <td>I got a wild hair for taffy and ordered this f...</td>\n",
       "      <td>got wild hair for taffi and order this five po...</td>\n",
       "      <td>got wild hair taffi order five pound bag taffi...</td>\n",
       "    </tr>\n",
       "  </tbody>\n",
       "</table>\n",
       "</div>"
      ],
      "text/plain": [
       "   index  Id   ProductId          UserId                      ProfileName  \\\n",
       "0      0   1  B001E4KFG0  A3SGXH7AUHU8GW                       delmartian   \n",
       "1      1   2  B00813GRG4  A1D87F6ZCVE5NK                           dll pa   \n",
       "2      2   3  B000LQOCH0   ABXLMWJIXXAIN  Natalia Corres \"Natalia Corres\"   \n",
       "3      4   5  B006K2ZZ7K  A1UQRSCLF8GW1T    Michael D. Bigham \"M. Wassir\"   \n",
       "4      5   6  B006K2ZZ7K   ADT0SRK1MGOEU                   Twoapennything   \n",
       "\n",
       "   HelpfulnessNumerator  HelpfulnessDenominator     Score        Time  \\\n",
       "0                     1                       1  Positive  1303862400   \n",
       "1                     0                       0  Negative  1346976000   \n",
       "2                     1                       1  Positive  1219017600   \n",
       "3                     0                       0  Positive  1350777600   \n",
       "4                     0                       0  Positive  1342051200   \n",
       "\n",
       "                 Summary                                               Text  \\\n",
       "0  Good Quality Dog Food  I have bought several of the Vitality canned d...   \n",
       "1      Not as Advertised  Product arrived labeled as Jumbo Salted Peanut...   \n",
       "2  \"Delight\" says it all  This is a confection that has been around a fe...   \n",
       "3            Great taffy  Great taffy at a great price.  There was a wid...   \n",
       "4             Nice Taffy  I got a wild hair for taffy and ordered this f...   \n",
       "\n",
       "                                       ProcessedText  \\\n",
       "0  have bought sever the vital can dog food produ...   \n",
       "1  product arriv label jumbo salt peanut the pean...   \n",
       "2  this confect that has been around few centuri ...   \n",
       "3  great taffi great price there was wide assort ...   \n",
       "4  got wild hair for taffi and order this five po...   \n",
       "\n",
       "                                         CleanedText  \n",
       "0  bought sever vital can dog food product found ...  \n",
       "1  product arriv label jumbo salt peanut peanut a...  \n",
       "2  confect around centuri light pillowi citrus ge...  \n",
       "3  great taffi great price wide assort yummi taff...  \n",
       "4  got wild hair taffi order five pound bag taffi...  "
      ]
     },
     "execution_count": 180,
     "metadata": {},
     "output_type": "execute_result"
    }
   ],
   "source": [
    "data.head()"
   ]
  },
  {
   "cell_type": "markdown",
   "metadata": {},
   "source": [
    "## Task 1. Sample 25000 reviews then find top 10000 words corresponding to top 10000 Inverse Document Frequency(IDF) values."
   ]
  },
  {
   "cell_type": "code",
   "execution_count": 181,
   "metadata": {},
   "outputs": [
    {
     "data": {
      "text/html": [
       "<div>\n",
       "<style scoped>\n",
       "    .dataframe tbody tr th:only-of-type {\n",
       "        vertical-align: middle;\n",
       "    }\n",
       "\n",
       "    .dataframe tbody tr th {\n",
       "        vertical-align: top;\n",
       "    }\n",
       "\n",
       "    .dataframe thead th {\n",
       "        text-align: right;\n",
       "    }\n",
       "</style>\n",
       "<table border=\"1\" class=\"dataframe\">\n",
       "  <thead>\n",
       "    <tr style=\"text-align: right;\">\n",
       "      <th></th>\n",
       "      <th>index</th>\n",
       "      <th>Id</th>\n",
       "      <th>ProductId</th>\n",
       "      <th>UserId</th>\n",
       "      <th>ProfileName</th>\n",
       "      <th>HelpfulnessNumerator</th>\n",
       "      <th>HelpfulnessDenominator</th>\n",
       "      <th>Score</th>\n",
       "      <th>Time</th>\n",
       "      <th>Summary</th>\n",
       "      <th>Text</th>\n",
       "      <th>ProcessedText</th>\n",
       "      <th>CleanedText</th>\n",
       "    </tr>\n",
       "  </thead>\n",
       "  <tbody>\n",
       "    <tr>\n",
       "      <th>316493</th>\n",
       "      <td>455533</td>\n",
       "      <td>492508</td>\n",
       "      <td>B0000YUTUW</td>\n",
       "      <td>A2QNPL3DCV5ITK</td>\n",
       "      <td>L. Such</td>\n",
       "      <td>0</td>\n",
       "      <td>0</td>\n",
       "      <td>Negative</td>\n",
       "      <td>1244332800</td>\n",
       "      <td>Not what I thought for the price</td>\n",
       "      <td>I was disappointed, the suckers are about 1 to...</td>\n",
       "      <td>was disappoint the sucker are about that and t...</td>\n",
       "      <td>disappoint sucker stick plastic thought least ...</td>\n",
       "    </tr>\n",
       "    <tr>\n",
       "      <th>73322</th>\n",
       "      <td>104508</td>\n",
       "      <td>113463</td>\n",
       "      <td>B000FL08B0</td>\n",
       "      <td>A109L3WXD1SJFU</td>\n",
       "      <td>Cookbook Gal \"Cookbook Gal\"</td>\n",
       "      <td>0</td>\n",
       "      <td>0</td>\n",
       "      <td>Positive</td>\n",
       "      <td>1212019200</td>\n",
       "      <td>Great product, poorly packaged</td>\n",
       "      <td>After reading a previous review, I was excited...</td>\n",
       "      <td>after read previous review was excit find out ...</td>\n",
       "      <td>read previous review excit find compani solv p...</td>\n",
       "    </tr>\n",
       "    <tr>\n",
       "      <th>323959</th>\n",
       "      <td>466801</td>\n",
       "      <td>504764</td>\n",
       "      <td>B000H241DS</td>\n",
       "      <td>A1SQZTQCLKWTED</td>\n",
       "      <td>Ella B.</td>\n",
       "      <td>2</td>\n",
       "      <td>5</td>\n",
       "      <td>Negative</td>\n",
       "      <td>1323993600</td>\n",
       "      <td>Poor Quality Control</td>\n",
       "      <td>I gave this product poor reviews because they ...</td>\n",
       "      <td>gave this product poor review becaus they not ...</td>\n",
       "      <td>gave product poor review allow return yet prod...</td>\n",
       "    </tr>\n",
       "    <tr>\n",
       "      <th>176289</th>\n",
       "      <td>249921</td>\n",
       "      <td>270984</td>\n",
       "      <td>B000EQSAIY</td>\n",
       "      <td>A3M91P9K64YADW</td>\n",
       "      <td>carol998</td>\n",
       "      <td>0</td>\n",
       "      <td>0</td>\n",
       "      <td>Positive</td>\n",
       "      <td>1320019200</td>\n",
       "      <td>What a wonderful flavor</td>\n",
       "      <td>as a finishing salt.  Never have tasted a salt...</td>\n",
       "      <td>finish salt never have tast salt with subtl al...</td>\n",
       "      <td>finish salt never tast salt subtl almost sweet...</td>\n",
       "    </tr>\n",
       "    <tr>\n",
       "      <th>330298</th>\n",
       "      <td>476046</td>\n",
       "      <td>514800</td>\n",
       "      <td>B000CSEFQ0</td>\n",
       "      <td>A2B1I205ZNBVLY</td>\n",
       "      <td>Rudy Bonn</td>\n",
       "      <td>2</td>\n",
       "      <td>3</td>\n",
       "      <td>Negative</td>\n",
       "      <td>1347062400</td>\n",
       "      <td>What is in it?</td>\n",
       "      <td>Kellogg's cereals contain genetically modified...</td>\n",
       "      <td>kellogg cereal contain genet modifi organ thos...</td>\n",
       "      <td>kellogg cereal contain genet modifi organ crop...</td>\n",
       "    </tr>\n",
       "  </tbody>\n",
       "</table>\n",
       "</div>"
      ],
      "text/plain": [
       "         index      Id   ProductId          UserId  \\\n",
       "316493  455533  492508  B0000YUTUW  A2QNPL3DCV5ITK   \n",
       "73322   104508  113463  B000FL08B0  A109L3WXD1SJFU   \n",
       "323959  466801  504764  B000H241DS  A1SQZTQCLKWTED   \n",
       "176289  249921  270984  B000EQSAIY  A3M91P9K64YADW   \n",
       "330298  476046  514800  B000CSEFQ0  A2B1I205ZNBVLY   \n",
       "\n",
       "                        ProfileName  HelpfulnessNumerator  \\\n",
       "316493                      L. Such                     0   \n",
       "73322   Cookbook Gal \"Cookbook Gal\"                     0   \n",
       "323959                      Ella B.                     2   \n",
       "176289                     carol998                     0   \n",
       "330298                    Rudy Bonn                     2   \n",
       "\n",
       "        HelpfulnessDenominator     Score        Time  \\\n",
       "316493                       0  Negative  1244332800   \n",
       "73322                        0  Positive  1212019200   \n",
       "323959                       5  Negative  1323993600   \n",
       "176289                       0  Positive  1320019200   \n",
       "330298                       3  Negative  1347062400   \n",
       "\n",
       "                                 Summary  \\\n",
       "316493  Not what I thought for the price   \n",
       "73322     Great product, poorly packaged   \n",
       "323959              Poor Quality Control   \n",
       "176289           What a wonderful flavor   \n",
       "330298                    What is in it?   \n",
       "\n",
       "                                                     Text  \\\n",
       "316493  I was disappointed, the suckers are about 1 to...   \n",
       "73322   After reading a previous review, I was excited...   \n",
       "323959  I gave this product poor reviews because they ...   \n",
       "176289  as a finishing salt.  Never have tasted a salt...   \n",
       "330298  Kellogg's cereals contain genetically modified...   \n",
       "\n",
       "                                            ProcessedText  \\\n",
       "316493  was disappoint the sucker are about that and t...   \n",
       "73322   after read previous review was excit find out ...   \n",
       "323959  gave this product poor review becaus they not ...   \n",
       "176289  finish salt never have tast salt with subtl al...   \n",
       "330298  kellogg cereal contain genet modifi organ thos...   \n",
       "\n",
       "                                              CleanedText  \n",
       "316493  disappoint sucker stick plastic thought least ...  \n",
       "73322   read previous review excit find compani solv p...  \n",
       "323959  gave product poor review allow return yet prod...  \n",
       "176289  finish salt never tast salt subtl almost sweet...  \n",
       "330298  kellogg cereal contain genet modifi organ crop...  "
      ]
     },
     "execution_count": 181,
     "metadata": {},
     "output_type": "execute_result"
    }
   ],
   "source": [
    "#taking 25000 random samples\n",
    "Data = data.sample(n = 25000)\n",
    "Data.head()"
   ]
  },
  {
   "cell_type": "code",
   "execution_count": 182,
   "metadata": {},
   "outputs": [
    {
     "name": "stdout",
     "output_type": "stream",
     "text": [
      "(25000, 13)\n",
      "Positive    21060\n",
      "Negative     3940\n",
      "Name: Score, dtype: int64\n"
     ]
    }
   ],
   "source": [
    "print(Data.shape)\n",
    "print(Data[\"Score\"].value_counts())"
   ]
  },
  {
   "cell_type": "code",
   "execution_count": 183,
   "metadata": {},
   "outputs": [],
   "source": [
    "TFIDF_Vec= TfidfVectorizer(ngram_range=(1,1), stop_words = \"english\")\n",
    "TFIDF_Count = TFIDF_Vec.fit_transform(Data[\"CleanedText\"].values)"
   ]
  },
  {
   "cell_type": "code",
   "execution_count": 184,
   "metadata": {},
   "outputs": [
    {
     "data": {
      "text/plain": [
       "(25000, 19690)"
      ]
     },
     "execution_count": 184,
     "metadata": {},
     "output_type": "execute_result"
    }
   ],
   "source": [
    "TFIDF_Count.shape"
   ]
  },
  {
   "cell_type": "code",
   "execution_count": 185,
   "metadata": {},
   "outputs": [],
   "source": [
    "features = TFIDF_Vec.get_feature_names()"
   ]
  },
  {
   "cell_type": "code",
   "execution_count": 186,
   "metadata": {},
   "outputs": [],
   "source": [
    "idfValues = TFIDF_Vec.idf_"
   ]
  },
  {
   "cell_type": "code",
   "execution_count": 189,
   "metadata": {},
   "outputs": [],
   "source": [
    "d = dict(zip(features, 11 - idfValues))"
   ]
  },
  {
   "cell_type": "code",
   "execution_count": 190,
   "metadata": {},
   "outputs": [],
   "source": [
    "sortedDict = sorted(d.items(), key = lambda d: d[1], reverse = True)\n",
    "#here we are sorting a dictionary where first value(keys) are words and second value(values) are IDF values. There is a 'key'\n",
    "#argument in sorted function takes a function which will be used to determine according to what values to sort by. Here, we have\n",
    "#given an anonymous function which takes the data followed by colon then d[1] means in our data second value is idf values so we\n",
    "#are telling the sorted function to sort the dictionary according to idf values."
   ]
  },
  {
   "cell_type": "code",
   "execution_count": 191,
   "metadata": {},
   "outputs": [],
   "source": [
    "sortedDict = sortedDict[0:10000]\n",
    "#taking top 10000 words corresponding to top 10000 Inverse Document Frequency(IDF) values."
   ]
  },
  {
   "cell_type": "code",
   "execution_count": 192,
   "metadata": {},
   "outputs": [
    {
     "data": {
      "text/plain": [
       "10000"
      ]
     },
     "execution_count": 192,
     "metadata": {},
     "output_type": "execute_result"
    }
   ],
   "source": [
    "len(sortedDict)"
   ]
  },
  {
   "cell_type": "code",
   "execution_count": 194,
   "metadata": {},
   "outputs": [
    {
     "name": "stdout",
     "output_type": "stream",
     "text": [
      "('like', 8.864144163134325)\n",
      "('tast', 8.83904668593449)\n",
      "('good', 8.69756551429628)\n",
      "('love', 8.628436018583539)\n",
      "('great', 8.60288776650821)\n",
      "('flavor', 8.58575987042638)\n",
      "('product', 8.55654487219033)\n",
      "('use', 8.49829968053931)\n",
      "('tri', 8.478532965688592)\n",
      "('make', 8.317306026034618)\n"
     ]
    }
   ],
   "source": [
    "for i in range(10):\n",
    "    print(sortedDict[i])"
   ]
  },
  {
   "cell_type": "code",
   "execution_count": 195,
   "metadata": {},
   "outputs": [
    {
     "name": "stdout",
     "output_type": "stream",
     "text": [
      "like\n",
      "tast\n",
      "good\n",
      "love\n",
      "great\n",
      "flavor\n",
      "product\n",
      "use\n",
      "tri\n",
      "make\n"
     ]
    }
   ],
   "source": [
    "for i in range(10):\n",
    "    print(sortedDict[i][0])"
   ]
  },
  {
   "cell_type": "code",
   "execution_count": 196,
   "metadata": {},
   "outputs": [],
   "source": [
    "wordList_idf = []\n",
    "for i in range(len(sortedDict)):\n",
    "    wordList_idf.append(sortedDict[i][0])"
   ]
  },
  {
   "cell_type": "code",
   "execution_count": 197,
   "metadata": {},
   "outputs": [
    {
     "data": {
      "text/plain": [
       "10000"
      ]
     },
     "execution_count": 197,
     "metadata": {},
     "output_type": "execute_result"
    }
   ],
   "source": [
    "len(wordList_idf)"
   ]
  },
  {
   "cell_type": "markdown",
   "metadata": {},
   "source": [
    "## Task 2. Compute co-occurrence matrix on those 5000 words."
   ]
  },
  {
   "cell_type": "code",
   "execution_count": 198,
   "metadata": {},
   "outputs": [
    {
     "data": {
      "text/plain": [
       "316493    disappoint sucker stick plastic thought least ...\n",
       "73322     read previous review excit find compani solv p...\n",
       "323959    gave product poor review allow return yet prod...\n",
       "176289    finish salt never tast salt subtl almost sweet...\n",
       "330298    kellogg cereal contain genet modifi organ crop...\n",
       "Name: CleanedText, dtype: object"
      ]
     },
     "execution_count": 198,
     "metadata": {},
     "output_type": "execute_result"
    }
   ],
   "source": [
    "Data[\"CleanedText\"].head()"
   ]
  },
  {
   "cell_type": "code",
   "execution_count": 199,
   "metadata": {},
   "outputs": [
    {
     "data": {
      "text/plain": [
       "'finish salt never tast salt subtl almost sweet flavor put spare finish toss salad fish edaman winter squash potato sweet white truli gem first tri year ago ran couldnt find anywher bought give gift thank'"
      ]
     },
     "execution_count": 199,
     "metadata": {},
     "output_type": "execute_result"
    }
   ],
   "source": [
    "sent = Data[\"CleanedText\"].iloc[3]\n",
    "sent"
   ]
  },
  {
   "cell_type": "code",
   "execution_count": 200,
   "metadata": {},
   "outputs": [
    {
     "data": {
      "text/plain": [
       "35"
      ]
     },
     "execution_count": 200,
     "metadata": {},
     "output_type": "execute_result"
    }
   ],
   "source": [
    "len(sent.split())"
   ]
  },
  {
   "cell_type": "code",
   "execution_count": 201,
   "metadata": {},
   "outputs": [],
   "source": [
    "#checking for any empty text\n",
    "cnt = 0\n",
    "for i in Data[\"CleanedText\"]:\n",
    "    cnt += 1\n",
    "    if len(i.split()) == 0:\n",
    "        print(cnt)"
   ]
  },
  {
   "cell_type": "code",
   "execution_count": 202,
   "metadata": {},
   "outputs": [],
   "source": [
    "def co_occurrence(sentence_array, window_size, word_list):\n",
    "    \n",
    "    co_occ = np.zeros((len(word_list), len(word_list)), dtype = int)\n",
    "    \n",
    "    for i in sentence_array:\n",
    "        for word in i.split():\n",
    "            if word in word_list:\n",
    "                row = word_list.index(word)   #this will give index of a word in word_list array\n",
    "                wordIndexInSentence = i.split().index(word)  #this will give index of a word in sentence 'i'\n",
    "                \n",
    "                window_left = wordIndexInSentence - window_size\n",
    "                if window_left < 0:\n",
    "                    window_left = 0\n",
    "                    \n",
    "                window_right = wordIndexInSentence + window_size\n",
    "                if window_right > len(i.split()):\n",
    "                    window_right = len(i.split())\n",
    "                    \n",
    "                for context_word in i.split()[window_left:window_right]:\n",
    "                    if context_word in word_list:\n",
    "                        column = word_list.index(context_word)\n",
    "                        co_occ[row][column] += 1\n",
    "    return co_occ\n",
    "\n",
    "#this is a function to create co-occurrence matrix of all the words which will be passed into \"word_list\" argument.\n",
    "#basically this function takes three arguments: \n",
    "\n",
    "#First: \"sentence_series\"(numpy ndarray) which is an array which should contain all the reviews/sentences. \n",
    "\n",
    "#Second: \"window_size\"(integer) this determines the context size upto which you may want to find the co-occurring words.\n",
    "\n",
    "#Third: \"word_list\"(list) this should contain list of words which you may want to find as co-occurring.\n",
    "\n",
    "#it returns co-occurrence matrix which is a square matrix and each row and column corresponds to a word as defined in \n",
    "#\"word_list\""
   ]
  },
  {
   "cell_type": "code",
   "execution_count": 204,
   "metadata": {},
   "outputs": [
    {
     "name": "stdout",
     "output_type": "stream",
     "text": [
      "<class 'numpy.ndarray'>\n",
      "(25000,)\n"
     ]
    }
   ],
   "source": [
    "sent_series = Data[\"CleanedText\"].values\n",
    "print(type(sent_series))\n",
    "print(sent_series.shape)"
   ]
  },
  {
   "cell_type": "code",
   "execution_count": 205,
   "metadata": {},
   "outputs": [
    {
     "name": "stdout",
     "output_type": "stream",
     "text": [
      "10000\n"
     ]
    }
   ],
   "source": [
    "print(len(wordList_idf))"
   ]
  },
  {
   "cell_type": "code",
   "execution_count": 206,
   "metadata": {},
   "outputs": [],
   "source": [
    "co_occur_matrix = co_occurrence(sent_series, 5, wordList_idf)"
   ]
  },
  {
   "cell_type": "code",
   "execution_count": 207,
   "metadata": {},
   "outputs": [
    {
     "name": "stdout",
     "output_type": "stream",
     "text": [
      "[[13064  3063   890 ...     0     0     0]\n",
      " [ 2905 12236  1889 ...     0     3     0]\n",
      " [  956  1898  9816 ...     0     0     0]\n",
      " ...\n",
      " [    0     0     0 ...     2     0     0]\n",
      " [    0     1     0 ...     0     2     0]\n",
      " [    0     0     0 ...     0     0     2]]\n",
      "(10000, 10000)\n"
     ]
    }
   ],
   "source": [
    "print(co_occur_matrix)\n",
    "print(co_occur_matrix.shape)"
   ]
  },
  {
   "cell_type": "markdown",
   "metadata": {},
   "source": [
    "## Task 3. Find optimal value of number of components(reduced dimensions) using maximum variance."
   ]
  },
  {
   "cell_type": "code",
   "execution_count": 210,
   "metadata": {},
   "outputs": [
    {
     "data": {
      "text/plain": [
       "[(20, 0.680916805693981),\n",
       " (40, 0.7795932630180603),\n",
       " (60, 0.8274989266485523),\n",
       " (80, 0.8606353176834907),\n",
       " (100, 0.8838791551841226),\n",
       " (120, 0.9007604176008285),\n",
       " (140, 0.9140905587270168),\n",
       " (160, 0.9252313729437507),\n",
       " (180, 0.9340579389749889),\n",
       " (200, 0.9413266320118187),\n",
       " (220, 0.9473163368196609),\n",
       " (240, 0.952410173701445)]"
      ]
     },
     "execution_count": 210,
     "metadata": {},
     "output_type": "execute_result"
    }
   ],
   "source": [
    "k = [i for i in range(20,241,20)]\n",
    "components = []\n",
    "total_var = []\n",
    "\n",
    "for j in k:\n",
    "    svd = TruncatedSVD(n_components=j, n_iter=10)\n",
    "    svd.fit(co_occur_matrix)\n",
    "    var_perc = sum(svd.explained_variance_ratio_)\n",
    "    components.append(j)\n",
    "    total_var.append(var_perc)\n",
    "    \n",
    "xy = list(zip(components, total_var))\n",
    "xy"
   ]
  },
  {
   "cell_type": "code",
   "execution_count": 211,
   "metadata": {},
   "outputs": [
    {
     "data": {
      "image/png": "[encoded data removed]",
      "text/plain": [
       "<Figure size 1008x864 with 1 Axes>"
      ]
     },
     "metadata": {},
     "output_type": "display_data"
    }
   ],
   "source": [
    "plt.figure(figsize = (14, 12))\n",
    "plt.plot(components, total_var)\n",
    "plt.title(\"Number of Components VS Total Explained Variance\", fontsize=25)\n",
    "plt.xlabel(\"Number of Components\", fontsize=25)\n",
    "plt.ylabel(\"Total Explained Variance\", fontsize=25)\n",
    "plt.grid(linestyle='-', linewidth=0.5)"
   ]
  },
  {
   "cell_type": "markdown",
   "metadata": {},
   "source": [
    "**We can see from the graph that we are getting approximately 91% variance at number of components equal to 140. It further means that we are preserving 91% of data even by reducing our dimension from 5000 to 140. Therefore, we are considering our number of components to be 140**"
   ]
  },
  {
   "cell_type": "markdown",
   "metadata": {},
   "source": [
    "## Task 4. Apply TruncatedSVD using optimal value of number of components."
   ]
  },
  {
   "cell_type": "code",
   "execution_count": 218,
   "metadata": {},
   "outputs": [
    {
     "name": "stdout",
     "output_type": "stream",
     "text": [
      "Percentage of variance explained = 91.40980500709482%\n"
     ]
    }
   ],
   "source": [
    "svd = TruncatedSVD(n_components = 140, n_iter = 10)\n",
    "svd.fit(co_occur_matrix)\n",
    "var_perc = sum(svd.explained_variance_ratio_)\n",
    "print(\"Percentage of variance explained = \"+str(var_perc * 100)+\"%\")"
   ]
  },
  {
   "cell_type": "code",
   "execution_count": 219,
   "metadata": {},
   "outputs": [
    {
     "data": {
      "text/plain": [
       "(10000, 140)"
      ]
     },
     "execution_count": 219,
     "metadata": {},
     "output_type": "execute_result"
    }
   ],
   "source": [
    "U, Sigma, VT = randomized_svd(co_occur_matrix, n_components = 140, n_iter = 10)\n",
    "U.shape"
   ]
  },
  {
   "cell_type": "markdown",
   "metadata": {},
   "source": [
    "## Task 5. Cluster words using K-Means."
   ]
  },
  {
   "cell_type": "code",
   "execution_count": 222,
   "metadata": {},
   "outputs": [
    {
     "name": "stdout",
     "output_type": "stream",
     "text": [
      "(10000, 140)\n",
      "<class 'numpy.ndarray'>\n"
     ]
    }
   ],
   "source": [
    "Data_Std = StandardScaler(with_mean = False).fit_transform(U)\n",
    "print(Data_Std.shape)\n",
    "print(type(Data_Std))"
   ]
  },
  {
   "cell_type": "code",
   "execution_count": 223,
   "metadata": {},
   "outputs": [],
   "source": [
    "#taking number of cluster = 1000\n",
    "KMeans_Apply = KMeans(n_clusters=1000, init = \"k-means++\", max_iter = 100, n_jobs = -1).fit(Data_Std)"
   ]
  },
  {
   "cell_type": "code",
   "execution_count": 240,
   "metadata": {
    "scrolled": false
   },
   "outputs": [],
   "source": [
    "Cluster_indices = {i: np.where(KMeans_Apply.labels_ == i) for i in range(KMeans_Apply.n_clusters)}"
   ]
  },
  {
   "cell_type": "markdown",
   "metadata": {},
   "source": [
    "### Checking for similarity of words in clusters manually"
   ]
  },
  {
   "cell_type": "code",
   "execution_count": 234,
   "metadata": {},
   "outputs": [
    {
     "name": "stdout",
     "output_type": "stream",
     "text": [
      "understand\n",
      "sorri\n",
      "hesit\n",
      "warn\n",
      "despit\n",
      "talk\n",
      "trust\n",
      "rare\n",
      "post\n",
      "skeptic\n",
      "regard\n",
      "trap\n",
      "earlier\n",
      "vine\n",
      "titl\n",
      "wrote\n",
      "sampler\n",
      "mislead\n",
      "refer\n",
      "deserv\n",
      "advic\n",
      "convinc\n",
      "ignor\n",
      "accur\n",
      "listen\n",
      "written\n",
      "error\n",
      "edit\n",
      "critic\n",
      "slim\n",
      "subject\n",
      "disagre\n",
      "fda\n",
      "video\n",
      "copi\n",
      "jim\n",
      "glow\n",
      "influenst\n",
      "rebecca\n",
      "lingonberri\n"
     ]
    }
   ],
   "source": [
    "#checking for review 981\n",
    "for i in Cluster_indices[981][0]:\n",
    "    print(wordList_idf[i])"
   ]
  },
  {
   "cell_type": "markdown",
   "metadata": {},
   "source": [
    "**Now in cluster number 981, the above words are related like: understand, sorri, hesit, disagre, error, edit, written, convinc etc**"
   ]
  },
  {
   "cell_type": "code",
   "execution_count": 237,
   "metadata": {},
   "outputs": [
    {
     "name": "stdout",
     "output_type": "stream",
     "text": [
      "sort\n",
      "grew\n",
      "favor\n",
      "popular\n",
      "sister\n",
      "peppermint\n",
      "assort\n",
      "everywher\n",
      "parent\n",
      "reach\n",
      "cute\n",
      "hadnt\n",
      "memori\n",
      "purs\n",
      "childhood\n",
      "section\n",
      "theyll\n",
      "tub\n",
      "dad\n",
      "dispens\n",
      "wrapper\n",
      "watermelon\n",
      "germani\n",
      "lollipop\n",
      "haribo\n",
      "law\n",
      "henc\n",
      "halloween\n",
      "display\n",
      "cowork\n",
      "dye\n",
      "oversea\n",
      "valentin\n",
      "vend\n",
      "crate\n",
      "jolli\n",
      "nausea\n",
      "cigarett\n",
      "wilton\n",
      "butterscotch\n",
      "rancher\n",
      "surf\n",
      "buffet\n",
      "belt\n",
      "judi\n"
     ]
    }
   ],
   "source": [
    "#checking for review 954\n",
    "for i in Cluster_indices[954][0]:\n",
    "    print(wordList_idf[i])"
   ]
  },
  {
   "cell_type": "markdown",
   "metadata": {},
   "source": [
    "**Now in cluster number 954, the above words are related like: parent, childhood, cute, sister, memori, cigarett, nausea, butterscotch,peppermint etc**"
   ]
  },
  {
   "cell_type": "code",
   "execution_count": 238,
   "metadata": {},
   "outputs": [
    {
     "name": "stdout",
     "output_type": "stream",
     "text": [
      "plenti\n",
      "job\n",
      "appreci\n",
      "supplement\n",
      "upset\n",
      "besid\n",
      "period\n",
      "prevent\n",
      "medicin\n",
      "relax\n",
      "excess\n",
      "sooth\n",
      "loss\n",
      "rid\n",
      "diseas\n",
      "settl\n",
      "hurt\n",
      "timothi\n",
      "tummi\n",
      "maintain\n",
      "suspect\n",
      "appetit\n",
      "soften\n",
      "dental\n",
      "decis\n",
      "fight\n",
      "leg\n",
      "track\n",
      "properti\n",
      "stress\n",
      "symptom\n",
      "med\n",
      "watcher\n",
      "phone\n",
      "reflux\n",
      "hunger\n",
      "immun\n",
      "arthriti\n",
      "regul\n",
      "antibiot\n",
      "curb\n",
      "heal\n",
      "vote\n",
      "plaqu\n",
      "listmania\n",
      "thyroid\n",
      "mastic\n"
     ]
    }
   ],
   "source": [
    "#checking for review 925\n",
    "for i in Cluster_indices[925][0]:\n",
    "    print(wordList_idf[i])"
   ]
  },
  {
   "cell_type": "markdown",
   "metadata": {},
   "source": [
    "**Now in cluster number 925, the above words are related like: upset, relax, stress, diseas, symptom, antibiot, heal, thyroid, immun etc**"
   ]
  },
  {
   "cell_type": "code",
   "execution_count": 239,
   "metadata": {},
   "outputs": [
    {
     "name": "stdout",
     "output_type": "stream",
     "text": [
      "admit\n",
      "power\n",
      "strang\n",
      "initi\n",
      "disgust\n",
      "gross\n",
      "distinct\n",
      "spoil\n",
      "funni\n",
      "kinda\n",
      "butteri\n",
      "attract\n",
      "spray\n",
      "compliment\n",
      "familiar\n",
      "detect\n",
      "yuck\n",
      "crap\n",
      "dead\n",
      "fragranc\n",
      "welcom\n",
      "stink\n",
      "harsh\n",
      "earthi\n",
      "gag\n",
      "appet\n",
      "linger\n",
      "divin\n",
      "faint\n",
      "sweat\n",
      "potent\n",
      "rabbit\n",
      "bergamot\n",
      "stinki\n",
      "lavend\n",
      "margarita\n",
      "pungent\n",
      "sniff\n",
      "offens\n",
      "pellet\n",
      "deodor\n",
      "overweight\n",
      "whiff\n",
      "pee\n",
      "waft\n",
      "potti\n",
      "salami\n",
      "soapi\n",
      "deterg\n"
     ]
    }
   ],
   "source": [
    "#checking for review 904\n",
    "for i in Cluster_indices[904][0]:\n",
    "    print(wordList_idf[i])"
   ]
  },
  {
   "cell_type": "markdown",
   "metadata": {},
   "source": [
    "**Now in cluster number 904, the above words are related like: disgust, gross, spoil, yuck, crap, pungent, harsh, stink, fragranc, lavend etc**"
   ]
  }
 ],
 "metadata": {
  "kernelspec": {
   "display_name": "Python 3",
   "language": "python",
   "name": "python3"
  },
  "language_info": {
   "codemirror_mode": {
    "name": "ipython",
    "version": 3
   },
   "file_extension": ".py",
   "mimetype": "text/x-python",
   "name": "python",
   "nbconvert_exporter": "python",
   "pygments_lexer": "ipython3",
   "version": "3.6.5"
  }
 },
 "nbformat": 4,
 "nbformat_minor": 2
}
