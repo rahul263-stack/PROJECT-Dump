{
 "cells": [
  {
   "cell_type": "markdown",
   "metadata": {},
   "source": [
    "# DBSCAN on Amazon Food Reviews\n",
    "Data Source: https://www.kaggle.com/snap/amazon-fine-food-reviews\n",
    "\n",
    "The Amazon Fine Food Reviews dataset consists of reviews of fine foods from Amazon.\n",
    "\n",
    "Number of reviews: 568,454 Number of users: 256,059 Number of products: 74,258 Timespan: Oct 1999 - Oct 2012 Number of Attributes/Columns in data: 10\n",
    "\n",
    "Attribute Information:\n",
    "\n",
    "1.  index\n",
    "2.  Id\n",
    "3.  ProductId - unique identifier for the product\n",
    "4.  UserId - unqiue identifier for the user\n",
    "5.  ProfileName\n",
    "6.  HelpfulnessNumerator - number of users who found the review helpful\n",
    "7.  HelpfulnessDenominator - number of users who indicated whether they found the review helpful or not\n",
    "8.  Score - rating between 1 and 5\n",
    "9.  Time - timestamp for the review\n",
    "10. Summary - brief summary of the review\n",
    "11. Text - text of the review\n",
    "12. ProcessedText - Cleaned & Preprocessed Text of the review\n",
    "\n",
    "**Objective: Given Amazon Food reviews, convert all the reviews into a vector by taking 10k data points using two techniques: **<br>\n",
    "**1. Average W2V.**<br>\n",
    "**2. TFIDF-W2V.**<br>\n",
    "\n",
    "**Then perform following tasks under each technique:**<br>\n",
    "**Task 1. Perform Cross Validation on DBSCAN and use elbow method to find optimal value of Eps(Cluster Radius).**<br>\n",
    "**Task 2. Apply DBSCAN by taking Min-Points equal to two times the dimension of reviews.**<br>\n",
    "**Task 3. Try DBSCAN by taking different values of Eps which are close to the optimal value of Eps.**<br>\n",
    "\n",
    "[Q] How to determine if a review is positive or negative?\n",
    "\n",
    "[Ans] We could use the Score/Rating. A rating of 4 or 5 could be cosnidered a positive review. A review of 1 or 2 could be considered negative. A review of 3 is nuetral and ignored. This is an approximate and proxy way of determining the polarity (positivity/negativity) of a review.\n",
    "\n",
    "Loading the data\n",
    "\n",
    "SQLite Database\n",
    "\n",
    "In order to load the data, We have used the SQLITE dataset as it easier to query the data and visualise the data efficiently. Here as we only want to get the global sentiment of the recommendations (positive or negative), we will purposefully ignore all Scores equal to 3. If the score id above 3, then the recommendation wil be set to \"positive\". Otherwise, it will be set to \"negative\"."
   ]
  },
  {
   "cell_type": "code",
   "execution_count": 2,
   "metadata": {},
   "outputs": [],
   "source": [
    "import sqlite3\n",
    "import pandas as pd\n",
    "import numpy as np\n",
    "import matplotlib.pyplot as plt\n",
    "\n",
    "from sklearn.feature_extraction.text import CountVectorizer\n",
    "from sklearn.feature_extraction.text import TfidfVectorizer\n",
    "from gensim.models import Word2Vec\n",
    "import gensim\n",
    "from sklearn.preprocessing import StandardScaler\n",
    "\n",
    "from sklearn.cluster import DBSCAN\n",
    "from sklearn.neighbors import NearestNeighbors\n",
    "from sklearn.metrics import silhouette_score"
   ]
  },
  {
   "cell_type": "code",
   "execution_count": 3,
   "metadata": {},
   "outputs": [],
   "source": [
    "connection = sqlite3.connect(\"FinalAmazonFoodReviewsDataset.sqlite\")"
   ]
  },
  {
   "cell_type": "code",
   "execution_count": 4,
   "metadata": {},
   "outputs": [],
   "source": [
    "data = pd.read_sql_query(\"SELECT * FROM Reviews\", connection)"
   ]
  },
  {
   "cell_type": "code",
   "execution_count": 5,
   "metadata": {},
   "outputs": [
    {
     "data": {
      "text/html": [
       "<div>\n",
       "<style scoped>\n",
       "    .dataframe tbody tr th:only-of-type {\n",
       "        vertical-align: middle;\n",
       "    }\n",
       "\n",
       "    .dataframe tbody tr th {\n",
       "        vertical-align: top;\n",
       "    }\n",
       "\n",
       "    .dataframe thead th {\n",
       "        text-align: right;\n",
       "    }\n",
       "</style>\n",
       "<table border=\"1\" class=\"dataframe\">\n",
       "  <thead>\n",
       "    <tr style=\"text-align: right;\">\n",
       "      <th></th>\n",
       "      <th>index</th>\n",
       "      <th>Id</th>\n",
       "      <th>ProductId</th>\n",
       "      <th>UserId</th>\n",
       "      <th>ProfileName</th>\n",
       "      <th>HelpfulnessNumerator</th>\n",
       "      <th>HelpfulnessDenominator</th>\n",
       "      <th>Score</th>\n",
       "      <th>Time</th>\n",
       "      <th>Summary</th>\n",
       "      <th>Text</th>\n",
       "      <th>ProcessedText</th>\n",
       "    </tr>\n",
       "  </thead>\n",
       "  <tbody>\n",
       "    <tr>\n",
       "      <th>0</th>\n",
       "      <td>0</td>\n",
       "      <td>1</td>\n",
       "      <td>B001E4KFG0</td>\n",
       "      <td>A3SGXH7AUHU8GW</td>\n",
       "      <td>delmartian</td>\n",
       "      <td>1</td>\n",
       "      <td>1</td>\n",
       "      <td>Positive</td>\n",
       "      <td>1303862400</td>\n",
       "      <td>Good Quality Dog Food</td>\n",
       "      <td>I have bought several of the Vitality canned d...</td>\n",
       "      <td>have bought sever the vital can dog food produ...</td>\n",
       "    </tr>\n",
       "    <tr>\n",
       "      <th>1</th>\n",
       "      <td>1</td>\n",
       "      <td>2</td>\n",
       "      <td>B00813GRG4</td>\n",
       "      <td>A1D87F6ZCVE5NK</td>\n",
       "      <td>dll pa</td>\n",
       "      <td>0</td>\n",
       "      <td>0</td>\n",
       "      <td>Negative</td>\n",
       "      <td>1346976000</td>\n",
       "      <td>Not as Advertised</td>\n",
       "      <td>Product arrived labeled as Jumbo Salted Peanut...</td>\n",
       "      <td>product arriv label jumbo salt peanut the pean...</td>\n",
       "    </tr>\n",
       "    <tr>\n",
       "      <th>2</th>\n",
       "      <td>2</td>\n",
       "      <td>3</td>\n",
       "      <td>B000LQOCH0</td>\n",
       "      <td>ABXLMWJIXXAIN</td>\n",
       "      <td>Natalia Corres \"Natalia Corres\"</td>\n",
       "      <td>1</td>\n",
       "      <td>1</td>\n",
       "      <td>Positive</td>\n",
       "      <td>1219017600</td>\n",
       "      <td>\"Delight\" says it all</td>\n",
       "      <td>This is a confection that has been around a fe...</td>\n",
       "      <td>this confect that has been around few centuri ...</td>\n",
       "    </tr>\n",
       "    <tr>\n",
       "      <th>3</th>\n",
       "      <td>4</td>\n",
       "      <td>5</td>\n",
       "      <td>B006K2ZZ7K</td>\n",
       "      <td>A1UQRSCLF8GW1T</td>\n",
       "      <td>Michael D. Bigham \"M. Wassir\"</td>\n",
       "      <td>0</td>\n",
       "      <td>0</td>\n",
       "      <td>Positive</td>\n",
       "      <td>1350777600</td>\n",
       "      <td>Great taffy</td>\n",
       "      <td>Great taffy at a great price.  There was a wid...</td>\n",
       "      <td>great taffi great price there was wide assort ...</td>\n",
       "    </tr>\n",
       "    <tr>\n",
       "      <th>4</th>\n",
       "      <td>5</td>\n",
       "      <td>6</td>\n",
       "      <td>B006K2ZZ7K</td>\n",
       "      <td>ADT0SRK1MGOEU</td>\n",
       "      <td>Twoapennything</td>\n",
       "      <td>0</td>\n",
       "      <td>0</td>\n",
       "      <td>Positive</td>\n",
       "      <td>1342051200</td>\n",
       "      <td>Nice Taffy</td>\n",
       "      <td>I got a wild hair for taffy and ordered this f...</td>\n",
       "      <td>got wild hair for taffi and order this five po...</td>\n",
       "    </tr>\n",
       "  </tbody>\n",
       "</table>\n",
       "</div>"
      ],
      "text/plain": [
       "   index  Id   ProductId          UserId                      ProfileName  \\\n",
       "0      0   1  B001E4KFG0  A3SGXH7AUHU8GW                       delmartian   \n",
       "1      1   2  B00813GRG4  A1D87F6ZCVE5NK                           dll pa   \n",
       "2      2   3  B000LQOCH0   ABXLMWJIXXAIN  Natalia Corres \"Natalia Corres\"   \n",
       "3      4   5  B006K2ZZ7K  A1UQRSCLF8GW1T    Michael D. Bigham \"M. Wassir\"   \n",
       "4      5   6  B006K2ZZ7K   ADT0SRK1MGOEU                   Twoapennything   \n",
       "\n",
       "   HelpfulnessNumerator  HelpfulnessDenominator     Score        Time  \\\n",
       "0                     1                       1  Positive  1303862400   \n",
       "1                     0                       0  Negative  1346976000   \n",
       "2                     1                       1  Positive  1219017600   \n",
       "3                     0                       0  Positive  1350777600   \n",
       "4                     0                       0  Positive  1342051200   \n",
       "\n",
       "                 Summary                                               Text  \\\n",
       "0  Good Quality Dog Food  I have bought several of the Vitality canned d...   \n",
       "1      Not as Advertised  Product arrived labeled as Jumbo Salted Peanut...   \n",
       "2  \"Delight\" says it all  This is a confection that has been around a fe...   \n",
       "3            Great taffy  Great taffy at a great price.  There was a wid...   \n",
       "4             Nice Taffy  I got a wild hair for taffy and ordered this f...   \n",
       "\n",
       "                                       ProcessedText  \n",
       "0  have bought sever the vital can dog food produ...  \n",
       "1  product arriv label jumbo salt peanut the pean...  \n",
       "2  this confect that has been around few centuri ...  \n",
       "3  great taffi great price there was wide assort ...  \n",
       "4  got wild hair for taffi and order this five po...  "
      ]
     },
     "execution_count": 5,
     "metadata": {},
     "output_type": "execute_result"
    }
   ],
   "source": [
    "data.head()"
   ]
  },
  {
   "cell_type": "code",
   "execution_count": 6,
   "metadata": {},
   "outputs": [
    {
     "data": {
      "text/plain": [
       "(364171, 12)"
      ]
     },
     "execution_count": 6,
     "metadata": {},
     "output_type": "execute_result"
    }
   ],
   "source": [
    "data.shape"
   ]
  },
  {
   "cell_type": "code",
   "execution_count": 7,
   "metadata": {},
   "outputs": [
    {
     "data": {
      "text/plain": [
       "Positive    307061\n",
       "Negative     57110\n",
       "Name: Score, dtype: int64"
      ]
     },
     "execution_count": 7,
     "metadata": {},
     "output_type": "execute_result"
    }
   ],
   "source": [
    "data[\"Score\"].value_counts()"
   ]
  },
  {
   "cell_type": "code",
   "execution_count": 8,
   "metadata": {},
   "outputs": [],
   "source": [
    "def changing(score):\n",
    "    if score == \"Positive\":\n",
    "        return 1\n",
    "    else:\n",
    "        return 0"
   ]
  },
  {
   "cell_type": "code",
   "execution_count": 9,
   "metadata": {},
   "outputs": [],
   "source": [
    "# changing score\n",
    "# Positive = 1\n",
    "# Negative = 0\n",
    "actualScore = list(data[\"Score\"])                                                                                         \n",
    "positiveNegative = list(map(changing, actualScore)) #map(function, list of numbers)\n",
    "data['Score'] = positiveNegative"
   ]
  },
  {
   "cell_type": "code",
   "execution_count": 10,
   "metadata": {},
   "outputs": [
    {
     "data": {
      "text/html": [
       "<div>\n",
       "<style scoped>\n",
       "    .dataframe tbody tr th:only-of-type {\n",
       "        vertical-align: middle;\n",
       "    }\n",
       "\n",
       "    .dataframe tbody tr th {\n",
       "        vertical-align: top;\n",
       "    }\n",
       "\n",
       "    .dataframe thead th {\n",
       "        text-align: right;\n",
       "    }\n",
       "</style>\n",
       "<table border=\"1\" class=\"dataframe\">\n",
       "  <thead>\n",
       "    <tr style=\"text-align: right;\">\n",
       "      <th></th>\n",
       "      <th>index</th>\n",
       "      <th>Id</th>\n",
       "      <th>ProductId</th>\n",
       "      <th>UserId</th>\n",
       "      <th>ProfileName</th>\n",
       "      <th>HelpfulnessNumerator</th>\n",
       "      <th>HelpfulnessDenominator</th>\n",
       "      <th>Score</th>\n",
       "      <th>Time</th>\n",
       "      <th>Summary</th>\n",
       "      <th>Text</th>\n",
       "      <th>ProcessedText</th>\n",
       "    </tr>\n",
       "  </thead>\n",
       "  <tbody>\n",
       "    <tr>\n",
       "      <th>0</th>\n",
       "      <td>0</td>\n",
       "      <td>1</td>\n",
       "      <td>B001E4KFG0</td>\n",
       "      <td>A3SGXH7AUHU8GW</td>\n",
       "      <td>delmartian</td>\n",
       "      <td>1</td>\n",
       "      <td>1</td>\n",
       "      <td>1</td>\n",
       "      <td>1303862400</td>\n",
       "      <td>Good Quality Dog Food</td>\n",
       "      <td>I have bought several of the Vitality canned d...</td>\n",
       "      <td>have bought sever the vital can dog food produ...</td>\n",
       "    </tr>\n",
       "    <tr>\n",
       "      <th>1</th>\n",
       "      <td>1</td>\n",
       "      <td>2</td>\n",
       "      <td>B00813GRG4</td>\n",
       "      <td>A1D87F6ZCVE5NK</td>\n",
       "      <td>dll pa</td>\n",
       "      <td>0</td>\n",
       "      <td>0</td>\n",
       "      <td>0</td>\n",
       "      <td>1346976000</td>\n",
       "      <td>Not as Advertised</td>\n",
       "      <td>Product arrived labeled as Jumbo Salted Peanut...</td>\n",
       "      <td>product arriv label jumbo salt peanut the pean...</td>\n",
       "    </tr>\n",
       "    <tr>\n",
       "      <th>2</th>\n",
       "      <td>2</td>\n",
       "      <td>3</td>\n",
       "      <td>B000LQOCH0</td>\n",
       "      <td>ABXLMWJIXXAIN</td>\n",
       "      <td>Natalia Corres \"Natalia Corres\"</td>\n",
       "      <td>1</td>\n",
       "      <td>1</td>\n",
       "      <td>1</td>\n",
       "      <td>1219017600</td>\n",
       "      <td>\"Delight\" says it all</td>\n",
       "      <td>This is a confection that has been around a fe...</td>\n",
       "      <td>this confect that has been around few centuri ...</td>\n",
       "    </tr>\n",
       "    <tr>\n",
       "      <th>3</th>\n",
       "      <td>4</td>\n",
       "      <td>5</td>\n",
       "      <td>B006K2ZZ7K</td>\n",
       "      <td>A1UQRSCLF8GW1T</td>\n",
       "      <td>Michael D. Bigham \"M. Wassir\"</td>\n",
       "      <td>0</td>\n",
       "      <td>0</td>\n",
       "      <td>1</td>\n",
       "      <td>1350777600</td>\n",
       "      <td>Great taffy</td>\n",
       "      <td>Great taffy at a great price.  There was a wid...</td>\n",
       "      <td>great taffi great price there was wide assort ...</td>\n",
       "    </tr>\n",
       "    <tr>\n",
       "      <th>4</th>\n",
       "      <td>5</td>\n",
       "      <td>6</td>\n",
       "      <td>B006K2ZZ7K</td>\n",
       "      <td>ADT0SRK1MGOEU</td>\n",
       "      <td>Twoapennything</td>\n",
       "      <td>0</td>\n",
       "      <td>0</td>\n",
       "      <td>1</td>\n",
       "      <td>1342051200</td>\n",
       "      <td>Nice Taffy</td>\n",
       "      <td>I got a wild hair for taffy and ordered this f...</td>\n",
       "      <td>got wild hair for taffi and order this five po...</td>\n",
       "    </tr>\n",
       "  </tbody>\n",
       "</table>\n",
       "</div>"
      ],
      "text/plain": [
       "   index  Id   ProductId          UserId                      ProfileName  \\\n",
       "0      0   1  B001E4KFG0  A3SGXH7AUHU8GW                       delmartian   \n",
       "1      1   2  B00813GRG4  A1D87F6ZCVE5NK                           dll pa   \n",
       "2      2   3  B000LQOCH0   ABXLMWJIXXAIN  Natalia Corres \"Natalia Corres\"   \n",
       "3      4   5  B006K2ZZ7K  A1UQRSCLF8GW1T    Michael D. Bigham \"M. Wassir\"   \n",
       "4      5   6  B006K2ZZ7K   ADT0SRK1MGOEU                   Twoapennything   \n",
       "\n",
       "   HelpfulnessNumerator  HelpfulnessDenominator  Score        Time  \\\n",
       "0                     1                       1      1  1303862400   \n",
       "1                     0                       0      0  1346976000   \n",
       "2                     1                       1      1  1219017600   \n",
       "3                     0                       0      1  1350777600   \n",
       "4                     0                       0      1  1342051200   \n",
       "\n",
       "                 Summary                                               Text  \\\n",
       "0  Good Quality Dog Food  I have bought several of the Vitality canned d...   \n",
       "1      Not as Advertised  Product arrived labeled as Jumbo Salted Peanut...   \n",
       "2  \"Delight\" says it all  This is a confection that has been around a fe...   \n",
       "3            Great taffy  Great taffy at a great price.  There was a wid...   \n",
       "4             Nice Taffy  I got a wild hair for taffy and ordered this f...   \n",
       "\n",
       "                                       ProcessedText  \n",
       "0  have bought sever the vital can dog food produ...  \n",
       "1  product arriv label jumbo salt peanut the pean...  \n",
       "2  this confect that has been around few centuri ...  \n",
       "3  great taffi great price there was wide assort ...  \n",
       "4  got wild hair for taffi and order this five po...  "
      ]
     },
     "execution_count": 10,
     "metadata": {},
     "output_type": "execute_result"
    }
   ],
   "source": [
    "data.head()"
   ]
  },
  {
   "cell_type": "code",
   "execution_count": 11,
   "metadata": {},
   "outputs": [],
   "source": [
    "#taking 5000 random samples\n",
    "data = data.sample(n = 10000)"
   ]
  },
  {
   "cell_type": "code",
   "execution_count": 12,
   "metadata": {},
   "outputs": [
    {
     "data": {
      "text/plain": [
       "(10000, 12)"
      ]
     },
     "execution_count": 12,
     "metadata": {},
     "output_type": "execute_result"
    }
   ],
   "source": [
    "data.shape"
   ]
  },
  {
   "cell_type": "code",
   "execution_count": 13,
   "metadata": {},
   "outputs": [
    {
     "data": {
      "text/plain": [
       "1    8360\n",
       "0    1640\n",
       "Name: Score, dtype: int64"
      ]
     },
     "execution_count": 13,
     "metadata": {},
     "output_type": "execute_result"
    }
   ],
   "source": [
    "data[\"Score\"].value_counts()"
   ]
  },
  {
   "cell_type": "code",
   "execution_count": 14,
   "metadata": {},
   "outputs": [],
   "source": [
    "Data = data"
   ]
  },
  {
   "cell_type": "code",
   "execution_count": 15,
   "metadata": {},
   "outputs": [],
   "source": [
    "Data_Labels = data[\"Score\"]"
   ]
  },
  {
   "cell_type": "code",
   "execution_count": 16,
   "metadata": {},
   "outputs": [
    {
     "name": "stdout",
     "output_type": "stream",
     "text": [
      "(10000, 12)\n",
      "(10000,)\n"
     ]
    }
   ],
   "source": [
    "print(Data.shape)\n",
    "print(Data_Labels.shape)"
   ]
  },
  {
   "cell_type": "code",
   "execution_count": 17,
   "metadata": {},
   "outputs": [
    {
     "data": {
      "text/html": [
       "<div>\n",
       "<style scoped>\n",
       "    .dataframe tbody tr th:only-of-type {\n",
       "        vertical-align: middle;\n",
       "    }\n",
       "\n",
       "    .dataframe tbody tr th {\n",
       "        vertical-align: top;\n",
       "    }\n",
       "\n",
       "    .dataframe thead th {\n",
       "        text-align: right;\n",
       "    }\n",
       "</style>\n",
       "<table border=\"1\" class=\"dataframe\">\n",
       "  <thead>\n",
       "    <tr style=\"text-align: right;\">\n",
       "      <th></th>\n",
       "      <th>index</th>\n",
       "      <th>Id</th>\n",
       "      <th>ProductId</th>\n",
       "      <th>UserId</th>\n",
       "      <th>ProfileName</th>\n",
       "      <th>HelpfulnessNumerator</th>\n",
       "      <th>HelpfulnessDenominator</th>\n",
       "      <th>Score</th>\n",
       "      <th>Time</th>\n",
       "      <th>Summary</th>\n",
       "      <th>Text</th>\n",
       "      <th>ProcessedText</th>\n",
       "    </tr>\n",
       "  </thead>\n",
       "  <tbody>\n",
       "    <tr>\n",
       "      <th>317902</th>\n",
       "      <td>457006</td>\n",
       "      <td>494139</td>\n",
       "      <td>B001EPPRK8</td>\n",
       "      <td>A1GGQA5X4O455</td>\n",
       "      <td>SkyphotoX</td>\n",
       "      <td>0</td>\n",
       "      <td>0</td>\n",
       "      <td>0</td>\n",
       "      <td>1334707200</td>\n",
       "      <td>Bad Container</td>\n",
       "      <td>So the salt is fine, but the poorly designed \"...</td>\n",
       "      <td>the salt fine but the poor design cylind not v...</td>\n",
       "    </tr>\n",
       "    <tr>\n",
       "      <th>58531</th>\n",
       "      <td>82315</td>\n",
       "      <td>89518</td>\n",
       "      <td>B004L44PHU</td>\n",
       "      <td>A2WRSERHIOLA5V</td>\n",
       "      <td>Ace</td>\n",
       "      <td>0</td>\n",
       "      <td>0</td>\n",
       "      <td>1</td>\n",
       "      <td>1323561600</td>\n",
       "      <td>Keeps me full and it tastes great!</td>\n",
       "      <td>This is the best protein shake out there, not ...</td>\n",
       "      <td>this the best protein shake out there not onli...</td>\n",
       "    </tr>\n",
       "    <tr>\n",
       "      <th>113533</th>\n",
       "      <td>160227</td>\n",
       "      <td>173699</td>\n",
       "      <td>B000I3RLVK</td>\n",
       "      <td>AAS353KFPRH0O</td>\n",
       "      <td>GH</td>\n",
       "      <td>1</td>\n",
       "      <td>2</td>\n",
       "      <td>0</td>\n",
       "      <td>1298073600</td>\n",
       "      <td>Received a Substitute</td>\n",
       "      <td>Whereas the Savu Smoker Bag is an excellent pr...</td>\n",
       "      <td>wherea the savu smoker bag excel product was d...</td>\n",
       "    </tr>\n",
       "    <tr>\n",
       "      <th>74564</th>\n",
       "      <td>105927</td>\n",
       "      <td>115014</td>\n",
       "      <td>B007WP403O</td>\n",
       "      <td>A381XFLGN0NDPN</td>\n",
       "      <td>Lorena Morales \"chnkymnky24\"</td>\n",
       "      <td>0</td>\n",
       "      <td>0</td>\n",
       "      <td>1</td>\n",
       "      <td>1340755200</td>\n",
       "      <td>Perfect for toddlers</td>\n",
       "      <td>This product is perfect. I had trouble weening...</td>\n",
       "      <td>this product perfect had troubl ween son off h...</td>\n",
       "    </tr>\n",
       "    <tr>\n",
       "      <th>299103</th>\n",
       "      <td>430634</td>\n",
       "      <td>465718</td>\n",
       "      <td>B0032GC6L0</td>\n",
       "      <td>A1SXDQFRL24AZX</td>\n",
       "      <td>Bonzo</td>\n",
       "      <td>0</td>\n",
       "      <td>0</td>\n",
       "      <td>1</td>\n",
       "      <td>1334966400</td>\n",
       "      <td>Best Seed Company in America</td>\n",
       "      <td>Love the customer service...great ethical comp...</td>\n",
       "      <td>love the custom servic great ethic compani was...</td>\n",
       "    </tr>\n",
       "  </tbody>\n",
       "</table>\n",
       "</div>"
      ],
      "text/plain": [
       "         index      Id   ProductId          UserId  \\\n",
       "317902  457006  494139  B001EPPRK8   A1GGQA5X4O455   \n",
       "58531    82315   89518  B004L44PHU  A2WRSERHIOLA5V   \n",
       "113533  160227  173699  B000I3RLVK   AAS353KFPRH0O   \n",
       "74564   105927  115014  B007WP403O  A381XFLGN0NDPN   \n",
       "299103  430634  465718  B0032GC6L0  A1SXDQFRL24AZX   \n",
       "\n",
       "                         ProfileName  HelpfulnessNumerator  \\\n",
       "317902                     SkyphotoX                     0   \n",
       "58531                            Ace                     0   \n",
       "113533                            GH                     1   \n",
       "74564   Lorena Morales \"chnkymnky24\"                     0   \n",
       "299103                         Bonzo                     0   \n",
       "\n",
       "        HelpfulnessDenominator  Score        Time  \\\n",
       "317902                       0      0  1334707200   \n",
       "58531                        0      1  1323561600   \n",
       "113533                       2      0  1298073600   \n",
       "74564                        0      1  1340755200   \n",
       "299103                       0      1  1334966400   \n",
       "\n",
       "                                   Summary  \\\n",
       "317902                       Bad Container   \n",
       "58531   Keeps me full and it tastes great!   \n",
       "113533               Received a Substitute   \n",
       "74564                 Perfect for toddlers   \n",
       "299103        Best Seed Company in America   \n",
       "\n",
       "                                                     Text  \\\n",
       "317902  So the salt is fine, but the poorly designed \"...   \n",
       "58531   This is the best protein shake out there, not ...   \n",
       "113533  Whereas the Savu Smoker Bag is an excellent pr...   \n",
       "74564   This product is perfect. I had trouble weening...   \n",
       "299103  Love the customer service...great ethical comp...   \n",
       "\n",
       "                                            ProcessedText  \n",
       "317902  the salt fine but the poor design cylind not v...  \n",
       "58531   this the best protein shake out there not onli...  \n",
       "113533  wherea the savu smoker bag excel product was d...  \n",
       "74564   this product perfect had troubl ween son off h...  \n",
       "299103  love the custom servic great ethic compani was...  "
      ]
     },
     "execution_count": 17,
     "metadata": {},
     "output_type": "execute_result"
    }
   ],
   "source": [
    "Data.head()"
   ]
  },
  {
   "cell_type": "markdown",
   "metadata": {},
   "source": [
    "# Average W2V"
   ]
  },
  {
   "cell_type": "code",
   "execution_count": 21,
   "metadata": {},
   "outputs": [],
   "source": [
    "i = 0\n",
    "listOfSentences = []\n",
    "for sentence in Data[\"ProcessedText\"].values:\n",
    "    subSentence = []\n",
    "    for word in sentence.split():\n",
    "        subSentence.append(word)\n",
    "        \n",
    "    listOfSentences.append(subSentence)"
   ]
  },
  {
   "cell_type": "code",
   "execution_count": 22,
   "metadata": {},
   "outputs": [
    {
     "name": "stdout",
     "output_type": "stream",
     "text": [
      "the salt fine but the poor design cylind not veri sturdi and today while pour some salt into soup was make the lid came apart from the canist and pour the whole contain into soup obvious ruin buy someth els and save yourself the hassl also came complet clump\n",
      "\n",
      "\n",
      "[['the', 'salt', 'fine', 'but', 'the', 'poor', 'design', 'cylind', 'not', 'veri', 'sturdi', 'and', 'today', 'while', 'pour', 'some', 'salt', 'into', 'soup', 'was', 'make', 'the', 'lid', 'came', 'apart', 'from', 'the', 'canist', 'and', 'pour', 'the', 'whole', 'contain', 'into', 'soup', 'obvious', 'ruin', 'buy', 'someth', 'els', 'and', 'save', 'yourself', 'the', 'hassl', 'also', 'came', 'complet', 'clump'], ['this', 'the', 'best', 'protein', 'shake', 'out', 'there', 'not', 'onli', 'afford', 'but', 'tast', 'great', 'this', 'great', 'for', 'work', 'when', 'dont', 'have', 'time', 'eat', 'lunch', 'this', 'will', 'keep', 'full', 'for', 'hour', 'would', 'recommend', 'this', 'shake', 'anyon', 'and', 'love', 'drink', 'this', 'after', 'workout', 'you', 'will', 'not', 'disappoint']]\n",
      "\n",
      "\n",
      "<class 'list'>\n"
     ]
    }
   ],
   "source": [
    "print(Data['ProcessedText'].values[0])\n",
    "print(\"\\n\")\n",
    "print(listOfSentences[0:2])\n",
    "print(\"\\n\")\n",
    "print(type(listOfSentences))"
   ]
  },
  {
   "cell_type": "code",
   "execution_count": 21,
   "metadata": {},
   "outputs": [],
   "source": [
    "w2vModel = gensim.models.Word2Vec(listOfSentences, size=200, min_count=5, workers=4)"
   ]
  },
  {
   "cell_type": "code",
   "execution_count": 22,
   "metadata": {},
   "outputs": [
    {
     "name": "stdout",
     "output_type": "stream",
     "text": [
      "<class 'list'>\n",
      "10000\n",
      "200\n"
     ]
    }
   ],
   "source": [
    "# compute average word2vec for each review.\n",
    "sentenceAsW2V = []\n",
    "for sentence in listOfSentences:\n",
    "    sentenceVector = np.zeros(200)\n",
    "    TotalWordsPerSentence = 0\n",
    "    for word in sentence:\n",
    "        try:\n",
    "            vect = w2vModel.wv[word]\n",
    "            sentenceVector += vect\n",
    "            TotalWordsPerSentence += 1\n",
    "        except:\n",
    "            pass\n",
    "    if TotalWordsPerSentence!= 0:\n",
    "        sentenceVector /= TotalWordsPerSentence\n",
    "        sentenceAsW2V.append(sentenceVector)\n",
    "\n",
    "print(type(sentenceAsW2V))\n",
    "print(len(sentenceAsW2V))\n",
    "print(len(sentenceAsW2V[0]))"
   ]
  },
  {
   "cell_type": "code",
   "execution_count": 23,
   "metadata": {},
   "outputs": [
    {
     "name": "stdout",
     "output_type": "stream",
     "text": [
      "(10000, 200)\n",
      "<class 'numpy.ndarray'>\n"
     ]
    }
   ],
   "source": [
    "Data_W2V_Std = StandardScaler(with_mean = False).fit_transform(sentenceAsW2V)\n",
    "print(Data_W2V_Std.shape)\n",
    "print(type(Data_W2V_Std))"
   ]
  },
  {
   "cell_type": "markdown",
   "metadata": {},
   "source": [
    "## Task 1. Perform Cross Validation on DBSCAN and use elbow method to find optimal value of Eps(Cluster Radius)."
   ]
  },
  {
   "cell_type": "markdown",
   "metadata": {},
   "source": [
    "**Min points is equal to two times the number of dimensions of points.**"
   ]
  },
  {
   "cell_type": "code",
   "execution_count": 24,
   "metadata": {},
   "outputs": [
    {
     "data": {
      "text/plain": [
       "NearestNeighbors(algorithm='auto', leaf_size=30, metric='euclidean',\n",
       "         metric_params=None, n_jobs=1, n_neighbors=400, p=2, radius=1.0)"
      ]
     },
     "execution_count": 24,
     "metadata": {},
     "output_type": "execute_result"
    }
   ],
   "source": [
    "model = NearestNeighbors(n_neighbors=400, metric = \"euclidean\")\n",
    "model.fit(Data_W2V_Std)"
   ]
  },
  {
   "cell_type": "code",
   "execution_count": 25,
   "metadata": {},
   "outputs": [
    {
     "data": {
      "text/plain": [
       "(array([[ 9.76605733,  9.84977324,  9.88970021, ..., 16.74794366,\n",
       "         16.75899637, 16.7590867 ],\n",
       "        [ 7.99772619,  8.12139865,  8.27241858, ..., 11.41261182,\n",
       "         11.41345896, 11.41390497],\n",
       "        [ 5.65158338,  5.79369597,  6.19634926, ...,  9.25257593,\n",
       "          9.2529535 ,  9.25322454],\n",
       "        ...,\n",
       "        [ 6.60476602,  7.08243374,  7.24005662, ..., 10.74139544,\n",
       "         10.7425087 , 10.74382498],\n",
       "        [ 5.93690341,  5.94600806,  6.0067528 , ...,  9.20811107,\n",
       "          9.21527515,  9.21621534],\n",
       "        [ 7.97451401,  8.19097225,  8.23323698, ..., 11.88698223,\n",
       "         11.88778255, 11.89162603]]),\n",
       " array([[6288, 7012, 4772, ..., 4752, 1521,  575],\n",
       "        [8714, 4448,  164, ..., 8120, 6011, 5621],\n",
       "        [3651, 5786, 1690, ..., 9968, 2413, 5618],\n",
       "        ...,\n",
       "        [5693,  990, 7483, ..., 3924, 7474, 3188],\n",
       "        [6573, 8417, 3392, ..., 8169, 6528, 2869],\n",
       "        [7941, 3778, 2497, ..., 4462, 1382, 5677]], dtype=int64))"
      ]
     },
     "execution_count": 25,
     "metadata": {},
     "output_type": "execute_result"
    }
   ],
   "source": [
    "dist_index = model.kneighbors(n_neighbors=400, return_distance=True)\n",
    "dist_index"
   ]
  },
  {
   "cell_type": "code",
   "execution_count": 26,
   "metadata": {},
   "outputs": [],
   "source": [
    "dist = []\n",
    "for i in range(len(dist_index[0])):\n",
    "    dist.append(dist_index[0][i][399])"
   ]
  },
  {
   "cell_type": "code",
   "execution_count": 30,
   "metadata": {},
   "outputs": [],
   "source": [
    "pointIndex = np.arange(10000)"
   ]
  },
  {
   "cell_type": "code",
   "execution_count": 31,
   "metadata": {},
   "outputs": [],
   "source": [
    "dist_sorted = sorted(dist, reverse = False)"
   ]
  },
  {
   "cell_type": "code",
   "execution_count": 32,
   "metadata": {},
   "outputs": [
    {
     "data": {
      "image/png": "[encoded data removed]",
      "text/plain": [
       "<Figure size 1008x864 with 1 Axes>"
      ]
     },
     "metadata": {},
     "output_type": "display_data"
    }
   ],
   "source": [
    "plt.figure(figsize = (14, 12))\n",
    "plt.plot(pointIndex, dist_sorted)\n",
    "plt.title(\"Point Index VS 400th Neighbour Distance\", fontsize=25)\n",
    "plt.xlabel(\"Point Index\", fontsize=25)\n",
    "plt.ylabel(\"400th Neighbour Distance\", fontsize=25)\n",
    "plt.grid(linestyle='-', linewidth=0.5)"
   ]
  },
  {
   "cell_type": "markdown",
   "metadata": {},
   "source": [
    "**By above graph, it can clearly be seen that roughly from distance value of 18 onwards at y-axis the distance value increases very rapidly for further points. At distance value 18 there is an inflection point. Therefore, we are considering our epsilon value to be 18**"
   ]
  },
  {
   "cell_type": "markdown",
   "metadata": {},
   "source": [
    "## Task 2. Apply DBSCAN by taking Min-Points equal to two times the dimension of reviews."
   ]
  },
  {
   "cell_type": "code",
   "execution_count": 33,
   "metadata": {},
   "outputs": [
    {
     "name": "stdout",
     "output_type": "stream",
     "text": [
      "Silhouette Score = 0.43043455858573815\n",
      "Number of clusters = 1\n"
     ]
    }
   ],
   "source": [
    "dbscan = DBSCAN(eps=18, min_samples=400, metric='euclidean', n_jobs=-1).fit(Data_W2V_Std)\n",
    "silhouetteScore = silhouette_score(Data_W2V_Std, dbscan.labels_)\n",
    "print(\"Silhouette Score = \"+str(silhouetteScore))\n",
    "labels = dbscan.labels_\n",
    "n_clusters = len(set(labels)) - (1 if -1 in labels else 0)\n",
    "print(\"Number of clusters = \"+str(n_clusters))"
   ]
  },
  {
   "cell_type": "markdown",
   "metadata": {},
   "source": [
    "**Silhouette Score of 0.430 indicates that clusters are well separated from each other except few cluster which are overlapping. Furthermore, points are also correctly assigned to their respective clusters**"
   ]
  },
  {
   "cell_type": "markdown",
   "metadata": {},
   "source": [
    "## Task 3. Try DBSCAN by taking different values of Eps which are close to the optimal value of Eps."
   ]
  },
  {
   "cell_type": "markdown",
   "metadata": {},
   "source": [
    "If you increase the Eps value to very high value then all of the points will come under one cluster and silhouette score metric will give error because there needs to be at least two clusters in order to calculate silhouette score.\n",
    "\n",
    "Now as you can see below that there is only one cluster and still I have calculated silhouette score and it is not giving error. This is because as you already know that \"labels_\" attribute of DBSCAN returns '-1' for the noise points so here what happens is that except few points which are noisy points, rest of the points are under one cluster and silhouette score considers all the noisy points as under another another cluster, and hence accordingly it is doing the calculation of silhouette score based on two clusters. But actually calculating silhouette score here is useless as long as first, there is only one cluster and secondly, '-1' shouldn't be removed from 'label_' attribute."
   ]
  },
  {
   "cell_type": "code",
   "execution_count": 34,
   "metadata": {},
   "outputs": [
    {
     "name": "stdout",
     "output_type": "stream",
     "text": [
      "Silhouette Score = 0.40773012443965956\n",
      "Number of clusters = 1\n"
     ]
    }
   ],
   "source": [
    "#Taking eps value of 17\n",
    "dbscan2 = DBSCAN(eps=17, min_samples=400, metric='euclidean', n_jobs=-1).fit(Data_W2V_Std)\n",
    "silhouetteScore2 = silhouette_score(Data_W2V_Std, dbscan2.labels_)\n",
    "print(\"Silhouette Score = \"+str(silhouetteScore2))\n",
    "labels = dbscan2.labels_\n",
    "n_clusters = len(set(labels)) - (1 if -1 in labels else 0)\n",
    "print(\"Number of clusters = \"+str(n_clusters))"
   ]
  },
  {
   "cell_type": "code",
   "execution_count": 35,
   "metadata": {},
   "outputs": [
    {
     "name": "stdout",
     "output_type": "stream",
     "text": [
      "Silhouette Score = 0.4119320101340016\n",
      "Number of clusters = 1\n"
     ]
    }
   ],
   "source": [
    "#Taking eps value of 17.5\n",
    "dbscan3 = DBSCAN(eps=17.5, min_samples=400, metric='euclidean', n_jobs=-1).fit(Data_W2V_Std)\n",
    "silhouetteScore3 = silhouette_score(Data_W2V_Std, dbscan3.labels_)\n",
    "print(\"Silhouette Score = \"+str(silhouetteScore3))\n",
    "labels = dbscan3.labels_\n",
    "n_clusters = len(set(labels)) - (1 if -1 in labels else 0)\n",
    "print(\"Number of clusters = \"+str(n_clusters))"
   ]
  },
  {
   "cell_type": "code",
   "execution_count": 36,
   "metadata": {},
   "outputs": [
    {
     "name": "stdout",
     "output_type": "stream",
     "text": [
      "Silhouette Score = 0.4308658281474539\n",
      "Number of clusters = 1\n"
     ]
    }
   ],
   "source": [
    "#Taking eps value of 18.5\n",
    "dbscan4 = DBSCAN(eps=18.5, min_samples=400, metric='euclidean', n_jobs=-1).fit(Data_W2V_Std)\n",
    "silhouetteScore4 = silhouette_score(Data_W2V_Std, dbscan4.labels_)\n",
    "print(\"Silhouette Score = \"+str(silhouetteScore4))\n",
    "labels = dbscan4.labels_\n",
    "n_clusters = len(set(labels)) - (1 if -1 in labels else 0)\n",
    "print(\"Number of clusters = \"+str(n_clusters))"
   ]
  },
  {
   "cell_type": "code",
   "execution_count": 37,
   "metadata": {},
   "outputs": [
    {
     "name": "stdout",
     "output_type": "stream",
     "text": [
      "Silhouette Score = 0.43835350237829734\n",
      "Number of clusters = 1\n"
     ]
    }
   ],
   "source": [
    "#Taking eps value of 19\n",
    "dbscan5 = DBSCAN(eps=19, min_samples=400, metric='euclidean', n_jobs=-1).fit(Data_W2V_Std)\n",
    "silhouetteScore5 = silhouette_score(Data_W2V_Std, dbscan5.labels_)\n",
    "print(\"Silhouette Score = \"+str(silhouetteScore5))\n",
    "labels = dbscan5.labels_\n",
    "n_clusters = len(set(labels)) - (1 if -1 in labels else 0)\n",
    "print(\"Number of clusters = \"+str(n_clusters))"
   ]
  },
  {
   "cell_type": "markdown",
   "metadata": {},
   "source": [
    "# TFIDF-W2V"
   ]
  },
  {
   "cell_type": "code",
   "execution_count": 18,
   "metadata": {},
   "outputs": [],
   "source": [
    "tfidf_vect = TfidfVectorizer(ngram_range = (1,2))\n",
    "tfidf = tfidf_vect.fit_transform(Data[\"ProcessedText\"].values)"
   ]
  },
  {
   "cell_type": "code",
   "execution_count": 19,
   "metadata": {},
   "outputs": [
    {
     "name": "stdout",
     "output_type": "stream",
     "text": [
      "(10000, 235101)\n",
      "<class 'scipy.sparse.csr.csr_matrix'>\n"
     ]
    }
   ],
   "source": [
    "print(tfidf.shape)\n",
    "print(type(tfidf))"
   ]
  },
  {
   "cell_type": "code",
   "execution_count": 23,
   "metadata": {},
   "outputs": [],
   "source": [
    "w2v_Model = gensim.models.Word2Vec(listOfSentences, size=200, min_count=5, workers=4)"
   ]
  },
  {
   "cell_type": "code",
   "execution_count": 24,
   "metadata": {},
   "outputs": [],
   "source": [
    "# TF-IDF weighted Word2Vec\n",
    "tfidf_features = tfidf_vect.get_feature_names()\n",
    "\n",
    "tfidf_w2v = []\n",
    "reviews = 0\n",
    "\n",
    "for sentence in listOfSentences:\n",
    "    sentenceVector = np.zeros(200)\n",
    "    weightTfidfSum = 0\n",
    "    for word in sentence:\n",
    "        try:\n",
    "            W2V_Vector = w2v_Model.wv[word]\n",
    "            tfidfVector = tfidf[reviews, tfidf_features.index(word)]\n",
    "            sentenceVector += (W2V_Vector * tfidfVector)\n",
    "            weightTfidfSum += tfidfVector\n",
    "        except:\n",
    "            pass\n",
    "    sentenceVector /= weightTfidfSum\n",
    "    tfidf_w2v.append(sentenceVector)\n",
    "    reviews += 1"
   ]
  },
  {
   "cell_type": "code",
   "execution_count": 25,
   "metadata": {},
   "outputs": [
    {
     "name": "stdout",
     "output_type": "stream",
     "text": [
      "(10000, 200)\n",
      "<class 'numpy.ndarray'>\n"
     ]
    }
   ],
   "source": [
    "Data_TFIDF_W2V_Std = StandardScaler().fit_transform(tfidf_w2v)\n",
    "print(Data_TFIDF_W2V_Std.shape)\n",
    "print(type(Data_TFIDF_W2V_Std))"
   ]
  },
  {
   "cell_type": "markdown",
   "metadata": {},
   "source": [
    "## Task 1. Perform Cross Validation on DBSCAN and use elbow method to find optimal value of Eps(Cluster Radius)."
   ]
  },
  {
   "cell_type": "code",
   "execution_count": 26,
   "metadata": {},
   "outputs": [
    {
     "data": {
      "text/plain": [
       "NearestNeighbors(algorithm='auto', leaf_size=30, metric='euclidean',\n",
       "         metric_params=None, n_jobs=1, n_neighbors=400, p=2, radius=1.0)"
      ]
     },
     "execution_count": 26,
     "metadata": {},
     "output_type": "execute_result"
    }
   ],
   "source": [
    "model = NearestNeighbors(n_neighbors=400, metric = \"euclidean\")\n",
    "model.fit(Data_TFIDF_W2V_Std)"
   ]
  },
  {
   "cell_type": "code",
   "execution_count": 27,
   "metadata": {},
   "outputs": [
    {
     "data": {
      "text/plain": [
       "(array([[ 4.76643929,  5.80134979,  6.34407323, ..., 10.89142541,\n",
       "         10.89161216, 10.89276026],\n",
       "        [ 8.83539736,  8.98451686,  9.07416661, ..., 13.55005226,\n",
       "         13.55233361, 13.5575907 ],\n",
       "        [ 4.41103054,  4.78774521,  5.16616908, ...,  8.8717598 ,\n",
       "          8.87657041,  8.8792451 ],\n",
       "        ...,\n",
       "        [ 6.33844515,  6.40446094,  6.43622593, ...,  9.10897924,\n",
       "          9.11120511,  9.11493847],\n",
       "        [ 5.78473641,  5.8437839 ,  6.39851372, ...,  9.92660268,\n",
       "          9.94129218,  9.94737831],\n",
       "        [ 8.50451551,  8.80720263,  8.94185785, ..., 13.17745896,\n",
       "         13.17852723, 13.18582603]]),\n",
       " array([[7932, 2629, 4266, ..., 1397,  990, 8772],\n",
       "        [6419, 3943,   53, ..., 6189,  569,  156],\n",
       "        [9068,  870, 4229, ..., 9044, 5420, 2675],\n",
       "        ...,\n",
       "        [5028, 1563, 7987, ..., 6869,   99, 3759],\n",
       "        [6207, 4786, 6141, ..., 1750, 5115, 1219],\n",
       "        [8942, 4842, 3536, ..., 8740, 2682, 5541]], dtype=int64))"
      ]
     },
     "execution_count": 27,
     "metadata": {},
     "output_type": "execute_result"
    }
   ],
   "source": [
    "dist_index = model.kneighbors(n_neighbors=400, return_distance=True)\n",
    "dist_index"
   ]
  },
  {
   "cell_type": "code",
   "execution_count": 28,
   "metadata": {},
   "outputs": [],
   "source": [
    "dist = []\n",
    "for i in range(len(dist_index[0])):\n",
    "    dist.append(dist_index[0][i][399])"
   ]
  },
  {
   "cell_type": "code",
   "execution_count": 29,
   "metadata": {},
   "outputs": [],
   "source": [
    "pointIndex = np.arange(10000)"
   ]
  },
  {
   "cell_type": "code",
   "execution_count": 30,
   "metadata": {},
   "outputs": [],
   "source": [
    "dist_sorted = sorted(dist, reverse = False)"
   ]
  },
  {
   "cell_type": "code",
   "execution_count": 31,
   "metadata": {},
   "outputs": [
    {
     "data": {
      "image/png": "[encoded data removed]",
      "text/plain": [
       "<Figure size 1008x864 with 1 Axes>"
      ]
     },
     "metadata": {},
     "output_type": "display_data"
    }
   ],
   "source": [
    "plt.figure(figsize = (14, 12))\n",
    "plt.plot(pointIndex, dist_sorted)\n",
    "plt.title(\"Point Index VS 400th Neighbour Distance\", fontsize=25)\n",
    "plt.xlabel(\"Point Index\", fontsize=25)\n",
    "plt.ylabel(\"400th Neighbour Distance\", fontsize=25)\n",
    "plt.grid(linestyle='-', linewidth=0.5)"
   ]
  },
  {
   "cell_type": "markdown",
   "metadata": {},
   "source": [
    "**By above graph, it can clearly be seen that roughly from distance value of 19 onwards at y-axis the distance value increases very rapidly for further points. At distance value 19 there is an inflection point. Therefore, we are considering our epsilon value to be 19.**"
   ]
  },
  {
   "cell_type": "markdown",
   "metadata": {},
   "source": [
    "## Task 2. Apply DBSCAN by taking Min-Points equal to two times the dimension of reviews."
   ]
  },
  {
   "cell_type": "code",
   "execution_count": 32,
   "metadata": {},
   "outputs": [
    {
     "name": "stdout",
     "output_type": "stream",
     "text": [
      "Silhouette Score = 0.5247546144284764\n",
      "Number of clusters = 1\n"
     ]
    }
   ],
   "source": [
    "dbscan = DBSCAN(eps=19, min_samples=400, metric='euclidean', n_jobs=-1).fit(Data_TFIDF_W2V_Std)\n",
    "silhouetteScore = silhouette_score(Data_TFIDF_W2V_Std, dbscan.labels_)\n",
    "print(\"Silhouette Score = \"+str(silhouetteScore))\n",
    "labels = dbscan.labels_\n",
    "n_clusters = len(set(labels)) - (1 if -1 in labels else 0)\n",
    "print(\"Number of clusters = \"+str(n_clusters))"
   ]
  },
  {
   "cell_type": "markdown",
   "metadata": {},
   "source": [
    "**Silhouette Score of 0.5247 indicates that clusters are well separated from each other except few cluster which are overlapping. Furthermore, points are also correctly assigned to their respective clusters**"
   ]
  },
  {
   "cell_type": "markdown",
   "metadata": {},
   "source": [
    "## Task 3. Try DBSCAN by taking different values of Eps which are close to the optimal value of Eps."
   ]
  },
  {
   "cell_type": "code",
   "execution_count": 33,
   "metadata": {},
   "outputs": [
    {
     "name": "stdout",
     "output_type": "stream",
     "text": [
      "Silhouette Score = 0.5296454025084666\n",
      "Number of clusters = 1\n"
     ]
    }
   ],
   "source": [
    "#taking eps value 18\n",
    "dbscan = DBSCAN(eps=18, min_samples=400, metric='euclidean', n_jobs=-1).fit(Data_TFIDF_W2V_Std)\n",
    "silhouetteScore = silhouette_score(Data_TFIDF_W2V_Std, dbscan.labels_)\n",
    "print(\"Silhouette Score = \"+str(silhouetteScore))\n",
    "labels = dbscan.labels_\n",
    "n_clusters = len(set(labels)) - (1 if -1 in labels else 0)\n",
    "print(\"Number of clusters = \"+str(n_clusters))"
   ]
  },
  {
   "cell_type": "code",
   "execution_count": 34,
   "metadata": {},
   "outputs": [
    {
     "name": "stdout",
     "output_type": "stream",
     "text": [
      "Silhouette Score = 0.519376432952023\n",
      "Number of clusters = 1\n"
     ]
    }
   ],
   "source": [
    "#taking eps value 18.5\n",
    "dbscan = DBSCAN(eps=18.5, min_samples=400, metric='euclidean', n_jobs=-1).fit(Data_TFIDF_W2V_Std)\n",
    "silhouetteScore = silhouette_score(Data_TFIDF_W2V_Std, dbscan.labels_)\n",
    "print(\"Silhouette Score = \"+str(silhouetteScore))\n",
    "labels = dbscan.labels_\n",
    "n_clusters = len(set(labels)) - (1 if -1 in labels else 0)\n",
    "print(\"Number of clusters = \"+str(n_clusters))"
   ]
  },
  {
   "cell_type": "code",
   "execution_count": 35,
   "metadata": {},
   "outputs": [
    {
     "name": "stdout",
     "output_type": "stream",
     "text": [
      "Silhouette Score = 0.5568352052692056\n",
      "Number of clusters = 1\n"
     ]
    }
   ],
   "source": [
    "#taking eps value 19.5\n",
    "dbscan = DBSCAN(eps=19.5, min_samples=400, metric='euclidean', n_jobs=-1).fit(Data_TFIDF_W2V_Std)\n",
    "silhouetteScore = silhouette_score(Data_TFIDF_W2V_Std, dbscan.labels_)\n",
    "print(\"Silhouette Score = \"+str(silhouetteScore))\n",
    "labels = dbscan.labels_\n",
    "n_clusters = len(set(labels)) - (1 if -1 in labels else 0)\n",
    "print(\"Number of clusters = \"+str(n_clusters))"
   ]
  },
  {
   "cell_type": "code",
   "execution_count": 36,
   "metadata": {},
   "outputs": [
    {
     "name": "stdout",
     "output_type": "stream",
     "text": [
      "Silhouette Score = 0.5568352052692056\n",
      "Number of clusters = 1\n"
     ]
    }
   ],
   "source": [
    "#taking eps value 20\n",
    "dbscan = DBSCAN(eps=20, min_samples=400, metric='euclidean', n_jobs=-1).fit(Data_TFIDF_W2V_Std)\n",
    "silhouetteScore = silhouette_score(Data_TFIDF_W2V_Std, dbscan.labels_)\n",
    "print(\"Silhouette Score = \"+str(silhouetteScore))\n",
    "labels = dbscan.labels_\n",
    "n_clusters = len(set(labels)) - (1 if -1 in labels else 0)\n",
    "print(\"Number of clusters = \"+str(n_clusters))"
   ]
  }
 ],
 "metadata": {
  "kernelspec": {
   "display_name": "Python 3",
   "language": "python",
   "name": "python3"
  },
  "language_info": {
   "codemirror_mode": {
    "name": "ipython",
    "version": 3
   },
   "file_extension": ".py",
   "mimetype": "text/x-python",
   "name": "python",
   "nbconvert_exporter": "python",
   "pygments_lexer": "ipython3",
   "version": "3.6.5"
  }
 },
 "nbformat": 4,
 "nbformat_minor": 2
}
