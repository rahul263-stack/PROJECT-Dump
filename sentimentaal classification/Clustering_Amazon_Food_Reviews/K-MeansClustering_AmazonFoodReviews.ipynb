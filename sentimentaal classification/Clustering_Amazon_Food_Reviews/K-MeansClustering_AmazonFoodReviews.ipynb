{
 "cells": [
  {
   "cell_type": "markdown",
   "metadata": {},
   "source": [
    "# K-Means Clustering on Amazon Food Reviews\n",
    "\n",
    "Data Source: https://www.kaggle.com/snap/amazon-fine-food-reviews\n",
    "\n",
    "The Amazon Fine Food Reviews dataset consists of reviews of fine foods from Amazon.\n",
    "\n",
    "Number of reviews: 568,454 Number of users: 256,059 Number of products: 74,258 Timespan: Oct 1999 - Oct 2012 Number of Attributes/Columns in data: 10\n",
    "\n",
    "Attribute Information:\n",
    "\n",
    "1.  index\n",
    "2.  Id\n",
    "3.  ProductId - unique identifier for the product\n",
    "4.  UserId - unqiue identifier for the user\n",
    "5.  ProfileName\n",
    "6.  HelpfulnessNumerator - number of users who found the review helpful\n",
    "7.  HelpfulnessDenominator - number of users who indicated whether they found the review helpful or not\n",
    "8.  Score - rating between 1 and 5\n",
    "9.  Time - timestamp for the review\n",
    "10. Summary - brief summary of the review\n",
    "11. Text - text of the review\n",
    "12. ProcessedText - Cleaned & Preprocessed Text of the review\n",
    "\n",
    "**Objective: Given Amazon Food reviews, convert all the reviews into a vector by taking 10000 data points using three techniques: **<br>\n",
    "**1. BoW.**<br>\n",
    "**2. TFIDF.**<br>\n",
    "**3. Average W2V.**<br>\n",
    "\n",
    "**Then perform following tasks under each technique:**<br>\n",
    "**Task 1. Perform Cross Validation on K-Means and use elbow method to find optimal number of clusters.**<br>\n",
    "**Task 2. Apply K-Means.**<br>\n",
    "\n",
    "[Q] How to determine if a review is positive or negative?\n",
    "\n",
    "[Ans] We could use the Score/Rating. A rating of 4 or 5 could be cosnidered a positive review. A review of 1 or 2 could be considered negative. A review of 3 is nuetral and ignored. This is an approximate and proxy way of determining the polarity (positivity/negativity) of a review.\n",
    "\n",
    "Loading the data\n",
    "\n",
    "SQLite Database\n",
    "\n",
    "In order to load the data, We have used the SQLITE dataset as it easier to query the data and visualise the data efficiently. Here as we only want to get the global sentiment of the recommendations (positive or negative), we will purposefully ignore all Scores equal to 3. If the score id above 3, then the recommendation wil be set to \"positive\". Otherwise, it will be set to \"negative\"."
   ]
  },
  {
   "cell_type": "code",
   "execution_count": 130,
   "metadata": {},
   "outputs": [],
   "source": [
    "import sqlite3\n",
    "import pandas as pd\n",
    "import numpy as np\n",
    "import matplotlib.pyplot as plt\n",
    "\n",
    "from sklearn.feature_extraction.text import CountVectorizer\n",
    "from sklearn.feature_extraction.text import TfidfVectorizer\n",
    "from gensim.models import Word2Vec\n",
    "import gensim\n",
    "from sklearn.preprocessing import StandardScaler\n",
    "\n",
    "from sklearn.cluster import KMeans\n",
    "from sklearn.metrics import silhouette_score"
   ]
  },
  {
   "cell_type": "code",
   "execution_count": 2,
   "metadata": {},
   "outputs": [],
   "source": [
    "connection = sqlite3.connect(\"FinalAmazonFoodReviewsDataset.sqlite\")"
   ]
  },
  {
   "cell_type": "code",
   "execution_count": 3,
   "metadata": {},
   "outputs": [],
   "source": [
    "data = pd.read_sql_query(\"SELECT * FROM Reviews\", connection)"
   ]
  },
  {
   "cell_type": "code",
   "execution_count": 4,
   "metadata": {},
   "outputs": [
    {
     "data": {
      "text/html": [
       "<div>\n",
       "<style scoped>\n",
       "    .dataframe tbody tr th:only-of-type {\n",
       "        vertical-align: middle;\n",
       "    }\n",
       "\n",
       "    .dataframe tbody tr th {\n",
       "        vertical-align: top;\n",
       "    }\n",
       "\n",
       "    .dataframe thead th {\n",
       "        text-align: right;\n",
       "    }\n",
       "</style>\n",
       "<table border=\"1\" class=\"dataframe\">\n",
       "  <thead>\n",
       "    <tr style=\"text-align: right;\">\n",
       "      <th></th>\n",
       "      <th>index</th>\n",
       "      <th>Id</th>\n",
       "      <th>ProductId</th>\n",
       "      <th>UserId</th>\n",
       "      <th>ProfileName</th>\n",
       "      <th>HelpfulnessNumerator</th>\n",
       "      <th>HelpfulnessDenominator</th>\n",
       "      <th>Score</th>\n",
       "      <th>Time</th>\n",
       "      <th>Summary</th>\n",
       "      <th>Text</th>\n",
       "      <th>ProcessedText</th>\n",
       "    </tr>\n",
       "  </thead>\n",
       "  <tbody>\n",
       "    <tr>\n",
       "      <th>0</th>\n",
       "      <td>0</td>\n",
       "      <td>1</td>\n",
       "      <td>B001E4KFG0</td>\n",
       "      <td>A3SGXH7AUHU8GW</td>\n",
       "      <td>delmartian</td>\n",
       "      <td>1</td>\n",
       "      <td>1</td>\n",
       "      <td>Positive</td>\n",
       "      <td>1303862400</td>\n",
       "      <td>Good Quality Dog Food</td>\n",
       "      <td>I have bought several of the Vitality canned d...</td>\n",
       "      <td>have bought sever the vital can dog food produ...</td>\n",
       "    </tr>\n",
       "    <tr>\n",
       "      <th>1</th>\n",
       "      <td>1</td>\n",
       "      <td>2</td>\n",
       "      <td>B00813GRG4</td>\n",
       "      <td>A1D87F6ZCVE5NK</td>\n",
       "      <td>dll pa</td>\n",
       "      <td>0</td>\n",
       "      <td>0</td>\n",
       "      <td>Negative</td>\n",
       "      <td>1346976000</td>\n",
       "      <td>Not as Advertised</td>\n",
       "      <td>Product arrived labeled as Jumbo Salted Peanut...</td>\n",
       "      <td>product arriv label jumbo salt peanut the pean...</td>\n",
       "    </tr>\n",
       "    <tr>\n",
       "      <th>2</th>\n",
       "      <td>2</td>\n",
       "      <td>3</td>\n",
       "      <td>B000LQOCH0</td>\n",
       "      <td>ABXLMWJIXXAIN</td>\n",
       "      <td>Natalia Corres \"Natalia Corres\"</td>\n",
       "      <td>1</td>\n",
       "      <td>1</td>\n",
       "      <td>Positive</td>\n",
       "      <td>1219017600</td>\n",
       "      <td>\"Delight\" says it all</td>\n",
       "      <td>This is a confection that has been around a fe...</td>\n",
       "      <td>this confect that has been around few centuri ...</td>\n",
       "    </tr>\n",
       "    <tr>\n",
       "      <th>3</th>\n",
       "      <td>4</td>\n",
       "      <td>5</td>\n",
       "      <td>B006K2ZZ7K</td>\n",
       "      <td>A1UQRSCLF8GW1T</td>\n",
       "      <td>Michael D. Bigham \"M. Wassir\"</td>\n",
       "      <td>0</td>\n",
       "      <td>0</td>\n",
       "      <td>Positive</td>\n",
       "      <td>1350777600</td>\n",
       "      <td>Great taffy</td>\n",
       "      <td>Great taffy at a great price.  There was a wid...</td>\n",
       "      <td>great taffi great price there was wide assort ...</td>\n",
       "    </tr>\n",
       "    <tr>\n",
       "      <th>4</th>\n",
       "      <td>5</td>\n",
       "      <td>6</td>\n",
       "      <td>B006K2ZZ7K</td>\n",
       "      <td>ADT0SRK1MGOEU</td>\n",
       "      <td>Twoapennything</td>\n",
       "      <td>0</td>\n",
       "      <td>0</td>\n",
       "      <td>Positive</td>\n",
       "      <td>1342051200</td>\n",
       "      <td>Nice Taffy</td>\n",
       "      <td>I got a wild hair for taffy and ordered this f...</td>\n",
       "      <td>got wild hair for taffi and order this five po...</td>\n",
       "    </tr>\n",
       "  </tbody>\n",
       "</table>\n",
       "</div>"
      ],
      "text/plain": [
       "   index  Id   ProductId          UserId                      ProfileName  \\\n",
       "0      0   1  B001E4KFG0  A3SGXH7AUHU8GW                       delmartian   \n",
       "1      1   2  B00813GRG4  A1D87F6ZCVE5NK                           dll pa   \n",
       "2      2   3  B000LQOCH0   ABXLMWJIXXAIN  Natalia Corres \"Natalia Corres\"   \n",
       "3      4   5  B006K2ZZ7K  A1UQRSCLF8GW1T    Michael D. Bigham \"M. Wassir\"   \n",
       "4      5   6  B006K2ZZ7K   ADT0SRK1MGOEU                   Twoapennything   \n",
       "\n",
       "   HelpfulnessNumerator  HelpfulnessDenominator     Score        Time  \\\n",
       "0                     1                       1  Positive  1303862400   \n",
       "1                     0                       0  Negative  1346976000   \n",
       "2                     1                       1  Positive  1219017600   \n",
       "3                     0                       0  Positive  1350777600   \n",
       "4                     0                       0  Positive  1342051200   \n",
       "\n",
       "                 Summary                                               Text  \\\n",
       "0  Good Quality Dog Food  I have bought several of the Vitality canned d...   \n",
       "1      Not as Advertised  Product arrived labeled as Jumbo Salted Peanut...   \n",
       "2  \"Delight\" says it all  This is a confection that has been around a fe...   \n",
       "3            Great taffy  Great taffy at a great price.  There was a wid...   \n",
       "4             Nice Taffy  I got a wild hair for taffy and ordered this f...   \n",
       "\n",
       "                                       ProcessedText  \n",
       "0  have bought sever the vital can dog food produ...  \n",
       "1  product arriv label jumbo salt peanut the pean...  \n",
       "2  this confect that has been around few centuri ...  \n",
       "3  great taffi great price there was wide assort ...  \n",
       "4  got wild hair for taffi and order this five po...  "
      ]
     },
     "execution_count": 4,
     "metadata": {},
     "output_type": "execute_result"
    }
   ],
   "source": [
    "data.head()"
   ]
  },
  {
   "cell_type": "code",
   "execution_count": 5,
   "metadata": {},
   "outputs": [
    {
     "data": {
      "text/plain": [
       "(364171, 12)"
      ]
     },
     "execution_count": 5,
     "metadata": {},
     "output_type": "execute_result"
    }
   ],
   "source": [
    "data.shape"
   ]
  },
  {
   "cell_type": "code",
   "execution_count": 6,
   "metadata": {},
   "outputs": [
    {
     "data": {
      "text/plain": [
       "Positive    307061\n",
       "Negative     57110\n",
       "Name: Score, dtype: int64"
      ]
     },
     "execution_count": 6,
     "metadata": {},
     "output_type": "execute_result"
    }
   ],
   "source": [
    "data[\"Score\"].value_counts()"
   ]
  },
  {
   "cell_type": "code",
   "execution_count": 7,
   "metadata": {},
   "outputs": [],
   "source": [
    "def changingScores(score):\n",
    "    if score == \"Positive\":\n",
    "        return 1\n",
    "    else:\n",
    "        return 0"
   ]
  },
  {
   "cell_type": "code",
   "execution_count": 8,
   "metadata": {},
   "outputs": [],
   "source": [
    "# changing score\n",
    "# Positive = 1\n",
    "# Negative = 0\n",
    "actualScore = list(data[\"Score\"])                                                                                         \n",
    "positiveNegative = list(map(changingScores, actualScore)) #map(function, list of numbers)\n",
    "data['Score'] = positiveNegative"
   ]
  },
  {
   "cell_type": "code",
   "execution_count": 9,
   "metadata": {},
   "outputs": [
    {
     "data": {
      "text/html": [
       "<div>\n",
       "<style scoped>\n",
       "    .dataframe tbody tr th:only-of-type {\n",
       "        vertical-align: middle;\n",
       "    }\n",
       "\n",
       "    .dataframe tbody tr th {\n",
       "        vertical-align: top;\n",
       "    }\n",
       "\n",
       "    .dataframe thead th {\n",
       "        text-align: right;\n",
       "    }\n",
       "</style>\n",
       "<table border=\"1\" class=\"dataframe\">\n",
       "  <thead>\n",
       "    <tr style=\"text-align: right;\">\n",
       "      <th></th>\n",
       "      <th>index</th>\n",
       "      <th>Id</th>\n",
       "      <th>ProductId</th>\n",
       "      <th>UserId</th>\n",
       "      <th>ProfileName</th>\n",
       "      <th>HelpfulnessNumerator</th>\n",
       "      <th>HelpfulnessDenominator</th>\n",
       "      <th>Score</th>\n",
       "      <th>Time</th>\n",
       "      <th>Summary</th>\n",
       "      <th>Text</th>\n",
       "      <th>ProcessedText</th>\n",
       "    </tr>\n",
       "  </thead>\n",
       "  <tbody>\n",
       "    <tr>\n",
       "      <th>0</th>\n",
       "      <td>0</td>\n",
       "      <td>1</td>\n",
       "      <td>B001E4KFG0</td>\n",
       "      <td>A3SGXH7AUHU8GW</td>\n",
       "      <td>delmartian</td>\n",
       "      <td>1</td>\n",
       "      <td>1</td>\n",
       "      <td>1</td>\n",
       "      <td>1303862400</td>\n",
       "      <td>Good Quality Dog Food</td>\n",
       "      <td>I have bought several of the Vitality canned d...</td>\n",
       "      <td>have bought sever the vital can dog food produ...</td>\n",
       "    </tr>\n",
       "    <tr>\n",
       "      <th>1</th>\n",
       "      <td>1</td>\n",
       "      <td>2</td>\n",
       "      <td>B00813GRG4</td>\n",
       "      <td>A1D87F6ZCVE5NK</td>\n",
       "      <td>dll pa</td>\n",
       "      <td>0</td>\n",
       "      <td>0</td>\n",
       "      <td>0</td>\n",
       "      <td>1346976000</td>\n",
       "      <td>Not as Advertised</td>\n",
       "      <td>Product arrived labeled as Jumbo Salted Peanut...</td>\n",
       "      <td>product arriv label jumbo salt peanut the pean...</td>\n",
       "    </tr>\n",
       "    <tr>\n",
       "      <th>2</th>\n",
       "      <td>2</td>\n",
       "      <td>3</td>\n",
       "      <td>B000LQOCH0</td>\n",
       "      <td>ABXLMWJIXXAIN</td>\n",
       "      <td>Natalia Corres \"Natalia Corres\"</td>\n",
       "      <td>1</td>\n",
       "      <td>1</td>\n",
       "      <td>1</td>\n",
       "      <td>1219017600</td>\n",
       "      <td>\"Delight\" says it all</td>\n",
       "      <td>This is a confection that has been around a fe...</td>\n",
       "      <td>this confect that has been around few centuri ...</td>\n",
       "    </tr>\n",
       "    <tr>\n",
       "      <th>3</th>\n",
       "      <td>4</td>\n",
       "      <td>5</td>\n",
       "      <td>B006K2ZZ7K</td>\n",
       "      <td>A1UQRSCLF8GW1T</td>\n",
       "      <td>Michael D. Bigham \"M. Wassir\"</td>\n",
       "      <td>0</td>\n",
       "      <td>0</td>\n",
       "      <td>1</td>\n",
       "      <td>1350777600</td>\n",
       "      <td>Great taffy</td>\n",
       "      <td>Great taffy at a great price.  There was a wid...</td>\n",
       "      <td>great taffi great price there was wide assort ...</td>\n",
       "    </tr>\n",
       "    <tr>\n",
       "      <th>4</th>\n",
       "      <td>5</td>\n",
       "      <td>6</td>\n",
       "      <td>B006K2ZZ7K</td>\n",
       "      <td>ADT0SRK1MGOEU</td>\n",
       "      <td>Twoapennything</td>\n",
       "      <td>0</td>\n",
       "      <td>0</td>\n",
       "      <td>1</td>\n",
       "      <td>1342051200</td>\n",
       "      <td>Nice Taffy</td>\n",
       "      <td>I got a wild hair for taffy and ordered this f...</td>\n",
       "      <td>got wild hair for taffi and order this five po...</td>\n",
       "    </tr>\n",
       "  </tbody>\n",
       "</table>\n",
       "</div>"
      ],
      "text/plain": [
       "   index  Id   ProductId          UserId                      ProfileName  \\\n",
       "0      0   1  B001E4KFG0  A3SGXH7AUHU8GW                       delmartian   \n",
       "1      1   2  B00813GRG4  A1D87F6ZCVE5NK                           dll pa   \n",
       "2      2   3  B000LQOCH0   ABXLMWJIXXAIN  Natalia Corres \"Natalia Corres\"   \n",
       "3      4   5  B006K2ZZ7K  A1UQRSCLF8GW1T    Michael D. Bigham \"M. Wassir\"   \n",
       "4      5   6  B006K2ZZ7K   ADT0SRK1MGOEU                   Twoapennything   \n",
       "\n",
       "   HelpfulnessNumerator  HelpfulnessDenominator  Score        Time  \\\n",
       "0                     1                       1      1  1303862400   \n",
       "1                     0                       0      0  1346976000   \n",
       "2                     1                       1      1  1219017600   \n",
       "3                     0                       0      1  1350777600   \n",
       "4                     0                       0      1  1342051200   \n",
       "\n",
       "                 Summary                                               Text  \\\n",
       "0  Good Quality Dog Food  I have bought several of the Vitality canned d...   \n",
       "1      Not as Advertised  Product arrived labeled as Jumbo Salted Peanut...   \n",
       "2  \"Delight\" says it all  This is a confection that has been around a fe...   \n",
       "3            Great taffy  Great taffy at a great price.  There was a wid...   \n",
       "4             Nice Taffy  I got a wild hair for taffy and ordered this f...   \n",
       "\n",
       "                                       ProcessedText  \n",
       "0  have bought sever the vital can dog food produ...  \n",
       "1  product arriv label jumbo salt peanut the pean...  \n",
       "2  this confect that has been around few centuri ...  \n",
       "3  great taffi great price there was wide assort ...  \n",
       "4  got wild hair for taffi and order this five po...  "
      ]
     },
     "execution_count": 9,
     "metadata": {},
     "output_type": "execute_result"
    }
   ],
   "source": [
    "data.head()"
   ]
  },
  {
   "cell_type": "code",
   "execution_count": 10,
   "metadata": {},
   "outputs": [],
   "source": [
    "#taking 5000 random samples\n",
    "data = data.sample(n = 5000)"
   ]
  },
  {
   "cell_type": "code",
   "execution_count": 11,
   "metadata": {},
   "outputs": [
    {
     "data": {
      "text/plain": [
       "(5000, 12)"
      ]
     },
     "execution_count": 11,
     "metadata": {},
     "output_type": "execute_result"
    }
   ],
   "source": [
    "data.shape"
   ]
  },
  {
   "cell_type": "code",
   "execution_count": 12,
   "metadata": {},
   "outputs": [
    {
     "data": {
      "text/plain": [
       "1    4241\n",
       "0     759\n",
       "Name: Score, dtype: int64"
      ]
     },
     "execution_count": 12,
     "metadata": {},
     "output_type": "execute_result"
    }
   ],
   "source": [
    "data[\"Score\"].value_counts()"
   ]
  },
  {
   "cell_type": "code",
   "execution_count": 13,
   "metadata": {},
   "outputs": [],
   "source": [
    "Data = data"
   ]
  },
  {
   "cell_type": "code",
   "execution_count": 14,
   "metadata": {},
   "outputs": [],
   "source": [
    "Data_Labels = data[\"Score\"]"
   ]
  },
  {
   "cell_type": "code",
   "execution_count": 15,
   "metadata": {},
   "outputs": [
    {
     "name": "stdout",
     "output_type": "stream",
     "text": [
      "(5000, 12)\n",
      "(5000,)\n"
     ]
    }
   ],
   "source": [
    "print(Data.shape)\n",
    "print(Data_Labels.shape)"
   ]
  },
  {
   "cell_type": "code",
   "execution_count": 16,
   "metadata": {},
   "outputs": [
    {
     "data": {
      "text/html": [
       "<div>\n",
       "<style scoped>\n",
       "    .dataframe tbody tr th:only-of-type {\n",
       "        vertical-align: middle;\n",
       "    }\n",
       "\n",
       "    .dataframe tbody tr th {\n",
       "        vertical-align: top;\n",
       "    }\n",
       "\n",
       "    .dataframe thead th {\n",
       "        text-align: right;\n",
       "    }\n",
       "</style>\n",
       "<table border=\"1\" class=\"dataframe\">\n",
       "  <thead>\n",
       "    <tr style=\"text-align: right;\">\n",
       "      <th></th>\n",
       "      <th>index</th>\n",
       "      <th>Id</th>\n",
       "      <th>ProductId</th>\n",
       "      <th>UserId</th>\n",
       "      <th>ProfileName</th>\n",
       "      <th>HelpfulnessNumerator</th>\n",
       "      <th>HelpfulnessDenominator</th>\n",
       "      <th>Score</th>\n",
       "      <th>Time</th>\n",
       "      <th>Summary</th>\n",
       "      <th>Text</th>\n",
       "      <th>ProcessedText</th>\n",
       "    </tr>\n",
       "  </thead>\n",
       "  <tbody>\n",
       "    <tr>\n",
       "      <th>145007</th>\n",
       "      <td>205776</td>\n",
       "      <td>222967</td>\n",
       "      <td>B000UUWECC</td>\n",
       "      <td>ASAOKINJWVPXY</td>\n",
       "      <td>Michael J. Price</td>\n",
       "      <td>0</td>\n",
       "      <td>0</td>\n",
       "      <td>1</td>\n",
       "      <td>1272931200</td>\n",
       "      <td>Great Product for Sensitive Stomachs of the El...</td>\n",
       "      <td>I became interested in a soothing drink for my...</td>\n",
       "      <td>becam interest sooth drink for elder mother wh...</td>\n",
       "    </tr>\n",
       "    <tr>\n",
       "      <th>150202</th>\n",
       "      <td>213516</td>\n",
       "      <td>231402</td>\n",
       "      <td>B003FDC2I2</td>\n",
       "      <td>AB5TNEYXHO7JX</td>\n",
       "      <td>Jenn</td>\n",
       "      <td>1</td>\n",
       "      <td>1</td>\n",
       "      <td>1</td>\n",
       "      <td>1339632000</td>\n",
       "      <td>Worth it</td>\n",
       "      <td>I don't normally write reviews but for Orgain ...</td>\n",
       "      <td>dont normal write review but for orgain felt c...</td>\n",
       "    </tr>\n",
       "    <tr>\n",
       "      <th>318913</th>\n",
       "      <td>458489</td>\n",
       "      <td>495717</td>\n",
       "      <td>B0098WV8F2</td>\n",
       "      <td>A4SBF0TQN6S5L</td>\n",
       "      <td>JGM \"Moi\"</td>\n",
       "      <td>0</td>\n",
       "      <td>0</td>\n",
       "      <td>1</td>\n",
       "      <td>1325980800</td>\n",
       "      <td>Yum.</td>\n",
       "      <td>Love this low calorie delicious peanut butter....</td>\n",
       "      <td>love this low calori delici peanut butter both...</td>\n",
       "    </tr>\n",
       "    <tr>\n",
       "      <th>25238</th>\n",
       "      <td>36951</td>\n",
       "      <td>40147</td>\n",
       "      <td>B001EQ4ONI</td>\n",
       "      <td>A2524C1GBZCL0B</td>\n",
       "      <td>mickey</td>\n",
       "      <td>0</td>\n",
       "      <td>0</td>\n",
       "      <td>1</td>\n",
       "      <td>1295568000</td>\n",
       "      <td>worth buying</td>\n",
       "      <td>My daughter-in-law served this product when I ...</td>\n",
       "      <td>serv this product when visit grandson great sh...</td>\n",
       "    </tr>\n",
       "    <tr>\n",
       "      <th>340602</th>\n",
       "      <td>491574</td>\n",
       "      <td>531500</td>\n",
       "      <td>B000DZFMFA</td>\n",
       "      <td>A1HKBX2L0DV258</td>\n",
       "      <td>Dena Leasure</td>\n",
       "      <td>1</td>\n",
       "      <td>1</td>\n",
       "      <td>1</td>\n",
       "      <td>1259625600</td>\n",
       "      <td>Gluten free Cookies</td>\n",
       "      <td>These cookies are great!  Don 't really get al...</td>\n",
       "      <td>these cooki are great don realli get alot good...</td>\n",
       "    </tr>\n",
       "  </tbody>\n",
       "</table>\n",
       "</div>"
      ],
      "text/plain": [
       "         index      Id   ProductId          UserId       ProfileName  \\\n",
       "145007  205776  222967  B000UUWECC   ASAOKINJWVPXY  Michael J. Price   \n",
       "150202  213516  231402  B003FDC2I2   AB5TNEYXHO7JX              Jenn   \n",
       "318913  458489  495717  B0098WV8F2   A4SBF0TQN6S5L         JGM \"Moi\"   \n",
       "25238    36951   40147  B001EQ4ONI  A2524C1GBZCL0B            mickey   \n",
       "340602  491574  531500  B000DZFMFA  A1HKBX2L0DV258      Dena Leasure   \n",
       "\n",
       "        HelpfulnessNumerator  HelpfulnessDenominator  Score        Time  \\\n",
       "145007                     0                       0      1  1272931200   \n",
       "150202                     1                       1      1  1339632000   \n",
       "318913                     0                       0      1  1325980800   \n",
       "25238                      0                       0      1  1295568000   \n",
       "340602                     1                       1      1  1259625600   \n",
       "\n",
       "                                                  Summary  \\\n",
       "145007  Great Product for Sensitive Stomachs of the El...   \n",
       "150202                                           Worth it   \n",
       "318913                                               Yum.   \n",
       "25238                                        worth buying   \n",
       "340602                                Gluten free Cookies   \n",
       "\n",
       "                                                     Text  \\\n",
       "145007  I became interested in a soothing drink for my...   \n",
       "150202  I don't normally write reviews but for Orgain ...   \n",
       "318913  Love this low calorie delicious peanut butter....   \n",
       "25238   My daughter-in-law served this product when I ...   \n",
       "340602  These cookies are great!  Don 't really get al...   \n",
       "\n",
       "                                            ProcessedText  \n",
       "145007  becam interest sooth drink for elder mother wh...  \n",
       "150202  dont normal write review but for orgain felt c...  \n",
       "318913  love this low calori delici peanut butter both...  \n",
       "25238   serv this product when visit grandson great sh...  \n",
       "340602  these cooki are great don realli get alot good...  "
      ]
     },
     "execution_count": 16,
     "metadata": {},
     "output_type": "execute_result"
    }
   ],
   "source": [
    "Data.head()"
   ]
  },
  {
   "cell_type": "markdown",
   "metadata": {},
   "source": [
    "## BoW"
   ]
  },
  {
   "cell_type": "code",
   "execution_count": 17,
   "metadata": {},
   "outputs": [],
   "source": [
    "count_vect = CountVectorizer()\n",
    "Data_BoW = count_vect.fit_transform(Data[\"ProcessedText\"].values)"
   ]
  },
  {
   "cell_type": "code",
   "execution_count": 18,
   "metadata": {},
   "outputs": [
    {
     "name": "stdout",
     "output_type": "stream",
     "text": [
      "<class 'scipy.sparse.csr.csr_matrix'>\n",
      "(5000, 9525)\n"
     ]
    }
   ],
   "source": [
    "print(type(Data_BoW))\n",
    "print(Data_BoW.shape)"
   ]
  },
  {
   "cell_type": "code",
   "execution_count": 19,
   "metadata": {},
   "outputs": [
    {
     "name": "stdout",
     "output_type": "stream",
     "text": [
      "(5000, 9525)\n",
      "<class 'scipy.sparse.csr.csr_matrix'>\n"
     ]
    },
    {
     "name": "stderr",
     "output_type": "stream",
     "text": [
      "C:\\Users\\GauravP\\Anaconda3\\lib\\site-packages\\sklearn\\utils\\validation.py:475: DataConversionWarning: Data with input dtype int64 was converted to float64 by StandardScaler.\n",
      "  warnings.warn(msg, DataConversionWarning)\n"
     ]
    }
   ],
   "source": [
    "#Standardizing our data matrix\n",
    "Data_BoW_Std = StandardScaler(with_mean = False).fit_transform(Data_BoW)\n",
    "print(Data_BoW_Std.shape)\n",
    "print(type(Data_BoW_Std))"
   ]
  },
  {
   "cell_type": "markdown",
   "metadata": {},
   "source": [
    "### Task 1. Perform Cross Validation on K-Means and use elbow method to find optimal number of clusters."
   ]
  },
  {
   "cell_type": "code",
   "execution_count": 89,
   "metadata": {},
   "outputs": [
    {
     "name": "stdout",
     "output_type": "stream",
     "text": [
      "Loss = 47166302.51309344 for number of clusters = 5\n",
      "Loss = 46683033.998859026 for number of clusters = 10\n",
      "Loss = 45983307.65827241 for number of clusters = 15\n",
      "Loss = 45904929.340340376 for number of clusters = 20\n",
      "Loss = 45241843.63682336 for number of clusters = 25\n",
      "Loss = 44530682.43206152 for number of clusters = 30\n",
      "Loss = 44440129.81190301 for number of clusters = 35\n",
      "Loss = 44211087.691596895 for number of clusters = 40\n",
      "Loss = 43638532.68453365 for number of clusters = 45\n",
      "Loss = 43435494.04941922 for number of clusters = 50\n",
      "Loss = 43142392.832236886 for number of clusters = 55\n",
      "Loss = 42706547.89267114 for number of clusters = 60\n",
      "Loss = 42437052.260163665 for number of clusters = 65\n",
      "Loss = 41960745.961246125 for number of clusters = 70\n",
      "Loss = 41853228.18844861 for number of clusters = 75\n",
      "Loss = 41398023.98524521 for number of clusters = 80\n",
      "Loss = 40980132.24941102 for number of clusters = 85\n",
      "Loss = 40979784.38578416 for number of clusters = 90\n",
      "Loss = 40768713.20894561 for number of clusters = 95\n",
      "Loss = 40502027.59807339 for number of clusters = 100\n"
     ]
    }
   ],
   "source": [
    "clusters = [i for i in range(5, 101, 5)]\n",
    "loss = []\n",
    "\n",
    "for k in clusters:\n",
    "    kmeans = KMeans(n_clusters=k, init = \"k-means++\", max_iter = 100, n_jobs = -1).fit(Data_BoW_Std)\n",
    "    loss.append(kmeans.inertia_)\n",
    "    print(\"Loss = \"+str(kmeans.inertia_)+\" for number of clusters = \"+str(k))"
   ]
  },
  {
   "cell_type": "code",
   "execution_count": 90,
   "metadata": {},
   "outputs": [
    {
     "data": {
      "image/png": "[encoded data removed]",
      "text/plain": [
       "<Figure size 720x576 with 1 Axes>"
      ]
     },
     "metadata": {},
     "output_type": "display_data"
    }
   ],
   "source": [
    "plt.figure(figsize = (10, 8))\n",
    "plt.plot(clusters, loss)\n",
    "plt.title(\"Number of clusters VS K-Means loss\", fontsize=20)\n",
    "plt.xlabel(\"Number of Clusters\", fontsize=20)\n",
    "plt.ylabel(\"K-Means Loss\", fontsize=20)\n",
    "plt.grid(linestyle='-', linewidth=0.5)"
   ]
  },
  {
   "cell_type": "markdown",
   "metadata": {},
   "source": [
    "**From the above graph it can be seen that when number of clusters increased from 85 to 95, the loss has not been reduced much. Hence, we are considering our number of clusters to be 85.**"
   ]
  },
  {
   "cell_type": "markdown",
   "metadata": {},
   "source": [
    "### Task 2. Apply K-Means."
   ]
  },
  {
   "cell_type": "code",
   "execution_count": 91,
   "metadata": {},
   "outputs": [],
   "source": [
    "KMeans_Apply = KMeans(n_clusters=85, init = \"k-means++\", max_iter = 100, n_jobs = -1).fit(Data_BoW_Std)"
   ]
  },
  {
   "cell_type": "code",
   "execution_count": 91,
   "metadata": {
    "scrolled": false
   },
   "outputs": [],
   "source": [
    "# Cluster_indices = {}\n",
    "# cnt = 0\n",
    "# for i in kmeansApply.labels_:\n",
    "# #     print(\"Cluster Number= \"+str(i)+\", corresponding point from dataset = \"+str(cnt))\n",
    "#     cnt += 1"
   ]
  },
  {
   "cell_type": "code",
   "execution_count": 119,
   "metadata": {},
   "outputs": [],
   "source": [
    "#\"KMeans.labels_\" returns an array where each element of an array signifies the cluster number and its corresponding index \n",
    "#number signifies the data-point number."
   ]
  },
  {
   "cell_type": "code",
   "execution_count": null,
   "metadata": {},
   "outputs": [],
   "source": [
    "# a = np.arange(5,10)\n",
    "# np.where(a < 8)     # tell me where in a, entries are < 8\n",
    "\n",
    "# >>>(array([0, 1, 2]),)       # answer: entries indexed by 0, 1, 2\n",
    "\n",
    "#Intuitively, np.where is like asking \"tell me where in this array, entries satisfy a given condition\""
   ]
  },
  {
   "cell_type": "code",
   "execution_count": 92,
   "metadata": {},
   "outputs": [],
   "source": [
    "Cluster_indices = {i: np.where(KMeans_Apply.labels_ == i) for i in range(KMeans_Apply.n_clusters)}\n",
    "#above line can be read as, Cluster_indices is a dictionary where keys are the cluster number and value will be which point is \n",
    "#there in which cluster number. "
   ]
  },
  {
   "cell_type": "code",
   "execution_count": 93,
   "metadata": {},
   "outputs": [
    {
     "name": "stdout",
     "output_type": "stream",
     "text": [
      "Cluster 0 has length 6\n",
      "Cluster 6 has length 3\n"
     ]
    }
   ],
   "source": [
    "for i in range(10):\n",
    "    length = len(Cluster_indices[i][0])\n",
    "    if length > 1:\n",
    "        print(\"Cluster \"+str(i)+\" has length \"+str(length))"
   ]
  },
  {
   "cell_type": "markdown",
   "metadata": {},
   "source": [
    "**It has been found that only cluster number- '0', '6' contains more than one point, rest all of the clusters contains one point only. It indicates that except 2 clusters, rest of the clusters contains just one point which means that rest of the clusters are point in itself.**"
   ]
  },
  {
   "cell_type": "markdown",
   "metadata": {},
   "source": [
    "#### Silhouette Analysis\n",
    "Assume the data have been clustered via any technique, such as k-means, into k clusters. For each datum i, let a(i) be the average distance between i and all other data within the same cluster. We can interpret a(i) as a measure of how well i is assigned to its cluster (the smaller the value, the better the assignment). We then define the average dissimilarity of point i to a cluster c as the average of the distance from i to all points in c.\n",
    "\n",
    "Let b(i) be the lowest average distance of i to all points in any other cluster, of which i is not a member. The cluster with this lowest average dissimilarity is said to be the \"neighbouring cluster\" of i because it is the next best fit cluster for point i. We now define a silhouette:\n",
    "![title](Silhouette1.svg)\n",
    "Which can be also written as:\n",
    "![title](Silhouette2.svg)\n",
    "From the above definition it is clear that:\n",
    "![title](Silhouette3.svg)"
   ]
  },
  {
   "cell_type": "code",
   "execution_count": 95,
   "metadata": {},
   "outputs": [
    {
     "name": "stdout",
     "output_type": "stream",
     "text": [
      "Silhouette Score = 0.15773976790229466\n"
     ]
    }
   ],
   "source": [
    "a = silhouette_score(Data_BoW_Std, KMeans_Apply.labels_)\n",
    "print(\"Silhouette Score = \"+str(a))"
   ]
  },
  {
   "cell_type": "markdown",
   "metadata": {},
   "source": [
    "**Silhouette Score of 0.1577 suggests that clusters are very close to each other and very few of them are overlapping.**"
   ]
  },
  {
   "cell_type": "markdown",
   "metadata": {},
   "source": [
    "## TFIDF"
   ]
  },
  {
   "cell_type": "code",
   "execution_count": 96,
   "metadata": {},
   "outputs": [
    {
     "data": {
      "text/plain": [
       "(5000, 12)"
      ]
     },
     "execution_count": 96,
     "metadata": {},
     "output_type": "execute_result"
    }
   ],
   "source": [
    "Data.shape"
   ]
  },
  {
   "cell_type": "code",
   "execution_count": 97,
   "metadata": {},
   "outputs": [],
   "source": [
    "tfidf_vect = TfidfVectorizer(ngram_range = (1, 1))\n",
    "Data_TFIDF = tfidf_vect.fit_transform(Data[\"ProcessedText\"].values)"
   ]
  },
  {
   "cell_type": "code",
   "execution_count": 98,
   "metadata": {},
   "outputs": [
    {
     "name": "stdout",
     "output_type": "stream",
     "text": [
      "<class 'scipy.sparse.csr.csr_matrix'>\n",
      "(5000, 9525)\n"
     ]
    }
   ],
   "source": [
    "print(type(Data_TFIDF))\n",
    "print(Data_TFIDF.shape)"
   ]
  },
  {
   "cell_type": "code",
   "execution_count": 99,
   "metadata": {},
   "outputs": [
    {
     "name": "stdout",
     "output_type": "stream",
     "text": [
      "(5000, 9525)\n",
      "<class 'scipy.sparse.csr.csr_matrix'>\n"
     ]
    }
   ],
   "source": [
    "Data_TFIDF_Std = StandardScaler(with_mean = False).fit_transform(Data_TFIDF)\n",
    "print(Data_TFIDF_Std.shape)\n",
    "print(type(Data_TFIDF_Std))"
   ]
  },
  {
   "cell_type": "markdown",
   "metadata": {},
   "source": [
    "### Task 1. Perform Cross Validation on K-Means and use elbow method to find optimal number of clusters."
   ]
  },
  {
   "cell_type": "code",
   "execution_count": 100,
   "metadata": {},
   "outputs": [
    {
     "name": "stdout",
     "output_type": "stream",
     "text": [
      "Loss = 47339337.986976594 for number of clusters = 5\n",
      "Loss = 47118184.54616616 for number of clusters = 10\n",
      "Loss = 46886055.477668636 for number of clusters = 15\n",
      "Loss = 46510960.707166076 for number of clusters = 20\n",
      "Loss = 46370556.17121081 for number of clusters = 25\n",
      "Loss = 46066041.568040736 for number of clusters = 30\n",
      "Loss = 45550486.274419196 for number of clusters = 35\n",
      "Loss = 45585696.67229239 for number of clusters = 40\n",
      "Loss = 45314041.41387355 for number of clusters = 45\n",
      "Loss = 45181511.34722852 for number of clusters = 50\n",
      "Loss = 44838057.22835021 for number of clusters = 55\n",
      "Loss = 44503133.119289204 for number of clusters = 60\n",
      "Loss = 44346918.24666942 for number of clusters = 65\n",
      "Loss = 44151681.86486965 for number of clusters = 70\n",
      "Loss = 43923041.10219855 for number of clusters = 75\n",
      "Loss = 43863659.16083323 for number of clusters = 80\n",
      "Loss = 43677825.587510385 for number of clusters = 85\n",
      "Loss = 43306202.02029817 for number of clusters = 90\n",
      "Loss = 43285027.13223802 for number of clusters = 95\n",
      "Loss = 43096827.38681849 for number of clusters = 100\n"
     ]
    }
   ],
   "source": [
    "clusters = [i for i in range(5, 101, 5)]\n",
    "loss = []\n",
    "\n",
    "for k in clusters:\n",
    "    kmeans = KMeans(n_clusters=k, init = \"k-means++\", max_iter = 100, n_jobs = -1).fit(Data_TFIDF_Std)\n",
    "    loss.append(kmeans.inertia_)\n",
    "    print(\"Loss = \"+str(kmeans.inertia_)+\" for number of clusters = \"+str(k))"
   ]
  },
  {
   "cell_type": "code",
   "execution_count": 102,
   "metadata": {},
   "outputs": [
    {
     "data": {
      "image/png": "[encoded data removed]",
      "text/plain": [
       "<Figure size 720x576 with 1 Axes>"
      ]
     },
     "metadata": {},
     "output_type": "display_data"
    }
   ],
   "source": [
    "plt.figure(figsize = (10, 8))\n",
    "plt.plot(clusters, loss)\n",
    "plt.title(\"Number of clusters VS K-Means loss\", fontsize=20)\n",
    "plt.xlabel(\"Number of Clusters\", fontsize=20)\n",
    "plt.ylabel(\"K-Means Loss\", fontsize=20)\n",
    "plt.grid(linestyle='-', linewidth=0.5)"
   ]
  },
  {
   "cell_type": "markdown",
   "metadata": {},
   "source": [
    "**From the above graph it has been seen that the loss has been increased when number to clusters increased from 35 to 40. Hence, we are considering our number of cluster to be 35.**"
   ]
  },
  {
   "cell_type": "markdown",
   "metadata": {},
   "source": [
    "### Task 2. Apply K-Means."
   ]
  },
  {
   "cell_type": "code",
   "execution_count": 120,
   "metadata": {},
   "outputs": [],
   "source": [
    "KMeans_Apply = KMeans(n_clusters=35, init = \"k-means++\", max_iter = 100, n_jobs = -1).fit(Data_TFIDF_Std)"
   ]
  },
  {
   "cell_type": "code",
   "execution_count": 121,
   "metadata": {
    "scrolled": false
   },
   "outputs": [],
   "source": [
    "Cluster_indices = {i: np.where(KMeans_Apply.labels_ == i) for i in range(KMeans_Apply.n_clusters)}"
   ]
  },
  {
   "cell_type": "code",
   "execution_count": 123,
   "metadata": {},
   "outputs": [
    {
     "name": "stdout",
     "output_type": "stream",
     "text": [
      "Cluster 1 has length 2\n",
      "Cluster 2 has length 131\n",
      "Cluster 12 has length 42\n",
      "Cluster 16 has length 4794\n"
     ]
    }
   ],
   "source": [
    "for i in range(35):\n",
    "    length = len(Cluster_indices[i][0])\n",
    "    if length > 1:\n",
    "        print(\"Cluster \"+str(i)+\" has length \"+str(length))"
   ]
  },
  {
   "cell_type": "markdown",
   "metadata": {},
   "source": [
    "**It has been found that only cluster number- '1','2','12'and '16' contains more than one point, rest all of the clusters contains one point only. It indicates that except 4 clusters, rest of the clusters contains just one point which means that rest of the clusters are point in itself.**"
   ]
  },
  {
   "cell_type": "code",
   "execution_count": 124,
   "metadata": {},
   "outputs": [
    {
     "name": "stdout",
     "output_type": "stream",
     "text": [
      "Silhouette Score = -0.01061621507670845\n"
     ]
    }
   ],
   "source": [
    "a = silhouette_score(Data_TFIDF_Std, KMeans_Apply.labels_)\n",
    "print(\"Silhouette Score = \"+str(a))"
   ]
  },
  {
   "cell_type": "markdown",
   "metadata": {},
   "source": [
    "**Silhouette Score of -0.0106 suggests that there are few points which are assigned to wrong clusters.**"
   ]
  },
  {
   "cell_type": "markdown",
   "metadata": {},
   "source": [
    "## Avg- W2V"
   ]
  },
  {
   "cell_type": "code",
   "execution_count": 30,
   "metadata": {},
   "outputs": [],
   "source": [
    "i = 0\n",
    "listOfSentences = []\n",
    "for sentence in Data[\"ProcessedText\"].values:\n",
    "    subSentence = []\n",
    "    for word in sentence.split():\n",
    "        subSentence.append(word)\n",
    "        \n",
    "    listOfSentences.append(subSentence)"
   ]
  },
  {
   "cell_type": "code",
   "execution_count": 31,
   "metadata": {},
   "outputs": [
    {
     "name": "stdout",
     "output_type": "stream",
     "text": [
      "becam interest sooth drink for elder mother who has sensit stomach with recur nausea mani time shes unabl drink anyth other than weak tea water the coconut water has made possibl for her keep thing down and reliev the nauseous feel now make sure that she has coconut water avail her ani day the week month this certain drink that restor her energi when she has experienc few day not want eat high recommend this product you friend famili experi symptom mother doe\n",
      "\n",
      "\n",
      "[['becam', 'interest', 'sooth', 'drink', 'for', 'elder', 'mother', 'who', 'has', 'sensit', 'stomach', 'with', 'recur', 'nausea', 'mani', 'time', 'shes', 'unabl', 'drink', 'anyth', 'other', 'than', 'weak', 'tea', 'water', 'the', 'coconut', 'water', 'has', 'made', 'possibl', 'for', 'her', 'keep', 'thing', 'down', 'and', 'reliev', 'the', 'nauseous', 'feel', 'now', 'make', 'sure', 'that', 'she', 'has', 'coconut', 'water', 'avail', 'her', 'ani', 'day', 'the', 'week', 'month', 'this', 'certain', 'drink', 'that', 'restor', 'her', 'energi', 'when', 'she', 'has', 'experienc', 'few', 'day', 'not', 'want', 'eat', 'high', 'recommend', 'this', 'product', 'you', 'friend', 'famili', 'experi', 'symptom', 'mother', 'doe'], ['dont', 'normal', 'write', 'review', 'but', 'for', 'orgain', 'felt', 'compel', 'cant', 'stand', 'most', 'meal', 'replac', 'shake', 'protein', 'shake', 'becaus', 'the', 'textur', 'usual', 'seem', 'off', 'when', 'have', 'the', 'time', 'use', 'unflavor', 'protein', 'powder', 'smoothi', 'but', 'for', 'day', 'where', 'that', 'just', 'not', 'possibl', 'orgain', 'has', 'been', 'excel', 'substitut', 'have', 'tri', 'chocol', 'and', 'mocha', 'and', 'both', 'are', 'great', 'tast', 'prefer', 'the', 'mocha', 'becaus', 'feel', 'like', 'get', 'coffe', 'fix', 'for', 'the', 'though', 'this', 'stuff', 'caffien', 'free', 'feel', 'energ', 'without', 'the', 'jitter', 'it', 'good', 'breakfast', 'though', 'occassion', 'get', 'upset', 'stomach', 'after', 'drink', 'havent', 'been', 'abl', 'pinpoint', 'whi', 'but', 'it', 'someth', 'keep', 'mind', 'you', 'have', 'sensit', 'stomach', 'also', 'drink', 'orgain', 'workout', 'day', 'half', 'shake', 'beforehand', 'and', 'the', 'other', 'half', 'afterward', 'even', 'though', 'it', 'expens', 'dont', 'drink', 'everi', 'day', 'and', 'month', 'subscript', 'for', 'just', 'has', 'done', 'well', 'for', 'while', 'now', 'for', 'it', 'worth', 'the', 'money', 'have', 'meal', 'replac', 'that', 'easi', 'and', 'tasti']]\n",
      "\n",
      "\n",
      "<class 'list'>\n"
     ]
    }
   ],
   "source": [
    "print(Data['ProcessedText'].values[0])\n",
    "print(\"\\n\")\n",
    "print(listOfSentences[0:2])\n",
    "print(\"\\n\")\n",
    "print(type(listOfSentences))"
   ]
  },
  {
   "cell_type": "code",
   "execution_count": 32,
   "metadata": {},
   "outputs": [],
   "source": [
    "w2vModel = gensim.models.Word2Vec(listOfSentences, size=300, min_count=5, workers=4)"
   ]
  },
  {
   "cell_type": "code",
   "execution_count": 33,
   "metadata": {},
   "outputs": [
    {
     "name": "stdout",
     "output_type": "stream",
     "text": [
      "<class 'list'>\n",
      "4999\n",
      "300\n"
     ]
    }
   ],
   "source": [
    "# compute average word2vec for each review.\n",
    "sentenceAsW2V = []\n",
    "for sentence in listOfSentences:\n",
    "    sentenceVector = np.zeros(300)\n",
    "    TotalWordsPerSentence = 0\n",
    "    for word in sentence:\n",
    "        try:\n",
    "            vect = w2vModel.wv[word]\n",
    "            sentenceVector += vect\n",
    "            TotalWordsPerSentence += 1\n",
    "        except:\n",
    "            pass\n",
    "    if TotalWordsPerSentence!= 0:\n",
    "        sentenceVector /= TotalWordsPerSentence\n",
    "        sentenceAsW2V.append(sentenceVector)\n",
    "\n",
    "print(type(sentenceAsW2V))\n",
    "print(len(sentenceAsW2V))\n",
    "print(len(sentenceAsW2V[0]))"
   ]
  },
  {
   "cell_type": "code",
   "execution_count": 34,
   "metadata": {},
   "outputs": [
    {
     "name": "stdout",
     "output_type": "stream",
     "text": [
      "(4999, 300)\n",
      "<class 'numpy.ndarray'>\n"
     ]
    }
   ],
   "source": [
    "Data_W2V_Std = StandardScaler(with_mean = False).fit_transform(sentenceAsW2V)\n",
    "print(Data_W2V_Std.shape)\n",
    "print(type(Data_W2V_Std))"
   ]
  },
  {
   "cell_type": "markdown",
   "metadata": {},
   "source": [
    "### Task 1. Perform Cross Validation on K-Means and use elbow method to find optimal number of clusters."
   ]
  },
  {
   "cell_type": "code",
   "execution_count": 67,
   "metadata": {},
   "outputs": [
    {
     "name": "stdout",
     "output_type": "stream",
     "text": [
      "Loss = 897102.3331058134 for number of clusters = 5\n",
      "Loss = 733950.6608530049 for number of clusters = 10\n",
      "Loss = 657883.5049771208 for number of clusters = 15\n",
      "Loss = 606494.6896764381 for number of clusters = 20\n",
      "Loss = 569952.1442334531 for number of clusters = 25\n",
      "Loss = 543002.5369246344 for number of clusters = 30\n",
      "Loss = 521310.5708185359 for number of clusters = 35\n",
      "Loss = 500271.1697851699 for number of clusters = 40\n",
      "Loss = 486296.71228270023 for number of clusters = 45\n",
      "Loss = 471893.9243894333 for number of clusters = 50\n",
      "Loss = 461507.20059220365 for number of clusters = 55\n",
      "Loss = 449390.92591947905 for number of clusters = 60\n",
      "Loss = 441276.24575699464 for number of clusters = 65\n",
      "Loss = 431972.4620348339 for number of clusters = 70\n",
      "Loss = 422709.3270709112 for number of clusters = 75\n",
      "Loss = 416101.8757180755 for number of clusters = 80\n",
      "Loss = 407036.94468270603 for number of clusters = 85\n",
      "Loss = 399035.8103079409 for number of clusters = 90\n",
      "Loss = 394430.87428248 for number of clusters = 95\n",
      "Loss = 388925.3766700034 for number of clusters = 100\n"
     ]
    }
   ],
   "source": [
    "clusters = [i for i in range(5, 101, 5)]\n",
    "loss = []\n",
    "\n",
    "for k in clusters:\n",
    "    kmeans = KMeans(n_clusters=k, init = \"k-means++\", max_iter = 100, n_jobs = -1).fit(Data_W2V_Std)\n",
    "    loss.append(kmeans.inertia_)\n",
    "    print(\"Loss = \"+str(kmeans.inertia_)+\" for number of clusters = \"+str(k))"
   ]
  },
  {
   "cell_type": "code",
   "execution_count": 68,
   "metadata": {},
   "outputs": [
    {
     "data": {
      "image/png": "[encoded data removed]",
      "text/plain": [
       "<Figure size 720x576 with 1 Axes>"
      ]
     },
     "metadata": {},
     "output_type": "display_data"
    }
   ],
   "source": [
    "plt.figure(figsize = (10, 8))\n",
    "plt.plot(clusters, loss)\n",
    "plt.title(\"Number of clusters VS K-Means loss\", fontsize=20)\n",
    "plt.xlabel(\"Number of Clusters\", fontsize=20)\n",
    "plt.ylabel(\"K-Means Loss\", fontsize=20)\n",
    "plt.grid(linestyle='-', linewidth=0.5)"
   ]
  },
  {
   "cell_type": "markdown",
   "metadata": {},
   "source": [
    "**From the above graph it can be seen that when number of clusters equal to 90 then loss started reducing slowly. Hence, we are considering our number of clusters to be 90.**"
   ]
  },
  {
   "cell_type": "markdown",
   "metadata": {},
   "source": [
    "### Task 2. Apply K-Means."
   ]
  },
  {
   "cell_type": "code",
   "execution_count": 125,
   "metadata": {},
   "outputs": [],
   "source": [
    "KMeans_Apply = KMeans(n_clusters=90, init = \"k-means++\", max_iter = 100, n_jobs = -1).fit(Data_W2V_Std)"
   ]
  },
  {
   "cell_type": "code",
   "execution_count": 126,
   "metadata": {},
   "outputs": [],
   "source": [
    "Cluster_indices = {i: np.where(KMeans_Apply.labels_ == i) for i in range(KMeans_Apply.n_clusters)}"
   ]
  },
  {
   "cell_type": "code",
   "execution_count": 131,
   "metadata": {},
   "outputs": [
    {
     "name": "stdout",
     "output_type": "stream",
     "text": [
      "Cluster 0 has length 70\n",
      "Cluster 1 has length 106\n",
      "Cluster 2 has length 92\n",
      "Cluster 3 has length 42\n",
      "Cluster 4 has length 40\n",
      "Cluster 5 has length 63\n",
      "Cluster 6 has length 26\n",
      "Cluster 7 has length 98\n",
      "Cluster 8 has length 99\n",
      "Cluster 9 has length 54\n",
      "Cluster 10 has length 59\n",
      "Cluster 11 has length 72\n",
      "Cluster 12 has length 42\n",
      "Cluster 13 has length 119\n",
      "Cluster 14 has length 70\n",
      "Cluster 15 has length 110\n",
      "Cluster 16 has length 95\n",
      "Cluster 17 has length 39\n",
      "Cluster 18 has length 60\n",
      "Cluster 19 has length 63\n",
      "Cluster 20 has length 31\n",
      "Cluster 21 has length 29\n",
      "Cluster 22 has length 35\n",
      "Cluster 23 has length 23\n",
      "Cluster 24 has length 68\n",
      "Cluster 25 has length 8\n",
      "Cluster 26 has length 27\n",
      "Cluster 27 has length 131\n",
      "Cluster 28 has length 65\n",
      "Cluster 29 has length 113\n",
      "Cluster 30 has length 29\n",
      "Cluster 31 has length 6\n",
      "Cluster 32 has length 66\n",
      "Cluster 33 has length 68\n",
      "Cluster 34 has length 121\n",
      "Cluster 35 has length 135\n",
      "Cluster 36 has length 48\n",
      "Cluster 37 has length 100\n",
      "Cluster 38 has length 46\n",
      "Cluster 39 has length 59\n",
      "Cluster 40 has length 84\n",
      "Cluster 41 has length 86\n",
      "Cluster 42 has length 98\n",
      "Cluster 43 has length 91\n",
      "Cluster 44 has length 19\n",
      "Cluster 45 has length 30\n",
      "Cluster 46 has length 24\n",
      "Cluster 47 has length 27\n",
      "Cluster 48 has length 42\n",
      "Cluster 49 has length 24\n",
      "Cluster 50 has length 41\n",
      "Cluster 51 has length 74\n",
      "Cluster 52 has length 37\n",
      "Cluster 53 has length 25\n",
      "Cluster 54 has length 92\n",
      "Cluster 55 has length 79\n",
      "Cluster 56 has length 37\n",
      "Cluster 57 has length 105\n",
      "Cluster 58 has length 20\n",
      "Cluster 59 has length 112\n",
      "Cluster 60 has length 68\n",
      "Cluster 61 has length 45\n",
      "Cluster 62 has length 27\n",
      "Cluster 63 has length 51\n",
      "Cluster 64 has length 23\n",
      "Cluster 65 has length 53\n",
      "Cluster 66 has length 26\n",
      "Cluster 67 has length 18\n",
      "Cluster 68 has length 31\n",
      "Cluster 69 has length 64\n",
      "Cluster 70 has length 38\n",
      "Cluster 71 has length 15\n",
      "Cluster 72 has length 64\n",
      "Cluster 73 has length 62\n",
      "Cluster 74 has length 28\n",
      "Cluster 75 has length 21\n",
      "Cluster 76 has length 12\n",
      "Cluster 77 has length 89\n",
      "Cluster 78 has length 81\n",
      "Cluster 79 has length 68\n",
      "Cluster 80 has length 39\n",
      "Cluster 81 has length 20\n",
      "Cluster 82 has length 51\n",
      "Cluster 83 has length 41\n",
      "Cluster 84 has length 35\n",
      "Cluster 85 has length 58\n",
      "Cluster 86 has length 29\n",
      "Cluster 87 has length 39\n",
      "Cluster 88 has length 2\n",
      "Cluster 89 has length 27\n"
     ]
    }
   ],
   "source": [
    "for i in range(90):\n",
    "    length = len(Cluster_indices[i][0])\n",
    "    print(\"Cluster \"+str(i)+\" has length \"+str(length))"
   ]
  },
  {
   "cell_type": "markdown",
   "metadata": {},
   "source": [
    "**Length of each cluster has been printed above.**"
   ]
  },
  {
   "cell_type": "code",
   "execution_count": 129,
   "metadata": {},
   "outputs": [
    {
     "name": "stdout",
     "output_type": "stream",
     "text": [
      "Silhouette Score = 0.07850803773448857\n"
     ]
    }
   ],
   "source": [
    "a = silhouette_score(Data_W2V_Std, KMeans_Apply.labels_)\n",
    "print(\"Silhouette Score = \"+str(a))"
   ]
  },
  {
   "cell_type": "markdown",
   "metadata": {},
   "source": [
    "**Silhouette Score of 0.0785 suggests that many clusters overlap each other.**"
   ]
  }
 ],
 "metadata": {
  "kernelspec": {
   "display_name": "Python 3",
   "language": "python",
   "name": "python3"
  },
  "language_info": {
   "codemirror_mode": {
    "name": "ipython",
    "version": 3
   },
   "file_extension": ".py",
   "mimetype": "text/x-python",
   "name": "python",
   "nbconvert_exporter": "python",
   "pygments_lexer": "ipython3",
   "version": "3.6.5"
  }
 },
 "nbformat": 4,
 "nbformat_minor": 2
}
