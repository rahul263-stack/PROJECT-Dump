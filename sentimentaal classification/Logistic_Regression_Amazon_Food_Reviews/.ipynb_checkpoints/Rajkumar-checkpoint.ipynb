{
 "cells": [
  {
   "cell_type": "code",
   "execution_count": 33,
   "metadata": {},
   "outputs": [
    {
     "name": "stdout",
     "output_type": "stream",
     "text": [
      "Value of sigma at time 0= 0\n",
      "Value of sigma at time 1= 0.005\n",
      "Value of sigma at time 2= 0.01\n",
      "Value of sigma at time 3= 0.015\n",
      "Value of sigma at time 4= 0.02\n",
      "Value of sigma at time 5= 0.025\n",
      "Value of sigma at time 6= 0.030000000000000002\n",
      "Value of sigma at time 7= 0.035\n",
      "Value of sigma at time 8= 0.04\n",
      "Value of sigma at time 9= 0.045\n",
      "Value of sigma at time 10= 0.049999999999999996\n",
      "Value of sigma at time 11= 0.05499999999999999\n"
     ]
    }
   ],
   "source": [
    "E = 2\n",
    "e = 0\n",
    "array_e = []\n",
    "array_sigma = []\n",
    "array_e.append(0)\n",
    "for i in range(12):\n",
    "    sigma = E * e\n",
    "    array_sigma.append(sigma)\n",
    "    print(\"Value of sigma at time \"+str(i)+\"= \"+str(sigma))\n",
    "    e += 0.0025\n",
    "    array_e.append(e)"
   ]
  },
  {
   "cell_type": "code",
   "execution_count": 34,
   "metadata": {},
   "outputs": [
    {
     "name": "stdout",
     "output_type": "stream",
     "text": [
      "Rajkumar\n"
     ]
    }
   ],
   "source": [
    "a = \"Raj\"\n",
    "b = \"kumar\"\n",
    "c = a + b\n",
    "print(c)"
   ]
  },
  {
   "cell_type": "code",
   "execution_count": 15,
   "metadata": {},
   "outputs": [
    {
     "data": {
      "text/plain": [
       "0.05499999999999999"
      ]
     },
     "execution_count": 15,
     "metadata": {},
     "output_type": "execute_result"
    }
   ],
   "source": [
    "array_sigma.pop()"
   ]
  },
  {
   "cell_type": "code",
   "execution_count": 16,
   "metadata": {},
   "outputs": [
    {
     "data": {
      "text/plain": [
       "[0,\n",
       " 0.005,\n",
       " 0.01,\n",
       " 0.015,\n",
       " 0.02,\n",
       " 0.025,\n",
       " 0.030000000000000002,\n",
       " 0.035,\n",
       " 0.04,\n",
       " 0.045,\n",
       " 0.049999999999999996]"
      ]
     },
     "execution_count": 16,
     "metadata": {},
     "output_type": "execute_result"
    }
   ],
   "source": [
    "array_sigma"
   ]
  },
  {
   "cell_type": "code",
   "execution_count": 18,
   "metadata": {},
   "outputs": [
    {
     "data": {
      "text/plain": [
       "0.029999999999999995"
      ]
     },
     "execution_count": 18,
     "metadata": {},
     "output_type": "execute_result"
    }
   ],
   "source": [
    "array_e.pop()"
   ]
  },
  {
   "cell_type": "code",
   "execution_count": 19,
   "metadata": {},
   "outputs": [
    {
     "data": {
      "text/plain": [
       "0.027499999999999997"
      ]
     },
     "execution_count": 19,
     "metadata": {},
     "output_type": "execute_result"
    }
   ],
   "source": [
    "array_e.pop()"
   ]
  },
  {
   "cell_type": "code",
   "execution_count": 2,
   "metadata": {
    "collapsed": true
   },
   "outputs": [],
   "source": [
    "import matplotlib.pyplot as plt "
   ]
  },
  {
   "cell_type": "code",
   "execution_count": 28,
   "metadata": {},
   "outputs": [
    {
     "data": {
      "image/png": "[encoded data removed]",
      "text/plain": [
       "<matplotlib.figure.Figure at 0xcf7a4e14a8>"
      ]
     },
     "metadata": {},
     "output_type": "display_data"
    }
   ],
   "source": [
    "plt.plot(array_sigma, array_e)\n",
    "plt.xlabel(\"Sigma\")\n",
    "plt.ylabel(\"Strain\")\n",
    "for xy in zip(array_sigma, array_e):\n",
    "    plt.annotate(xy, xy)\n",
    "plt.show()"
   ]
  }
 ],
 "metadata": {
  "kernelspec": {
   "display_name": "Python 3",
   "language": "python",
   "name": "python3"
  },
  "language_info": {
   "codemirror_mode": {
    "name": "ipython",
    "version": 3
   },
   "file_extension": ".py",
   "mimetype": "text/x-python",
   "name": "python",
   "nbconvert_exporter": "python",
   "pygments_lexer": "ipython3",
   "version": "3.6.3"
  }
 },
 "nbformat": 4,
 "nbformat_minor": 2
}
