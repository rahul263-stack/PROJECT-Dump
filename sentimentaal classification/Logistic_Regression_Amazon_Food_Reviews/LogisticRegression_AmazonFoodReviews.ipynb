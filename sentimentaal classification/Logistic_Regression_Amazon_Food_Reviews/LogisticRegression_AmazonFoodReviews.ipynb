{
 "cells": [
  {
   "cell_type": "markdown",
   "metadata": {
    "collapsed": true
   },
   "source": [
    "# Logistic Regression on Amazon Food Reviews"
   ]
  },
  {
   "cell_type": "markdown",
   "metadata": {},
   "source": [
    "Data Source: https://www.kaggle.com/snap/amazon-fine-food-reviews\n",
    "\n",
    "The Amazon Fine Food Reviews dataset consists of reviews of fine foods from Amazon.\n",
    "\n",
    "Number of reviews: 568,454 Number of users: 256,059 Number of products: 74,258 Timespan: Oct 1999 - Oct 2012 Number of Attributes/Columns in data: 10\n",
    "\n",
    "Attribute Information:\n",
    "\n",
    "1.  index\n",
    "2.  Id\n",
    "3.  ProductId - unique identifier for the product\n",
    "4.  UserId - unqiue identifier for the user\n",
    "5.  ProfileName\n",
    "6.  HelpfulnessNumerator - number of users who found the review helpful\n",
    "7.  HelpfulnessDenominator - number of users who indicated whether they found the review helpful or not\n",
    "8.  Score - rating between 1 and 5\n",
    "9.  Time - timestamp for the review\n",
    "10. Summary - brief summary of the review\n",
    "11. Text - text of the review\n",
    "12. ProcessedText - Cleaned & Preprocessed Text of the review\n",
    "\n",
    "**Objective: Given Amazon Food reviews, convert all the reviews into a vector using three techniques: **<br>\n",
    "**1. Average W2V. <br>**\n",
    "**2. Average TFIDF-W2V. <br>**\n",
    "**3. GloVe. <br>**\n",
    "\n",
    "**Then perform following tasks under each technique:**<br>\n",
    "**Task 1. Split train and test data in a ratio of 80:20.** <br>\n",
    "**Task 2. Perform GridSearch Cross Validation and Random Search Cross Validation to find optimal Value of λ.**<br>\n",
    "**Task 3. Apply Logistic Regression using both L1 and L2 regularizations and report accuracy.**<br>\n",
    "**Task 4. Use L1 regularization for different values of λ and report error and sparsity for each value of λ.**<br>\n",
    "**Task 5. Check for multi-collinearity of features and find top-10 most important features**<br>\n",
    "\n",
    "[Q] How to determine if a review is positive or negative?\n",
    "\n",
    "[Ans] We could use the Score/Rating. A rating of 4 or 5 could be cosnidered a positive review. A review of 1 or 2 could be considered negative. A review of 3 is nuetral and ignored. This is an approximate and proxy way of determining the polarity (positivity/negativity) of a review.\n",
    "\n",
    "Loading the data\n",
    "\n",
    "SQLite Database\n",
    "\n",
    "In order to load the data, We have used the SQLITE dataset as it easier to query the data and visualise the data efficiently. Here as we only want to get the global sentiment of the recommendations (positive or negative), we will purposefully ignore all Scores equal to 3. If the score id above 3, then the recommendation wil be set to \"positive\". Otherwise, it will be set to \"negative\"."
   ]
  },
  {
   "cell_type": "code",
   "execution_count": 10,
   "metadata": {},
   "outputs": [
    {
     "name": "stderr",
     "output_type": "stream",
     "text": [
      "C:\\Users\\GauravP\\Anaconda3\\lib\\site-packages\\gensim\\utils.py:862: UserWarning: detected Windows; aliasing chunkize to chunkize_serial\n",
      "  warnings.warn(\"detected Windows; aliasing chunkize to chunkize_serial\")\n",
      "C:\\Users\\GauravP\\Anaconda3\\lib\\site-packages\\sklearn\\cross_validation.py:41: DeprecationWarning: This module was deprecated in version 0.18 in favor of the model_selection module into which all the refactored classes and functions are moved. Also note that the interface of the new CV iterators are different from that of this module. This module will be removed in 0.20.\n",
      "  \"This module will be removed in 0.20.\", DeprecationWarning)\n",
      "C:\\Users\\GauravP\\Anaconda3\\lib\\site-packages\\sklearn\\grid_search.py:42: DeprecationWarning: This module was deprecated in version 0.18 in favor of the model_selection module into which all the refactored classes and functions are moved. This module will be removed in 0.20.\n",
      "  DeprecationWarning)\n"
     ]
    }
   ],
   "source": [
    "import sqlite3\n",
    "import pandas as pd\n",
    "import numpy as np\n",
    "import matplotlib.pyplot as plot\n",
    "\n",
    "from gensim.models import Word2Vec\n",
    "import gensim\n",
    "import csv\n",
    "import re\n",
    "from sklearn.metrics import accuracy_score, precision_score, recall_score, confusion_matrix\n",
    "\n",
    "from sklearn.feature_extraction.text import TfidfVectorizer\n",
    "from sklearn.preprocessing import StandardScaler\n",
    "\n",
    "from sklearn.cross_validation import train_test_split\n",
    "from sklearn.grid_search import GridSearchCV\n",
    "from sklearn.grid_search import RandomizedSearchCV\n",
    "from sklearn.linear_model import LogisticRegression"
   ]
  },
  {
   "cell_type": "code",
   "execution_count": 53,
   "metadata": {
    "collapsed": true
   },
   "outputs": [],
   "source": [
    "connection = sqlite3.connect('FinalAmazonFoodReviewsDataset.sqlite')"
   ]
  },
  {
   "cell_type": "code",
   "execution_count": 54,
   "metadata": {
    "collapsed": true
   },
   "outputs": [],
   "source": [
    "data = pd.read_sql_query(\"SELECT * FROM Reviews\", connection)"
   ]
  },
  {
   "cell_type": "code",
   "execution_count": 55,
   "metadata": {},
   "outputs": [
    {
     "data": {
      "text/html": [
       "<div>\n",
       "<style>\n",
       "    .dataframe thead tr:only-child th {\n",
       "        text-align: right;\n",
       "    }\n",
       "\n",
       "    .dataframe thead th {\n",
       "        text-align: left;\n",
       "    }\n",
       "\n",
       "    .dataframe tbody tr th {\n",
       "        vertical-align: top;\n",
       "    }\n",
       "</style>\n",
       "<table border=\"1\" class=\"dataframe\">\n",
       "  <thead>\n",
       "    <tr style=\"text-align: right;\">\n",
       "      <th></th>\n",
       "      <th>index</th>\n",
       "      <th>Id</th>\n",
       "      <th>ProductId</th>\n",
       "      <th>UserId</th>\n",
       "      <th>ProfileName</th>\n",
       "      <th>HelpfulnessNumerator</th>\n",
       "      <th>HelpfulnessDenominator</th>\n",
       "      <th>Score</th>\n",
       "      <th>Time</th>\n",
       "      <th>Summary</th>\n",
       "      <th>Text</th>\n",
       "      <th>ProcessedText</th>\n",
       "    </tr>\n",
       "  </thead>\n",
       "  <tbody>\n",
       "    <tr>\n",
       "      <th>0</th>\n",
       "      <td>0</td>\n",
       "      <td>1</td>\n",
       "      <td>B001E4KFG0</td>\n",
       "      <td>A3SGXH7AUHU8GW</td>\n",
       "      <td>delmartian</td>\n",
       "      <td>1</td>\n",
       "      <td>1</td>\n",
       "      <td>Positive</td>\n",
       "      <td>1303862400</td>\n",
       "      <td>Good Quality Dog Food</td>\n",
       "      <td>I have bought several of the Vitality canned d...</td>\n",
       "      <td>have bought sever the vital can dog food produ...</td>\n",
       "    </tr>\n",
       "    <tr>\n",
       "      <th>1</th>\n",
       "      <td>1</td>\n",
       "      <td>2</td>\n",
       "      <td>B00813GRG4</td>\n",
       "      <td>A1D87F6ZCVE5NK</td>\n",
       "      <td>dll pa</td>\n",
       "      <td>0</td>\n",
       "      <td>0</td>\n",
       "      <td>Negative</td>\n",
       "      <td>1346976000</td>\n",
       "      <td>Not as Advertised</td>\n",
       "      <td>Product arrived labeled as Jumbo Salted Peanut...</td>\n",
       "      <td>product arriv label jumbo salt peanut the pean...</td>\n",
       "    </tr>\n",
       "    <tr>\n",
       "      <th>2</th>\n",
       "      <td>2</td>\n",
       "      <td>3</td>\n",
       "      <td>B000LQOCH0</td>\n",
       "      <td>ABXLMWJIXXAIN</td>\n",
       "      <td>Natalia Corres \"Natalia Corres\"</td>\n",
       "      <td>1</td>\n",
       "      <td>1</td>\n",
       "      <td>Positive</td>\n",
       "      <td>1219017600</td>\n",
       "      <td>\"Delight\" says it all</td>\n",
       "      <td>This is a confection that has been around a fe...</td>\n",
       "      <td>this confect that has been around few centuri ...</td>\n",
       "    </tr>\n",
       "    <tr>\n",
       "      <th>3</th>\n",
       "      <td>4</td>\n",
       "      <td>5</td>\n",
       "      <td>B006K2ZZ7K</td>\n",
       "      <td>A1UQRSCLF8GW1T</td>\n",
       "      <td>Michael D. Bigham \"M. Wassir\"</td>\n",
       "      <td>0</td>\n",
       "      <td>0</td>\n",
       "      <td>Positive</td>\n",
       "      <td>1350777600</td>\n",
       "      <td>Great taffy</td>\n",
       "      <td>Great taffy at a great price.  There was a wid...</td>\n",
       "      <td>great taffi great price there was wide assort ...</td>\n",
       "    </tr>\n",
       "    <tr>\n",
       "      <th>4</th>\n",
       "      <td>5</td>\n",
       "      <td>6</td>\n",
       "      <td>B006K2ZZ7K</td>\n",
       "      <td>ADT0SRK1MGOEU</td>\n",
       "      <td>Twoapennything</td>\n",
       "      <td>0</td>\n",
       "      <td>0</td>\n",
       "      <td>Positive</td>\n",
       "      <td>1342051200</td>\n",
       "      <td>Nice Taffy</td>\n",
       "      <td>I got a wild hair for taffy and ordered this f...</td>\n",
       "      <td>got wild hair for taffi and order this five po...</td>\n",
       "    </tr>\n",
       "  </tbody>\n",
       "</table>\n",
       "</div>"
      ],
      "text/plain": [
       "   index  Id   ProductId          UserId                      ProfileName  \\\n",
       "0      0   1  B001E4KFG0  A3SGXH7AUHU8GW                       delmartian   \n",
       "1      1   2  B00813GRG4  A1D87F6ZCVE5NK                           dll pa   \n",
       "2      2   3  B000LQOCH0   ABXLMWJIXXAIN  Natalia Corres \"Natalia Corres\"   \n",
       "3      4   5  B006K2ZZ7K  A1UQRSCLF8GW1T    Michael D. Bigham \"M. Wassir\"   \n",
       "4      5   6  B006K2ZZ7K   ADT0SRK1MGOEU                   Twoapennything   \n",
       "\n",
       "   HelpfulnessNumerator  HelpfulnessDenominator     Score        Time  \\\n",
       "0                     1                       1  Positive  1303862400   \n",
       "1                     0                       0  Negative  1346976000   \n",
       "2                     1                       1  Positive  1219017600   \n",
       "3                     0                       0  Positive  1350777600   \n",
       "4                     0                       0  Positive  1342051200   \n",
       "\n",
       "                 Summary                                               Text  \\\n",
       "0  Good Quality Dog Food  I have bought several of the Vitality canned d...   \n",
       "1      Not as Advertised  Product arrived labeled as Jumbo Salted Peanut...   \n",
       "2  \"Delight\" says it all  This is a confection that has been around a fe...   \n",
       "3            Great taffy  Great taffy at a great price.  There was a wid...   \n",
       "4             Nice Taffy  I got a wild hair for taffy and ordered this f...   \n",
       "\n",
       "                                       ProcessedText  \n",
       "0  have bought sever the vital can dog food produ...  \n",
       "1  product arriv label jumbo salt peanut the pean...  \n",
       "2  this confect that has been around few centuri ...  \n",
       "3  great taffi great price there was wide assort ...  \n",
       "4  got wild hair for taffi and order this five po...  "
      ]
     },
     "execution_count": 55,
     "metadata": {},
     "output_type": "execute_result"
    }
   ],
   "source": [
    "data.head()"
   ]
  },
  {
   "cell_type": "code",
   "execution_count": 56,
   "metadata": {},
   "outputs": [
    {
     "data": {
      "text/plain": [
       "(364171, 12)"
      ]
     },
     "execution_count": 56,
     "metadata": {},
     "output_type": "execute_result"
    }
   ],
   "source": [
    "data.shape"
   ]
  },
  {
   "cell_type": "code",
   "execution_count": 57,
   "metadata": {},
   "outputs": [
    {
     "data": {
      "text/plain": [
       "Positive    307061\n",
       "Negative     57110\n",
       "Name: Score, dtype: int64"
      ]
     },
     "execution_count": 57,
     "metadata": {},
     "output_type": "execute_result"
    }
   ],
   "source": [
    "data[\"Score\"].value_counts()"
   ]
  },
  {
   "cell_type": "code",
   "execution_count": 58,
   "metadata": {
    "collapsed": true
   },
   "outputs": [],
   "source": [
    "def changingScores(score):\n",
    "    if score == \"Positive\":\n",
    "        return 1\n",
    "    else:\n",
    "        return -1"
   ]
  },
  {
   "cell_type": "code",
   "execution_count": 59,
   "metadata": {
    "collapsed": true
   },
   "outputs": [],
   "source": [
    "# changing score\n",
    "# Positive = 1\n",
    "# Negative = -1\n",
    "actualScore = list(data[\"Score\"])                                                                                         \n",
    "positiveNegative = list(map(changingScores, actualScore)) #map(function, list of numbers)\n",
    "data['Score'] = positiveNegative"
   ]
  },
  {
   "cell_type": "code",
   "execution_count": 60,
   "metadata": {},
   "outputs": [
    {
     "data": {
      "text/html": [
       "<div>\n",
       "<style>\n",
       "    .dataframe thead tr:only-child th {\n",
       "        text-align: right;\n",
       "    }\n",
       "\n",
       "    .dataframe thead th {\n",
       "        text-align: left;\n",
       "    }\n",
       "\n",
       "    .dataframe tbody tr th {\n",
       "        vertical-align: top;\n",
       "    }\n",
       "</style>\n",
       "<table border=\"1\" class=\"dataframe\">\n",
       "  <thead>\n",
       "    <tr style=\"text-align: right;\">\n",
       "      <th></th>\n",
       "      <th>index</th>\n",
       "      <th>Id</th>\n",
       "      <th>ProductId</th>\n",
       "      <th>UserId</th>\n",
       "      <th>ProfileName</th>\n",
       "      <th>HelpfulnessNumerator</th>\n",
       "      <th>HelpfulnessDenominator</th>\n",
       "      <th>Score</th>\n",
       "      <th>Time</th>\n",
       "      <th>Summary</th>\n",
       "      <th>Text</th>\n",
       "      <th>ProcessedText</th>\n",
       "    </tr>\n",
       "  </thead>\n",
       "  <tbody>\n",
       "    <tr>\n",
       "      <th>0</th>\n",
       "      <td>0</td>\n",
       "      <td>1</td>\n",
       "      <td>B001E4KFG0</td>\n",
       "      <td>A3SGXH7AUHU8GW</td>\n",
       "      <td>delmartian</td>\n",
       "      <td>1</td>\n",
       "      <td>1</td>\n",
       "      <td>1</td>\n",
       "      <td>1303862400</td>\n",
       "      <td>Good Quality Dog Food</td>\n",
       "      <td>I have bought several of the Vitality canned d...</td>\n",
       "      <td>have bought sever the vital can dog food produ...</td>\n",
       "    </tr>\n",
       "    <tr>\n",
       "      <th>1</th>\n",
       "      <td>1</td>\n",
       "      <td>2</td>\n",
       "      <td>B00813GRG4</td>\n",
       "      <td>A1D87F6ZCVE5NK</td>\n",
       "      <td>dll pa</td>\n",
       "      <td>0</td>\n",
       "      <td>0</td>\n",
       "      <td>-1</td>\n",
       "      <td>1346976000</td>\n",
       "      <td>Not as Advertised</td>\n",
       "      <td>Product arrived labeled as Jumbo Salted Peanut...</td>\n",
       "      <td>product arriv label jumbo salt peanut the pean...</td>\n",
       "    </tr>\n",
       "    <tr>\n",
       "      <th>2</th>\n",
       "      <td>2</td>\n",
       "      <td>3</td>\n",
       "      <td>B000LQOCH0</td>\n",
       "      <td>ABXLMWJIXXAIN</td>\n",
       "      <td>Natalia Corres \"Natalia Corres\"</td>\n",
       "      <td>1</td>\n",
       "      <td>1</td>\n",
       "      <td>1</td>\n",
       "      <td>1219017600</td>\n",
       "      <td>\"Delight\" says it all</td>\n",
       "      <td>This is a confection that has been around a fe...</td>\n",
       "      <td>this confect that has been around few centuri ...</td>\n",
       "    </tr>\n",
       "    <tr>\n",
       "      <th>3</th>\n",
       "      <td>4</td>\n",
       "      <td>5</td>\n",
       "      <td>B006K2ZZ7K</td>\n",
       "      <td>A1UQRSCLF8GW1T</td>\n",
       "      <td>Michael D. Bigham \"M. Wassir\"</td>\n",
       "      <td>0</td>\n",
       "      <td>0</td>\n",
       "      <td>1</td>\n",
       "      <td>1350777600</td>\n",
       "      <td>Great taffy</td>\n",
       "      <td>Great taffy at a great price.  There was a wid...</td>\n",
       "      <td>great taffi great price there was wide assort ...</td>\n",
       "    </tr>\n",
       "    <tr>\n",
       "      <th>4</th>\n",
       "      <td>5</td>\n",
       "      <td>6</td>\n",
       "      <td>B006K2ZZ7K</td>\n",
       "      <td>ADT0SRK1MGOEU</td>\n",
       "      <td>Twoapennything</td>\n",
       "      <td>0</td>\n",
       "      <td>0</td>\n",
       "      <td>1</td>\n",
       "      <td>1342051200</td>\n",
       "      <td>Nice Taffy</td>\n",
       "      <td>I got a wild hair for taffy and ordered this f...</td>\n",
       "      <td>got wild hair for taffi and order this five po...</td>\n",
       "    </tr>\n",
       "  </tbody>\n",
       "</table>\n",
       "</div>"
      ],
      "text/plain": [
       "   index  Id   ProductId          UserId                      ProfileName  \\\n",
       "0      0   1  B001E4KFG0  A3SGXH7AUHU8GW                       delmartian   \n",
       "1      1   2  B00813GRG4  A1D87F6ZCVE5NK                           dll pa   \n",
       "2      2   3  B000LQOCH0   ABXLMWJIXXAIN  Natalia Corres \"Natalia Corres\"   \n",
       "3      4   5  B006K2ZZ7K  A1UQRSCLF8GW1T    Michael D. Bigham \"M. Wassir\"   \n",
       "4      5   6  B006K2ZZ7K   ADT0SRK1MGOEU                   Twoapennything   \n",
       "\n",
       "   HelpfulnessNumerator  HelpfulnessDenominator  Score        Time  \\\n",
       "0                     1                       1      1  1303862400   \n",
       "1                     0                       0     -1  1346976000   \n",
       "2                     1                       1      1  1219017600   \n",
       "3                     0                       0      1  1350777600   \n",
       "4                     0                       0      1  1342051200   \n",
       "\n",
       "                 Summary                                               Text  \\\n",
       "0  Good Quality Dog Food  I have bought several of the Vitality canned d...   \n",
       "1      Not as Advertised  Product arrived labeled as Jumbo Salted Peanut...   \n",
       "2  \"Delight\" says it all  This is a confection that has been around a fe...   \n",
       "3            Great taffy  Great taffy at a great price.  There was a wid...   \n",
       "4             Nice Taffy  I got a wild hair for taffy and ordered this f...   \n",
       "\n",
       "                                       ProcessedText  \n",
       "0  have bought sever the vital can dog food produ...  \n",
       "1  product arriv label jumbo salt peanut the pean...  \n",
       "2  this confect that has been around few centuri ...  \n",
       "3  great taffi great price there was wide assort ...  \n",
       "4  got wild hair for taffi and order this five po...  "
      ]
     },
     "execution_count": 60,
     "metadata": {},
     "output_type": "execute_result"
    }
   ],
   "source": [
    "data.head()"
   ]
  },
  {
   "cell_type": "code",
   "execution_count": 61,
   "metadata": {
    "collapsed": true
   },
   "outputs": [],
   "source": [
    "allPositiveReviews = data[(data[\"Score\"] == 1)]"
   ]
  },
  {
   "cell_type": "code",
   "execution_count": 63,
   "metadata": {},
   "outputs": [
    {
     "data": {
      "text/plain": [
       "(307061, 12)"
      ]
     },
     "execution_count": 63,
     "metadata": {},
     "output_type": "execute_result"
    }
   ],
   "source": [
    "allPositiveReviews.shape"
   ]
  },
  {
   "cell_type": "code",
   "execution_count": 64,
   "metadata": {
    "collapsed": true
   },
   "outputs": [],
   "source": [
    "positiveReviews_2500 = allPositiveReviews[:2500]"
   ]
  },
  {
   "cell_type": "code",
   "execution_count": 65,
   "metadata": {},
   "outputs": [
    {
     "data": {
      "text/plain": [
       "(2500, 12)"
      ]
     },
     "execution_count": 65,
     "metadata": {},
     "output_type": "execute_result"
    }
   ],
   "source": [
    "positiveReviews_2500.shape"
   ]
  },
  {
   "cell_type": "code",
   "execution_count": 66,
   "metadata": {},
   "outputs": [
    {
     "data": {
      "text/html": [
       "<div>\n",
       "<style>\n",
       "    .dataframe thead tr:only-child th {\n",
       "        text-align: right;\n",
       "    }\n",
       "\n",
       "    .dataframe thead th {\n",
       "        text-align: left;\n",
       "    }\n",
       "\n",
       "    .dataframe tbody tr th {\n",
       "        vertical-align: top;\n",
       "    }\n",
       "</style>\n",
       "<table border=\"1\" class=\"dataframe\">\n",
       "  <thead>\n",
       "    <tr style=\"text-align: right;\">\n",
       "      <th></th>\n",
       "      <th>index</th>\n",
       "      <th>Id</th>\n",
       "      <th>ProductId</th>\n",
       "      <th>UserId</th>\n",
       "      <th>ProfileName</th>\n",
       "      <th>HelpfulnessNumerator</th>\n",
       "      <th>HelpfulnessDenominator</th>\n",
       "      <th>Score</th>\n",
       "      <th>Time</th>\n",
       "      <th>Summary</th>\n",
       "      <th>Text</th>\n",
       "      <th>ProcessedText</th>\n",
       "    </tr>\n",
       "  </thead>\n",
       "  <tbody>\n",
       "    <tr>\n",
       "      <th>0</th>\n",
       "      <td>0</td>\n",
       "      <td>1</td>\n",
       "      <td>B001E4KFG0</td>\n",
       "      <td>A3SGXH7AUHU8GW</td>\n",
       "      <td>delmartian</td>\n",
       "      <td>1</td>\n",
       "      <td>1</td>\n",
       "      <td>1</td>\n",
       "      <td>1303862400</td>\n",
       "      <td>Good Quality Dog Food</td>\n",
       "      <td>I have bought several of the Vitality canned d...</td>\n",
       "      <td>have bought sever the vital can dog food produ...</td>\n",
       "    </tr>\n",
       "    <tr>\n",
       "      <th>2</th>\n",
       "      <td>2</td>\n",
       "      <td>3</td>\n",
       "      <td>B000LQOCH0</td>\n",
       "      <td>ABXLMWJIXXAIN</td>\n",
       "      <td>Natalia Corres \"Natalia Corres\"</td>\n",
       "      <td>1</td>\n",
       "      <td>1</td>\n",
       "      <td>1</td>\n",
       "      <td>1219017600</td>\n",
       "      <td>\"Delight\" says it all</td>\n",
       "      <td>This is a confection that has been around a fe...</td>\n",
       "      <td>this confect that has been around few centuri ...</td>\n",
       "    </tr>\n",
       "    <tr>\n",
       "      <th>3</th>\n",
       "      <td>4</td>\n",
       "      <td>5</td>\n",
       "      <td>B006K2ZZ7K</td>\n",
       "      <td>A1UQRSCLF8GW1T</td>\n",
       "      <td>Michael D. Bigham \"M. Wassir\"</td>\n",
       "      <td>0</td>\n",
       "      <td>0</td>\n",
       "      <td>1</td>\n",
       "      <td>1350777600</td>\n",
       "      <td>Great taffy</td>\n",
       "      <td>Great taffy at a great price.  There was a wid...</td>\n",
       "      <td>great taffi great price there was wide assort ...</td>\n",
       "    </tr>\n",
       "    <tr>\n",
       "      <th>4</th>\n",
       "      <td>5</td>\n",
       "      <td>6</td>\n",
       "      <td>B006K2ZZ7K</td>\n",
       "      <td>ADT0SRK1MGOEU</td>\n",
       "      <td>Twoapennything</td>\n",
       "      <td>0</td>\n",
       "      <td>0</td>\n",
       "      <td>1</td>\n",
       "      <td>1342051200</td>\n",
       "      <td>Nice Taffy</td>\n",
       "      <td>I got a wild hair for taffy and ordered this f...</td>\n",
       "      <td>got wild hair for taffi and order this five po...</td>\n",
       "    </tr>\n",
       "    <tr>\n",
       "      <th>5</th>\n",
       "      <td>6</td>\n",
       "      <td>7</td>\n",
       "      <td>B006K2ZZ7K</td>\n",
       "      <td>A1SP2KVKFXXRU1</td>\n",
       "      <td>David C. Sullivan</td>\n",
       "      <td>0</td>\n",
       "      <td>0</td>\n",
       "      <td>1</td>\n",
       "      <td>1340150400</td>\n",
       "      <td>Great!  Just as good as the expensive brands!</td>\n",
       "      <td>This saltwater taffy had great flavors and was...</td>\n",
       "      <td>this saltwat taffi had great flavor and was ve...</td>\n",
       "    </tr>\n",
       "  </tbody>\n",
       "</table>\n",
       "</div>"
      ],
      "text/plain": [
       "   index  Id   ProductId          UserId                      ProfileName  \\\n",
       "0      0   1  B001E4KFG0  A3SGXH7AUHU8GW                       delmartian   \n",
       "2      2   3  B000LQOCH0   ABXLMWJIXXAIN  Natalia Corres \"Natalia Corres\"   \n",
       "3      4   5  B006K2ZZ7K  A1UQRSCLF8GW1T    Michael D. Bigham \"M. Wassir\"   \n",
       "4      5   6  B006K2ZZ7K   ADT0SRK1MGOEU                   Twoapennything   \n",
       "5      6   7  B006K2ZZ7K  A1SP2KVKFXXRU1                David C. Sullivan   \n",
       "\n",
       "   HelpfulnessNumerator  HelpfulnessDenominator  Score        Time  \\\n",
       "0                     1                       1      1  1303862400   \n",
       "2                     1                       1      1  1219017600   \n",
       "3                     0                       0      1  1350777600   \n",
       "4                     0                       0      1  1342051200   \n",
       "5                     0                       0      1  1340150400   \n",
       "\n",
       "                                         Summary  \\\n",
       "0                          Good Quality Dog Food   \n",
       "2                          \"Delight\" says it all   \n",
       "3                                    Great taffy   \n",
       "4                                     Nice Taffy   \n",
       "5  Great!  Just as good as the expensive brands!   \n",
       "\n",
       "                                                Text  \\\n",
       "0  I have bought several of the Vitality canned d...   \n",
       "2  This is a confection that has been around a fe...   \n",
       "3  Great taffy at a great price.  There was a wid...   \n",
       "4  I got a wild hair for taffy and ordered this f...   \n",
       "5  This saltwater taffy had great flavors and was...   \n",
       "\n",
       "                                       ProcessedText  \n",
       "0  have bought sever the vital can dog food produ...  \n",
       "2  this confect that has been around few centuri ...  \n",
       "3  great taffi great price there was wide assort ...  \n",
       "4  got wild hair for taffi and order this five po...  \n",
       "5  this saltwat taffi had great flavor and was ve...  "
      ]
     },
     "execution_count": 66,
     "metadata": {},
     "output_type": "execute_result"
    }
   ],
   "source": [
    "positiveReviews_2500.head()"
   ]
  },
  {
   "cell_type": "code",
   "execution_count": 68,
   "metadata": {
    "collapsed": true
   },
   "outputs": [],
   "source": [
    "allNegativeReviews = data[(data[\"Score\"] == -1)]"
   ]
  },
  {
   "cell_type": "code",
   "execution_count": 69,
   "metadata": {},
   "outputs": [
    {
     "data": {
      "text/plain": [
       "(57110, 12)"
      ]
     },
     "execution_count": 69,
     "metadata": {},
     "output_type": "execute_result"
    }
   ],
   "source": [
    "allNegativeReviews.shape"
   ]
  },
  {
   "cell_type": "code",
   "execution_count": 70,
   "metadata": {
    "collapsed": true
   },
   "outputs": [],
   "source": [
    "negativeReviews_2500 = allNegativeReviews[:2500]"
   ]
  },
  {
   "cell_type": "code",
   "execution_count": 71,
   "metadata": {},
   "outputs": [
    {
     "data": {
      "text/plain": [
       "(2500, 12)"
      ]
     },
     "execution_count": 71,
     "metadata": {},
     "output_type": "execute_result"
    }
   ],
   "source": [
    "negativeReviews_2500.shape"
   ]
  },
  {
   "cell_type": "code",
   "execution_count": 72,
   "metadata": {},
   "outputs": [
    {
     "data": {
      "text/html": [
       "<div>\n",
       "<style>\n",
       "    .dataframe thead tr:only-child th {\n",
       "        text-align: right;\n",
       "    }\n",
       "\n",
       "    .dataframe thead th {\n",
       "        text-align: left;\n",
       "    }\n",
       "\n",
       "    .dataframe tbody tr th {\n",
       "        vertical-align: top;\n",
       "    }\n",
       "</style>\n",
       "<table border=\"1\" class=\"dataframe\">\n",
       "  <thead>\n",
       "    <tr style=\"text-align: right;\">\n",
       "      <th></th>\n",
       "      <th>index</th>\n",
       "      <th>Id</th>\n",
       "      <th>ProductId</th>\n",
       "      <th>UserId</th>\n",
       "      <th>ProfileName</th>\n",
       "      <th>HelpfulnessNumerator</th>\n",
       "      <th>HelpfulnessDenominator</th>\n",
       "      <th>Score</th>\n",
       "      <th>Time</th>\n",
       "      <th>Summary</th>\n",
       "      <th>Text</th>\n",
       "      <th>ProcessedText</th>\n",
       "    </tr>\n",
       "  </thead>\n",
       "  <tbody>\n",
       "    <tr>\n",
       "      <th>1</th>\n",
       "      <td>1</td>\n",
       "      <td>2</td>\n",
       "      <td>B00813GRG4</td>\n",
       "      <td>A1D87F6ZCVE5NK</td>\n",
       "      <td>dll pa</td>\n",
       "      <td>0</td>\n",
       "      <td>0</td>\n",
       "      <td>-1</td>\n",
       "      <td>1346976000</td>\n",
       "      <td>Not as Advertised</td>\n",
       "      <td>Product arrived labeled as Jumbo Salted Peanut...</td>\n",
       "      <td>product arriv label jumbo salt peanut the pean...</td>\n",
       "    </tr>\n",
       "    <tr>\n",
       "      <th>11</th>\n",
       "      <td>12</td>\n",
       "      <td>13</td>\n",
       "      <td>B0009XLVG0</td>\n",
       "      <td>A327PCT23YH90</td>\n",
       "      <td>LT</td>\n",
       "      <td>1</td>\n",
       "      <td>1</td>\n",
       "      <td>-1</td>\n",
       "      <td>1339545600</td>\n",
       "      <td>My Cats Are Not Fans of the New Food</td>\n",
       "      <td>My cats have been happily eating Felidae Plati...</td>\n",
       "      <td>cat have been happili eat felida platinum for ...</td>\n",
       "    </tr>\n",
       "    <tr>\n",
       "      <th>15</th>\n",
       "      <td>16</td>\n",
       "      <td>17</td>\n",
       "      <td>B001GVISJM</td>\n",
       "      <td>A3KLWF6WQ5BNYO</td>\n",
       "      <td>Erica Neathery</td>\n",
       "      <td>0</td>\n",
       "      <td>0</td>\n",
       "      <td>-1</td>\n",
       "      <td>1348099200</td>\n",
       "      <td>poor taste</td>\n",
       "      <td>I love eating them and they are good for watch...</td>\n",
       "      <td>love eat them and they are good for watch and ...</td>\n",
       "    </tr>\n",
       "    <tr>\n",
       "      <th>25</th>\n",
       "      <td>26</td>\n",
       "      <td>27</td>\n",
       "      <td>B001GVISJM</td>\n",
       "      <td>A3RXAU2N8KV45G</td>\n",
       "      <td>lady21</td>\n",
       "      <td>0</td>\n",
       "      <td>1</td>\n",
       "      <td>-1</td>\n",
       "      <td>1332633600</td>\n",
       "      <td>Nasty No flavor</td>\n",
       "      <td>The candy is just red , No flavor . Just  plan...</td>\n",
       "      <td>the candi just red flavor just plan and chewi ...</td>\n",
       "    </tr>\n",
       "    <tr>\n",
       "      <th>45</th>\n",
       "      <td>47</td>\n",
       "      <td>51</td>\n",
       "      <td>B001EO5QW8</td>\n",
       "      <td>A108P30XVUFKXY</td>\n",
       "      <td>Roberto A</td>\n",
       "      <td>0</td>\n",
       "      <td>7</td>\n",
       "      <td>-1</td>\n",
       "      <td>1203379200</td>\n",
       "      <td>Don't like it</td>\n",
       "      <td>This oatmeal is not good. Its mushy, soft, I d...</td>\n",
       "      <td>this oatmeal not good it mushi soft dont like ...</td>\n",
       "    </tr>\n",
       "  </tbody>\n",
       "</table>\n",
       "</div>"
      ],
      "text/plain": [
       "    index  Id   ProductId          UserId     ProfileName  \\\n",
       "1       1   2  B00813GRG4  A1D87F6ZCVE5NK          dll pa   \n",
       "11     12  13  B0009XLVG0   A327PCT23YH90              LT   \n",
       "15     16  17  B001GVISJM  A3KLWF6WQ5BNYO  Erica Neathery   \n",
       "25     26  27  B001GVISJM  A3RXAU2N8KV45G          lady21   \n",
       "45     47  51  B001EO5QW8  A108P30XVUFKXY       Roberto A   \n",
       "\n",
       "    HelpfulnessNumerator  HelpfulnessDenominator  Score        Time  \\\n",
       "1                      0                       0     -1  1346976000   \n",
       "11                     1                       1     -1  1339545600   \n",
       "15                     0                       0     -1  1348099200   \n",
       "25                     0                       1     -1  1332633600   \n",
       "45                     0                       7     -1  1203379200   \n",
       "\n",
       "                                 Summary  \\\n",
       "1                      Not as Advertised   \n",
       "11  My Cats Are Not Fans of the New Food   \n",
       "15                            poor taste   \n",
       "25                       Nasty No flavor   \n",
       "45                         Don't like it   \n",
       "\n",
       "                                                 Text  \\\n",
       "1   Product arrived labeled as Jumbo Salted Peanut...   \n",
       "11  My cats have been happily eating Felidae Plati...   \n",
       "15  I love eating them and they are good for watch...   \n",
       "25  The candy is just red , No flavor . Just  plan...   \n",
       "45  This oatmeal is not good. Its mushy, soft, I d...   \n",
       "\n",
       "                                        ProcessedText  \n",
       "1   product arriv label jumbo salt peanut the pean...  \n",
       "11  cat have been happili eat felida platinum for ...  \n",
       "15  love eat them and they are good for watch and ...  \n",
       "25  the candi just red flavor just plan and chewi ...  \n",
       "45  this oatmeal not good it mushi soft dont like ...  "
      ]
     },
     "execution_count": 72,
     "metadata": {},
     "output_type": "execute_result"
    }
   ],
   "source": [
    "negativeReviews_2500.head()"
   ]
  },
  {
   "cell_type": "code",
   "execution_count": 73,
   "metadata": {
    "collapsed": true
   },
   "outputs": [],
   "source": [
    "frames_5000 = [positiveReviews_2500, negativeReviews_2500]"
   ]
  },
  {
   "cell_type": "code",
   "execution_count": 74,
   "metadata": {
    "collapsed": true
   },
   "outputs": [],
   "source": [
    "FinalPositiveNegative = pd.concat(frames_5000)"
   ]
  },
  {
   "cell_type": "code",
   "execution_count": 75,
   "metadata": {},
   "outputs": [
    {
     "data": {
      "text/plain": [
       "(5000, 12)"
      ]
     },
     "execution_count": 75,
     "metadata": {},
     "output_type": "execute_result"
    }
   ],
   "source": [
    "FinalPositiveNegative.shape"
   ]
  },
  {
   "cell_type": "code",
   "execution_count": 76,
   "metadata": {
    "collapsed": true
   },
   "outputs": [],
   "source": [
    "#Sorting FinalDataframe by \"Time\"\n",
    "FinalSortedPositiveNegative_5000 = FinalPositiveNegative.sort_values('Time', axis=0, ascending=True, inplace=False)"
   ]
  },
  {
   "cell_type": "code",
   "execution_count": 77,
   "metadata": {
    "collapsed": true
   },
   "outputs": [],
   "source": [
    "FinalSortedPositiveNegativeScore_5000 = FinalSortedPositiveNegative_5000[\"Score\"]"
   ]
  },
  {
   "cell_type": "code",
   "execution_count": 78,
   "metadata": {},
   "outputs": [
    {
     "data": {
      "text/plain": [
       "(5000, 12)"
      ]
     },
     "execution_count": 78,
     "metadata": {},
     "output_type": "execute_result"
    }
   ],
   "source": [
    "FinalSortedPositiveNegative_5000.shape"
   ]
  },
  {
   "cell_type": "code",
   "execution_count": 79,
   "metadata": {},
   "outputs": [
    {
     "data": {
      "text/plain": [
       "(5000,)"
      ]
     },
     "execution_count": 79,
     "metadata": {},
     "output_type": "execute_result"
    }
   ],
   "source": [
    "FinalSortedPositiveNegativeScore_5000.shape"
   ]
  },
  {
   "cell_type": "code",
   "execution_count": 80,
   "metadata": {
    "collapsed": true
   },
   "outputs": [],
   "source": [
    "Data = FinalSortedPositiveNegative_5000"
   ]
  },
  {
   "cell_type": "code",
   "execution_count": 81,
   "metadata": {
    "collapsed": true
   },
   "outputs": [],
   "source": [
    "Data_Labels = FinalSortedPositiveNegativeScore_5000"
   ]
  },
  {
   "cell_type": "code",
   "execution_count": 82,
   "metadata": {},
   "outputs": [
    {
     "name": "stdout",
     "output_type": "stream",
     "text": [
      "(5000, 12)\n",
      "(5000,)\n"
     ]
    }
   ],
   "source": [
    "print(Data.shape)\n",
    "print(Data_Labels.shape)"
   ]
  },
  {
   "cell_type": "code",
   "execution_count": 83,
   "metadata": {},
   "outputs": [
    {
     "data": {
      "text/html": [
       "<div>\n",
       "<style>\n",
       "    .dataframe thead tr:only-child th {\n",
       "        text-align: right;\n",
       "    }\n",
       "\n",
       "    .dataframe thead th {\n",
       "        text-align: left;\n",
       "    }\n",
       "\n",
       "    .dataframe tbody tr th {\n",
       "        vertical-align: top;\n",
       "    }\n",
       "</style>\n",
       "<table border=\"1\" class=\"dataframe\">\n",
       "  <thead>\n",
       "    <tr style=\"text-align: right;\">\n",
       "      <th></th>\n",
       "      <th>index</th>\n",
       "      <th>Id</th>\n",
       "      <th>ProductId</th>\n",
       "      <th>UserId</th>\n",
       "      <th>ProfileName</th>\n",
       "      <th>HelpfulnessNumerator</th>\n",
       "      <th>HelpfulnessDenominator</th>\n",
       "      <th>Score</th>\n",
       "      <th>Time</th>\n",
       "      <th>Summary</th>\n",
       "      <th>Text</th>\n",
       "      <th>ProcessedText</th>\n",
       "    </tr>\n",
       "  </thead>\n",
       "  <tbody>\n",
       "    <tr>\n",
       "      <th>772</th>\n",
       "      <td>1146</td>\n",
       "      <td>1245</td>\n",
       "      <td>B00002Z754</td>\n",
       "      <td>A29Z5PI9BW2PU3</td>\n",
       "      <td>Robbie</td>\n",
       "      <td>7</td>\n",
       "      <td>7</td>\n",
       "      <td>1</td>\n",
       "      <td>961718400</td>\n",
       "      <td>Great Product</td>\n",
       "      <td>This was a really good idea and the final prod...</td>\n",
       "      <td>this was realli good idea and the final produc...</td>\n",
       "    </tr>\n",
       "    <tr>\n",
       "      <th>771</th>\n",
       "      <td>1145</td>\n",
       "      <td>1244</td>\n",
       "      <td>B00002Z754</td>\n",
       "      <td>A3B8RCEI0FXFI6</td>\n",
       "      <td>B G Chase</td>\n",
       "      <td>10</td>\n",
       "      <td>10</td>\n",
       "      <td>1</td>\n",
       "      <td>962236800</td>\n",
       "      <td>WOW Make your own 'slickers' !</td>\n",
       "      <td>I just received my shipment and could hardly w...</td>\n",
       "      <td>just receiv shipment and could hard wait tri t...</td>\n",
       "    </tr>\n",
       "    <tr>\n",
       "      <th>2418</th>\n",
       "      <td>3481</td>\n",
       "      <td>3783</td>\n",
       "      <td>B00016UX0K</td>\n",
       "      <td>AF1PV3DIC0XM7</td>\n",
       "      <td>Robert Ashton</td>\n",
       "      <td>1</td>\n",
       "      <td>2</td>\n",
       "      <td>1</td>\n",
       "      <td>1081555200</td>\n",
       "      <td>Classic Condiment</td>\n",
       "      <td>Mae Ploy Sweet Chili Sauce is becoming a stand...</td>\n",
       "      <td>mae ploy sweet chili sauc becom standard condi...</td>\n",
       "    </tr>\n",
       "    <tr>\n",
       "      <th>4417</th>\n",
       "      <td>5897</td>\n",
       "      <td>6386</td>\n",
       "      <td>B000084EK9</td>\n",
       "      <td>A1Z54EM24Y40LL</td>\n",
       "      <td>c2</td>\n",
       "      <td>0</td>\n",
       "      <td>0</td>\n",
       "      <td>-1</td>\n",
       "      <td>1090972800</td>\n",
       "      <td>This stuff is bad!</td>\n",
       "      <td>I honestly have to say that I just won't buy t...</td>\n",
       "      <td>honest have say that just wont buy this variet...</td>\n",
       "    </tr>\n",
       "    <tr>\n",
       "      <th>4408</th>\n",
       "      <td>5888</td>\n",
       "      <td>6376</td>\n",
       "      <td>B000084EKD</td>\n",
       "      <td>A1Z54EM24Y40LL</td>\n",
       "      <td>c2</td>\n",
       "      <td>1</td>\n",
       "      <td>1</td>\n",
       "      <td>-1</td>\n",
       "      <td>1090972800</td>\n",
       "      <td>Needs improved</td>\n",
       "      <td>I haven't had a cat yet that liked this one.  ...</td>\n",
       "      <td>havent had cat yet that like this one it just ...</td>\n",
       "    </tr>\n",
       "  </tbody>\n",
       "</table>\n",
       "</div>"
      ],
      "text/plain": [
       "      index    Id   ProductId          UserId    ProfileName  \\\n",
       "772    1146  1245  B00002Z754  A29Z5PI9BW2PU3         Robbie   \n",
       "771    1145  1244  B00002Z754  A3B8RCEI0FXFI6      B G Chase   \n",
       "2418   3481  3783  B00016UX0K   AF1PV3DIC0XM7  Robert Ashton   \n",
       "4417   5897  6386  B000084EK9  A1Z54EM24Y40LL             c2   \n",
       "4408   5888  6376  B000084EKD  A1Z54EM24Y40LL             c2   \n",
       "\n",
       "      HelpfulnessNumerator  HelpfulnessDenominator  Score        Time  \\\n",
       "772                      7                       7      1   961718400   \n",
       "771                     10                      10      1   962236800   \n",
       "2418                     1                       2      1  1081555200   \n",
       "4417                     0                       0     -1  1090972800   \n",
       "4408                     1                       1     -1  1090972800   \n",
       "\n",
       "                             Summary  \\\n",
       "772                    Great Product   \n",
       "771   WOW Make your own 'slickers' !   \n",
       "2418               Classic Condiment   \n",
       "4417              This stuff is bad!   \n",
       "4408                  Needs improved   \n",
       "\n",
       "                                                   Text  \\\n",
       "772   This was a really good idea and the final prod...   \n",
       "771   I just received my shipment and could hardly w...   \n",
       "2418  Mae Ploy Sweet Chili Sauce is becoming a stand...   \n",
       "4417  I honestly have to say that I just won't buy t...   \n",
       "4408  I haven't had a cat yet that liked this one.  ...   \n",
       "\n",
       "                                          ProcessedText  \n",
       "772   this was realli good idea and the final produc...  \n",
       "771   just receiv shipment and could hard wait tri t...  \n",
       "2418  mae ploy sweet chili sauc becom standard condi...  \n",
       "4417  honest have say that just wont buy this variet...  \n",
       "4408  havent had cat yet that like this one it just ...  "
      ]
     },
     "execution_count": 83,
     "metadata": {},
     "output_type": "execute_result"
    }
   ],
   "source": [
    "Data.head()"
   ]
  },
  {
   "cell_type": "markdown",
   "metadata": {},
   "source": [
    "## Average W2V"
   ]
  },
  {
   "cell_type": "code",
   "execution_count": 84,
   "metadata": {
    "collapsed": true
   },
   "outputs": [],
   "source": [
    "i = 0\n",
    "listOfSentences = []\n",
    "for sentence in Data[\"ProcessedText\"].values:\n",
    "    subSentence = []\n",
    "    for word in sentence.split():\n",
    "        subSentence.append(word)\n",
    "        \n",
    "    listOfSentences.append(subSentence)"
   ]
  },
  {
   "cell_type": "code",
   "execution_count": 85,
   "metadata": {},
   "outputs": [
    {
     "name": "stdout",
     "output_type": "stream",
     "text": [
      "this was realli good idea and the final product outstand use the decal car window and everybodi ask where bought the decal made two thumb\n",
      "\n",
      "\n",
      "[['this', 'was', 'realli', 'good', 'idea', 'and', 'the', 'final', 'product', 'outstand', 'use', 'the', 'decal', 'car', 'window', 'and', 'everybodi', 'ask', 'where', 'bought', 'the', 'decal', 'made', 'two', 'thumb'], ['just', 'receiv', 'shipment', 'and', 'could', 'hard', 'wait', 'tri', 'this', 'product', 'love', 'which', 'what', 'call', 'them', 'instead', 'sticker', 'becaus', 'they', 'can', 'remov', 'easili', 'daughter', 'design', 'sign', 'print', 'revers', 'use', 'her', 'car', 'window', 'they', 'print', 'beauti', 'have', 'the', 'print', 'shop', 'program', 'go', 'have', 'lot', 'fun', 'with', 'this', 'product', 'becaus', 'there', 'are', 'window', 'everywher', 'and', 'other', 'surfac', 'like', 'screen', 'and', 'comput', 'monitor']]\n",
      "\n",
      "\n",
      "<class 'list'>\n"
     ]
    }
   ],
   "source": [
    "print(Data['ProcessedText'].values[0])\n",
    "print(\"\\n\")\n",
    "print(listOfSentences[0:2])\n",
    "print(\"\\n\")\n",
    "print(type(listOfSentences))"
   ]
  },
  {
   "cell_type": "code",
   "execution_count": 86,
   "metadata": {
    "collapsed": true
   },
   "outputs": [],
   "source": [
    "w2vModel = gensim.models.Word2Vec(listOfSentences, size=400, min_count=5, workers=4)"
   ]
  },
  {
   "cell_type": "code",
   "execution_count": 87,
   "metadata": {},
   "outputs": [
    {
     "name": "stdout",
     "output_type": "stream",
     "text": [
      "<class 'list'>\n",
      "5000\n",
      "400\n"
     ]
    }
   ],
   "source": [
    "# compute average word2vec for each review.\n",
    "sentenceAsW2V = []\n",
    "for sentence in listOfSentences:\n",
    "    sentenceVector = np.zeros(400)\n",
    "    TotalWordsPerSentence = 0\n",
    "    for word in sentence:\n",
    "        try:\n",
    "            vect = w2vModel.wv[word]\n",
    "            sentenceVector += vect\n",
    "            TotalWordsPerSentence += 1\n",
    "        except:\n",
    "            pass\n",
    "    sentenceVector /= TotalWordsPerSentence\n",
    "    sentenceAsW2V.append(sentenceVector)\n",
    "\n",
    "print(type(sentenceAsW2V))\n",
    "print(len(sentenceAsW2V))\n",
    "print(len(sentenceAsW2V[0]))"
   ]
  },
  {
   "cell_type": "code",
   "execution_count": 88,
   "metadata": {},
   "outputs": [
    {
     "name": "stdout",
     "output_type": "stream",
     "text": [
      "(5000, 400)\n",
      "<class 'numpy.ndarray'>\n"
     ]
    }
   ],
   "source": [
    "standardized_Avg_w2v = StandardScaler().fit_transform(sentenceAsW2V)\n",
    "print(standardized_Avg_w2v.shape)\n",
    "print(type(standardized_Avg_w2v))"
   ]
  },
  {
   "cell_type": "markdown",
   "metadata": {
    "collapsed": true
   },
   "source": [
    "### Task 1. Split train and test data in a ratio of 80:20. "
   ]
  },
  {
   "cell_type": "code",
   "execution_count": 95,
   "metadata": {
    "collapsed": true
   },
   "outputs": [],
   "source": [
    "train_AvgW2V, test_AvgW2V, train_labels_AvgW2V, test_labels_AvgW2V = train_test_split(standardized_Avg_w2v, FinalSortedPositiveNegativeScore_5000, test_size = 0.2, random_state = 0)"
   ]
  },
  {
   "cell_type": "markdown",
   "metadata": {
    "collapsed": true
   },
   "source": [
    "### Task 2. Perform GridSearch Cross Validation and Random Search Cross Validation to find optimal Value of λ."
   ]
  },
  {
   "cell_type": "markdown",
   "metadata": {},
   "source": [
    "#### Grid Search"
   ]
  },
  {
   "cell_type": "code",
   "execution_count": 96,
   "metadata": {},
   "outputs": [
    {
     "name": "stdout",
     "output_type": "stream",
     "text": [
      "LogisticRegression(C=1000, class_weight=None, dual=False, fit_intercept=True,\n",
      "          intercept_scaling=1, max_iter=100, multi_class='ovr', n_jobs=1,\n",
      "          penalty='l2', random_state=None, solver='liblinear', tol=0.0001,\n",
      "          verbose=0, warm_start=False)\n"
     ]
    }
   ],
   "source": [
    "clf = LogisticRegression()\n",
    "\n",
    "hyper_parameters = [{'C': [10**-3, 10**-2, 10**-1, 10**0, 2, 4, 6, 8, 10**1, 50, 10**2, 500, 10**3]}]\n",
    "bestCV = GridSearchCV(clf, hyper_parameters, scoring = \"accuracy\", cv = 5)\n",
    "bestCV.fit(train_AvgW2V, train_labels_AvgW2V)\n",
    "\n",
    "print(bestCV.best_estimator_)"
   ]
  },
  {
   "cell_type": "code",
   "execution_count": 97,
   "metadata": {},
   "outputs": [
    {
     "data": {
      "text/plain": [
       "1000"
      ]
     },
     "execution_count": 97,
     "metadata": {},
     "output_type": "execute_result"
    }
   ],
   "source": [
    "best_parameter = bestCV.best_params_ \n",
    "best_parameter[\"C\"]"
   ]
  },
  {
   "cell_type": "code",
   "execution_count": 98,
   "metadata": {
    "collapsed": true
   },
   "outputs": [],
   "source": [
    "scoreData = bestCV.grid_scores_"
   ]
  },
  {
   "cell_type": "code",
   "execution_count": 99,
   "metadata": {},
   "outputs": [
    {
     "data": {
      "text/plain": [
       "[mean: 0.74425, std: 0.02091, params: {'C': 0.001},\n",
       " mean: 0.76825, std: 0.01774, params: {'C': 0.01},\n",
       " mean: 0.78975, std: 0.01772, params: {'C': 0.1},\n",
       " mean: 0.80325, std: 0.01606, params: {'C': 1},\n",
       " mean: 0.81025, std: 0.01086, params: {'C': 2},\n",
       " mean: 0.81575, std: 0.01549, params: {'C': 4},\n",
       " mean: 0.81775, std: 0.01754, params: {'C': 6},\n",
       " mean: 0.82275, std: 0.01981, params: {'C': 8},\n",
       " mean: 0.82350, std: 0.01954, params: {'C': 10},\n",
       " mean: 0.83575, std: 0.01950, params: {'C': 50},\n",
       " mean: 0.83700, std: 0.01928, params: {'C': 100},\n",
       " mean: 0.83675, std: 0.01737, params: {'C': 500},\n",
       " mean: 0.83825, std: 0.01635, params: {'C': 1000}]"
      ]
     },
     "execution_count": 99,
     "metadata": {},
     "output_type": "execute_result"
    }
   ],
   "source": [
    "scoreData"
   ]
  },
  {
   "cell_type": "code",
   "execution_count": 100,
   "metadata": {},
   "outputs": [
    {
     "data": {
      "image/png": "[encoded data removed]",
      "text/plain": [
       "<matplotlib.figure.Figure at 0x6367661b70>"
      ]
     },
     "metadata": {},
     "output_type": "display_data"
    }
   ],
   "source": [
    "error = []\n",
    "parameter = []\n",
    "for i in range(len(scoreData)):\n",
    "    error.append(1 - scoreData[i][1])\n",
    "    parameter.append(scoreData[i][0][\"C\"])\n",
    "    \n",
    "plot.plot(parameter, np.round(error, 4))\n",
    "plot.xlabel(\"Parameter 'c'\")\n",
    "plot.ylabel(\"Error\")\n",
    "\n",
    "error1 = []\n",
    "for e in error:\n",
    "    error1.append(np.round(e,3))\n",
    "    \n",
    "parameter1 = []\n",
    "for p in parameter:\n",
    "    parameter1.append(np.round(p,3))\n",
    "\n",
    "for xy in zip(parameter1, error1):\n",
    "    plot.annotate(xy,xy)\n",
    "\n",
    "plot.show()"
   ]
  },
  {
   "cell_type": "markdown",
   "metadata": {},
   "source": [
    "#### Random Search"
   ]
  },
  {
   "cell_type": "code",
   "execution_count": 101,
   "metadata": {
    "collapsed": true
   },
   "outputs": [],
   "source": [
    "n = list(np.random.normal(loc=1000, scale=300, size = 500))  #taking 500 numbers which are distributed normally with mean = 1000\n",
    "                                                            #and std-dev = 300"
   ]
  },
  {
   "cell_type": "code",
   "execution_count": 102,
   "metadata": {},
   "outputs": [
    {
     "name": "stdout",
     "output_type": "stream",
     "text": [
      "LogisticRegression(C=584.2338438746062, class_weight=None, dual=False,\n",
      "          fit_intercept=True, intercept_scaling=1, max_iter=100,\n",
      "          multi_class='ovr', n_jobs=1, penalty='l2', random_state=None,\n",
      "          solver='liblinear', tol=0.0001, verbose=0, warm_start=False)\n"
     ]
    }
   ],
   "source": [
    "clf = LogisticRegression()\n",
    "\n",
    "hyper_parameters2 = {'C': n}\n",
    "\n",
    "bestCV_random = RandomizedSearchCV(clf, hyper_parameters2, scoring = \"accuracy\", cv = 3)\n",
    "\n",
    "bestCV_random.fit(train_AvgW2V, train_labels_AvgW2V)\n",
    "print(bestCV_random.best_estimator_)"
   ]
  },
  {
   "cell_type": "code",
   "execution_count": 103,
   "metadata": {},
   "outputs": [
    {
     "data": {
      "text/plain": [
       "584.2338438746062"
      ]
     },
     "execution_count": 103,
     "metadata": {},
     "output_type": "execute_result"
    }
   ],
   "source": [
    "best_random_parameter = bestCV_random.best_params_ \n",
    "best_random_parameter[\"C\"]"
   ]
  },
  {
   "cell_type": "code",
   "execution_count": 104,
   "metadata": {
    "collapsed": true
   },
   "outputs": [],
   "source": [
    "scoreRandomData = bestCV_random.grid_scores_"
   ]
  },
  {
   "cell_type": "code",
   "execution_count": 105,
   "metadata": {},
   "outputs": [
    {
     "data": {
      "text/plain": [
       "[mean: 0.82975, std: 0.01597, params: {'C': 1268.184913640975},\n",
       " mean: 0.83550, std: 0.01679, params: {'C': 584.2338438746062},\n",
       " mean: 0.83125, std: 0.01646, params: {'C': 742.206958137426},\n",
       " mean: 0.83125, std: 0.01585, params: {'C': 1028.436950767072},\n",
       " mean: 0.83075, std: 0.01592, params: {'C': 769.9219219260337},\n",
       " mean: 0.83525, std: 0.01575, params: {'C': 533.6818785326748},\n",
       " mean: 0.83100, std: 0.01599, params: {'C': 764.631018708247},\n",
       " mean: 0.83175, std: 0.01679, params: {'C': 816.6946926002321},\n",
       " mean: 0.83150, std: 0.01613, params: {'C': 992.1699084299191},\n",
       " mean: 0.82950, std: 0.01440, params: {'C': 1614.448735785675}]"
      ]
     },
     "execution_count": 105,
     "metadata": {},
     "output_type": "execute_result"
    }
   ],
   "source": [
    "scoreRandomData"
   ]
  },
  {
   "cell_type": "code",
   "execution_count": 106,
   "metadata": {},
   "outputs": [
    {
     "data": {
      "image/png": "[encoded data removed]",
      "text/plain": [
       "<matplotlib.figure.Figure at 0x63637c69e8>"
      ]
     },
     "metadata": {},
     "output_type": "display_data"
    }
   ],
   "source": [
    "error2 = []\n",
    "parameter2 = []\n",
    "for i in range(len(scoreRandomData)):\n",
    "    error2.append(1 - scoreRandomData[i][1])\n",
    "    parameter2.append(scoreRandomData[i][0][\"C\"])  \n",
    "\n",
    "plot.plot(parameter2, error2)\n",
    "plot.xlabel(\"Parameter 'c'\")\n",
    "plot.ylabel(\"Error\")\n",
    "\n",
    "error3 = []\n",
    "for e in error2:\n",
    "    error3.append(np.round(e,3))\n",
    "    \n",
    "parameter3 = []\n",
    "for p in parameter2:\n",
    "    parameter3.append(np.round(p,3))\n",
    "\n",
    "for xy in zip(parameter3, error3):\n",
    "        plot.annotate(xy,xy)\n",
    "\n",
    "plot.show()"
   ]
  },
  {
   "cell_type": "code",
   "execution_count": 107,
   "metadata": {},
   "outputs": [
    {
     "data": {
      "text/plain": [
       "792.1169219373031"
      ]
     },
     "execution_count": 107,
     "metadata": {},
     "output_type": "execute_result"
    }
   ],
   "source": [
    "# We are taking our hyper-parameter λ as the average of best λ computed from gridSearchCV and RandomSearchCV\n",
    "FinalHP = (best_parameter[\"C\"] + best_random_parameter[\"C\"]) / 2\n",
    "FinalHP"
   ]
  },
  {
   "cell_type": "markdown",
   "metadata": {
    "collapsed": true
   },
   "source": [
    "### Task 3. Apply Logistic Regression using both L1 and L2 regularizations and report accuracy."
   ]
  },
  {
   "cell_type": "markdown",
   "metadata": {},
   "source": [
    "#### Implementing L2 Regularization"
   ]
  },
  {
   "cell_type": "code",
   "execution_count": 108,
   "metadata": {},
   "outputs": [
    {
     "name": "stdout",
     "output_type": "stream",
     "text": [
      "Accuracy score on L2 regularization = 83.6%\n"
     ]
    }
   ],
   "source": [
    "model = LogisticRegression(penalty=\"l2\", C = FinalHP)\n",
    "\n",
    "model.fit(train_AvgW2V, train_labels_AvgW2V)\n",
    "\n",
    "prediction = model.predict(test_AvgW2V)\n",
    "\n",
    "AccuracyScore = accuracy_score(test_labels_AvgW2V, prediction) * 100\n",
    "\n",
    "print(\"Accuracy score on L2 regularization = \"+str(AccuracyScore)+\"%\")"
   ]
  },
  {
   "cell_type": "code",
   "execution_count": 109,
   "metadata": {},
   "outputs": [
    {
     "name": "stdout",
     "output_type": "stream",
     "text": [
      "Precision Score on L2 regularization = 0.8366935483870968\n"
     ]
    }
   ],
   "source": [
    "Precision = precision_score(test_labels_AvgW2V, prediction)\n",
    "print(\"Precision Score on L2 regularization = \"+str(Precision))"
   ]
  },
  {
   "cell_type": "code",
   "execution_count": 110,
   "metadata": {},
   "outputs": [
    {
     "name": "stdout",
     "output_type": "stream",
     "text": [
      "Recall Score on L2 regularization = 0.8333333333333334\n"
     ]
    }
   ],
   "source": [
    "Recall = recall_score(test_labels_AvgW2V, prediction)\n",
    "print(\"Recall Score on L2 regularization = \"+str(Recall))"
   ]
  },
  {
   "cell_type": "code",
   "execution_count": 111,
   "metadata": {},
   "outputs": [
    {
     "name": "stdout",
     "output_type": "stream",
     "text": [
      "Confusion Matrix on L2 regularization  \n",
      "[[421  81]\n",
      " [ 83 415]]\n"
     ]
    }
   ],
   "source": [
    "Confusion_Matrix = confusion_matrix(test_labels_AvgW2V, prediction)\n",
    "print(\"Confusion Matrix on L2 regularization  \\n\"+str(Confusion_Matrix))"
   ]
  },
  {
   "cell_type": "code",
   "execution_count": 116,
   "metadata": {},
   "outputs": [
    {
     "data": {
      "text/plain": [
       "(421, 81, 83, 415)"
      ]
     },
     "execution_count": 116,
     "metadata": {},
     "output_type": "execute_result"
    }
   ],
   "source": [
    "tn, fp, fn, tp = confusion_matrix(test_labels_AvgW2V, prediction).ravel()\n",
    "tn, fp, fn, tp"
   ]
  },
  {
   "cell_type": "markdown",
   "metadata": {
    "collapsed": true
   },
   "source": [
    "#### Implementing L1 Regularization"
   ]
  },
  {
   "cell_type": "code",
   "execution_count": 112,
   "metadata": {},
   "outputs": [
    {
     "name": "stdout",
     "output_type": "stream",
     "text": [
      "Accuracy score on L1 regularization = 83.2%\n"
     ]
    }
   ],
   "source": [
    "model2 = LogisticRegression(penalty=\"l1\", C = FinalHP)\n",
    "\n",
    "model2.fit(train_AvgW2V, train_labels_AvgW2V)\n",
    "\n",
    "prediction2 = model2.predict(test_AvgW2V)\n",
    "\n",
    "AccuracyScore2 = accuracy_score(test_labels_AvgW2V, prediction2) * 100\n",
    "\n",
    "print(\"Accuracy score on L1 regularization = \"+str(AccuracyScore2)+\"%\")"
   ]
  },
  {
   "cell_type": "code",
   "execution_count": 113,
   "metadata": {},
   "outputs": [
    {
     "name": "stdout",
     "output_type": "stream",
     "text": [
      "Precision Score on L1 regularization = 0.8423236514522822\n"
     ]
    }
   ],
   "source": [
    "Precision2 = precision_score(test_labels_AvgW2V, prediction2)\n",
    "print(\"Precision Score on L1 regularization = \"+str(Precision2))"
   ]
  },
  {
   "cell_type": "code",
   "execution_count": 114,
   "metadata": {},
   "outputs": [
    {
     "name": "stdout",
     "output_type": "stream",
     "text": [
      "Recall Score on L1 regularization = 0.8152610441767069\n"
     ]
    }
   ],
   "source": [
    "Recall2 = recall_score(test_labels_AvgW2V, prediction2)\n",
    "print(\"Recall Score on L1 regularization = \"+str(Recall2))"
   ]
  },
  {
   "cell_type": "code",
   "execution_count": 115,
   "metadata": {},
   "outputs": [
    {
     "name": "stdout",
     "output_type": "stream",
     "text": [
      "Confusion Matrix on L1 regularization \n",
      "[[426  76]\n",
      " [ 92 406]]\n"
     ]
    }
   ],
   "source": [
    "Confusion_Matrix2 = confusion_matrix(test_labels_AvgW2V, prediction2)\n",
    "print(\"Confusion Matrix on L1 regularization \\n\"+str(Confusion_Matrix2))"
   ]
  },
  {
   "cell_type": "code",
   "execution_count": 117,
   "metadata": {},
   "outputs": [
    {
     "data": {
      "text/plain": [
       "(426, 76, 92, 406)"
      ]
     },
     "execution_count": 117,
     "metadata": {},
     "output_type": "execute_result"
    }
   ],
   "source": [
    "tn, fp, fn, tp = confusion_matrix(test_labels_AvgW2V, prediction2).ravel()\n",
    "tn, fp, fn, tp"
   ]
  },
  {
   "cell_type": "markdown",
   "metadata": {
    "collapsed": true
   },
   "source": [
    "### Task 4. Use L1 regularization for different values of λ and report error and sparsity for each value of λ."
   ]
  },
  {
   "cell_type": "code",
   "execution_count": 118,
   "metadata": {},
   "outputs": [
    {
     "name": "stdout",
     "output_type": "stream",
     "text": [
      "Number of non-zero for λ value of 0.0001 = 400\n",
      "Error for λ value of 0.0001 = 0.16900000000000004\n"
     ]
    }
   ],
   "source": [
    "model3 = LogisticRegression(penalty=\"l1\", C = 10000)\n",
    "\n",
    "model3.fit(train_AvgW2V, train_labels_AvgW2V)\n",
    "\n",
    "accuracyScore_10000 = model3.score(test_AvgW2V, test_labels_AvgW2V)\n",
    "\n",
    "error = 1 - accuracyScore_10000\n",
    "\n",
    "weightVector = model3.coef_\n",
    "\n",
    "print(\"Number of non-zero for λ value of 0.0001 = \"+str(np.count_nonzero(weightVector)))\n",
    "\n",
    "print(\"Error for λ value of 0.0001 = \"+str(error))"
   ]
  },
  {
   "cell_type": "code",
   "execution_count": 119,
   "metadata": {},
   "outputs": [
    {
     "name": "stdout",
     "output_type": "stream",
     "text": [
      "Number of non-zero for λ value of 0.001 = 400\n",
      "Error for λ value of 0.001 = 0.17100000000000004\n"
     ]
    }
   ],
   "source": [
    "model3 = LogisticRegression(penalty=\"l1\", C = 1000)\n",
    "\n",
    "model3.fit(train_AvgW2V, train_labels_AvgW2V)\n",
    "\n",
    "accuracyScore_1000 = model3.score(test_AvgW2V, test_labels_AvgW2V)\n",
    "\n",
    "error = 1 - accuracyScore_1000\n",
    "\n",
    "weightVector = model3.coef_\n",
    "\n",
    "print(\"Number of non-zero for λ value of 0.001 = \"+str(np.count_nonzero(weightVector)))\n",
    "\n",
    "print(\"Error for λ value of 0.001 = \"+str(error))"
   ]
  },
  {
   "cell_type": "code",
   "execution_count": 120,
   "metadata": {},
   "outputs": [
    {
     "name": "stdout",
     "output_type": "stream",
     "text": [
      "Number of non-zero for λ value of 0.1 = 230\n",
      "Error for λ value of 0.1 = 0.18000000000000005\n"
     ]
    }
   ],
   "source": [
    "model3 = LogisticRegression(penalty=\"l1\", C = 10)\n",
    "\n",
    "model3.fit(train_AvgW2V, train_labels_AvgW2V)\n",
    "\n",
    "accuracyScore_10 = model3.score(test_AvgW2V, test_labels_AvgW2V)\n",
    "\n",
    "error = 1 - accuracyScore_10\n",
    "\n",
    "weightVector = model3.coef_\n",
    "\n",
    "print(\"Number of non-zero for λ value of 0.1 = \"+str(np.count_nonzero(weightVector)))\n",
    "\n",
    "print(\"Error for λ value of 0.1 = \"+str(error))"
   ]
  },
  {
   "cell_type": "code",
   "execution_count": 121,
   "metadata": {},
   "outputs": [
    {
     "name": "stdout",
     "output_type": "stream",
     "text": [
      "Number of non-zero for λ value of 1000 = 0\n",
      "Error for λ value of 1000 = 0.498\n"
     ]
    }
   ],
   "source": [
    "model3 = LogisticRegression(penalty=\"l1\", C = 10**-3)\n",
    "\n",
    "model3.fit(train_AvgW2V, train_labels_AvgW2V)\n",
    "\n",
    "accuracyScore_0001 = model3.score(test_AvgW2V, test_labels_AvgW2V)\n",
    "\n",
    "error = 1 - accuracyScore_0001\n",
    "\n",
    "weightVector = model3.coef_\n",
    "\n",
    "print(\"Number of non-zero for λ value of 1000 = \"+str(np.count_nonzero(weightVector)))\n",
    "\n",
    "print(\"Error for λ value of 1000 = \"+str(error))"
   ]
  },
  {
   "cell_type": "code",
   "execution_count": 122,
   "metadata": {},
   "outputs": [
    {
     "name": "stdout",
     "output_type": "stream",
     "text": [
      "Number of non-zero for λ value of 10000 = 0\n",
      "Error for λ value of 10000 = 0.498\n"
     ]
    }
   ],
   "source": [
    "model3 = LogisticRegression(penalty=\"l1\", C = 10**-4)\n",
    "\n",
    "model3.fit(train_AvgW2V, train_labels_AvgW2V)\n",
    "\n",
    "accuracyScore_00001 = model3.score(test_AvgW2V, test_labels_AvgW2V)\n",
    "\n",
    "error = 1 - accuracyScore_00001\n",
    "\n",
    "weightVector = model3.coef_\n",
    "\n",
    "print(\"Number of non-zero for λ value of 10000 = \"+str(np.count_nonzero(weightVector)))\n",
    "\n",
    "print(\"Error for λ value of 10000 = \"+str(error))"
   ]
  },
  {
   "cell_type": "markdown",
   "metadata": {},
   "source": [
    "### Task 5. Check for multi-collinearity of features and find top-10 most important features"
   ]
  },
  {
   "cell_type": "code",
   "execution_count": 140,
   "metadata": {
    "collapsed": true
   },
   "outputs": [],
   "source": [
    "# computing weight vector prior to adding noise in out data\n",
    "model4 = LogisticRegression(penalty=\"l2\", C = FinalHP)\n",
    "\n",
    "model4.fit(train_AvgW2V, train_labels_AvgW2V)\n",
    "\n",
    "weightVector1 = model4.coef_"
   ]
  },
  {
   "cell_type": "code",
   "execution_count": 142,
   "metadata": {},
   "outputs": [
    {
     "name": "stdout",
     "output_type": "stream",
     "text": [
      "0.08064478322530538\n",
      "(4000, 400)\n"
     ]
    }
   ],
   "source": [
    "noise = np.random.normal(loc=0.1, scale=0.1) # generating random positive number from normal distribution\n",
    "noise_matrix = np.full((4000, 400), noise) # generating matrix of size 4000 * 400 where every number in matrix is 'n' \n",
    "dataWithNoise_AvgW2V = noise_matrix + train_AvgW2V # adding noise to training data fro pertubation test\n",
    "\n",
    "print(noise)\n",
    "print(dataWithNoise_AvgW2V.shape)"
   ]
  },
  {
   "cell_type": "code",
   "execution_count": 143,
   "metadata": {
    "collapsed": true
   },
   "outputs": [],
   "source": [
    "# computing weight vector after adding noise in out data\n",
    "model5 = LogisticRegression(penalty=\"l2\", C = FinalHP)\n",
    "\n",
    "model5.fit(dataWithNoise_AvgW2V, train_labels_AvgW2V)\n",
    "\n",
    "weightVector2 = model5.coef_"
   ]
  },
  {
   "cell_type": "code",
   "execution_count": 144,
   "metadata": {
    "collapsed": true
   },
   "outputs": [],
   "source": [
    "differenceInWeights = weightVector1 - weightVector2"
   ]
  },
  {
   "cell_type": "code",
   "execution_count": 147,
   "metadata": {
    "scrolled": false
   },
   "outputs": [
    {
     "data": {
      "text/plain": [
       "array([ 1.24805364e-01,  1.70932769e-01, -1.11871736e-02,  1.03912758e-01,\n",
       "        7.93223365e-02,  4.18818609e-01,  1.36661723e-01,  4.56989891e-01,\n",
       "       -3.92898222e-02,  1.98360903e-01, -9.05991926e-02,  1.49630554e-01,\n",
       "        4.45303410e-01, -2.78539118e-01, -2.28059601e-01,  9.20603735e-02,\n",
       "        5.06654285e-01,  2.77161689e-01,  3.67958794e-01, -2.30820079e-01,\n",
       "        2.28275354e-01,  2.03324644e-01,  3.78095885e-01,  7.99650271e-01,\n",
       "       -1.28208345e-01,  3.46592046e-01,  4.44813411e-01,  9.70867561e-02,\n",
       "        2.07690249e-01,  2.95724366e-01, -3.50075373e-01,  1.00622917e+00,\n",
       "        1.61358295e-01,  8.61132850e-02,  1.40308026e-01,  2.56285727e-01,\n",
       "        4.15229139e-02,  6.16934756e-01,  5.63410977e-01,  1.85443428e-01,\n",
       "       -1.09950435e-01,  1.06918044e+00,  3.31539367e-01,  8.17591979e-02,\n",
       "        8.78324226e-01,  8.58061135e-02,  2.94267113e-01,  1.06538155e+00,\n",
       "        1.20842287e+00,  2.76184956e-01,  4.25152321e-01,  4.43081384e-01,\n",
       "       -5.81952172e-02,  3.58375538e-01,  5.85569475e-01,  2.97492574e-01,\n",
       "        3.03267071e-01,  8.26227974e-02,  2.65602719e-01,  1.02464454e-02,\n",
       "        4.21451227e-01,  2.00680818e-01,  4.96993374e-01,  1.03055776e-01,\n",
       "       -7.40148166e-02,  2.13286517e-01,  2.46906956e-01,  1.88369034e-01,\n",
       "        5.24534264e-01, -3.20966633e-01,  7.27964680e-01,  9.45298222e-01,\n",
       "        2.29459372e-01,  4.16584121e-01,  6.61523893e-01,  4.99814342e-01,\n",
       "        8.29048009e-01,  3.68537195e-01,  1.94110578e-01,  4.42285596e-01,\n",
       "        2.56450048e-01, -3.48518964e-02,  1.89228769e-01,  5.46985398e-01,\n",
       "        9.49375835e-01,  4.58690126e-01, -2.67423812e-02,  3.40964963e-01,\n",
       "        5.54421597e-01,  4.84868998e-01,  2.40709530e-02,  3.58396693e-01,\n",
       "        1.49007996e-01, -1.83513260e-01,  1.24827919e-01,  4.79384202e-01,\n",
       "        2.00794188e-01,  3.06368654e-01, -1.18141115e-01,  3.72210156e-01,\n",
       "        2.51906344e-01,  3.51717187e-01,  5.41065366e-01, -7.35527221e-02,\n",
       "       -1.58340831e-01,  4.87058281e-01,  8.95438049e-01,  1.03854550e-01,\n",
       "        1.00439286e-01,  2.93393722e-01, -5.07122478e-01,  5.04931285e-01,\n",
       "        6.30164023e-01,  3.94235764e-02,  1.05508795e+00,  1.03311885e+00,\n",
       "        6.68149670e-01,  3.74619866e-01,  3.12626179e-01,  3.05340279e-01,\n",
       "       -2.56234661e-01, -2.65207201e-01, -1.82099370e-01,  2.57596511e-01,\n",
       "        2.16413057e-03,  3.28279146e-01, -7.92442011e-02,  3.25958290e-01,\n",
       "        2.39980832e-01, -1.49201676e-01,  2.42135338e-01,  4.47915127e-02,\n",
       "       -3.49030350e-02,  1.17165109e-01,  5.61850684e-01, -3.28313918e-01,\n",
       "       -7.43693536e-02,  7.85999682e-01,  3.55374369e-01,  5.55577781e-02,\n",
       "        3.79739592e-01,  2.76772539e-01,  2.94876076e-01,  2.36463420e-01,\n",
       "        4.87127108e-01,  1.97415952e-01, -1.62836862e-03, -1.24705697e-01,\n",
       "        1.14246184e-02,  2.08988574e-01,  1.24318222e-01,  1.93498681e-01,\n",
       "        1.00648334e-01,  3.20811791e-01,  3.32418195e-01,  7.67962046e-01,\n",
       "        2.82235083e-01,  7.16188788e-01,  6.35167830e-01,  2.22631369e-01,\n",
       "       -6.29899991e-02,  7.31413939e-01,  6.59577503e-01,  1.78584225e-01,\n",
       "        1.91347480e-01,  1.78972716e-01, -2.03139938e-02,  4.50327053e-01,\n",
       "        9.04072322e-02,  2.20986228e-01,  3.50507749e-01, -2.69136334e-01,\n",
       "        4.04063262e-02, -1.60356872e-01,  1.83957421e-01,  3.77319095e-01,\n",
       "        5.38471832e-01,  8.89826232e-02,  5.02519959e-01,  6.07566272e-01,\n",
       "        6.50689063e-01,  3.67674446e-01,  2.96181834e-01,  4.98253668e-01,\n",
       "        7.74590255e-01, -4.14652772e-02,  4.51390911e-01, -1.09632072e-01,\n",
       "        5.37925406e-02,  3.91369876e-01,  5.13204841e-02,  8.62799391e-02,\n",
       "        1.39188084e-01, -8.02947543e-02,  1.07248938e-01,  5.26179986e-01,\n",
       "        2.08525487e-01,  8.00284616e-01,  1.51087920e-01,  5.64281566e-01,\n",
       "       -2.64850973e-01,  3.24668607e-01,  4.43954915e-01,  4.26527130e-01,\n",
       "        2.39677775e-01,  3.59030805e-01,  6.41259226e-01,  1.26441581e-02,\n",
       "        6.09254650e-01,  6.55294745e-01,  7.14076365e-01,  5.53791730e-01,\n",
       "        5.47820777e-01,  4.40104004e-02,  1.61113477e-01,  6.85916387e-01,\n",
       "        6.47760074e-01, -1.33268531e-02,  4.50506669e-01, -3.99707516e-02,\n",
       "        5.46508010e-01, -3.89394944e-02,  9.49167316e-01,  9.92742012e-01,\n",
       "        5.77666693e-02,  6.42723662e-02,  1.31996462e-01,  2.29660671e-01,\n",
       "        5.18451997e-01,  2.87799759e-01,  7.10948107e-01, -3.01324531e-03,\n",
       "        2.48263845e-01, -1.15256396e-01,  4.74086275e-01, -9.96701291e-02,\n",
       "        2.40030283e-01,  3.26822019e-01,  3.09829494e-01,  3.42286955e-01,\n",
       "       -7.94562284e-02,  1.22285833e-01,  2.22504277e-01,  1.96888498e-01,\n",
       "        4.42124069e-02,  2.08337127e-01,  8.37378645e-02,  5.76794718e-02,\n",
       "        6.86462117e-01,  3.97984954e-01,  2.15607237e-01,  1.33977515e-01,\n",
       "        3.67862358e-01,  3.23858732e-01,  1.79866645e-01,  2.50038776e-01,\n",
       "        7.39319661e-01,  3.06798441e-01,  4.06416306e-01,  7.07730483e-02,\n",
       "       -4.20182817e-04,  5.07370981e-01,  2.69692759e-01,  3.61643504e-01,\n",
       "        1.01138441e-01,  3.10386477e-02,  5.05332470e-01,  3.63870479e-01,\n",
       "        3.24108477e-01,  4.35835206e-01,  1.71558620e-01,  2.80191649e-01,\n",
       "        1.41587752e-01,  2.74615010e-01,  5.59725645e-01, -9.91373448e-02,\n",
       "        3.37538566e-01,  3.06475001e-01,  4.10064222e-01,  3.52169404e-01,\n",
       "        4.95157461e-01,  4.77048757e-01,  4.52725310e-01,  3.07093521e-01,\n",
       "        3.80153702e-01,  1.76876748e-01,  1.42553019e-01,  1.06393530e-01,\n",
       "        2.25627098e-01,  4.02454357e-01,  5.44444671e-01, -3.19736744e-01,\n",
       "        7.53514463e-01,  6.34355877e-01,  1.23178748e-01,  5.89458801e-01,\n",
       "        4.48672103e-01,  1.91204387e-01,  6.42749555e-01,  4.36002899e-03,\n",
       "        2.67609836e-01,  1.00810757e+00,  1.32856538e+00,  1.39763759e-01,\n",
       "       -4.91160727e-02,  1.77639282e-01,  1.64558945e-01,  1.54511543e-01,\n",
       "        4.04451858e-01,  2.70437412e-01,  6.14438121e-01,  2.54836260e-01,\n",
       "        1.26968403e-01,  7.09930554e-01,  1.57577183e-01,  4.22352021e-01,\n",
       "       -7.02333946e-03,  4.85025832e-02,  7.70285887e-01,  1.70478325e-04,\n",
       "        2.17975130e-01,  4.67651921e-01,  3.16562708e-01,  8.90707878e-02,\n",
       "        1.15799794e-01,  1.60488416e-01,  1.18044912e-01, -3.02497989e-01,\n",
       "       -1.18970001e-01,  5.18692957e-01, -3.38028071e-01,  2.21294104e-01,\n",
       "        2.07167986e-01,  3.02691200e-01, -1.56786088e-01,  9.22424338e-01,\n",
       "        3.13854099e-01,  6.55860242e-03,  5.08907949e-01,  5.55281142e-01,\n",
       "        3.04803265e-01,  4.34123837e-01,  4.79045548e-01,  3.41044499e-01,\n",
       "        5.83144990e-02,  8.64363875e-02,  2.49431756e-01,  7.29173082e-01,\n",
       "        8.10117595e-01,  3.76805438e-01,  4.88921826e-01,  3.21518333e-01,\n",
       "        5.56678525e-01,  4.72075033e-01,  3.46593438e-01, -1.54011655e-01,\n",
       "        5.69432685e-01,  2.42449288e-01, -3.37470324e-02,  3.47602309e-01,\n",
       "        5.50275167e-01,  8.07253974e-02,  3.15475905e-01,  6.11767181e-02,\n",
       "        3.34535894e-02, -7.33594160e-02, -1.12946983e-01,  3.03065416e-01,\n",
       "       -2.88330692e-02,  5.89248325e-03,  2.54087495e-01,  6.90436342e-01,\n",
       "        8.16437816e-01,  6.13717577e-01,  6.63999597e-01, -1.63747183e-02,\n",
       "        2.68326393e-01,  3.37025185e-01,  2.23616180e-01,  2.15017996e-01,\n",
       "        3.08547628e-01, -1.06558366e-01,  5.63531097e-01,  1.98735600e-01,\n",
       "        4.09682318e-01,  1.05233156e-01,  6.67351564e-01,  9.82870751e-01,\n",
       "        3.06501693e-01,  3.73773431e-01,  4.32641497e-01,  1.74075573e-01,\n",
       "       -6.41460824e-02,  4.05255089e-01,  3.65375878e-01,  2.79768806e-01,\n",
       "        4.68523915e-01,  3.57768142e-01,  1.63550609e-01,  4.15214299e-02])"
      ]
     },
     "execution_count": 147,
     "metadata": {},
     "output_type": "execute_result"
    }
   ],
   "source": [
    "differenceInWeights.ravel()"
   ]
  },
  {
   "cell_type": "markdown",
   "metadata": {
    "collapsed": true
   },
   "source": [
    "**Here, as you can see that the differnce in the weight vectors prior and after adding noise is high. It means that features are collinear, hence we cannot use weight vectors as feature importance.**\n",
    "**Since word to vec generates vectors for words which are dependent on each other owing to their similarity of preserving sementic meaning between similar words. Therefore, features in word 2 vec are collinear**"
   ]
  },
  {
   "cell_type": "markdown",
   "metadata": {},
   "source": [
    "## TFIDF-W2V"
   ]
  },
  {
   "cell_type": "code",
   "execution_count": 148,
   "metadata": {
    "collapsed": true
   },
   "outputs": [],
   "source": [
    "tfidf_vect = TfidfVectorizer(ngram_range = (1,2))\n",
    "tfidf = tfidf_vect.fit_transform(Data[\"ProcessedText\"].values)"
   ]
  },
  {
   "cell_type": "code",
   "execution_count": 149,
   "metadata": {
    "collapsed": true
   },
   "outputs": [],
   "source": [
    "w2v_Model = gensim.models.Word2Vec(listOfSentences, size=300, min_count=5, workers=4)"
   ]
  },
  {
   "cell_type": "code",
   "execution_count": 150,
   "metadata": {},
   "outputs": [
    {
     "name": "stdout",
     "output_type": "stream",
     "text": [
      "(5000, 141225)\n",
      "<class 'scipy.sparse.csr.csr_matrix'>\n"
     ]
    }
   ],
   "source": [
    "print(tfidf.shape)\n",
    "print(type(tfidf))"
   ]
  },
  {
   "cell_type": "code",
   "execution_count": 151,
   "metadata": {
    "collapsed": true
   },
   "outputs": [],
   "source": [
    "# TF-IDF weighted Word2Vec\n",
    "tfidf_features = tfidf_vect.get_feature_names()\n",
    "\n",
    "tfidf_w2v = []\n",
    "reviews = 0\n",
    "\n",
    "for sentence in listOfSentences:\n",
    "    sentenceVector = np.zeros(300)\n",
    "    weightTfidfSum = 0\n",
    "    for word in sentence:\n",
    "        try:\n",
    "            W2V_Vector = w2v_Model.wv[word]\n",
    "            tfidfVector = tfidf[reviews, tfidf_features.index(word)]\n",
    "            sentenceVector += (W2V_Vector * tfidfVector)\n",
    "            weightTfidfSum += tfidfVector\n",
    "        except:\n",
    "            pass\n",
    "    sentenceVector /= weightTfidfSum\n",
    "    tfidf_w2v.append(sentenceVector)\n",
    "    reviews += 1"
   ]
  },
  {
   "cell_type": "code",
   "execution_count": 152,
   "metadata": {},
   "outputs": [
    {
     "name": "stdout",
     "output_type": "stream",
     "text": [
      "(5000, 300)\n",
      "<class 'numpy.ndarray'>\n"
     ]
    }
   ],
   "source": [
    "standardized_tfidf_w2v = StandardScaler().fit_transform(tfidf_w2v)\n",
    "print(standardized_tfidf_w2v.shape)\n",
    "print(type(standardized_tfidf_w2v))"
   ]
  },
  {
   "cell_type": "markdown",
   "metadata": {
    "collapsed": true
   },
   "source": [
    "### Task 1. Split train and test data in a ratio of 80:20. "
   ]
  },
  {
   "cell_type": "code",
   "execution_count": 154,
   "metadata": {
    "collapsed": true
   },
   "outputs": [],
   "source": [
    "train_tfidf_w2v, test_tfidf_w2v, train_labels_tfidf_w2v, test_labels_tfidf_w2v = train_test_split(standardized_tfidf_w2v, FinalSortedPositiveNegativeScore_5000, test_size = 0.2, random_state = 0)"
   ]
  },
  {
   "cell_type": "markdown",
   "metadata": {
    "collapsed": true
   },
   "source": [
    "### Task 2. Perform GridSearch Cross Validation and Random Search Cross Validation to find optimal Value of λ."
   ]
  },
  {
   "cell_type": "markdown",
   "metadata": {},
   "source": [
    "#### Grid Search"
   ]
  },
  {
   "cell_type": "code",
   "execution_count": 158,
   "metadata": {},
   "outputs": [
    {
     "name": "stdout",
     "output_type": "stream",
     "text": [
      "LogisticRegression(C=100, class_weight=None, dual=False, fit_intercept=True,\n",
      "          intercept_scaling=1, max_iter=100, multi_class='ovr', n_jobs=1,\n",
      "          penalty='l2', random_state=None, solver='liblinear', tol=0.0001,\n",
      "          verbose=0, warm_start=False)\n"
     ]
    }
   ],
   "source": [
    "clf = LogisticRegression()\n",
    "\n",
    "hyper_parameters = [{'C': [10**-3, 10**-2, 10**-1, 10**0, 2, 4, 6, 8, 10**1, 50, 10**2, 500, 10**3]}]\n",
    "bestCV = GridSearchCV(clf, hyper_parameters, scoring = \"accuracy\", cv = 5)\n",
    "bestCV.fit(train_tfidf_w2v, train_labels_tfidf_w2v)\n",
    "\n",
    "print(bestCV.best_estimator_)"
   ]
  },
  {
   "cell_type": "code",
   "execution_count": 159,
   "metadata": {},
   "outputs": [
    {
     "data": {
      "text/plain": [
       "100"
      ]
     },
     "execution_count": 159,
     "metadata": {},
     "output_type": "execute_result"
    }
   ],
   "source": [
    "best_parameter = bestCV.best_params_ \n",
    "best_parameter[\"C\"]"
   ]
  },
  {
   "cell_type": "code",
   "execution_count": 160,
   "metadata": {
    "collapsed": true
   },
   "outputs": [],
   "source": [
    "scoreData = bestCV.grid_scores_"
   ]
  },
  {
   "cell_type": "code",
   "execution_count": 161,
   "metadata": {},
   "outputs": [
    {
     "data": {
      "text/plain": [
       "[mean: 0.71625, std: 0.00749, params: {'C': 0.001},\n",
       " mean: 0.74875, std: 0.01448, params: {'C': 0.01},\n",
       " mean: 0.77125, std: 0.02277, params: {'C': 0.1},\n",
       " mean: 0.78325, std: 0.02076, params: {'C': 1},\n",
       " mean: 0.78925, std: 0.01894, params: {'C': 2},\n",
       " mean: 0.79425, std: 0.02060, params: {'C': 4},\n",
       " mean: 0.79900, std: 0.02077, params: {'C': 6},\n",
       " mean: 0.80050, std: 0.02104, params: {'C': 8},\n",
       " mean: 0.80300, std: 0.01889, params: {'C': 10},\n",
       " mean: 0.81525, std: 0.01951, params: {'C': 50},\n",
       " mean: 0.81825, std: 0.01816, params: {'C': 100},\n",
       " mean: 0.81600, std: 0.02139, params: {'C': 500},\n",
       " mean: 0.81200, std: 0.02279, params: {'C': 1000}]"
      ]
     },
     "execution_count": 161,
     "metadata": {},
     "output_type": "execute_result"
    }
   ],
   "source": [
    "scoreData"
   ]
  },
  {
   "cell_type": "code",
   "execution_count": 162,
   "metadata": {},
   "outputs": [
    {
     "data": {
      "image/png": "[encoded data removed]",
      "text/plain": [
       "<matplotlib.figure.Figure at 0x63541392e8>"
      ]
     },
     "metadata": {},
     "output_type": "display_data"
    }
   ],
   "source": [
    "error = []\n",
    "parameter = []\n",
    "for i in range(len(scoreData)):\n",
    "    error.append(1 - scoreData[i][1])\n",
    "    parameter.append(scoreData[i][0][\"C\"])\n",
    "    \n",
    "plot.plot(parameter, np.round(error, 4))\n",
    "plot.xlabel(\"Parameter 'c'\")\n",
    "plot.ylabel(\"Error\")\n",
    "\n",
    "error1 = []\n",
    "for e in error:\n",
    "    error1.append(np.round(e,3))\n",
    "    \n",
    "parameter1 = []\n",
    "for p in parameter:\n",
    "    parameter1.append(np.round(p,3))\n",
    "\n",
    "for xy in zip(parameter1, error1):\n",
    "    plot.annotate(xy,xy)\n",
    "\n",
    "plot.show()"
   ]
  },
  {
   "cell_type": "markdown",
   "metadata": {},
   "source": [
    "#### Random Search"
   ]
  },
  {
   "cell_type": "code",
   "execution_count": 168,
   "metadata": {
    "collapsed": true
   },
   "outputs": [],
   "source": [
    "n = list(np.random.normal(loc=100, scale=40, size = 500))  #taking 500 numbers which are distributed normally with mean = 100\n",
    "                                                            #and std-dev = 40"
   ]
  },
  {
   "cell_type": "code",
   "execution_count": 170,
   "metadata": {},
   "outputs": [
    {
     "name": "stdout",
     "output_type": "stream",
     "text": [
      "LogisticRegression(C=107.56924891512601, class_weight=None, dual=False,\n",
      "          fit_intercept=True, intercept_scaling=1, max_iter=100,\n",
      "          multi_class='ovr', n_jobs=1, penalty='l2', random_state=None,\n",
      "          solver='liblinear', tol=0.0001, verbose=0, warm_start=False)\n"
     ]
    }
   ],
   "source": [
    "clf = LogisticRegression()\n",
    "\n",
    "hyper_parameters2 = {'C': n}\n",
    "\n",
    "bestCV_random = RandomizedSearchCV(clf, hyper_parameters2, scoring = \"accuracy\", cv = 3)\n",
    "\n",
    "bestCV_random.fit(train_tfidf_w2v, train_labels_tfidf_w2v)\n",
    "print(bestCV_random.best_estimator_)"
   ]
  },
  {
   "cell_type": "code",
   "execution_count": 171,
   "metadata": {},
   "outputs": [
    {
     "data": {
      "text/plain": [
       "107.56924891512601"
      ]
     },
     "execution_count": 171,
     "metadata": {},
     "output_type": "execute_result"
    }
   ],
   "source": [
    "best_random_parameter = bestCV_random.best_params_ \n",
    "best_random_parameter[\"C\"]"
   ]
  },
  {
   "cell_type": "code",
   "execution_count": 172,
   "metadata": {
    "collapsed": true
   },
   "outputs": [],
   "source": [
    "scoreRandomData = bestCV_random.grid_scores_"
   ]
  },
  {
   "cell_type": "code",
   "execution_count": 173,
   "metadata": {},
   "outputs": [
    {
     "data": {
      "text/plain": [
       "[mean: 0.81475, std: 0.01267, params: {'C': 105.79602841658702},\n",
       " mean: 0.81500, std: 0.01234, params: {'C': 106.03462308100598},\n",
       " mean: 0.81525, std: 0.01239, params: {'C': 107.56924891512601},\n",
       " mean: 0.81475, std: 0.01352, params: {'C': 117.66038469974445},\n",
       " mean: 0.81450, std: 0.01239, params: {'C': 138.8575850139698},\n",
       " mean: 0.81125, std: 0.01322, params: {'C': 75.54013058206478},\n",
       " mean: 0.81175, std: 0.01303, params: {'C': 73.26089309251445},\n",
       " mean: 0.81525, std: 0.01384, params: {'C': 124.6782235005891},\n",
       " mean: 0.81450, std: 0.01218, params: {'C': 193.7661208459057},\n",
       " mean: 0.81450, std: 0.01299, params: {'C': 167.489215456119}]"
      ]
     },
     "execution_count": 173,
     "metadata": {},
     "output_type": "execute_result"
    }
   ],
   "source": [
    "scoreRandomData"
   ]
  },
  {
   "cell_type": "code",
   "execution_count": 174,
   "metadata": {},
   "outputs": [
    {
     "data": {
      "image/png": "[encoded data removed]",
      "text/plain": [
       "<matplotlib.figure.Figure at 0x6354139b70>"
      ]
     },
     "metadata": {},
     "output_type": "display_data"
    }
   ],
   "source": [
    "error2 = []\n",
    "parameter2 = []\n",
    "for i in range(len(scoreRandomData)):\n",
    "    error2.append(1 - scoreRandomData[i][1])\n",
    "    parameter2.append(scoreRandomData[i][0][\"C\"])  \n",
    "\n",
    "plot.plot(parameter2, error2)\n",
    "plot.xlabel(\"Parameter 'c'\")\n",
    "plot.ylabel(\"Error\")\n",
    "\n",
    "error3 = []\n",
    "for e in error2:\n",
    "    error3.append(np.round(e,3))\n",
    "    \n",
    "parameter3 = []\n",
    "for p in parameter2:\n",
    "    parameter3.append(np.round(p,3))\n",
    "\n",
    "for xy in zip(parameter3, error3):\n",
    "        plot.annotate(xy,xy)\n",
    "\n",
    "plot.show()"
   ]
  },
  {
   "cell_type": "code",
   "execution_count": 175,
   "metadata": {},
   "outputs": [
    {
     "data": {
      "text/plain": [
       "103.78462445756301"
      ]
     },
     "execution_count": 175,
     "metadata": {},
     "output_type": "execute_result"
    }
   ],
   "source": [
    "# We are taking our hyper-parameter λ as the average of best λ computed from gridSearchCV and RandomSearchCV\n",
    "FinalHP = (best_parameter[\"C\"] + best_random_parameter[\"C\"]) / 2\n",
    "FinalHP"
   ]
  },
  {
   "cell_type": "markdown",
   "metadata": {
    "collapsed": true
   },
   "source": [
    "### Task 3. Apply Logistic Regression using both L1 and L2 regularizations and report accuracy."
   ]
  },
  {
   "cell_type": "markdown",
   "metadata": {},
   "source": [
    "#### Implementing L2 Regularization"
   ]
  },
  {
   "cell_type": "code",
   "execution_count": 176,
   "metadata": {},
   "outputs": [
    {
     "name": "stdout",
     "output_type": "stream",
     "text": [
      "Accuracy score on L2 regularization = 80.7%\n"
     ]
    }
   ],
   "source": [
    "model = LogisticRegression(penalty=\"l2\", C = FinalHP)\n",
    "\n",
    "model.fit(train_tfidf_w2v, train_labels_tfidf_w2v)\n",
    "\n",
    "prediction = model.predict(test_tfidf_w2v)\n",
    "\n",
    "AccuracyScore = accuracy_score(test_labels_tfidf_w2v, prediction) * 100\n",
    "\n",
    "print(\"Accuracy score on L2 regularization = \"+str(AccuracyScore)+\"%\")"
   ]
  },
  {
   "cell_type": "code",
   "execution_count": 179,
   "metadata": {},
   "outputs": [
    {
     "name": "stdout",
     "output_type": "stream",
     "text": [
      "Precision Score on L2 regularization = 0.8157349896480331\n"
     ]
    }
   ],
   "source": [
    "Precision = precision_score(test_labels_tfidf_w2v, prediction)\n",
    "print(\"Precision Score on L2 regularization = \"+str(Precision))"
   ]
  },
  {
   "cell_type": "code",
   "execution_count": 188,
   "metadata": {},
   "outputs": [
    {
     "name": "stdout",
     "output_type": "stream",
     "text": [
      "Recall Score on L2 regularization = 0.7911646586345381\n"
     ]
    }
   ],
   "source": [
    "Recall = recall_score(test_labels_tfidf_w2v, prediction)\n",
    "print(\"Recall Score on L2 regularization = \"+str(Recall))"
   ]
  },
  {
   "cell_type": "code",
   "execution_count": 189,
   "metadata": {},
   "outputs": [
    {
     "name": "stdout",
     "output_type": "stream",
     "text": [
      "Confusion Matrix on L2 regularization \n",
      "[[413  89]\n",
      " [104 394]]\n"
     ]
    }
   ],
   "source": [
    "Confusion_Matrix = confusion_matrix(test_labels_tfidf_w2v, prediction)\n",
    "print(\"Confusion Matrix on L2 regularization \\n\"+str(Confusion_Matrix))"
   ]
  },
  {
   "cell_type": "code",
   "execution_count": 187,
   "metadata": {},
   "outputs": [
    {
     "data": {
      "text/plain": [
       "(413, 89, 104, 394)"
      ]
     },
     "execution_count": 187,
     "metadata": {},
     "output_type": "execute_result"
    }
   ],
   "source": [
    "tn, fp, fn, tp = confusion_matrix(test_labels_tfidf_w2v, prediction).ravel()\n",
    "tn, fp, fn, tp"
   ]
  },
  {
   "cell_type": "markdown",
   "metadata": {},
   "source": [
    "#### Implementing L1 Regularization"
   ]
  },
  {
   "cell_type": "code",
   "execution_count": 191,
   "metadata": {},
   "outputs": [
    {
     "name": "stdout",
     "output_type": "stream",
     "text": [
      "Accuracy score on L1 regularization = 80.7%\n"
     ]
    }
   ],
   "source": [
    "model2 = LogisticRegression(penalty=\"l1\", C = FinalHP)\n",
    "\n",
    "model2.fit(train_tfidf_w2v, train_labels_tfidf_w2v)\n",
    "\n",
    "prediction2 = model2.predict(test_tfidf_w2v)\n",
    "\n",
    "AccuracyScore2 = accuracy_score(test_labels_tfidf_w2v, prediction2) * 100\n",
    "\n",
    "print(\"Accuracy score on L1 regularization = \"+str(AccuracyScore2)+\"%\")"
   ]
  },
  {
   "cell_type": "code",
   "execution_count": 192,
   "metadata": {},
   "outputs": [
    {
     "name": "stdout",
     "output_type": "stream",
     "text": [
      "Precision Score on L1 regularization = 0.8144329896907216\n"
     ]
    }
   ],
   "source": [
    "Precision2 = precision_score(test_labels_tfidf_w2v, prediction2)\n",
    "print(\"Precision Score on L1 regularization = \"+str(Precision2))"
   ]
  },
  {
   "cell_type": "code",
   "execution_count": 193,
   "metadata": {},
   "outputs": [
    {
     "name": "stdout",
     "output_type": "stream",
     "text": [
      "Precision Score on L1 regularization = 0.8144329896907216\n"
     ]
    }
   ],
   "source": [
    "Recall2 = recall_score(test_labels_tfidf_w2v, prediction2)\n",
    "print(\"Precision Score on L1 regularization = \"+str(Precision2))"
   ]
  },
  {
   "cell_type": "code",
   "execution_count": 194,
   "metadata": {},
   "outputs": [
    {
     "name": "stdout",
     "output_type": "stream",
     "text": [
      "Confusion Matrix on L1 regularization \n",
      "[[412  90]\n",
      " [103 395]]\n"
     ]
    }
   ],
   "source": [
    "Confusion_Matrix2 = confusion_matrix(test_labels_tfidf_w2v, prediction2)\n",
    "print(\"Confusion Matrix on L1 regularization \\n\"+str(Confusion_Matrix2))"
   ]
  },
  {
   "cell_type": "code",
   "execution_count": 195,
   "metadata": {},
   "outputs": [
    {
     "data": {
      "text/plain": [
       "(412, 90, 103, 395)"
      ]
     },
     "execution_count": 195,
     "metadata": {},
     "output_type": "execute_result"
    }
   ],
   "source": [
    "tn, fp, fn, tp = confusion_matrix(test_labels_tfidf_w2v, prediction2).ravel()\n",
    "tn, fp, fn, tp"
   ]
  },
  {
   "cell_type": "markdown",
   "metadata": {
    "collapsed": true
   },
   "source": [
    "### Task 4. Use L1 regularization for different values of λ and report error and sparsity for each value of λ."
   ]
  },
  {
   "cell_type": "code",
   "execution_count": 196,
   "metadata": {},
   "outputs": [
    {
     "name": "stdout",
     "output_type": "stream",
     "text": [
      "Number of non-zero for λ value of 0.0001 = 300\n",
      "Error for λ value of 0.0001 = 0.18799999999999994\n"
     ]
    }
   ],
   "source": [
    "model3 = LogisticRegression(penalty=\"l1\", C = 10000)\n",
    "\n",
    "model3.fit(train_tfidf_w2v, train_labels_tfidf_w2v)\n",
    "\n",
    "accuracyScore_10000 = model3.score(test_tfidf_w2v, test_labels_tfidf_w2v)\n",
    "\n",
    "error = 1 - accuracyScore_10000\n",
    "\n",
    "weightVector = model3.coef_\n",
    "\n",
    "print(\"Number of non-zero for λ value of 0.0001 = \"+str(np.count_nonzero(weightVector)))\n",
    "\n",
    "print(\"Error for λ value of 0.0001 = \"+str(error))"
   ]
  },
  {
   "cell_type": "code",
   "execution_count": 197,
   "metadata": {},
   "outputs": [
    {
     "name": "stdout",
     "output_type": "stream",
     "text": [
      "Number of non-zero for λ value of 0.0001 = 292\n",
      "Error for λ value of 0.01 = 0.19099999999999995\n"
     ]
    }
   ],
   "source": [
    "model3 = LogisticRegression(penalty=\"l1\", C = 100)\n",
    "\n",
    "model3.fit(train_tfidf_w2v, train_labels_tfidf_w2v)\n",
    "\n",
    "accuracyScore_10000 = model3.score(test_tfidf_w2v, test_labels_tfidf_w2v)\n",
    "\n",
    "error = 1 - accuracyScore_10000\n",
    "\n",
    "weightVector = model3.coef_\n",
    "\n",
    "print(\"Number of non-zero for λ value of 0.01 = \"+str(np.count_nonzero(weightVector)))\n",
    "\n",
    "print(\"Error for λ value of 0.01 = \"+str(error))"
   ]
  },
  {
   "cell_type": "code",
   "execution_count": 198,
   "metadata": {},
   "outputs": [
    {
     "name": "stdout",
     "output_type": "stream",
     "text": [
      "Number of non-zero for λ value of 0.0001 = 85\n",
      "Error for λ value of 1 = 0.21799999999999997\n"
     ]
    }
   ],
   "source": [
    "model3 = LogisticRegression(penalty=\"l1\", C = 1)\n",
    "\n",
    "model3.fit(train_tfidf_w2v, train_labels_tfidf_w2v)\n",
    "\n",
    "accuracyScore_10000 = model3.score(test_tfidf_w2v, test_labels_tfidf_w2v)\n",
    "\n",
    "error = 1 - accuracyScore_10000\n",
    "\n",
    "weightVector = model3.coef_\n",
    "\n",
    "print(\"Number of non-zero for λ value of 1 = \"+str(np.count_nonzero(weightVector)))\n",
    "\n",
    "print(\"Error for λ value of 1 = \"+str(error))"
   ]
  },
  {
   "cell_type": "code",
   "execution_count": 199,
   "metadata": {},
   "outputs": [
    {
     "name": "stdout",
     "output_type": "stream",
     "text": [
      "Number of non-zero for λ value of 0.0001 = 0\n",
      "Error for λ value of 1000 = 0.498\n"
     ]
    }
   ],
   "source": [
    "model3 = LogisticRegression(penalty=\"l1\", C = 10**-3)\n",
    "\n",
    "model3.fit(train_tfidf_w2v, train_labels_tfidf_w2v)\n",
    "\n",
    "accuracyScore_10000 = model3.score(test_tfidf_w2v, test_labels_tfidf_w2v)\n",
    "\n",
    "error = 1 - accuracyScore_10000\n",
    "\n",
    "weightVector = model3.coef_\n",
    "\n",
    "print(\"Number of non-zero for λ value of 1000 = \"+str(np.count_nonzero(weightVector)))\n",
    "\n",
    "print(\"Error for λ value of 1000 = \"+str(error))"
   ]
  },
  {
   "cell_type": "markdown",
   "metadata": {
    "collapsed": true
   },
   "source": [
    "### Task 5. Check for multi-collinearity of features and find top-10 most important features"
   ]
  },
  {
   "cell_type": "code",
   "execution_count": 200,
   "metadata": {
    "collapsed": true
   },
   "outputs": [],
   "source": [
    "# computing weight vector prior to adding noise in out data\n",
    "model4 = LogisticRegression(penalty=\"l2\", C = FinalHP)\n",
    "\n",
    "model4.fit(train_tfidf_w2v, train_labels_tfidf_w2v)\n",
    "\n",
    "weightVector1 = model4.coef_"
   ]
  },
  {
   "cell_type": "code",
   "execution_count": 202,
   "metadata": {},
   "outputs": [
    {
     "name": "stdout",
     "output_type": "stream",
     "text": [
      "0.02300070878465929\n",
      "(4000, 300)\n"
     ]
    }
   ],
   "source": [
    "noise = np.random.normal(loc=0.1, scale=0.1) # generating random positive number from normal distribution\n",
    "noise_matrix = np.full((4000, 300), noise) # generating matrix of size 4000 * 300 where every number in matrix is 'noise' \n",
    "dataWithNoise_tfidf_AvgW2V = noise_matrix + train_tfidf_w2v # adding noise to training data fro pertubation test\n",
    "\n",
    "print(noise)\n",
    "print(dataWithNoise_tfidf_AvgW2V.shape)"
   ]
  },
  {
   "cell_type": "code",
   "execution_count": 203,
   "metadata": {
    "collapsed": true
   },
   "outputs": [],
   "source": [
    "# computing weight vector after adding noise in out data\n",
    "model5 = LogisticRegression(penalty=\"l2\", C = FinalHP)\n",
    "\n",
    "model5.fit(dataWithNoise_tfidf_AvgW2V, train_labels_tfidf_w2v)\n",
    "\n",
    "weightVector2 = model5.coef_"
   ]
  },
  {
   "cell_type": "code",
   "execution_count": 204,
   "metadata": {},
   "outputs": [
    {
     "data": {
      "text/plain": [
       "array([-1.29288568e-02,  7.05277795e-03, -1.42343271e-03,  7.95322385e-03,\n",
       "       -1.16889928e-02,  5.90871933e-03, -6.26136071e-03, -9.31689173e-03,\n",
       "        1.33540254e-03, -5.96326251e-03,  6.90715865e-03, -3.68980884e-03,\n",
       "        4.37822680e-02,  1.71258714e-02,  1.63797423e-02,  9.53680248e-03,\n",
       "        2.97579528e-02,  9.21537063e-03,  8.74318400e-04,  2.27536772e-02,\n",
       "        1.24565633e-02,  6.22320722e-03,  8.98027940e-03,  3.39631451e-02,\n",
       "       -8.69922080e-03, -9.38652612e-03,  7.88057618e-03, -1.80001347e-02,\n",
       "        9.52894852e-03,  1.67691780e-03, -2.23035889e-02,  4.44436800e-02,\n",
       "        1.04282626e-02,  1.67814503e-02,  2.65462036e-02,  2.49449828e-02,\n",
       "        7.46989681e-03,  1.46980704e-02,  3.44653723e-02,  1.17297600e-02,\n",
       "       -3.59700228e-03,  1.89764839e-02, -7.86729323e-03, -4.28927479e-03,\n",
       "        1.27985915e-02,  1.54100148e-02,  1.46615161e-02,  2.50155434e-02,\n",
       "        4.39080479e-02, -6.89995646e-03,  7.89254100e-04,  1.89435706e-02,\n",
       "        1.37793028e-02,  2.69557685e-02,  2.01593807e-02,  3.30413386e-02,\n",
       "        2.20252252e-03,  5.78021432e-05,  2.00581838e-02,  2.94766449e-02,\n",
       "        9.59486874e-03,  1.98451434e-02,  2.41118813e-02,  2.69028426e-02,\n",
       "        1.75097725e-02,  1.48005297e-02,  1.76063979e-02,  2.52302641e-02,\n",
       "        8.60402641e-03, -3.72362313e-02,  2.76334107e-02,  2.53467129e-02,\n",
       "        2.79811449e-02,  1.52795109e-02,  2.31202846e-02,  3.43281479e-02,\n",
       "        3.57026673e-02,  1.89714313e-02,  6.16142014e-03,  2.56034684e-03,\n",
       "        4.27175817e-02,  4.28640429e-03,  3.48918707e-02, -2.21128580e-03,\n",
       "        7.79310586e-03, -8.09082661e-03,  1.03958875e-03,  1.14192952e-02,\n",
       "       -1.74228144e-03, -6.72781671e-03,  2.42709449e-03,  3.34218822e-02,\n",
       "        4.58764657e-02, -4.47550726e-03,  1.22148027e-02,  4.08199037e-02,\n",
       "       -1.09994975e-02, -5.44970413e-03,  1.76397208e-02,  3.18352971e-02,\n",
       "        3.68297402e-03,  5.50001594e-03,  1.25791441e-02,  8.66721677e-03,\n",
       "        6.41165524e-04,  3.52191406e-03,  1.15536786e-02, -4.42487278e-03,\n",
       "       -2.44744001e-03,  8.83058879e-03,  2.04647997e-02,  2.77297122e-02,\n",
       "        2.10541433e-02,  1.47236151e-02,  2.05876896e-02,  3.45681104e-02,\n",
       "        2.45070403e-02,  3.49042063e-02,  2.74687251e-02, -7.62727467e-03,\n",
       "       -1.50394138e-02,  5.09583659e-03,  1.50386606e-03,  2.54651849e-02,\n",
       "       -9.14386708e-04,  2.04366963e-02, -3.74593228e-03,  2.37375830e-02,\n",
       "        7.00176793e-03, -7.94990824e-03,  9.30414135e-03,  1.25059876e-02,\n",
       "        1.82125249e-02,  1.40370479e-03,  3.32188113e-02,  7.41891723e-03,\n",
       "        7.90949350e-03,  1.69666236e-02,  7.19428450e-03,  1.10829523e-02,\n",
       "        4.30086144e-03, -4.26823843e-03,  2.36707200e-02, -3.54514201e-03,\n",
       "       -7.36973871e-04, -1.47893098e-03,  2.67653271e-02, -4.82599562e-04,\n",
       "        2.07336855e-03,  7.20284339e-03,  2.69721139e-02,  1.15745577e-02,\n",
       "        2.64788389e-02,  1.96452302e-03, -9.75064695e-04,  2.39540152e-02,\n",
       "        3.00248281e-02,  4.35006866e-03,  2.86924479e-05,  1.69789897e-02,\n",
       "       -3.18299133e-03,  4.37864797e-02,  1.91727608e-02,  3.11715949e-03,\n",
       "        7.50710607e-03,  2.69576940e-03,  1.32698988e-02,  4.71260076e-03,\n",
       "        1.29500018e-02, -1.08379866e-02,  1.49851571e-02,  1.41275614e-03,\n",
       "       -2.22084554e-03, -1.89911698e-02,  4.03563058e-02,  4.40112532e-02,\n",
       "        2.89244558e-02,  6.79338767e-04,  1.22537447e-02,  1.90237065e-02,\n",
       "        3.29933441e-02,  7.09342272e-04, -7.18983067e-03,  1.39917504e-02,\n",
       "        2.26315691e-02, -2.35455597e-02,  1.42681828e-02,  2.38999577e-03,\n",
       "       -2.62687828e-03,  2.86301355e-02,  4.39345616e-03,  1.78175563e-02,\n",
       "       -2.38391680e-02, -2.22888031e-02, -9.03474122e-03,  1.69955888e-02,\n",
       "       -8.63809845e-03,  1.20604640e-02,  1.65870950e-02,  2.26401444e-02,\n",
       "        5.48320031e-03,  1.05104456e-02,  1.45774871e-02, -5.22714896e-03,\n",
       "        3.66872573e-02,  3.29730924e-02,  3.55197654e-02, -7.82809862e-04,\n",
       "        2.37766482e-02,  3.47782804e-02,  2.63046155e-02,  2.64243203e-03,\n",
       "        3.91315329e-02,  6.79380420e-03,  8.13766531e-03,  2.67886226e-02,\n",
       "        3.44584033e-02, -1.45107355e-03,  1.58441048e-02,  1.34140813e-02,\n",
       "        2.48469657e-02,  1.39581086e-03,  3.96359961e-02,  6.33467028e-02,\n",
       "       -2.35697745e-03,  1.12049581e-02,  4.23534138e-03,  1.18595201e-03,\n",
       "        3.49489466e-02, -3.85972210e-03,  2.19280836e-02, -1.01796036e-02,\n",
       "        3.42379426e-03,  6.33040974e-03,  3.33812137e-03, -1.53450058e-02,\n",
       "       -1.50509670e-02,  5.34299687e-03, -1.90178296e-02,  2.98581962e-02,\n",
       "        8.66443158e-03,  2.26125595e-02,  3.32108769e-02,  8.68890498e-03,\n",
       "        5.21294282e-02,  9.44983688e-04,  6.32327061e-03,  7.01957867e-03,\n",
       "        5.29718837e-03,  4.30849944e-02, -2.88021517e-03,  3.95739857e-03,\n",
       "        1.54274143e-02,  2.29668525e-02,  2.34616817e-02,  3.50075985e-02,\n",
       "        2.08920100e-02,  8.10276761e-03,  2.34019137e-02,  2.99366472e-02,\n",
       "        1.86114426e-02,  3.44886199e-02,  1.99063303e-02, -1.88186501e-02,\n",
       "       -8.07823638e-03,  8.39836538e-03,  1.92440120e-02,  2.29446310e-02,\n",
       "        1.78121544e-02,  1.40858703e-02,  6.81572286e-04,  1.93565151e-02,\n",
       "        1.86555689e-02,  1.08613608e-02,  2.56613710e-02, -7.10438671e-03,\n",
       "       -4.56741674e-03, -1.82289501e-03, -4.38715820e-03,  1.73233933e-02,\n",
       "       -1.77129238e-02,  3.09385956e-02,  7.32300567e-03,  1.61863662e-02,\n",
       "        1.62363847e-02, -1.26858917e-02, -3.46642531e-03,  1.45849349e-02,\n",
       "        6.42539473e-03,  1.65615186e-02,  1.08547807e-02, -8.76500504e-03,\n",
       "        1.61640498e-02, -4.48148748e-03, -1.71698476e-02,  3.84135142e-02,\n",
       "       -1.43176288e-02,  1.02955205e-02,  1.60826714e-02,  3.94640406e-02])"
      ]
     },
     "execution_count": 204,
     "metadata": {},
     "output_type": "execute_result"
    }
   ],
   "source": [
    "differenceWeights = weightVector1 - weightVector2\n",
    "differenceWeights.ravel()"
   ]
  },
  {
   "cell_type": "markdown",
   "metadata": {
    "collapsed": true
   },
   "source": [
    "**Here, as you can see that the differnce in the weight vectors prior and after adding noise is high. It means that features are collinear, hence we cannot use weight vectors as feature importance. Since word to vec generates vectors for words which are dependent on each other owing to their similarity of preserving sementic meaning between similar words. Therefore, features in word 2 vec are collinear**"
   ]
  },
  {
   "cell_type": "markdown",
   "metadata": {},
   "source": [
    "## GloVe"
   ]
  },
  {
   "cell_type": "code",
   "execution_count": 205,
   "metadata": {
    "collapsed": true
   },
   "outputs": [],
   "source": [
    "def cleanhtml(sentence): #function to clean htmltags\n",
    "    cleanr = re.compile(\"<.*?>\")\n",
    "    cleantext = re.sub(cleanr, \" \", sentence)\n",
    "    return cleantext\n",
    "\n",
    "def cleanpunc(sentence): #function to clean the word of any punctuation or special characters\n",
    "    cleaned = re.sub(r'[?|!|\\'|\"|#]',r'',sentence)\n",
    "    cleaned = re.sub(r'[.|,|)|(|\\|/]',r' ',cleaned)\n",
    "    return  cleaned"
   ]
  },
  {
   "cell_type": "code",
   "execution_count": 206,
   "metadata": {
    "collapsed": true
   },
   "outputs": [],
   "source": [
    "#removing HTML tags and punctuation from our text\n",
    "\n",
    "i = 0\n",
    "final_string = []\n",
    "s = \"\"\n",
    "for sentence in data[\"Text\"].values:\n",
    "    filteredSentence = []\n",
    "    EachReviewText = \"\"\n",
    "    sentenceHTMLCleaned = cleanhtml(sentence)\n",
    "    for eachWord in sentenceHTMLCleaned.split():\n",
    "        for sentencePunctCleaned in cleanpunc(eachWord).split():\n",
    "            if((sentencePunctCleaned.isalpha()) & (len(sentencePunctCleaned)>2)):\n",
    "                sentenceLower = sentencePunctCleaned.lower()\n",
    "                filteredSentence.append(sentenceLower)\n",
    "                     \n",
    "    EachReviewText = ' '.join(filteredSentence)\n",
    "    final_string.append(EachReviewText)"
   ]
  },
  {
   "cell_type": "code",
   "execution_count": 207,
   "metadata": {
    "collapsed": true
   },
   "outputs": [],
   "source": [
    "data[\"ProcessedText2\"] = final_string"
   ]
  },
  {
   "cell_type": "code",
   "execution_count": 208,
   "metadata": {},
   "outputs": [
    {
     "data": {
      "text/html": [
       "<div>\n",
       "<style>\n",
       "    .dataframe thead tr:only-child th {\n",
       "        text-align: right;\n",
       "    }\n",
       "\n",
       "    .dataframe thead th {\n",
       "        text-align: left;\n",
       "    }\n",
       "\n",
       "    .dataframe tbody tr th {\n",
       "        vertical-align: top;\n",
       "    }\n",
       "</style>\n",
       "<table border=\"1\" class=\"dataframe\">\n",
       "  <thead>\n",
       "    <tr style=\"text-align: right;\">\n",
       "      <th></th>\n",
       "      <th>index</th>\n",
       "      <th>Id</th>\n",
       "      <th>ProductId</th>\n",
       "      <th>UserId</th>\n",
       "      <th>ProfileName</th>\n",
       "      <th>HelpfulnessNumerator</th>\n",
       "      <th>HelpfulnessDenominator</th>\n",
       "      <th>Score</th>\n",
       "      <th>Time</th>\n",
       "      <th>Summary</th>\n",
       "      <th>Text</th>\n",
       "      <th>ProcessedText</th>\n",
       "      <th>ProcessedText2</th>\n",
       "    </tr>\n",
       "  </thead>\n",
       "  <tbody>\n",
       "    <tr>\n",
       "      <th>0</th>\n",
       "      <td>0</td>\n",
       "      <td>1</td>\n",
       "      <td>B001E4KFG0</td>\n",
       "      <td>A3SGXH7AUHU8GW</td>\n",
       "      <td>delmartian</td>\n",
       "      <td>1</td>\n",
       "      <td>1</td>\n",
       "      <td>1</td>\n",
       "      <td>1303862400</td>\n",
       "      <td>Good Quality Dog Food</td>\n",
       "      <td>I have bought several of the Vitality canned d...</td>\n",
       "      <td>have bought sever the vital can dog food produ...</td>\n",
       "      <td>have bought several the vitality canned dog fo...</td>\n",
       "    </tr>\n",
       "    <tr>\n",
       "      <th>1</th>\n",
       "      <td>1</td>\n",
       "      <td>2</td>\n",
       "      <td>B00813GRG4</td>\n",
       "      <td>A1D87F6ZCVE5NK</td>\n",
       "      <td>dll pa</td>\n",
       "      <td>0</td>\n",
       "      <td>0</td>\n",
       "      <td>-1</td>\n",
       "      <td>1346976000</td>\n",
       "      <td>Not as Advertised</td>\n",
       "      <td>Product arrived labeled as Jumbo Salted Peanut...</td>\n",
       "      <td>product arriv label jumbo salt peanut the pean...</td>\n",
       "      <td>product arrived labeled jumbo salted peanuts t...</td>\n",
       "    </tr>\n",
       "    <tr>\n",
       "      <th>2</th>\n",
       "      <td>2</td>\n",
       "      <td>3</td>\n",
       "      <td>B000LQOCH0</td>\n",
       "      <td>ABXLMWJIXXAIN</td>\n",
       "      <td>Natalia Corres \"Natalia Corres\"</td>\n",
       "      <td>1</td>\n",
       "      <td>1</td>\n",
       "      <td>1</td>\n",
       "      <td>1219017600</td>\n",
       "      <td>\"Delight\" says it all</td>\n",
       "      <td>This is a confection that has been around a fe...</td>\n",
       "      <td>this confect that has been around few centuri ...</td>\n",
       "      <td>this confection that has been around few centu...</td>\n",
       "    </tr>\n",
       "    <tr>\n",
       "      <th>3</th>\n",
       "      <td>4</td>\n",
       "      <td>5</td>\n",
       "      <td>B006K2ZZ7K</td>\n",
       "      <td>A1UQRSCLF8GW1T</td>\n",
       "      <td>Michael D. Bigham \"M. Wassir\"</td>\n",
       "      <td>0</td>\n",
       "      <td>0</td>\n",
       "      <td>1</td>\n",
       "      <td>1350777600</td>\n",
       "      <td>Great taffy</td>\n",
       "      <td>Great taffy at a great price.  There was a wid...</td>\n",
       "      <td>great taffi great price there was wide assort ...</td>\n",
       "      <td>great taffy great price there was wide assortm...</td>\n",
       "    </tr>\n",
       "    <tr>\n",
       "      <th>4</th>\n",
       "      <td>5</td>\n",
       "      <td>6</td>\n",
       "      <td>B006K2ZZ7K</td>\n",
       "      <td>ADT0SRK1MGOEU</td>\n",
       "      <td>Twoapennything</td>\n",
       "      <td>0</td>\n",
       "      <td>0</td>\n",
       "      <td>1</td>\n",
       "      <td>1342051200</td>\n",
       "      <td>Nice Taffy</td>\n",
       "      <td>I got a wild hair for taffy and ordered this f...</td>\n",
       "      <td>got wild hair for taffi and order this five po...</td>\n",
       "      <td>got wild hair for taffy and ordered this five ...</td>\n",
       "    </tr>\n",
       "  </tbody>\n",
       "</table>\n",
       "</div>"
      ],
      "text/plain": [
       "   index  Id   ProductId          UserId                      ProfileName  \\\n",
       "0      0   1  B001E4KFG0  A3SGXH7AUHU8GW                       delmartian   \n",
       "1      1   2  B00813GRG4  A1D87F6ZCVE5NK                           dll pa   \n",
       "2      2   3  B000LQOCH0   ABXLMWJIXXAIN  Natalia Corres \"Natalia Corres\"   \n",
       "3      4   5  B006K2ZZ7K  A1UQRSCLF8GW1T    Michael D. Bigham \"M. Wassir\"   \n",
       "4      5   6  B006K2ZZ7K   ADT0SRK1MGOEU                   Twoapennything   \n",
       "\n",
       "   HelpfulnessNumerator  HelpfulnessDenominator  Score        Time  \\\n",
       "0                     1                       1      1  1303862400   \n",
       "1                     0                       0     -1  1346976000   \n",
       "2                     1                       1      1  1219017600   \n",
       "3                     0                       0      1  1350777600   \n",
       "4                     0                       0      1  1342051200   \n",
       "\n",
       "                 Summary                                               Text  \\\n",
       "0  Good Quality Dog Food  I have bought several of the Vitality canned d...   \n",
       "1      Not as Advertised  Product arrived labeled as Jumbo Salted Peanut...   \n",
       "2  \"Delight\" says it all  This is a confection that has been around a fe...   \n",
       "3            Great taffy  Great taffy at a great price.  There was a wid...   \n",
       "4             Nice Taffy  I got a wild hair for taffy and ordered this f...   \n",
       "\n",
       "                                       ProcessedText  \\\n",
       "0  have bought sever the vital can dog food produ...   \n",
       "1  product arriv label jumbo salt peanut the pean...   \n",
       "2  this confect that has been around few centuri ...   \n",
       "3  great taffi great price there was wide assort ...   \n",
       "4  got wild hair for taffi and order this five po...   \n",
       "\n",
       "                                      ProcessedText2  \n",
       "0  have bought several the vitality canned dog fo...  \n",
       "1  product arrived labeled jumbo salted peanuts t...  \n",
       "2  this confection that has been around few centu...  \n",
       "3  great taffy great price there was wide assortm...  \n",
       "4  got wild hair for taffy and ordered this five ...  "
      ]
     },
     "execution_count": 208,
     "metadata": {},
     "output_type": "execute_result"
    }
   ],
   "source": [
    "data.head()"
   ]
  },
  {
   "cell_type": "code",
   "execution_count": 209,
   "metadata": {
    "collapsed": true
   },
   "outputs": [],
   "source": [
    "allPositiveReviews2 = data[(data[\"Score\"] == 1)]"
   ]
  },
  {
   "cell_type": "code",
   "execution_count": 210,
   "metadata": {},
   "outputs": [
    {
     "data": {
      "text/plain": [
       "(307061, 13)"
      ]
     },
     "execution_count": 210,
     "metadata": {},
     "output_type": "execute_result"
    }
   ],
   "source": [
    "allPositiveReviews2.shape"
   ]
  },
  {
   "cell_type": "code",
   "execution_count": 211,
   "metadata": {
    "collapsed": true
   },
   "outputs": [],
   "source": [
    "positiveReviews2_500 = allPositiveReviews2[:500]"
   ]
  },
  {
   "cell_type": "code",
   "execution_count": 212,
   "metadata": {},
   "outputs": [
    {
     "data": {
      "text/plain": [
       "(500, 13)"
      ]
     },
     "execution_count": 212,
     "metadata": {},
     "output_type": "execute_result"
    }
   ],
   "source": [
    "positiveReviews2_500.shape"
   ]
  },
  {
   "cell_type": "code",
   "execution_count": 213,
   "metadata": {},
   "outputs": [
    {
     "data": {
      "text/html": [
       "<div>\n",
       "<style>\n",
       "    .dataframe thead tr:only-child th {\n",
       "        text-align: right;\n",
       "    }\n",
       "\n",
       "    .dataframe thead th {\n",
       "        text-align: left;\n",
       "    }\n",
       "\n",
       "    .dataframe tbody tr th {\n",
       "        vertical-align: top;\n",
       "    }\n",
       "</style>\n",
       "<table border=\"1\" class=\"dataframe\">\n",
       "  <thead>\n",
       "    <tr style=\"text-align: right;\">\n",
       "      <th></th>\n",
       "      <th>index</th>\n",
       "      <th>Id</th>\n",
       "      <th>ProductId</th>\n",
       "      <th>UserId</th>\n",
       "      <th>ProfileName</th>\n",
       "      <th>HelpfulnessNumerator</th>\n",
       "      <th>HelpfulnessDenominator</th>\n",
       "      <th>Score</th>\n",
       "      <th>Time</th>\n",
       "      <th>Summary</th>\n",
       "      <th>Text</th>\n",
       "      <th>ProcessedText</th>\n",
       "      <th>ProcessedText2</th>\n",
       "    </tr>\n",
       "  </thead>\n",
       "  <tbody>\n",
       "    <tr>\n",
       "      <th>0</th>\n",
       "      <td>0</td>\n",
       "      <td>1</td>\n",
       "      <td>B001E4KFG0</td>\n",
       "      <td>A3SGXH7AUHU8GW</td>\n",
       "      <td>delmartian</td>\n",
       "      <td>1</td>\n",
       "      <td>1</td>\n",
       "      <td>1</td>\n",
       "      <td>1303862400</td>\n",
       "      <td>Good Quality Dog Food</td>\n",
       "      <td>I have bought several of the Vitality canned d...</td>\n",
       "      <td>have bought sever the vital can dog food produ...</td>\n",
       "      <td>have bought several the vitality canned dog fo...</td>\n",
       "    </tr>\n",
       "    <tr>\n",
       "      <th>2</th>\n",
       "      <td>2</td>\n",
       "      <td>3</td>\n",
       "      <td>B000LQOCH0</td>\n",
       "      <td>ABXLMWJIXXAIN</td>\n",
       "      <td>Natalia Corres \"Natalia Corres\"</td>\n",
       "      <td>1</td>\n",
       "      <td>1</td>\n",
       "      <td>1</td>\n",
       "      <td>1219017600</td>\n",
       "      <td>\"Delight\" says it all</td>\n",
       "      <td>This is a confection that has been around a fe...</td>\n",
       "      <td>this confect that has been around few centuri ...</td>\n",
       "      <td>this confection that has been around few centu...</td>\n",
       "    </tr>\n",
       "    <tr>\n",
       "      <th>3</th>\n",
       "      <td>4</td>\n",
       "      <td>5</td>\n",
       "      <td>B006K2ZZ7K</td>\n",
       "      <td>A1UQRSCLF8GW1T</td>\n",
       "      <td>Michael D. Bigham \"M. Wassir\"</td>\n",
       "      <td>0</td>\n",
       "      <td>0</td>\n",
       "      <td>1</td>\n",
       "      <td>1350777600</td>\n",
       "      <td>Great taffy</td>\n",
       "      <td>Great taffy at a great price.  There was a wid...</td>\n",
       "      <td>great taffi great price there was wide assort ...</td>\n",
       "      <td>great taffy great price there was wide assortm...</td>\n",
       "    </tr>\n",
       "    <tr>\n",
       "      <th>4</th>\n",
       "      <td>5</td>\n",
       "      <td>6</td>\n",
       "      <td>B006K2ZZ7K</td>\n",
       "      <td>ADT0SRK1MGOEU</td>\n",
       "      <td>Twoapennything</td>\n",
       "      <td>0</td>\n",
       "      <td>0</td>\n",
       "      <td>1</td>\n",
       "      <td>1342051200</td>\n",
       "      <td>Nice Taffy</td>\n",
       "      <td>I got a wild hair for taffy and ordered this f...</td>\n",
       "      <td>got wild hair for taffi and order this five po...</td>\n",
       "      <td>got wild hair for taffy and ordered this five ...</td>\n",
       "    </tr>\n",
       "    <tr>\n",
       "      <th>5</th>\n",
       "      <td>6</td>\n",
       "      <td>7</td>\n",
       "      <td>B006K2ZZ7K</td>\n",
       "      <td>A1SP2KVKFXXRU1</td>\n",
       "      <td>David C. Sullivan</td>\n",
       "      <td>0</td>\n",
       "      <td>0</td>\n",
       "      <td>1</td>\n",
       "      <td>1340150400</td>\n",
       "      <td>Great!  Just as good as the expensive brands!</td>\n",
       "      <td>This saltwater taffy had great flavors and was...</td>\n",
       "      <td>this saltwat taffi had great flavor and was ve...</td>\n",
       "      <td>this saltwater taffy had great flavors and was...</td>\n",
       "    </tr>\n",
       "  </tbody>\n",
       "</table>\n",
       "</div>"
      ],
      "text/plain": [
       "   index  Id   ProductId          UserId                      ProfileName  \\\n",
       "0      0   1  B001E4KFG0  A3SGXH7AUHU8GW                       delmartian   \n",
       "2      2   3  B000LQOCH0   ABXLMWJIXXAIN  Natalia Corres \"Natalia Corres\"   \n",
       "3      4   5  B006K2ZZ7K  A1UQRSCLF8GW1T    Michael D. Bigham \"M. Wassir\"   \n",
       "4      5   6  B006K2ZZ7K   ADT0SRK1MGOEU                   Twoapennything   \n",
       "5      6   7  B006K2ZZ7K  A1SP2KVKFXXRU1                David C. Sullivan   \n",
       "\n",
       "   HelpfulnessNumerator  HelpfulnessDenominator  Score        Time  \\\n",
       "0                     1                       1      1  1303862400   \n",
       "2                     1                       1      1  1219017600   \n",
       "3                     0                       0      1  1350777600   \n",
       "4                     0                       0      1  1342051200   \n",
       "5                     0                       0      1  1340150400   \n",
       "\n",
       "                                         Summary  \\\n",
       "0                          Good Quality Dog Food   \n",
       "2                          \"Delight\" says it all   \n",
       "3                                    Great taffy   \n",
       "4                                     Nice Taffy   \n",
       "5  Great!  Just as good as the expensive brands!   \n",
       "\n",
       "                                                Text  \\\n",
       "0  I have bought several of the Vitality canned d...   \n",
       "2  This is a confection that has been around a fe...   \n",
       "3  Great taffy at a great price.  There was a wid...   \n",
       "4  I got a wild hair for taffy and ordered this f...   \n",
       "5  This saltwater taffy had great flavors and was...   \n",
       "\n",
       "                                       ProcessedText  \\\n",
       "0  have bought sever the vital can dog food produ...   \n",
       "2  this confect that has been around few centuri ...   \n",
       "3  great taffi great price there was wide assort ...   \n",
       "4  got wild hair for taffi and order this five po...   \n",
       "5  this saltwat taffi had great flavor and was ve...   \n",
       "\n",
       "                                      ProcessedText2  \n",
       "0  have bought several the vitality canned dog fo...  \n",
       "2  this confection that has been around few centu...  \n",
       "3  great taffy great price there was wide assortm...  \n",
       "4  got wild hair for taffy and ordered this five ...  \n",
       "5  this saltwater taffy had great flavors and was...  "
      ]
     },
     "execution_count": 213,
     "metadata": {},
     "output_type": "execute_result"
    }
   ],
   "source": [
    "positiveReviews2_500.head()"
   ]
  },
  {
   "cell_type": "code",
   "execution_count": 214,
   "metadata": {
    "collapsed": true
   },
   "outputs": [],
   "source": [
    "allNegativeReviews2 = data[(data[\"Score\"] == -1)]"
   ]
  },
  {
   "cell_type": "code",
   "execution_count": 215,
   "metadata": {},
   "outputs": [
    {
     "data": {
      "text/plain": [
       "(57110, 13)"
      ]
     },
     "execution_count": 215,
     "metadata": {},
     "output_type": "execute_result"
    }
   ],
   "source": [
    "allNegativeReviews2.shape"
   ]
  },
  {
   "cell_type": "code",
   "execution_count": 216,
   "metadata": {
    "collapsed": true
   },
   "outputs": [],
   "source": [
    "negativeReviews2_500 = allNegativeReviews2[:500]"
   ]
  },
  {
   "cell_type": "code",
   "execution_count": 217,
   "metadata": {},
   "outputs": [
    {
     "data": {
      "text/plain": [
       "(500, 13)"
      ]
     },
     "execution_count": 217,
     "metadata": {},
     "output_type": "execute_result"
    }
   ],
   "source": [
    "negativeReviews2_500.shape"
   ]
  },
  {
   "cell_type": "code",
   "execution_count": 218,
   "metadata": {},
   "outputs": [
    {
     "data": {
      "text/html": [
       "<div>\n",
       "<style>\n",
       "    .dataframe thead tr:only-child th {\n",
       "        text-align: right;\n",
       "    }\n",
       "\n",
       "    .dataframe thead th {\n",
       "        text-align: left;\n",
       "    }\n",
       "\n",
       "    .dataframe tbody tr th {\n",
       "        vertical-align: top;\n",
       "    }\n",
       "</style>\n",
       "<table border=\"1\" class=\"dataframe\">\n",
       "  <thead>\n",
       "    <tr style=\"text-align: right;\">\n",
       "      <th></th>\n",
       "      <th>index</th>\n",
       "      <th>Id</th>\n",
       "      <th>ProductId</th>\n",
       "      <th>UserId</th>\n",
       "      <th>ProfileName</th>\n",
       "      <th>HelpfulnessNumerator</th>\n",
       "      <th>HelpfulnessDenominator</th>\n",
       "      <th>Score</th>\n",
       "      <th>Time</th>\n",
       "      <th>Summary</th>\n",
       "      <th>Text</th>\n",
       "      <th>ProcessedText</th>\n",
       "      <th>ProcessedText2</th>\n",
       "    </tr>\n",
       "  </thead>\n",
       "  <tbody>\n",
       "    <tr>\n",
       "      <th>1</th>\n",
       "      <td>1</td>\n",
       "      <td>2</td>\n",
       "      <td>B00813GRG4</td>\n",
       "      <td>A1D87F6ZCVE5NK</td>\n",
       "      <td>dll pa</td>\n",
       "      <td>0</td>\n",
       "      <td>0</td>\n",
       "      <td>-1</td>\n",
       "      <td>1346976000</td>\n",
       "      <td>Not as Advertised</td>\n",
       "      <td>Product arrived labeled as Jumbo Salted Peanut...</td>\n",
       "      <td>product arriv label jumbo salt peanut the pean...</td>\n",
       "      <td>product arrived labeled jumbo salted peanuts t...</td>\n",
       "    </tr>\n",
       "    <tr>\n",
       "      <th>11</th>\n",
       "      <td>12</td>\n",
       "      <td>13</td>\n",
       "      <td>B0009XLVG0</td>\n",
       "      <td>A327PCT23YH90</td>\n",
       "      <td>LT</td>\n",
       "      <td>1</td>\n",
       "      <td>1</td>\n",
       "      <td>-1</td>\n",
       "      <td>1339545600</td>\n",
       "      <td>My Cats Are Not Fans of the New Food</td>\n",
       "      <td>My cats have been happily eating Felidae Plati...</td>\n",
       "      <td>cat have been happili eat felida platinum for ...</td>\n",
       "      <td>cats have been happily eating felidae platinum...</td>\n",
       "    </tr>\n",
       "    <tr>\n",
       "      <th>15</th>\n",
       "      <td>16</td>\n",
       "      <td>17</td>\n",
       "      <td>B001GVISJM</td>\n",
       "      <td>A3KLWF6WQ5BNYO</td>\n",
       "      <td>Erica Neathery</td>\n",
       "      <td>0</td>\n",
       "      <td>0</td>\n",
       "      <td>-1</td>\n",
       "      <td>1348099200</td>\n",
       "      <td>poor taste</td>\n",
       "      <td>I love eating them and they are good for watch...</td>\n",
       "      <td>love eat them and they are good for watch and ...</td>\n",
       "      <td>love eating them and they are good for watchin...</td>\n",
       "    </tr>\n",
       "    <tr>\n",
       "      <th>25</th>\n",
       "      <td>26</td>\n",
       "      <td>27</td>\n",
       "      <td>B001GVISJM</td>\n",
       "      <td>A3RXAU2N8KV45G</td>\n",
       "      <td>lady21</td>\n",
       "      <td>0</td>\n",
       "      <td>1</td>\n",
       "      <td>-1</td>\n",
       "      <td>1332633600</td>\n",
       "      <td>Nasty No flavor</td>\n",
       "      <td>The candy is just red , No flavor . Just  plan...</td>\n",
       "      <td>the candi just red flavor just plan and chewi ...</td>\n",
       "      <td>the candy just red flavor just plan and chewy ...</td>\n",
       "    </tr>\n",
       "    <tr>\n",
       "      <th>45</th>\n",
       "      <td>47</td>\n",
       "      <td>51</td>\n",
       "      <td>B001EO5QW8</td>\n",
       "      <td>A108P30XVUFKXY</td>\n",
       "      <td>Roberto A</td>\n",
       "      <td>0</td>\n",
       "      <td>7</td>\n",
       "      <td>-1</td>\n",
       "      <td>1203379200</td>\n",
       "      <td>Don't like it</td>\n",
       "      <td>This oatmeal is not good. Its mushy, soft, I d...</td>\n",
       "      <td>this oatmeal not good it mushi soft dont like ...</td>\n",
       "      <td>this oatmeal not good its mushy soft dont like...</td>\n",
       "    </tr>\n",
       "  </tbody>\n",
       "</table>\n",
       "</div>"
      ],
      "text/plain": [
       "    index  Id   ProductId          UserId     ProfileName  \\\n",
       "1       1   2  B00813GRG4  A1D87F6ZCVE5NK          dll pa   \n",
       "11     12  13  B0009XLVG0   A327PCT23YH90              LT   \n",
       "15     16  17  B001GVISJM  A3KLWF6WQ5BNYO  Erica Neathery   \n",
       "25     26  27  B001GVISJM  A3RXAU2N8KV45G          lady21   \n",
       "45     47  51  B001EO5QW8  A108P30XVUFKXY       Roberto A   \n",
       "\n",
       "    HelpfulnessNumerator  HelpfulnessDenominator  Score        Time  \\\n",
       "1                      0                       0     -1  1346976000   \n",
       "11                     1                       1     -1  1339545600   \n",
       "15                     0                       0     -1  1348099200   \n",
       "25                     0                       1     -1  1332633600   \n",
       "45                     0                       7     -1  1203379200   \n",
       "\n",
       "                                 Summary  \\\n",
       "1                      Not as Advertised   \n",
       "11  My Cats Are Not Fans of the New Food   \n",
       "15                            poor taste   \n",
       "25                       Nasty No flavor   \n",
       "45                         Don't like it   \n",
       "\n",
       "                                                 Text  \\\n",
       "1   Product arrived labeled as Jumbo Salted Peanut...   \n",
       "11  My cats have been happily eating Felidae Plati...   \n",
       "15  I love eating them and they are good for watch...   \n",
       "25  The candy is just red , No flavor . Just  plan...   \n",
       "45  This oatmeal is not good. Its mushy, soft, I d...   \n",
       "\n",
       "                                        ProcessedText  \\\n",
       "1   product arriv label jumbo salt peanut the pean...   \n",
       "11  cat have been happili eat felida platinum for ...   \n",
       "15  love eat them and they are good for watch and ...   \n",
       "25  the candi just red flavor just plan and chewi ...   \n",
       "45  this oatmeal not good it mushi soft dont like ...   \n",
       "\n",
       "                                       ProcessedText2  \n",
       "1   product arrived labeled jumbo salted peanuts t...  \n",
       "11  cats have been happily eating felidae platinum...  \n",
       "15  love eating them and they are good for watchin...  \n",
       "25  the candy just red flavor just plan and chewy ...  \n",
       "45  this oatmeal not good its mushy soft dont like...  "
      ]
     },
     "execution_count": 218,
     "metadata": {},
     "output_type": "execute_result"
    }
   ],
   "source": [
    "negativeReviews2_500.head()"
   ]
  },
  {
   "cell_type": "code",
   "execution_count": 219,
   "metadata": {
    "collapsed": true
   },
   "outputs": [],
   "source": [
    "frames2_1000 = [positiveReviews2_500, negativeReviews2_500]"
   ]
  },
  {
   "cell_type": "code",
   "execution_count": 220,
   "metadata": {
    "collapsed": true
   },
   "outputs": [],
   "source": [
    "FinalPositiveNegative2 = pd.concat(frames2_1000)"
   ]
  },
  {
   "cell_type": "code",
   "execution_count": 221,
   "metadata": {},
   "outputs": [
    {
     "data": {
      "text/plain": [
       "(1000, 13)"
      ]
     },
     "execution_count": 221,
     "metadata": {},
     "output_type": "execute_result"
    }
   ],
   "source": [
    "FinalPositiveNegative2.shape"
   ]
  },
  {
   "cell_type": "code",
   "execution_count": 222,
   "metadata": {
    "collapsed": true
   },
   "outputs": [],
   "source": [
    "#Sorting FinalDataframe by \"Time\"\n",
    "FinalSortedPositiveNegative2_1000 = FinalPositiveNegative2.sort_values('Time', axis=0, ascending=True, inplace=False)"
   ]
  },
  {
   "cell_type": "code",
   "execution_count": 223,
   "metadata": {
    "collapsed": true
   },
   "outputs": [],
   "source": [
    "FinalSortedPositiveNegativeScore2_1000 = FinalSortedPositiveNegative2_1000[\"Score\"]"
   ]
  },
  {
   "cell_type": "code",
   "execution_count": 224,
   "metadata": {},
   "outputs": [
    {
     "data": {
      "text/plain": [
       "(1000, 13)"
      ]
     },
     "execution_count": 224,
     "metadata": {},
     "output_type": "execute_result"
    }
   ],
   "source": [
    "FinalSortedPositiveNegative2_1000.shape"
   ]
  },
  {
   "cell_type": "code",
   "execution_count": 225,
   "metadata": {},
   "outputs": [
    {
     "data": {
      "text/plain": [
       "(1000,)"
      ]
     },
     "execution_count": 225,
     "metadata": {},
     "output_type": "execute_result"
    }
   ],
   "source": [
    "FinalSortedPositiveNegativeScore2_1000.shape"
   ]
  },
  {
   "cell_type": "code",
   "execution_count": 226,
   "metadata": {
    "collapsed": true
   },
   "outputs": [],
   "source": [
    "Data2 = FinalSortedPositiveNegative2_1000"
   ]
  },
  {
   "cell_type": "code",
   "execution_count": 227,
   "metadata": {
    "collapsed": true
   },
   "outputs": [],
   "source": [
    "Data2_Labels = FinalSortedPositiveNegativeScore2_1000"
   ]
  },
  {
   "cell_type": "code",
   "execution_count": 228,
   "metadata": {},
   "outputs": [
    {
     "name": "stdout",
     "output_type": "stream",
     "text": [
      "(1000, 13)\n",
      "(1000,)\n"
     ]
    }
   ],
   "source": [
    "print(Data2.shape)\n",
    "print(Data2_Labels.shape)"
   ]
  },
  {
   "cell_type": "code",
   "execution_count": 229,
   "metadata": {},
   "outputs": [
    {
     "data": {
      "text/html": [
       "<div>\n",
       "<style>\n",
       "    .dataframe thead tr:only-child th {\n",
       "        text-align: right;\n",
       "    }\n",
       "\n",
       "    .dataframe thead th {\n",
       "        text-align: left;\n",
       "    }\n",
       "\n",
       "    .dataframe tbody tr th {\n",
       "        vertical-align: top;\n",
       "    }\n",
       "</style>\n",
       "<table border=\"1\" class=\"dataframe\">\n",
       "  <thead>\n",
       "    <tr style=\"text-align: right;\">\n",
       "      <th></th>\n",
       "      <th>index</th>\n",
       "      <th>Id</th>\n",
       "      <th>ProductId</th>\n",
       "      <th>UserId</th>\n",
       "      <th>ProfileName</th>\n",
       "      <th>HelpfulnessNumerator</th>\n",
       "      <th>HelpfulnessDenominator</th>\n",
       "      <th>Score</th>\n",
       "      <th>Time</th>\n",
       "      <th>Summary</th>\n",
       "      <th>Text</th>\n",
       "      <th>ProcessedText</th>\n",
       "      <th>ProcessedText2</th>\n",
       "    </tr>\n",
       "  </thead>\n",
       "  <tbody>\n",
       "    <tr>\n",
       "      <th>9</th>\n",
       "      <td>10</td>\n",
       "      <td>11</td>\n",
       "      <td>B0001PB9FE</td>\n",
       "      <td>A3HDKO7OW0QNK4</td>\n",
       "      <td>Canadian Fan</td>\n",
       "      <td>1</td>\n",
       "      <td>1</td>\n",
       "      <td>1</td>\n",
       "      <td>1107820800</td>\n",
       "      <td>The Best Hot Sauce in the World</td>\n",
       "      <td>I don't know if it's the cactus or the tequila...</td>\n",
       "      <td>dont know it the cactus the tequila just the u...</td>\n",
       "      <td>dont know its the cactus the tequila just the ...</td>\n",
       "    </tr>\n",
       "    <tr>\n",
       "      <th>1653</th>\n",
       "      <td>2106</td>\n",
       "      <td>2296</td>\n",
       "      <td>B0001VWE02</td>\n",
       "      <td>AQM74O8Z4FMS0</td>\n",
       "      <td>Sunshine</td>\n",
       "      <td>0</td>\n",
       "      <td>0</td>\n",
       "      <td>-1</td>\n",
       "      <td>1127606400</td>\n",
       "      <td>Below standard</td>\n",
       "      <td>Too much of the white pith on this orange peel...</td>\n",
       "      <td>too much the white pith this orang peel make t...</td>\n",
       "      <td>too much the white pith this orange peel makin...</td>\n",
       "    </tr>\n",
       "    <tr>\n",
       "      <th>2558</th>\n",
       "      <td>3667</td>\n",
       "      <td>3984</td>\n",
       "      <td>B0005ZHWXI</td>\n",
       "      <td>A26HFSVLAGULIM</td>\n",
       "      <td>Heather L. Parisi \"Robert and Heather Parisi\"</td>\n",
       "      <td>0</td>\n",
       "      <td>1</td>\n",
       "      <td>-1</td>\n",
       "      <td>1131235200</td>\n",
       "      <td>ADD SKIM MILK - BANANA - BLUEBERRIES  -  WHEAT...</td>\n",
       "      <td>SOMETHING TO EAT IF YOU'RE STARVING - BUT PLEA...</td>\n",
       "      <td>someth eat your starv but pleas give real food...</td>\n",
       "      <td>something eat youre starving but please give r...</td>\n",
       "    </tr>\n",
       "    <tr>\n",
       "      <th>1341</th>\n",
       "      <td>1779</td>\n",
       "      <td>1935</td>\n",
       "      <td>B000F4EU52</td>\n",
       "      <td>A2PNOU7NXB1JE4</td>\n",
       "      <td>Peggy \"pab920\"</td>\n",
       "      <td>14</td>\n",
       "      <td>17</td>\n",
       "      <td>-1</td>\n",
       "      <td>1153008000</td>\n",
       "      <td>Inside of can corroded</td>\n",
       "      <td>After I enptied the can, I noticed it was blac...</td>\n",
       "      <td>after enpti the can notic was black area the t...</td>\n",
       "      <td>after enptied the can noticed was black area t...</td>\n",
       "    </tr>\n",
       "    <tr>\n",
       "      <th>2307</th>\n",
       "      <td>3362</td>\n",
       "      <td>3661</td>\n",
       "      <td>B000FDKQC4</td>\n",
       "      <td>A1PNP10DP0M7V1</td>\n",
       "      <td>D. Chamberlain \"dchamberlain072002\"</td>\n",
       "      <td>7</td>\n",
       "      <td>8</td>\n",
       "      <td>-1</td>\n",
       "      <td>1156377600</td>\n",
       "      <td>A Bitter Pill</td>\n",
       "      <td>I have to say that I really wanted to like the...</td>\n",
       "      <td>have say that realli want like these muffin bu...</td>\n",
       "      <td>have say that really wanted like these muffins...</td>\n",
       "    </tr>\n",
       "  </tbody>\n",
       "</table>\n",
       "</div>"
      ],
      "text/plain": [
       "      index    Id   ProductId          UserId  \\\n",
       "9        10    11  B0001PB9FE  A3HDKO7OW0QNK4   \n",
       "1653   2106  2296  B0001VWE02   AQM74O8Z4FMS0   \n",
       "2558   3667  3984  B0005ZHWXI  A26HFSVLAGULIM   \n",
       "1341   1779  1935  B000F4EU52  A2PNOU7NXB1JE4   \n",
       "2307   3362  3661  B000FDKQC4  A1PNP10DP0M7V1   \n",
       "\n",
       "                                        ProfileName  HelpfulnessNumerator  \\\n",
       "9                                      Canadian Fan                     1   \n",
       "1653                                       Sunshine                     0   \n",
       "2558  Heather L. Parisi \"Robert and Heather Parisi\"                     0   \n",
       "1341                                 Peggy \"pab920\"                    14   \n",
       "2307            D. Chamberlain \"dchamberlain072002\"                     7   \n",
       "\n",
       "      HelpfulnessDenominator  Score        Time  \\\n",
       "9                          1      1  1107820800   \n",
       "1653                       0     -1  1127606400   \n",
       "2558                       1     -1  1131235200   \n",
       "1341                      17     -1  1153008000   \n",
       "2307                       8     -1  1156377600   \n",
       "\n",
       "                                                Summary  \\\n",
       "9                       The Best Hot Sauce in the World   \n",
       "1653                                     Below standard   \n",
       "2558  ADD SKIM MILK - BANANA - BLUEBERRIES  -  WHEAT...   \n",
       "1341                             Inside of can corroded   \n",
       "2307                                      A Bitter Pill   \n",
       "\n",
       "                                                   Text  \\\n",
       "9     I don't know if it's the cactus or the tequila...   \n",
       "1653  Too much of the white pith on this orange peel...   \n",
       "2558  SOMETHING TO EAT IF YOU'RE STARVING - BUT PLEA...   \n",
       "1341  After I enptied the can, I noticed it was blac...   \n",
       "2307  I have to say that I really wanted to like the...   \n",
       "\n",
       "                                          ProcessedText  \\\n",
       "9     dont know it the cactus the tequila just the u...   \n",
       "1653  too much the white pith this orang peel make t...   \n",
       "2558  someth eat your starv but pleas give real food...   \n",
       "1341  after enpti the can notic was black area the t...   \n",
       "2307  have say that realli want like these muffin bu...   \n",
       "\n",
       "                                         ProcessedText2  \n",
       "9     dont know its the cactus the tequila just the ...  \n",
       "1653  too much the white pith this orange peel makin...  \n",
       "2558  something eat youre starving but please give r...  \n",
       "1341  after enptied the can noticed was black area t...  \n",
       "2307  have say that really wanted like these muffins...  "
      ]
     },
     "execution_count": 229,
     "metadata": {},
     "output_type": "execute_result"
    }
   ],
   "source": [
    "Data2.head()"
   ]
  },
  {
   "cell_type": "code",
   "execution_count": 230,
   "metadata": {
    "collapsed": true
   },
   "outputs": [],
   "source": [
    "i = 0\n",
    "listOfSentences2 = []\n",
    "for sentence in Data2[\"ProcessedText2\"].values:\n",
    "    subSentence = []\n",
    "    for word in sentence.split():\n",
    "        subSentence.append(word)\n",
    "        \n",
    "    listOfSentences2.append(subSentence)"
   ]
  },
  {
   "cell_type": "code",
   "execution_count": 231,
   "metadata": {},
   "outputs": [
    {
     "name": "stdout",
     "output_type": "stream",
     "text": [
      "dont know its the cactus the tequila just the unique combination ingredients but the flavour this hot sauce makes one kind picked bottle once trip were and brought back home with and were totally blown away when realized that simply couldnt find anywhere our city were bummed now because the magic the internet have case the sauce and are ecstatic because you love hot sauce mean really love hot sauce but dont want sauce that tastelessly burns your throat grab bottle tequila picante gourmet inclan just realize that once you taste you will never want use any other sauce thank you for the personal incredible service\n",
      "\n",
      "\n",
      "[['dont', 'know', 'its', 'the', 'cactus', 'the', 'tequila', 'just', 'the', 'unique', 'combination', 'ingredients', 'but', 'the', 'flavour', 'this', 'hot', 'sauce', 'makes', 'one', 'kind', 'picked', 'bottle', 'once', 'trip', 'were', 'and', 'brought', 'back', 'home', 'with', 'and', 'were', 'totally', 'blown', 'away', 'when', 'realized', 'that', 'simply', 'couldnt', 'find', 'anywhere', 'our', 'city', 'were', 'bummed', 'now', 'because', 'the', 'magic', 'the', 'internet', 'have', 'case', 'the', 'sauce', 'and', 'are', 'ecstatic', 'because', 'you', 'love', 'hot', 'sauce', 'mean', 'really', 'love', 'hot', 'sauce', 'but', 'dont', 'want', 'sauce', 'that', 'tastelessly', 'burns', 'your', 'throat', 'grab', 'bottle', 'tequila', 'picante', 'gourmet', 'inclan', 'just', 'realize', 'that', 'once', 'you', 'taste', 'you', 'will', 'never', 'want', 'use', 'any', 'other', 'sauce', 'thank', 'you', 'for', 'the', 'personal', 'incredible', 'service'], ['too', 'much', 'the', 'white', 'pith', 'this', 'orange', 'peel', 'making', 'the', 'product', 'overly', 'bitter', 'and', 'diluting', 'the', 'real', 'good', 'taste', 'the', 'orange', 'zest']]\n",
      "\n",
      "\n",
      "<class 'list'>\n",
      "\n",
      "\n",
      "1000\n"
     ]
    }
   ],
   "source": [
    "print(Data2['ProcessedText2'].values[0])\n",
    "print(\"\\n\")\n",
    "print(listOfSentences2[0:2])\n",
    "print(\"\\n\")\n",
    "print(type(listOfSentences2))\n",
    "print(\"\\n\")\n",
    "print(len(listOfSentences2))"
   ]
  },
  {
   "cell_type": "code",
   "execution_count": 11,
   "metadata": {},
   "outputs": [],
   "source": [
    "#loading pre-trained GloVe vectors\n",
    "words = pd.read_table(\"glove.6B.100d.txt\", sep=\" \", index_col=0, header=None, quoting=csv.QUOTE_NONE) \n",
    "\n",
    "# Here, We have downloaded pre-trained Glove vectors. You just have to type \"Glove word vectors\" on google then click on \n",
    "# \"https://nlp.stanford.edu/projects/glove/\" link. Then you can download pre-trained word-vectors. Zip file will be \n",
    "# downloaded, you just have to extract it then load the txt file from extracted folder into ipython notebook using pandas,\n",
    "# just like we have done above."
   ]
  },
  {
   "cell_type": "code",
   "execution_count": 233,
   "metadata": {
    "collapsed": true
   },
   "outputs": [],
   "source": [
    "def check(word):\n",
    "    if (words.index == word).any():\n",
    "        return 1\n",
    "    else:\n",
    "        return 0"
   ]
  },
  {
   "cell_type": "code",
   "execution_count": 234,
   "metadata": {},
   "outputs": [
    {
     "name": "stdout",
     "output_type": "stream",
     "text": [
      "<class 'list'>\n",
      "1000\n",
      "100\n"
     ]
    }
   ],
   "source": [
    "# compute average GloVe for each review.\n",
    "sentenceAsGlove = []\n",
    "for sentence in listOfSentences2:\n",
    "    sentenceVector = np.zeros(100)\n",
    "    TotalWordsPerSentence = 0\n",
    "    for word in sentence:\n",
    "        if check(word) == 1:\n",
    "            vect = words.loc[word]\n",
    "            sentenceVector += vect\n",
    "            TotalWordsPerSentence += 1\n",
    "            \n",
    "    sentenceVector /= TotalWordsPerSentence\n",
    "    sentenceAsGlove.append(sentenceVector)\n",
    "\n",
    "print(type(sentenceAsGlove))\n",
    "print(len(sentenceAsGlove))\n",
    "print(len(sentenceAsGlove[0]))"
   ]
  },
  {
   "cell_type": "code",
   "execution_count": 235,
   "metadata": {},
   "outputs": [
    {
     "name": "stdout",
     "output_type": "stream",
     "text": [
      "(1000, 100)\n",
      "<class 'numpy.ndarray'>\n"
     ]
    }
   ],
   "source": [
    "standardized_Avg_Glove = StandardScaler().fit_transform(sentenceAsGlove)\n",
    "print(standardized_Avg_Glove.shape)\n",
    "print(type(standardized_Avg_Glove))"
   ]
  },
  {
   "cell_type": "markdown",
   "metadata": {
    "collapsed": true
   },
   "source": [
    "### Task 1. Split train and test data in a ratio of 80:20. "
   ]
  },
  {
   "cell_type": "code",
   "execution_count": 236,
   "metadata": {
    "collapsed": true
   },
   "outputs": [],
   "source": [
    "train_glove, test_glove, train_labels_glove, test_labels_glove = train_test_split(standardized_Avg_Glove, Data2_Labels, test_size = 0.2, random_state = 0)"
   ]
  },
  {
   "cell_type": "code",
   "execution_count": 241,
   "metadata": {},
   "outputs": [
    {
     "data": {
      "text/plain": [
       "((800, 100), (200, 100), (800,), (200,))"
      ]
     },
     "execution_count": 241,
     "metadata": {},
     "output_type": "execute_result"
    }
   ],
   "source": [
    "train_glove.shape, test_glove.shape, train_labels_glove.shape, test_labels_glove.shape"
   ]
  },
  {
   "cell_type": "markdown",
   "metadata": {
    "collapsed": true
   },
   "source": [
    "### Task 2. Perform GridSearch Cross Validation and Random Search Cross Validation to find optimal Value of λ."
   ]
  },
  {
   "cell_type": "markdown",
   "metadata": {},
   "source": [
    "#### Grid Search"
   ]
  },
  {
   "cell_type": "code",
   "execution_count": 242,
   "metadata": {},
   "outputs": [
    {
     "name": "stdout",
     "output_type": "stream",
     "text": [
      "LogisticRegression(C=0.01, class_weight=None, dual=False, fit_intercept=True,\n",
      "          intercept_scaling=1, max_iter=100, multi_class='ovr', n_jobs=1,\n",
      "          penalty='l2', random_state=None, solver='liblinear', tol=0.0001,\n",
      "          verbose=0, warm_start=False)\n"
     ]
    }
   ],
   "source": [
    "clf = LogisticRegression()\n",
    "\n",
    "hyper_parameters = [{'C': [10**-3, 10**-2, 10**-1, 10**0, 2, 4, 6, 8, 10**1, 50, 10**2, 500, 10**3]}]\n",
    "bestCV = GridSearchCV(clf, hyper_parameters, scoring = \"accuracy\", cv = 5)\n",
    "bestCV.fit(train_glove, train_labels_glove)\n",
    "\n",
    "print(bestCV.best_estimator_)"
   ]
  },
  {
   "cell_type": "code",
   "execution_count": 243,
   "metadata": {},
   "outputs": [
    {
     "data": {
      "text/plain": [
       "0.01"
      ]
     },
     "execution_count": 243,
     "metadata": {},
     "output_type": "execute_result"
    }
   ],
   "source": [
    "best_parameter = bestCV.best_params_ \n",
    "best_parameter[\"C\"]"
   ]
  },
  {
   "cell_type": "code",
   "execution_count": 244,
   "metadata": {
    "collapsed": true
   },
   "outputs": [],
   "source": [
    "scoreData = bestCV.grid_scores_"
   ]
  },
  {
   "cell_type": "code",
   "execution_count": 245,
   "metadata": {},
   "outputs": [
    {
     "data": {
      "text/plain": [
       "[mean: 0.77375, std: 0.03941, params: {'C': 0.001},\n",
       " mean: 0.80000, std: 0.03750, params: {'C': 0.01},\n",
       " mean: 0.79750, std: 0.05223, params: {'C': 0.1},\n",
       " mean: 0.79500, std: 0.04750, params: {'C': 1},\n",
       " mean: 0.79000, std: 0.04947, params: {'C': 2},\n",
       " mean: 0.79125, std: 0.05268, params: {'C': 4},\n",
       " mean: 0.78875, std: 0.05397, params: {'C': 6},\n",
       " mean: 0.78875, std: 0.05397, params: {'C': 8},\n",
       " mean: 0.78875, std: 0.05397, params: {'C': 10},\n",
       " mean: 0.78750, std: 0.05078, params: {'C': 50},\n",
       " mean: 0.78750, std: 0.05078, params: {'C': 100},\n",
       " mean: 0.78750, std: 0.05078, params: {'C': 500},\n",
       " mean: 0.78750, std: 0.05078, params: {'C': 1000}]"
      ]
     },
     "execution_count": 245,
     "metadata": {},
     "output_type": "execute_result"
    }
   ],
   "source": [
    "scoreData"
   ]
  },
  {
   "cell_type": "code",
   "execution_count": 246,
   "metadata": {},
   "outputs": [
    {
     "data": {
      "image/png": "[encoded data removed]",
      "text/plain": [
       "<matplotlib.figure.Figure at 0x633d8be898>"
      ]
     },
     "metadata": {},
     "output_type": "display_data"
    }
   ],
   "source": [
    "error = []\n",
    "parameter = []\n",
    "for i in range(len(scoreData)):\n",
    "    error.append(1 - scoreData[i][1])\n",
    "    parameter.append(scoreData[i][0][\"C\"])\n",
    "    \n",
    "plot.plot(parameter, np.round(error, 4))\n",
    "plot.xlabel(\"Parameter 'c'\")\n",
    "plot.ylabel(\"Error\")\n",
    "\n",
    "error1 = []\n",
    "for e in error:\n",
    "    error1.append(np.round(e,3))\n",
    "    \n",
    "parameter1 = []\n",
    "for p in parameter:\n",
    "    parameter1.append(np.round(p,3))\n",
    "\n",
    "for xy in zip(parameter1, error1):\n",
    "    plot.annotate(xy,xy)\n",
    "\n",
    "plot.show()"
   ]
  },
  {
   "cell_type": "markdown",
   "metadata": {},
   "source": [
    "#### Random Search"
   ]
  },
  {
   "cell_type": "code",
   "execution_count": 258,
   "metadata": {
    "collapsed": true
   },
   "outputs": [],
   "source": [
    "n = list(np.random.normal(loc=0.01, scale=0.001, size = 500))  #taking 500 numbers which are distributed normally with mean = 0.01\n",
    "                                                            #and std-dev = 0.001"
   ]
  },
  {
   "cell_type": "code",
   "execution_count": 260,
   "metadata": {},
   "outputs": [
    {
     "name": "stdout",
     "output_type": "stream",
     "text": [
      "LogisticRegression(C=0.010864778999588785, class_weight=None, dual=False,\n",
      "          fit_intercept=True, intercept_scaling=1, max_iter=100,\n",
      "          multi_class='ovr', n_jobs=1, penalty='l2', random_state=None,\n",
      "          solver='liblinear', tol=0.0001, verbose=0, warm_start=False)\n"
     ]
    }
   ],
   "source": [
    "clf = LogisticRegression()\n",
    "\n",
    "hyper_parameters2 = {'C': n}\n",
    "\n",
    "bestCV_random = RandomizedSearchCV(clf, hyper_parameters2, scoring = \"accuracy\", cv = 3)\n",
    "\n",
    "bestCV_random.fit(train_glove, train_labels_glove)\n",
    "print(bestCV_random.best_estimator_)"
   ]
  },
  {
   "cell_type": "code",
   "execution_count": 261,
   "metadata": {},
   "outputs": [
    {
     "data": {
      "text/plain": [
       "0.010864778999588785"
      ]
     },
     "execution_count": 261,
     "metadata": {},
     "output_type": "execute_result"
    }
   ],
   "source": [
    "best_random_parameter = bestCV_random.best_params_ \n",
    "best_random_parameter[\"C\"]"
   ]
  },
  {
   "cell_type": "code",
   "execution_count": 262,
   "metadata": {
    "collapsed": true
   },
   "outputs": [],
   "source": [
    "scoreRandomData = bestCV_random.grid_scores_"
   ]
  },
  {
   "cell_type": "code",
   "execution_count": 263,
   "metadata": {},
   "outputs": [
    {
     "data": {
      "text/plain": [
       "[mean: 0.79125, std: 0.02455, params: {'C': 0.008893654934541298},\n",
       " mean: 0.79250, std: 0.02546, params: {'C': 0.00902858084277098},\n",
       " mean: 0.79375, std: 0.02647, params: {'C': 0.010864778999588785},\n",
       " mean: 0.79250, std: 0.02546, params: {'C': 0.009228367537127741},\n",
       " mean: 0.79125, std: 0.02471, params: {'C': 0.011585912590822901},\n",
       " mean: 0.79250, std: 0.02580, params: {'C': 0.010835089892548291},\n",
       " mean: 0.79125, std: 0.02455, params: {'C': 0.008366099150893012},\n",
       " mean: 0.79000, std: 0.02406, params: {'C': 0.012758200295857164},\n",
       " mean: 0.79250, std: 0.02546, params: {'C': 0.009837696631520804},\n",
       " mean: 0.79125, std: 0.02471, params: {'C': 0.010230751131592289}]"
      ]
     },
     "execution_count": 263,
     "metadata": {},
     "output_type": "execute_result"
    }
   ],
   "source": [
    "scoreRandomData"
   ]
  },
  {
   "cell_type": "code",
   "execution_count": 264,
   "metadata": {},
   "outputs": [
    {
     "data": {
      "image/png": "[encoded data removed]",
      "text/plain": [
       "<matplotlib.figure.Figure at 0x6373541518>"
      ]
     },
     "metadata": {},
     "output_type": "display_data"
    }
   ],
   "source": [
    "error2 = []\n",
    "parameter2 = []\n",
    "for i in range(len(scoreRandomData)):\n",
    "    error2.append(1 - scoreRandomData[i][1])\n",
    "    parameter2.append(scoreRandomData[i][0][\"C\"])  \n",
    "\n",
    "plot.plot(parameter2, error2)\n",
    "plot.xlabel(\"Parameter 'c'\")\n",
    "plot.ylabel(\"Error\")\n",
    "\n",
    "error3 = []\n",
    "for e in error2:\n",
    "    error3.append(np.round(e,3))\n",
    "    \n",
    "parameter3 = []\n",
    "for p in parameter2:\n",
    "    parameter3.append(np.round(p,3))\n",
    "\n",
    "for xy in zip(parameter3, error3):\n",
    "        plot.annotate(xy,xy)\n",
    "\n",
    "plot.show()"
   ]
  },
  {
   "cell_type": "code",
   "execution_count": 265,
   "metadata": {},
   "outputs": [
    {
     "data": {
      "text/plain": [
       "0.010432389499794394"
      ]
     },
     "execution_count": 265,
     "metadata": {},
     "output_type": "execute_result"
    }
   ],
   "source": [
    "# We are taking our hyper-parameter λ as the average of best λ computed from gridSearchCV and RandomSearchCV\n",
    "FinalHP = (best_parameter[\"C\"] + best_random_parameter[\"C\"]) / 2\n",
    "FinalHP"
   ]
  },
  {
   "cell_type": "markdown",
   "metadata": {},
   "source": [
    "### Task 3. Apply Logistic Regression using both L1 and L2 regularizations and report accuracy."
   ]
  },
  {
   "cell_type": "markdown",
   "metadata": {},
   "source": [
    "#### Implementing L2 Regularization"
   ]
  },
  {
   "cell_type": "code",
   "execution_count": 266,
   "metadata": {},
   "outputs": [
    {
     "name": "stdout",
     "output_type": "stream",
     "text": [
      "Accuracy score on L2 regularization = 79.0%\n"
     ]
    }
   ],
   "source": [
    "model = LogisticRegression(penalty=\"l2\", C = FinalHP)\n",
    "\n",
    "model.fit(train_glove, train_labels_glove)\n",
    "\n",
    "prediction = model.predict(test_glove)\n",
    "\n",
    "AccuracyScore = accuracy_score(test_labels_glove, prediction) * 100\n",
    "\n",
    "print(\"Accuracy score on L2 regularization = \"+str(AccuracyScore)+\"%\")"
   ]
  },
  {
   "cell_type": "code",
   "execution_count": 267,
   "metadata": {},
   "outputs": [
    {
     "name": "stdout",
     "output_type": "stream",
     "text": [
      "Precision Score on L2 regularization = 0.8461538461538461\n"
     ]
    }
   ],
   "source": [
    "Precision = precision_score(test_labels_glove, prediction)\n",
    "print(\"Precision Score on L2 regularization = \"+str(Precision))"
   ]
  },
  {
   "cell_type": "code",
   "execution_count": 268,
   "metadata": {},
   "outputs": [
    {
     "name": "stdout",
     "output_type": "stream",
     "text": [
      "Recall Score on L2 regularization = 0.7333333333333333\n"
     ]
    }
   ],
   "source": [
    "Recall = recall_score(test_labels_glove, prediction)\n",
    "print(\"Recall Score on L2 regularization = \"+str(Recall))"
   ]
  },
  {
   "cell_type": "code",
   "execution_count": 269,
   "metadata": {},
   "outputs": [
    {
     "name": "stdout",
     "output_type": "stream",
     "text": [
      "Confusion Matrix on L2 regularization \n",
      "= [[81 14]\n",
      " [28 77]]\n"
     ]
    }
   ],
   "source": [
    "ConfusionMatrix = confusion_matrix(test_labels_glove, prediction)\n",
    "print(\"Confusion Matrix on L2 regularization \\n= \"+str(ConfusionMatrix))"
   ]
  },
  {
   "cell_type": "code",
   "execution_count": 270,
   "metadata": {},
   "outputs": [
    {
     "data": {
      "text/plain": [
       "(81, 14, 28, 77)"
      ]
     },
     "execution_count": 270,
     "metadata": {},
     "output_type": "execute_result"
    }
   ],
   "source": [
    "tn, fp, fn, tp = confusion_matrix(test_labels_glove, prediction).ravel()\n",
    "tn, fp, fn, tp"
   ]
  },
  {
   "cell_type": "markdown",
   "metadata": {},
   "source": [
    "#### Implementing L1 Regularization"
   ]
  },
  {
   "cell_type": "code",
   "execution_count": 273,
   "metadata": {},
   "outputs": [
    {
     "name": "stdout",
     "output_type": "stream",
     "text": [
      "Accuracy score on L1 regularization = 67.5%\n"
     ]
    }
   ],
   "source": [
    "model2 = LogisticRegression(penalty=\"l1\", C = FinalHP)\n",
    "\n",
    "model2.fit(train_glove, train_labels_glove)\n",
    "\n",
    "prediction2 = model2.predict(test_glove)\n",
    "\n",
    "AccuracyScore2 = accuracy_score(test_labels_glove, prediction2) * 100\n",
    "\n",
    "print(\"Accuracy score on L1 regularization = \"+str(AccuracyScore2)+\"%\")"
   ]
  },
  {
   "cell_type": "code",
   "execution_count": 274,
   "metadata": {},
   "outputs": [
    {
     "name": "stdout",
     "output_type": "stream",
     "text": [
      "Precision Score on L1 regularization = 0.7222222222222222\n"
     ]
    }
   ],
   "source": [
    "Precision = precision_score(test_labels_glove, prediction2)\n",
    "print(\"Precision Score on L1 regularization = \"+str(Precision))"
   ]
  },
  {
   "cell_type": "code",
   "execution_count": 275,
   "metadata": {},
   "outputs": [
    {
     "name": "stdout",
     "output_type": "stream",
     "text": [
      "Recall Score on L1 regularization = 0.6190476190476191\n"
     ]
    }
   ],
   "source": [
    "Recall = recall_score(test_labels_glove, prediction2)\n",
    "print(\"Recall Score on L1 regularization = \"+str(Recall))"
   ]
  },
  {
   "cell_type": "code",
   "execution_count": 276,
   "metadata": {},
   "outputs": [
    {
     "name": "stdout",
     "output_type": "stream",
     "text": [
      "Confusion Matrix on L1 regularization \n",
      "= [[70 25]\n",
      " [40 65]]\n"
     ]
    }
   ],
   "source": [
    "ConfusionMatrix = confusion_matrix(test_labels_glove, prediction2)\n",
    "print(\"Confusion Matrix on L1 regularization \\n= \"+str(ConfusionMatrix))"
   ]
  },
  {
   "cell_type": "code",
   "execution_count": 277,
   "metadata": {},
   "outputs": [
    {
     "data": {
      "text/plain": [
       "(70, 25, 40, 65)"
      ]
     },
     "execution_count": 277,
     "metadata": {},
     "output_type": "execute_result"
    }
   ],
   "source": [
    "tn, fp, fn, tp = confusion_matrix(test_labels_glove, prediction2).ravel()\n",
    "tn, fp, fn, tp"
   ]
  },
  {
   "cell_type": "markdown",
   "metadata": {},
   "source": [
    "### Task 4. Use L1 regularization for different values of λ and report error and sparsity for each value of λ."
   ]
  },
  {
   "cell_type": "code",
   "execution_count": 278,
   "metadata": {},
   "outputs": [
    {
     "name": "stdout",
     "output_type": "stream",
     "text": [
      "Number of non-zero for λ value of 0.001 = 100\n",
      "Error for λ value of 0.001 = 0.22999999999999998\n"
     ]
    }
   ],
   "source": [
    "model3 = LogisticRegression(penalty=\"l1\", C = 1000)\n",
    "\n",
    "model3.fit(train_glove, train_labels_glove)\n",
    "\n",
    "accuracyScore_10000 = model3.score(test_glove, test_labels_glove)\n",
    "\n",
    "error = 1 - accuracyScore_10000\n",
    "\n",
    "weightVector = model3.coef_\n",
    "\n",
    "print(\"Number of non-zero for λ value of 0.001 = \"+str(np.count_nonzero(weightVector)))\n",
    "\n",
    "print(\"Error for λ value of 0.001 = \"+str(error))"
   ]
  },
  {
   "cell_type": "code",
   "execution_count": 279,
   "metadata": {},
   "outputs": [
    {
     "name": "stdout",
     "output_type": "stream",
     "text": [
      "Number of non-zero for λ value of 0.01 = 100\n",
      "Error for λ value of 0.01 = 0.22999999999999998\n"
     ]
    }
   ],
   "source": [
    "model3 = LogisticRegression(penalty=\"l1\", C = 100)\n",
    "\n",
    "model3.fit(train_glove, train_labels_glove)\n",
    "\n",
    "accuracyScore_10000 = model3.score(test_glove, test_labels_glove)\n",
    "\n",
    "error = 1 - accuracyScore_10000\n",
    "\n",
    "weightVector = model3.coef_\n",
    "\n",
    "print(\"Number of non-zero for λ value of 0.01 = \"+str(np.count_nonzero(weightVector)))\n",
    "\n",
    "print(\"Error for λ value of 0.01 = \"+str(error))"
   ]
  },
  {
   "cell_type": "code",
   "execution_count": 280,
   "metadata": {},
   "outputs": [
    {
     "name": "stdout",
     "output_type": "stream",
     "text": [
      "Number of non-zero for λ value of 1 = 92\n",
      "Error for λ value of 1 = 0.21999999999999997\n"
     ]
    }
   ],
   "source": [
    "model3 = LogisticRegression(penalty=\"l1\", C = 1)\n",
    "\n",
    "model3.fit(train_glove, train_labels_glove)\n",
    "\n",
    "accuracyScore_10000 = model3.score(test_glove, test_labels_glove)\n",
    "\n",
    "error = 1 - accuracyScore_10000\n",
    "\n",
    "weightVector = model3.coef_\n",
    "\n",
    "print(\"Number of non-zero for λ value of 1 = \"+str(np.count_nonzero(weightVector)))\n",
    "\n",
    "print(\"Error for λ value of 1 = \"+str(error))"
   ]
  },
  {
   "cell_type": "code",
   "execution_count": 281,
   "metadata": {},
   "outputs": [
    {
     "name": "stdout",
     "output_type": "stream",
     "text": [
      "Number of non-zero for λ value of 100 = 2\n",
      "Error for λ value of 100 = 0.32499999999999996\n"
     ]
    }
   ],
   "source": [
    "model3 = LogisticRegression(penalty=\"l1\", C = 10**-2)\n",
    "\n",
    "model3.fit(train_glove, train_labels_glove)\n",
    "\n",
    "accuracyScore_10000 = model3.score(test_glove, test_labels_glove)\n",
    "\n",
    "error = 1 - accuracyScore_10000\n",
    "\n",
    "weightVector = model3.coef_\n",
    "\n",
    "print(\"Number of non-zero for λ value of 100 = \"+str(np.count_nonzero(weightVector)))\n",
    "\n",
    "print(\"Error for λ value of 100 = \"+str(error))"
   ]
  },
  {
   "cell_type": "code",
   "execution_count": 282,
   "metadata": {},
   "outputs": [
    {
     "name": "stdout",
     "output_type": "stream",
     "text": [
      "Number of non-zero for λ value of 10000 = 0\n",
      "Error for λ value of 10000 = 0.525\n"
     ]
    }
   ],
   "source": [
    "model3 = LogisticRegression(penalty=\"l1\", C = 10**-4)\n",
    "\n",
    "model3.fit(train_glove, train_labels_glove)\n",
    "\n",
    "accuracyScore_10000 = model3.score(test_glove, test_labels_glove)\n",
    "\n",
    "error = 1 - accuracyScore_10000\n",
    "\n",
    "weightVector = model3.coef_\n",
    "\n",
    "print(\"Number of non-zero for λ value of 10000 = \"+str(np.count_nonzero(weightVector)))\n",
    "\n",
    "print(\"Error for λ value of 10000 = \"+str(error))"
   ]
  },
  {
   "cell_type": "markdown",
   "metadata": {},
   "source": [
    "### Task 5. Check for multi-collinearity of features and find top-10 most important features"
   ]
  },
  {
   "cell_type": "code",
   "execution_count": 283,
   "metadata": {
    "collapsed": true
   },
   "outputs": [],
   "source": [
    "# computing weight vector prior to adding noise in out data\n",
    "model4 = LogisticRegression(penalty=\"l2\", C = FinalHP)\n",
    "\n",
    "model4.fit(train_glove, train_labels_glove)\n",
    "\n",
    "weightVector1 = model4.coef_"
   ]
  },
  {
   "cell_type": "code",
   "execution_count": 284,
   "metadata": {},
   "outputs": [
    {
     "name": "stdout",
     "output_type": "stream",
     "text": [
      "0.04490121809728769\n",
      "(800, 100)\n"
     ]
    }
   ],
   "source": [
    "noise = np.random.normal(loc=0.1, scale=0.1) # generating random positive number from normal distribution\n",
    "noise_matrix = np.full((800, 100), noise) # generating matrix of size 4000 * 300 where every number in matrix is 'n' \n",
    "dataWithNoise_glove = noise_matrix + train_glove # adding noise to training data fro pertubation test\n",
    "\n",
    "print(noise)\n",
    "print(dataWithNoise_glove.shape)"
   ]
  },
  {
   "cell_type": "code",
   "execution_count": 285,
   "metadata": {
    "collapsed": true
   },
   "outputs": [],
   "source": [
    "# computing weight vector after adding noise in out data\n",
    "model5 = LogisticRegression(penalty=\"l2\", C = FinalHP)\n",
    "\n",
    "model5.fit(dataWithNoise_glove, train_labels_glove)\n",
    "\n",
    "weightVector2 = model5.coef_"
   ]
  },
  {
   "cell_type": "code",
   "execution_count": 286,
   "metadata": {},
   "outputs": [
    {
     "data": {
      "text/plain": [
       "array([ 4.23497834e-04,  2.89410219e-04,  3.25740221e-04,  4.29228648e-04,\n",
       "        1.29199851e-04,  4.13238064e-04,  1.04042606e-04,  4.40570008e-04,\n",
       "        3.74213476e-04, -2.34256914e-04,  2.38465597e-04,  3.42048111e-04,\n",
       "        1.81592466e-04, -8.70773117e-06,  4.95984444e-04,  2.35376161e-04,\n",
       "       -2.25085153e-04, -4.97572930e-05,  4.97980468e-04,  4.66802311e-04,\n",
       "        5.24820587e-04, -2.03303600e-05,  3.48937061e-04,  3.46031406e-04,\n",
       "       -2.16840855e-04,  3.03657060e-04,  2.83432580e-04,  1.67697936e-04,\n",
       "        3.11069402e-04,  1.19079433e-04,  5.04643291e-04,  5.63305232e-04,\n",
       "        3.32103226e-04, -4.26387743e-05,  2.65642812e-04,  3.00432122e-04,\n",
       "        4.05883323e-04,  4.93371338e-04,  5.99841619e-04,  5.31515245e-04,\n",
       "        2.05598990e-04,  3.87127227e-04,  8.49285958e-05,  1.93436503e-04,\n",
       "        3.16120104e-04,  4.90627566e-04,  5.89163058e-04,  3.25872726e-04,\n",
       "        2.03056121e-04,  1.03232189e-04,  5.53790632e-04, -5.77459757e-05,\n",
       "        1.91736610e-04,  2.74947914e-04,  2.42638104e-04,  4.17039003e-04,\n",
       "        5.65809512e-04,  3.88974375e-04,  6.20380261e-04,  3.05395078e-04,\n",
       "        3.01788343e-04,  5.03711077e-04,  3.00680830e-04,  2.88001629e-04,\n",
       "        3.89584425e-04, -7.67251800e-05,  5.02824435e-04,  6.89213136e-04,\n",
       "        1.21004587e-04,  3.30275712e-04,  3.90439474e-04,  1.00528139e-04,\n",
       "       -4.83776787e-06,  4.49744316e-04, -1.88515578e-05, -1.32591454e-05,\n",
       "        6.47118872e-05,  2.40364963e-04,  3.42028491e-04,  1.45423493e-04,\n",
       "        4.97924174e-04,  1.18295961e-05,  1.79866121e-04,  1.73004848e-04,\n",
       "        1.16974214e-04,  5.24405118e-04,  7.28710373e-05,  5.28986271e-04,\n",
       "        5.74490274e-04,  3.02961785e-04,  3.22756243e-04,  9.54011847e-05,\n",
       "       -1.15529615e-04,  7.08858125e-05,  2.57587742e-04,  4.07674328e-04,\n",
       "        4.20030843e-04,  4.20636958e-04,  3.17014906e-04,  5.69358505e-04])"
      ]
     },
     "execution_count": 286,
     "metadata": {},
     "output_type": "execute_result"
    }
   ],
   "source": [
    "differenceWeights = weightVector1 - weightVector2\n",
    "differenceWeights.ravel()"
   ]
  },
  {
   "cell_type": "markdown",
   "metadata": {},
   "source": [
    "**Here, as you can see that the differnce in the weight vectors prior and after adding noise is high. It means that features are collinear, hence we cannot use weight vectors as feature importance. Since glove generates vectors for words which are dependent on each other owing to their similarity of preserving sementic meaning between similar words. Therefore, features in glove are collinear similar to w2v**"
   ]
  },
  {
   "cell_type": "markdown",
   "metadata": {},
   "source": [
    "# Summary\n",
    "\n",
    "## 1) Average W2V\n",
    "\n",
    "#### 1.1) Best Value of hyper-parameter(C) from Grid Search: 1000\n",
    "#### 1.2) Best Value of hyper-parameter(C) from Random Search: 584.2338\n",
    "#### 1.3) Accuracy of Logistic Regression on L2 Regularization: 83.6%\n",
    "#### 1.4) Accuracy of Logistic Regression on L1 Regularization: 83.2%\n",
    "#### 1.5) L1 regularization for different values of λ and report error and sparsity for each value of λ\n",
    "#### 1.5.1) Number of non-zero for λ value of  0.0001= 400\n",
    "####           Error for λ value of  0.0001= 0.169\n",
    "#### 1.5.2) Number of non-zero for λ value of 0.001 = 400\n",
    "####           Error for λ value of 0.001 = 0.171\n",
    "#### 1.5.3) Number of non-zero for λ value of 0.1 = 230\n",
    "####           Error for λ value of 0.1 = 0.1800\n",
    "#### 1.5.4) Number of non-zero for λ value of 1000 = 0\n",
    "####           Error for λ value of 1000 = 0.498\n",
    "#### 1.5.5) Number of non-zero for λ value of 10000 = 0\n",
    "####           Error for λ value of 10000 = 0.498\n",
    "\n",
    "\n",
    "## 2) TFIDF-W2V\n",
    "\n",
    "#### 2.1) Best Value of hyper-parameter(C) from Grid Search: 100\n",
    "#### 2.2) Best Value of hyper-parameter(C) from Random Search:  107.5692\n",
    "#### 2.3) Accuracy of Logistic Regression on L2 Regularization: 80.7%\n",
    "#### 2.4) Accuracy of Logistic Regression on L1 Regularization: 80.7%\n",
    "#### 2.5) L1 regularization for different values of λ and report error and sparsity for each value of λ\n",
    "#### 2.5.1) Number of non-zero for λ value of 0.001 = 300\n",
    "####           Error for λ value of 0.001 = 0.18799\n",
    "#### 2.5.2) Number of non-zero for λ value of 0.01 = 292\n",
    "####           Error for λ value of 0.01 = 0.19099\n",
    "#### 2.5.3) Number of non-zero for λ value of 1 = 85\n",
    "####           Error for λ value of 1 = 0.21799\n",
    "#### 2.5.4) Number of non-zero for λ value of 1000 = 0\n",
    "####           Error for λ value of 1000 = 0.498\n",
    "\n",
    "\n",
    "## 3) GLoVe(Pre-trained)\n",
    "\n",
    "#### 3.1) Best Value of hyper-parameter(C) from Grid Search: 0.01\n",
    "#### 3.2) Best Value of hyper-parameter(C) from Random Search: 0.0108\n",
    "#### 3.3) Accuracy of Logistic Regression on L2 Regularization: 79.0%\n",
    "#### 3.4) Accuracy of Logistic Regression on L1 Regularization: 67.5%\n",
    "#### 3.5) L1 regularization for different values of λ and report error and sparsity for each value of λ\n",
    "#### 3.5.1) Number of non-zero for λ value of 0.001 = 100\n",
    "####           Error for λ value of  = 0.2299\n",
    "#### 3.5.2) Number of non-zero for λ value of  = 100\n",
    "####           Error for λ value of 0.01 = 0.2299\n",
    "#### 3.5.3) Number of non-zero for λ value of 1 = 92\n",
    "####           Error for λ value of 1 = 0.21999\n",
    "#### 3.5.4) Number of non-zero for λ value of 100 = 2\n",
    "####           Error for λ value of 100 = 0.324\n",
    "#### 3.5.5) Number of non-zero for λ value of 10000 = 0\n",
    "####           Error for λ value of 10000 = 0.525"
   ]
  }
 ],
 "metadata": {
  "kernelspec": {
   "display_name": "Python 3",
   "language": "python",
   "name": "python3"
  },
  "language_info": {
   "codemirror_mode": {
    "name": "ipython",
    "version": 3
   },
   "file_extension": ".py",
   "mimetype": "text/x-python",
   "name": "python",
   "nbconvert_exporter": "python",
   "pygments_lexer": "ipython3",
   "version": "3.6.5"
  }
 },
 "nbformat": 4,
 "nbformat_minor": 2
}
