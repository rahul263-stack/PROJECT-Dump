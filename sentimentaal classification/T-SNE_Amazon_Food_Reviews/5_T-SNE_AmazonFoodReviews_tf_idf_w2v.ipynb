{
 "cells": [
  {
   "cell_type": "markdown",
   "metadata": {
    "collapsed": true
   },
   "source": [
    "# T-SNE on Amazon Food Reviews Using tfidf w2v Technique"
   ]
  },
  {
   "cell_type": "markdown",
   "metadata": {},
   "source": [
    "Data Source: https://www.kaggle.com/snap/amazon-fine-food-reviews\n",
    "\n",
    "The Amazon Fine Food Reviews dataset consists of reviews of fine foods from Amazon.\n",
    "\n",
    "Number of reviews: 568,454 Number of users: 256,059 Number of products: 74,258 Timespan: Oct 1999 - Oct 2012 Number of Attributes/Columns in data: 10\n",
    "\n",
    "Attribute Information:\n",
    "\n",
    "1.  index\n",
    "2.  Id\n",
    "3.  ProductId - unique identifier for the product\n",
    "4.  UserId - unqiue identifier for the user\n",
    "5.  ProfileName\n",
    "6.  HelpfulnessNumerator - number of users who found the review helpful\n",
    "7.  HelpfulnessDenominator - number of users who indicated whether they found the review helpful or not\n",
    "8.  Score - rating between 1 and 5\n",
    "9.  Time - timestamp for the review\n",
    "10. Summary - brief summary of the review\n",
    "11. Text - text of the review\n",
    "12. ProcessedText - Cleaned & Preprocessed Text of the review\n",
    "\n",
    "**Objective: Given Amazon Food reviews, convert all the reviews into a vector using tfidf w2v technique then plot T-SNE. Separate all positive and negative reviews by blue and red colors respectively.**\n",
    "\n",
    "[Q] How to determine if a review is positive or negative?\n",
    "\n",
    "[Ans] We could use the Score/Rating. A rating of 4 or 5 could be cosnidered a positive review. A review of 1 or 2 could be considered negative. A review of 3 is nuetral and ignored. This is an approximate and proxy way of determining the polarity (positivity/negativity) of a review."
   ]
  },
  {
   "cell_type": "markdown",
   "metadata": {},
   "source": [
    "Loading the data The dataset is available in two forms\n",
    "\n",
    "1) .csv file\n",
    "\n",
    "2) SQLite Database\n",
    "\n",
    "In order to load the data, We have used the SQLITE dataset as it easier to query the data and visualise the data efficiently. Here as we only want to get the global sentiment of the recommendations (positive or negative), we will purposefully ignore all Scores equal to 3. If the score id above 3, then the recommendation wil be set to \"positive\". Otherwise, it will be set to \"negative\"."
   ]
  },
  {
   "cell_type": "code",
   "execution_count": 1,
   "metadata": {
    "collapsed": true
   },
   "outputs": [],
   "source": [
    "import sqlite3\n",
    "import pandas as pd\n",
    "import numpy as np\n",
    "import matplotlib.pyplot as plot\n",
    "import nltk             #nltk = natural language tool kit\n",
    "import seaborn as sns\n",
    "\n",
    "from sklearn.feature_extraction.text import TfidfTransformer\n",
    "from sklearn.feature_extraction.text import TfidfVectorizer\n",
    "\n",
    "from sklearn.feature_extraction.text import CountVectorizer\n",
    "from sklearn.metrics import confusion_matrix\n",
    "from sklearn import metrics\n",
    "from sklearn.metrics import roc_curve, auc\n",
    "from nltk.stem.porter import PorterStemmer"
   ]
  },
  {
   "cell_type": "code",
   "execution_count": 2,
   "metadata": {
    "collapsed": true
   },
   "outputs": [],
   "source": [
    "connection = sqlite3.connect('FinalAmazonFoodReviewsDataset.sqlite')"
   ]
  },
  {
   "cell_type": "code",
   "execution_count": 3,
   "metadata": {
    "collapsed": true
   },
   "outputs": [],
   "source": [
    "data = pd.read_sql_query(\"SELECT * FROM Reviews\", connection)"
   ]
  },
  {
   "cell_type": "code",
   "execution_count": 4,
   "metadata": {},
   "outputs": [
    {
     "data": {
      "text/html": [
       "<div>\n",
       "<style>\n",
       "    .dataframe thead tr:only-child th {\n",
       "        text-align: right;\n",
       "    }\n",
       "\n",
       "    .dataframe thead th {\n",
       "        text-align: left;\n",
       "    }\n",
       "\n",
       "    .dataframe tbody tr th {\n",
       "        vertical-align: top;\n",
       "    }\n",
       "</style>\n",
       "<table border=\"1\" class=\"dataframe\">\n",
       "  <thead>\n",
       "    <tr style=\"text-align: right;\">\n",
       "      <th></th>\n",
       "      <th>index</th>\n",
       "      <th>Id</th>\n",
       "      <th>ProductId</th>\n",
       "      <th>UserId</th>\n",
       "      <th>ProfileName</th>\n",
       "      <th>HelpfulnessNumerator</th>\n",
       "      <th>HelpfulnessDenominator</th>\n",
       "      <th>Score</th>\n",
       "      <th>Time</th>\n",
       "      <th>Summary</th>\n",
       "      <th>Text</th>\n",
       "      <th>ProcessedText</th>\n",
       "    </tr>\n",
       "  </thead>\n",
       "  <tbody>\n",
       "    <tr>\n",
       "      <th>0</th>\n",
       "      <td>0</td>\n",
       "      <td>1</td>\n",
       "      <td>B001E4KFG0</td>\n",
       "      <td>A3SGXH7AUHU8GW</td>\n",
       "      <td>delmartian</td>\n",
       "      <td>1</td>\n",
       "      <td>1</td>\n",
       "      <td>Positive</td>\n",
       "      <td>1303862400</td>\n",
       "      <td>Good Quality Dog Food</td>\n",
       "      <td>I have bought several of the Vitality canned d...</td>\n",
       "      <td>have bought sever the vital can dog food produ...</td>\n",
       "    </tr>\n",
       "    <tr>\n",
       "      <th>1</th>\n",
       "      <td>1</td>\n",
       "      <td>2</td>\n",
       "      <td>B00813GRG4</td>\n",
       "      <td>A1D87F6ZCVE5NK</td>\n",
       "      <td>dll pa</td>\n",
       "      <td>0</td>\n",
       "      <td>0</td>\n",
       "      <td>Negative</td>\n",
       "      <td>1346976000</td>\n",
       "      <td>Not as Advertised</td>\n",
       "      <td>Product arrived labeled as Jumbo Salted Peanut...</td>\n",
       "      <td>product arriv label jumbo salt peanut the pean...</td>\n",
       "    </tr>\n",
       "    <tr>\n",
       "      <th>2</th>\n",
       "      <td>2</td>\n",
       "      <td>3</td>\n",
       "      <td>B000LQOCH0</td>\n",
       "      <td>ABXLMWJIXXAIN</td>\n",
       "      <td>Natalia Corres \"Natalia Corres\"</td>\n",
       "      <td>1</td>\n",
       "      <td>1</td>\n",
       "      <td>Positive</td>\n",
       "      <td>1219017600</td>\n",
       "      <td>\"Delight\" says it all</td>\n",
       "      <td>This is a confection that has been around a fe...</td>\n",
       "      <td>this confect that has been around few centuri ...</td>\n",
       "    </tr>\n",
       "    <tr>\n",
       "      <th>3</th>\n",
       "      <td>4</td>\n",
       "      <td>5</td>\n",
       "      <td>B006K2ZZ7K</td>\n",
       "      <td>A1UQRSCLF8GW1T</td>\n",
       "      <td>Michael D. Bigham \"M. Wassir\"</td>\n",
       "      <td>0</td>\n",
       "      <td>0</td>\n",
       "      <td>Positive</td>\n",
       "      <td>1350777600</td>\n",
       "      <td>Great taffy</td>\n",
       "      <td>Great taffy at a great price.  There was a wid...</td>\n",
       "      <td>great taffi great price there was wide assort ...</td>\n",
       "    </tr>\n",
       "    <tr>\n",
       "      <th>4</th>\n",
       "      <td>5</td>\n",
       "      <td>6</td>\n",
       "      <td>B006K2ZZ7K</td>\n",
       "      <td>ADT0SRK1MGOEU</td>\n",
       "      <td>Twoapennything</td>\n",
       "      <td>0</td>\n",
       "      <td>0</td>\n",
       "      <td>Positive</td>\n",
       "      <td>1342051200</td>\n",
       "      <td>Nice Taffy</td>\n",
       "      <td>I got a wild hair for taffy and ordered this f...</td>\n",
       "      <td>got wild hair for taffi and order this five po...</td>\n",
       "    </tr>\n",
       "  </tbody>\n",
       "</table>\n",
       "</div>"
      ],
      "text/plain": [
       "   index  Id   ProductId          UserId                      ProfileName  \\\n",
       "0      0   1  B001E4KFG0  A3SGXH7AUHU8GW                       delmartian   \n",
       "1      1   2  B00813GRG4  A1D87F6ZCVE5NK                           dll pa   \n",
       "2      2   3  B000LQOCH0   ABXLMWJIXXAIN  Natalia Corres \"Natalia Corres\"   \n",
       "3      4   5  B006K2ZZ7K  A1UQRSCLF8GW1T    Michael D. Bigham \"M. Wassir\"   \n",
       "4      5   6  B006K2ZZ7K   ADT0SRK1MGOEU                   Twoapennything   \n",
       "\n",
       "   HelpfulnessNumerator  HelpfulnessDenominator     Score        Time  \\\n",
       "0                     1                       1  Positive  1303862400   \n",
       "1                     0                       0  Negative  1346976000   \n",
       "2                     1                       1  Positive  1219017600   \n",
       "3                     0                       0  Positive  1350777600   \n",
       "4                     0                       0  Positive  1342051200   \n",
       "\n",
       "                 Summary                                               Text  \\\n",
       "0  Good Quality Dog Food  I have bought several of the Vitality canned d...   \n",
       "1      Not as Advertised  Product arrived labeled as Jumbo Salted Peanut...   \n",
       "2  \"Delight\" says it all  This is a confection that has been around a fe...   \n",
       "3            Great taffy  Great taffy at a great price.  There was a wid...   \n",
       "4             Nice Taffy  I got a wild hair for taffy and ordered this f...   \n",
       "\n",
       "                                       ProcessedText  \n",
       "0  have bought sever the vital can dog food produ...  \n",
       "1  product arriv label jumbo salt peanut the pean...  \n",
       "2  this confect that has been around few centuri ...  \n",
       "3  great taffi great price there was wide assort ...  \n",
       "4  got wild hair for taffi and order this five po...  "
      ]
     },
     "execution_count": 4,
     "metadata": {},
     "output_type": "execute_result"
    }
   ],
   "source": [
    "data.head(5)"
   ]
  },
  {
   "cell_type": "code",
   "execution_count": 5,
   "metadata": {},
   "outputs": [
    {
     "data": {
      "text/plain": [
       "(364171, 12)"
      ]
     },
     "execution_count": 5,
     "metadata": {},
     "output_type": "execute_result"
    }
   ],
   "source": [
    "data.shape"
   ]
  },
  {
   "cell_type": "code",
   "execution_count": 6,
   "metadata": {},
   "outputs": [
    {
     "data": {
      "text/plain": [
       "Positive    307061\n",
       "Negative     57110\n",
       "Name: Score, dtype: int64"
      ]
     },
     "execution_count": 6,
     "metadata": {},
     "output_type": "execute_result"
    }
   ],
   "source": [
    "data[\"Score\"].value_counts()"
   ]
  },
  {
   "cell_type": "code",
   "execution_count": 7,
   "metadata": {
    "collapsed": true
   },
   "outputs": [],
   "source": [
    "allPositiveReviews = pd.read_sql_query(\"SELECT * FROM Reviews WHERE Score = 'Positive'\", connection)"
   ]
  },
  {
   "cell_type": "code",
   "execution_count": 8,
   "metadata": {},
   "outputs": [
    {
     "data": {
      "text/plain": [
       "(307061, 12)"
      ]
     },
     "execution_count": 8,
     "metadata": {},
     "output_type": "execute_result"
    }
   ],
   "source": [
    "allPositiveReviews.shape"
   ]
  },
  {
   "cell_type": "code",
   "execution_count": 9,
   "metadata": {
    "collapsed": true
   },
   "outputs": [],
   "source": [
    "allNegativeReviews = pd.read_sql_query(\"SELECT * FROM Reviews WHERE Score = 'Negative'\", connection)"
   ]
  },
  {
   "cell_type": "code",
   "execution_count": 10,
   "metadata": {},
   "outputs": [
    {
     "data": {
      "text/plain": [
       "(57110, 12)"
      ]
     },
     "execution_count": 10,
     "metadata": {},
     "output_type": "execute_result"
    }
   ],
   "source": [
    "allNegativeReviews.shape"
   ]
  },
  {
   "cell_type": "code",
   "execution_count": 12,
   "metadata": {
    "collapsed": true
   },
   "outputs": [],
   "source": [
    "positiveReviews_500 = allPositiveReviews[3600:4100]"
   ]
  },
  {
   "cell_type": "code",
   "execution_count": 13,
   "metadata": {},
   "outputs": [
    {
     "name": "stdout",
     "output_type": "stream",
     "text": [
      "(500, 12)\n"
     ]
    }
   ],
   "source": [
    "print(positiveReviews_500.shape)"
   ]
  },
  {
   "cell_type": "code",
   "execution_count": 14,
   "metadata": {},
   "outputs": [
    {
     "data": {
      "text/html": [
       "<div>\n",
       "<style>\n",
       "    .dataframe thead tr:only-child th {\n",
       "        text-align: right;\n",
       "    }\n",
       "\n",
       "    .dataframe thead th {\n",
       "        text-align: left;\n",
       "    }\n",
       "\n",
       "    .dataframe tbody tr th {\n",
       "        vertical-align: top;\n",
       "    }\n",
       "</style>\n",
       "<table border=\"1\" class=\"dataframe\">\n",
       "  <thead>\n",
       "    <tr style=\"text-align: right;\">\n",
       "      <th></th>\n",
       "      <th>index</th>\n",
       "      <th>Id</th>\n",
       "      <th>ProductId</th>\n",
       "      <th>UserId</th>\n",
       "      <th>ProfileName</th>\n",
       "      <th>HelpfulnessNumerator</th>\n",
       "      <th>HelpfulnessDenominator</th>\n",
       "      <th>Score</th>\n",
       "      <th>Time</th>\n",
       "      <th>Summary</th>\n",
       "      <th>Text</th>\n",
       "      <th>ProcessedText</th>\n",
       "    </tr>\n",
       "  </thead>\n",
       "  <tbody>\n",
       "    <tr>\n",
       "      <th>3600</th>\n",
       "      <td>5710</td>\n",
       "      <td>6181</td>\n",
       "      <td>B005GHVL1O</td>\n",
       "      <td>A1G8ET9GA45DTX</td>\n",
       "      <td>veronica</td>\n",
       "      <td>0</td>\n",
       "      <td>0</td>\n",
       "      <td>Positive</td>\n",
       "      <td>1348012800</td>\n",
       "      <td>Dr Pepper</td>\n",
       "      <td>I got this product for my husband beause he lo...</td>\n",
       "      <td>got this product for husband beaus love pepper...</td>\n",
       "    </tr>\n",
       "    <tr>\n",
       "      <th>3601</th>\n",
       "      <td>5711</td>\n",
       "      <td>6182</td>\n",
       "      <td>B005GHVL1O</td>\n",
       "      <td>A3J2BJNYXP9ZUV</td>\n",
       "      <td>Az Will</td>\n",
       "      <td>0</td>\n",
       "      <td>0</td>\n",
       "      <td>Positive</td>\n",
       "      <td>1345939200</td>\n",
       "      <td>Dublin Dr. Pepper</td>\n",
       "      <td>Shipping was quite a bit but the bottles were ...</td>\n",
       "      <td>ship was quit bit but the bottl were all unbro...</td>\n",
       "    </tr>\n",
       "    <tr>\n",
       "      <th>3602</th>\n",
       "      <td>5712</td>\n",
       "      <td>6184</td>\n",
       "      <td>B004JQTDUO</td>\n",
       "      <td>A3GKY9OEJQYKEE</td>\n",
       "      <td>william</td>\n",
       "      <td>0</td>\n",
       "      <td>0</td>\n",
       "      <td>Positive</td>\n",
       "      <td>1328745600</td>\n",
       "      <td>GREAT COFFEE</td>\n",
       "      <td>ESPECIALLY AS WE GET OLDER, THE LINING OF OUR ...</td>\n",
       "      <td>especi get older the line our stomach get more...</td>\n",
       "    </tr>\n",
       "    <tr>\n",
       "      <th>3603</th>\n",
       "      <td>5713</td>\n",
       "      <td>6186</td>\n",
       "      <td>B000UOFW9K</td>\n",
       "      <td>A1OPSTQ3ZHTPKZ</td>\n",
       "      <td>Lois C. Granzow</td>\n",
       "      <td>4</td>\n",
       "      <td>4</td>\n",
       "      <td>Positive</td>\n",
       "      <td>1215907200</td>\n",
       "      <td>Product delicious, but shipping lacking.</td>\n",
       "      <td>I was delighted to find this product online, b...</td>\n",
       "      <td>was delight find this product onlin becaus can...</td>\n",
       "    </tr>\n",
       "    <tr>\n",
       "      <th>3604</th>\n",
       "      <td>5714</td>\n",
       "      <td>6187</td>\n",
       "      <td>B000UOFW9K</td>\n",
       "      <td>A2R6RA8FRBS608</td>\n",
       "      <td>Matthew G. Sherwin</td>\n",
       "      <td>6</td>\n",
       "      <td>7</td>\n",
       "      <td>Positive</td>\n",
       "      <td>1206748800</td>\n",
       "      <td>all right by me !!!</td>\n",
       "      <td>These chips are some of the best I've had--eve...</td>\n",
       "      <td>these chip are some the best ive theyr good da...</td>\n",
       "    </tr>\n",
       "  </tbody>\n",
       "</table>\n",
       "</div>"
      ],
      "text/plain": [
       "      index    Id   ProductId          UserId         ProfileName  \\\n",
       "3600   5710  6181  B005GHVL1O  A1G8ET9GA45DTX            veronica   \n",
       "3601   5711  6182  B005GHVL1O  A3J2BJNYXP9ZUV             Az Will   \n",
       "3602   5712  6184  B004JQTDUO  A3GKY9OEJQYKEE             william   \n",
       "3603   5713  6186  B000UOFW9K  A1OPSTQ3ZHTPKZ     Lois C. Granzow   \n",
       "3604   5714  6187  B000UOFW9K  A2R6RA8FRBS608  Matthew G. Sherwin   \n",
       "\n",
       "      HelpfulnessNumerator  HelpfulnessDenominator     Score        Time  \\\n",
       "3600                     0                       0  Positive  1348012800   \n",
       "3601                     0                       0  Positive  1345939200   \n",
       "3602                     0                       0  Positive  1328745600   \n",
       "3603                     4                       4  Positive  1215907200   \n",
       "3604                     6                       7  Positive  1206748800   \n",
       "\n",
       "                                       Summary  \\\n",
       "3600                                 Dr Pepper   \n",
       "3601                         Dublin Dr. Pepper   \n",
       "3602                              GREAT COFFEE   \n",
       "3603  Product delicious, but shipping lacking.   \n",
       "3604                       all right by me !!!   \n",
       "\n",
       "                                                   Text  \\\n",
       "3600  I got this product for my husband beause he lo...   \n",
       "3601  Shipping was quite a bit but the bottles were ...   \n",
       "3602  ESPECIALLY AS WE GET OLDER, THE LINING OF OUR ...   \n",
       "3603  I was delighted to find this product online, b...   \n",
       "3604  These chips are some of the best I've had--eve...   \n",
       "\n",
       "                                          ProcessedText  \n",
       "3600  got this product for husband beaus love pepper...  \n",
       "3601  ship was quit bit but the bottl were all unbro...  \n",
       "3602  especi get older the line our stomach get more...  \n",
       "3603  was delight find this product onlin becaus can...  \n",
       "3604  these chip are some the best ive theyr good da...  "
      ]
     },
     "execution_count": 14,
     "metadata": {},
     "output_type": "execute_result"
    }
   ],
   "source": [
    "positiveReviews_500.head(5)"
   ]
  },
  {
   "cell_type": "code",
   "execution_count": 15,
   "metadata": {
    "collapsed": true
   },
   "outputs": [],
   "source": [
    "negativeReviews_500 = allNegativeReviews[8500:9000]"
   ]
  },
  {
   "cell_type": "code",
   "execution_count": 16,
   "metadata": {},
   "outputs": [
    {
     "name": "stdout",
     "output_type": "stream",
     "text": [
      "(500, 12)\n"
     ]
    }
   ],
   "source": [
    "print(negativeReviews_500.shape)"
   ]
  },
  {
   "cell_type": "code",
   "execution_count": 17,
   "metadata": {},
   "outputs": [
    {
     "data": {
      "text/html": [
       "<div>\n",
       "<style>\n",
       "    .dataframe thead tr:only-child th {\n",
       "        text-align: right;\n",
       "    }\n",
       "\n",
       "    .dataframe thead th {\n",
       "        text-align: left;\n",
       "    }\n",
       "\n",
       "    .dataframe tbody tr th {\n",
       "        vertical-align: top;\n",
       "    }\n",
       "</style>\n",
       "<table border=\"1\" class=\"dataframe\">\n",
       "  <thead>\n",
       "    <tr style=\"text-align: right;\">\n",
       "      <th></th>\n",
       "      <th>index</th>\n",
       "      <th>Id</th>\n",
       "      <th>ProductId</th>\n",
       "      <th>UserId</th>\n",
       "      <th>ProfileName</th>\n",
       "      <th>HelpfulnessNumerator</th>\n",
       "      <th>HelpfulnessDenominator</th>\n",
       "      <th>Score</th>\n",
       "      <th>Time</th>\n",
       "      <th>Summary</th>\n",
       "      <th>Text</th>\n",
       "      <th>ProcessedText</th>\n",
       "    </tr>\n",
       "  </thead>\n",
       "  <tbody>\n",
       "    <tr>\n",
       "      <th>8500</th>\n",
       "      <td>74527</td>\n",
       "      <td>81080</td>\n",
       "      <td>B004CT1NCY</td>\n",
       "      <td>AKFTHPU6CAWP</td>\n",
       "      <td>Jonathan R Evans</td>\n",
       "      <td>0</td>\n",
       "      <td>0</td>\n",
       "      <td>Negative</td>\n",
       "      <td>1344384000</td>\n",
       "      <td>been 2 months and still have not received the ...</td>\n",
       "      <td>Ordered the product in the middle of june and ...</td>\n",
       "      <td>order the product the middl june and have yet ...</td>\n",
       "    </tr>\n",
       "    <tr>\n",
       "      <th>8501</th>\n",
       "      <td>74536</td>\n",
       "      <td>81091</td>\n",
       "      <td>B000O9WEY2</td>\n",
       "      <td>A1PT8D39ZSDN2P</td>\n",
       "      <td>T. Usrey \"tc_sting\"</td>\n",
       "      <td>25</td>\n",
       "      <td>30</td>\n",
       "      <td>Negative</td>\n",
       "      <td>1330905600</td>\n",
       "      <td>Misleading Description</td>\n",
       "      <td>I purcahsed this oatmeal variety pack assuming...</td>\n",
       "      <td>purcahs this oatmeal varieti pack assum would ...</td>\n",
       "    </tr>\n",
       "    <tr>\n",
       "      <th>8502</th>\n",
       "      <td>74538</td>\n",
       "      <td>81093</td>\n",
       "      <td>B000O9WEY2</td>\n",
       "      <td>A30UUVP4H3IZT7</td>\n",
       "      <td>JJ21</td>\n",
       "      <td>8</td>\n",
       "      <td>10</td>\n",
       "      <td>Negative</td>\n",
       "      <td>1320019200</td>\n",
       "      <td>FALSE ADVERTISEMENT!</td>\n",
       "      <td>What is pictured and what you recieve is not t...</td>\n",
       "      <td>what pictur and what you reciev not the same t...</td>\n",
       "    </tr>\n",
       "    <tr>\n",
       "      <th>8503</th>\n",
       "      <td>74540</td>\n",
       "      <td>81095</td>\n",
       "      <td>B000O9WEY2</td>\n",
       "      <td>ABHU1BMZ7BO53</td>\n",
       "      <td>jmjudd99</td>\n",
       "      <td>5</td>\n",
       "      <td>6</td>\n",
       "      <td>Negative</td>\n",
       "      <td>1301184000</td>\n",
       "      <td>Great product, disappointed in price. :(</td>\n",
       "      <td>I like the large variety of oatmeal but less t...</td>\n",
       "      <td>like the larg varieti oatmeal but less that we...</td>\n",
       "    </tr>\n",
       "    <tr>\n",
       "      <th>8504</th>\n",
       "      <td>74543</td>\n",
       "      <td>81098</td>\n",
       "      <td>B000O9WEY2</td>\n",
       "      <td>A18OXSORBLCYF5</td>\n",
       "      <td>J. Tsai</td>\n",
       "      <td>1</td>\n",
       "      <td>1</td>\n",
       "      <td>Negative</td>\n",
       "      <td>1341187200</td>\n",
       "      <td>Too Expensive and not what I expected.</td>\n",
       "      <td>The box I got is same as I can purchase from C...</td>\n",
       "      <td>the box got same can purchas from costco but m...</td>\n",
       "    </tr>\n",
       "  </tbody>\n",
       "</table>\n",
       "</div>"
      ],
      "text/plain": [
       "      index     Id   ProductId          UserId          ProfileName  \\\n",
       "8500  74527  81080  B004CT1NCY    AKFTHPU6CAWP     Jonathan R Evans   \n",
       "8501  74536  81091  B000O9WEY2  A1PT8D39ZSDN2P  T. Usrey \"tc_sting\"   \n",
       "8502  74538  81093  B000O9WEY2  A30UUVP4H3IZT7                 JJ21   \n",
       "8503  74540  81095  B000O9WEY2   ABHU1BMZ7BO53             jmjudd99   \n",
       "8504  74543  81098  B000O9WEY2  A18OXSORBLCYF5              J. Tsai   \n",
       "\n",
       "      HelpfulnessNumerator  HelpfulnessDenominator     Score        Time  \\\n",
       "8500                     0                       0  Negative  1344384000   \n",
       "8501                    25                      30  Negative  1330905600   \n",
       "8502                     8                      10  Negative  1320019200   \n",
       "8503                     5                       6  Negative  1301184000   \n",
       "8504                     1                       1  Negative  1341187200   \n",
       "\n",
       "                                                Summary  \\\n",
       "8500  been 2 months and still have not received the ...   \n",
       "8501                             Misleading Description   \n",
       "8502                               FALSE ADVERTISEMENT!   \n",
       "8503           Great product, disappointed in price. :(   \n",
       "8504             Too Expensive and not what I expected.   \n",
       "\n",
       "                                                   Text  \\\n",
       "8500  Ordered the product in the middle of june and ...   \n",
       "8501  I purcahsed this oatmeal variety pack assuming...   \n",
       "8502  What is pictured and what you recieve is not t...   \n",
       "8503  I like the large variety of oatmeal but less t...   \n",
       "8504  The box I got is same as I can purchase from C...   \n",
       "\n",
       "                                          ProcessedText  \n",
       "8500  order the product the middl june and have yet ...  \n",
       "8501  purcahs this oatmeal varieti pack assum would ...  \n",
       "8502  what pictur and what you reciev not the same t...  \n",
       "8503  like the larg varieti oatmeal but less that we...  \n",
       "8504  the box got same can purchas from costco but m...  "
      ]
     },
     "execution_count": 17,
     "metadata": {},
     "output_type": "execute_result"
    }
   ],
   "source": [
    "negativeReviews_500.head(5)"
   ]
  },
  {
   "cell_type": "code",
   "execution_count": 18,
   "metadata": {
    "collapsed": true
   },
   "outputs": [],
   "source": [
    "frames_1000 = [positiveReviews_500, negativeReviews_500]"
   ]
  },
  {
   "cell_type": "code",
   "execution_count": 19,
   "metadata": {
    "collapsed": true
   },
   "outputs": [],
   "source": [
    "FinalPositiveNegative = pd.concat(frames_1000)"
   ]
  },
  {
   "cell_type": "code",
   "execution_count": 20,
   "metadata": {},
   "outputs": [
    {
     "data": {
      "text/plain": [
       "(1000, 12)"
      ]
     },
     "execution_count": 20,
     "metadata": {},
     "output_type": "execute_result"
    }
   ],
   "source": [
    "FinalPositiveNegative.shape"
   ]
  },
  {
   "cell_type": "code",
   "execution_count": 21,
   "metadata": {
    "collapsed": true
   },
   "outputs": [],
   "source": [
    "FinalSortedPositiveNegative_1000 = FinalPositiveNegative.sort_values('Time', axis=0, ascending=True, inplace=False)"
   ]
  },
  {
   "cell_type": "code",
   "execution_count": 22,
   "metadata": {
    "collapsed": true
   },
   "outputs": [],
   "source": [
    "FinalSortedPositiveNegativeScore_1000 = FinalSortedPositiveNegative_1000[\"Score\"]"
   ]
  },
  {
   "cell_type": "code",
   "execution_count": 24,
   "metadata": {},
   "outputs": [
    {
     "name": "stdout",
     "output_type": "stream",
     "text": [
      "(1000, 12)\n",
      "(1000,)\n"
     ]
    }
   ],
   "source": [
    "print(FinalSortedPositiveNegative_1000.shape)\n",
    "print(FinalSortedPositiveNegativeScore_1000.shape)"
   ]
  },
  {
   "cell_type": "code",
   "execution_count": 27,
   "metadata": {},
   "outputs": [
    {
     "data": {
      "text/html": [
       "<div>\n",
       "<style>\n",
       "    .dataframe thead tr:only-child th {\n",
       "        text-align: right;\n",
       "    }\n",
       "\n",
       "    .dataframe thead th {\n",
       "        text-align: left;\n",
       "    }\n",
       "\n",
       "    .dataframe tbody tr th {\n",
       "        vertical-align: top;\n",
       "    }\n",
       "</style>\n",
       "<table border=\"1\" class=\"dataframe\">\n",
       "  <thead>\n",
       "    <tr style=\"text-align: right;\">\n",
       "      <th></th>\n",
       "      <th>index</th>\n",
       "      <th>Id</th>\n",
       "      <th>ProductId</th>\n",
       "      <th>UserId</th>\n",
       "      <th>ProfileName</th>\n",
       "      <th>HelpfulnessNumerator</th>\n",
       "      <th>HelpfulnessDenominator</th>\n",
       "      <th>Score</th>\n",
       "      <th>Time</th>\n",
       "      <th>Summary</th>\n",
       "      <th>Text</th>\n",
       "      <th>ProcessedText</th>\n",
       "    </tr>\n",
       "  </thead>\n",
       "  <tbody>\n",
       "    <tr>\n",
       "      <th>3761</th>\n",
       "      <td>5907</td>\n",
       "      <td>6397</td>\n",
       "      <td>B000084EK7</td>\n",
       "      <td>A1Z54EM24Y40LL</td>\n",
       "      <td>c2</td>\n",
       "      <td>0</td>\n",
       "      <td>0</td>\n",
       "      <td>Positive</td>\n",
       "      <td>1090972800</td>\n",
       "      <td>What's in this?</td>\n",
       "      <td>This one is a great basic food. Whatever is in...</td>\n",
       "      <td>this one great basic food whatev cat realli fo...</td>\n",
       "    </tr>\n",
       "    <tr>\n",
       "      <th>3759</th>\n",
       "      <td>5905</td>\n",
       "      <td>6395</td>\n",
       "      <td>B000084EK5</td>\n",
       "      <td>A1Z54EM24Y40LL</td>\n",
       "      <td>c2</td>\n",
       "      <td>1</td>\n",
       "      <td>1</td>\n",
       "      <td>Positive</td>\n",
       "      <td>1090972800</td>\n",
       "      <td>Family favorite - looks like steak!</td>\n",
       "      <td>This is my cat's third favorite food.  It's gr...</td>\n",
       "      <td>this cat third favorit food it great stuff the...</td>\n",
       "    </tr>\n",
       "    <tr>\n",
       "      <th>3744</th>\n",
       "      <td>5885</td>\n",
       "      <td>6373</td>\n",
       "      <td>B000084EKA</td>\n",
       "      <td>A1Z54EM24Y40LL</td>\n",
       "      <td>c2</td>\n",
       "      <td>0</td>\n",
       "      <td>0</td>\n",
       "      <td>Positive</td>\n",
       "      <td>1090972800</td>\n",
       "      <td>Not their best...</td>\n",
       "      <td>I think 9 Lives does a better job on this vari...</td>\n",
       "      <td>think live doe better job this varieti than fr...</td>\n",
       "    </tr>\n",
       "    <tr>\n",
       "      <th>3746</th>\n",
       "      <td>5887</td>\n",
       "      <td>6375</td>\n",
       "      <td>B000084EKC</td>\n",
       "      <td>A1Z54EM24Y40LL</td>\n",
       "      <td>c2</td>\n",
       "      <td>1</td>\n",
       "      <td>1</td>\n",
       "      <td>Positive</td>\n",
       "      <td>1090972800</td>\n",
       "      <td>Great food for all cats!</td>\n",
       "      <td>According to my cat, this stuff is just great....</td>\n",
       "      <td>accord cat this stuff just great just lick him...</td>\n",
       "    </tr>\n",
       "    <tr>\n",
       "      <th>3750</th>\n",
       "      <td>5893</td>\n",
       "      <td>6381</td>\n",
       "      <td>B000084EKG</td>\n",
       "      <td>A1Z54EM24Y40LL</td>\n",
       "      <td>c2</td>\n",
       "      <td>2</td>\n",
       "      <td>2</td>\n",
       "      <td>Positive</td>\n",
       "      <td>1090972800</td>\n",
       "      <td>Awesome food!</td>\n",
       "      <td>This is my cat's favorite one.  He just licks ...</td>\n",
       "      <td>this cat favorit one just lick that bowl clean...</td>\n",
       "    </tr>\n",
       "  </tbody>\n",
       "</table>\n",
       "</div>"
      ],
      "text/plain": [
       "      index    Id   ProductId          UserId ProfileName  \\\n",
       "3761   5907  6397  B000084EK7  A1Z54EM24Y40LL          c2   \n",
       "3759   5905  6395  B000084EK5  A1Z54EM24Y40LL          c2   \n",
       "3744   5885  6373  B000084EKA  A1Z54EM24Y40LL          c2   \n",
       "3746   5887  6375  B000084EKC  A1Z54EM24Y40LL          c2   \n",
       "3750   5893  6381  B000084EKG  A1Z54EM24Y40LL          c2   \n",
       "\n",
       "      HelpfulnessNumerator  HelpfulnessDenominator     Score        Time  \\\n",
       "3761                     0                       0  Positive  1090972800   \n",
       "3759                     1                       1  Positive  1090972800   \n",
       "3744                     0                       0  Positive  1090972800   \n",
       "3746                     1                       1  Positive  1090972800   \n",
       "3750                     2                       2  Positive  1090972800   \n",
       "\n",
       "                                  Summary  \\\n",
       "3761                      What's in this?   \n",
       "3759  Family favorite - looks like steak!   \n",
       "3744                    Not their best...   \n",
       "3746             Great food for all cats!   \n",
       "3750                        Awesome food!   \n",
       "\n",
       "                                                   Text  \\\n",
       "3761  This one is a great basic food. Whatever is in...   \n",
       "3759  This is my cat's third favorite food.  It's gr...   \n",
       "3744  I think 9 Lives does a better job on this vari...   \n",
       "3746  According to my cat, this stuff is just great....   \n",
       "3750  This is my cat's favorite one.  He just licks ...   \n",
       "\n",
       "                                          ProcessedText  \n",
       "3761  this one great basic food whatev cat realli fo...  \n",
       "3759  this cat third favorit food it great stuff the...  \n",
       "3744  think live doe better job this varieti than fr...  \n",
       "3746  accord cat this stuff just great just lick him...  \n",
       "3750  this cat favorit one just lick that bowl clean...  "
      ]
     },
     "execution_count": 27,
     "metadata": {},
     "output_type": "execute_result"
    }
   ],
   "source": [
    "FinalSortedPositiveNegative_1000.head(5)"
   ]
  },
  {
   "cell_type": "markdown",
   "metadata": {},
   "source": [
    "## tfidf_w2v"
   ]
  },
  {
   "cell_type": "code",
   "execution_count": 38,
   "metadata": {
    "collapsed": true
   },
   "outputs": [],
   "source": [
    "tf_idf_vect = TfidfVectorizer(ngram_range=(1,2), stop_words = \"english\")\n",
    "final_tf_idf = tf_idf_vect.fit_transform(FinalSortedPositiveNegative_1000['ProcessedText'].values)"
   ]
  },
  {
   "cell_type": "code",
   "execution_count": 39,
   "metadata": {},
   "outputs": [
    {
     "name": "stdout",
     "output_type": "stream",
     "text": [
      "<class 'scipy.sparse.csr.csr_matrix'>\n"
     ]
    }
   ],
   "source": [
    "print(type(final_tf_idf))"
   ]
  },
  {
   "cell_type": "code",
   "execution_count": 40,
   "metadata": {},
   "outputs": [
    {
     "data": {
      "text/plain": [
       "(1000, 31173)"
      ]
     },
     "execution_count": 40,
     "metadata": {},
     "output_type": "execute_result"
    }
   ],
   "source": [
    "final_tf_idf.get_shape()"
   ]
  },
  {
   "cell_type": "code",
   "execution_count": 28,
   "metadata": {},
   "outputs": [
    {
     "name": "stderr",
     "output_type": "stream",
     "text": [
      "C:\\Users\\GauravP\\Anaconda3\\lib\\site-packages\\gensim-3.2.0-py3.6-win-amd64.egg\\gensim\\utils.py:860: UserWarning: detected Windows; aliasing chunkize to chunkize_serial\n",
      "  warnings.warn(\"detected Windows; aliasing chunkize to chunkize_serial\")\n"
     ]
    }
   ],
   "source": [
    "from gensim.models import Word2Vec\n",
    "from gensim.models import KeyedVectors\n",
    "import pickle"
   ]
  },
  {
   "cell_type": "code",
   "execution_count": 29,
   "metadata": {
    "collapsed": true
   },
   "outputs": [],
   "source": [
    "i = 0\n",
    "listOfSentences = []\n",
    "for sentence in FinalSortedPositiveNegative_1000[\"ProcessedText\"].values:\n",
    "    subSentence = []\n",
    "    for word in sentence.split():\n",
    "        subSentence.append(word)\n",
    "        \n",
    "    listOfSentences.append(subSentence)"
   ]
  },
  {
   "cell_type": "code",
   "execution_count": 32,
   "metadata": {},
   "outputs": [
    {
     "name": "stdout",
     "output_type": "stream",
     "text": [
      "['this one great basic food whatev cat realli for and mine except current cat realli doesnt like the ground varieti which what this will eat occasion onli buy about twice year previous cat had have more often and realli enjoy it hard judg what cat will eat your cat like ground give this one becaus realli seem big favorit'\n",
      " 'this cat third favorit food it great stuff the gravi veri thick and the food look like bit steak slick off for your friend cat lick the bowl clean everi time and want more they should send discount for much this stuff buy buy the case that give you some idea']\n",
      "\n",
      "\n",
      "[['this', 'one', 'great', 'basic', 'food', 'whatev', 'cat', 'realli', 'for', 'and', 'mine', 'except', 'current', 'cat', 'realli', 'doesnt', 'like', 'the', 'ground', 'varieti', 'which', 'what', 'this', 'will', 'eat', 'occasion', 'onli', 'buy', 'about', 'twice', 'year', 'previous', 'cat', 'had', 'have', 'more', 'often', 'and', 'realli', 'enjoy', 'it', 'hard', 'judg', 'what', 'cat', 'will', 'eat', 'your', 'cat', 'like', 'ground', 'give', 'this', 'one', 'becaus', 'realli', 'seem', 'big', 'favorit'], ['this', 'cat', 'third', 'favorit', 'food', 'it', 'great', 'stuff', 'the', 'gravi', 'veri', 'thick', 'and', 'the', 'food', 'look', 'like', 'bit', 'steak', 'slick', 'off', 'for', 'your', 'friend', 'cat', 'lick', 'the', 'bowl', 'clean', 'everi', 'time', 'and', 'want', 'more', 'they', 'should', 'send', 'discount', 'for', 'much', 'this', 'stuff', 'buy', 'buy', 'the', 'case', 'that', 'give', 'you', 'some', 'idea']]\n",
      "\n",
      "\n",
      "<class 'list'>\n"
     ]
    }
   ],
   "source": [
    "print(FinalSortedPositiveNegative_1000['ProcessedText'].values[0:2])\n",
    "print(\"\\n\")\n",
    "print(listOfSentences[0:2])\n",
    "print(\"\\n\")\n",
    "print(type(listOfSentences))"
   ]
  },
  {
   "cell_type": "code",
   "execution_count": 37,
   "metadata": {
    "collapsed": true
   },
   "outputs": [],
   "source": [
    "import gensim\n",
    "w2v_model=gensim.models.Word2Vec(listOfSentences, min_count=5, size=50, workers=4)   "
   ]
  },
  {
   "cell_type": "code",
   "execution_count": 50,
   "metadata": {
    "collapsed": true
   },
   "outputs": [],
   "source": [
    "# TF-IDF weighted Word2Vec\n",
    "tfidf_features = tf_idf_vect.get_feature_names()\n",
    "\n",
    "tfidf_w2v = []\n",
    "reviews = 0\n",
    "\n",
    "for sentence in listOfSentences:\n",
    "    sentenceVector = np.zeros(50)\n",
    "    weightSum = 0\n",
    "    for word in sentence:\n",
    "        try:\n",
    "            W2V_Vector = w2v_model.wv[word]\n",
    "            tfidf = final_tf_idf[reviews, tfidf_features.index(word)]\n",
    "            sentenceVector += (W2V_Vector * tfidf)\n",
    "            weightSum += tfidf\n",
    "        except:\n",
    "            pass\n",
    "    sentenceVector /= weightSum\n",
    "    tfidf_w2v.append(sentenceVector)\n",
    "    reviews += 1"
   ]
  },
  {
   "cell_type": "code",
   "execution_count": 59,
   "metadata": {},
   "outputs": [
    {
     "name": "stdout",
     "output_type": "stream",
     "text": [
      "(1000, 50)\n",
      "<class 'numpy.ndarray'>\n"
     ]
    }
   ],
   "source": [
    "from sklearn.preprocessing import StandardScaler\n",
    "standardized_tfidf_w2v = StandardScaler().fit_transform(tfidf_w2v)\n",
    "print(standardized_tfidf_w2v.shape)\n",
    "print(type(standardized_tfidf_w2v))"
   ]
  },
  {
   "cell_type": "markdown",
   "metadata": {},
   "source": [
    "## TSNE OF TFIDF W2V"
   ]
  },
  {
   "cell_type": "code",
   "execution_count": 60,
   "metadata": {
    "collapsed": true
   },
   "outputs": [],
   "source": [
    "from sklearn.manifold import TSNE\n",
    "\n",
    "model = TSNE(n_components=2, random_state=0, perplexity=500, n_iter=2500)\n",
    "\n",
    "tsne_data = model.fit_transform(standardized_tfidf_w2v)\n",
    "\n",
    "# creating a new data frame which help us in ploting the result data\n",
    "tsne_data = np.vstack((tsne_data.T, FinalSortedPositiveNegativeScore_1000)).T\n",
    "tsne_df = pd.DataFrame(data=tsne_data, columns=(\"Dim_1\", \"Dim_2\", \"Score\"))"
   ]
  },
  {
   "cell_type": "code",
   "execution_count": 61,
   "metadata": {},
   "outputs": [
    {
     "data": {
      "image/png": "[encoded data removed]",
      "text/plain": [
       "<matplotlib.figure.Figure at 0xb78c93ada0>"
      ]
     },
     "metadata": {},
     "output_type": "display_data"
    }
   ],
   "source": [
    "# Ploting the result of tsne\n",
    "sns.FacetGrid(tsne_df, hue=\"Score\", size=6).map(plot.scatter, 'Dim_1', 'Dim_2').add_legend()\n",
    "plot.show()"
   ]
  },
  {
   "cell_type": "code",
   "execution_count": 62,
   "metadata": {
    "collapsed": true
   },
   "outputs": [],
   "source": [
    "from sklearn.manifold import TSNE\n",
    "\n",
    "model = TSNE(n_components=2, random_state=0, perplexity=50, n_iter=3500)\n",
    "\n",
    "tsne_data = model.fit_transform(standardized_tfidf_w2v)\n",
    "\n",
    "# creating a new data frame which help us in ploting the result data\n",
    "tsne_data = np.vstack((tsne_data.T, FinalSortedPositiveNegativeScore_1000)).T\n",
    "tsne_df = pd.DataFrame(data=tsne_data, columns=(\"Dim_1\", \"Dim_2\", \"Score\"))"
   ]
  },
  {
   "cell_type": "code",
   "execution_count": 63,
   "metadata": {},
   "outputs": [
    {
     "data": {
      "image/png": "[encoded data removed]",
      "text/plain": [
       "<matplotlib.figure.Figure at 0xb78caf4d68>"
      ]
     },
     "metadata": {},
     "output_type": "display_data"
    }
   ],
   "source": [
    "# Ploting the result of tsne\n",
    "sns.FacetGrid(tsne_df, hue=\"Score\", size=6).map(plot.scatter, 'Dim_1', 'Dim_2').add_legend()\n",
    "plot.show()"
   ]
  },
  {
   "cell_type": "code",
   "execution_count": 64,
   "metadata": {
    "collapsed": true
   },
   "outputs": [],
   "source": [
    "from sklearn.manifold import TSNE\n",
    "\n",
    "model = TSNE(n_components=2, random_state=0, perplexity=100, n_iter=3500)\n",
    "\n",
    "tsne_data = model.fit_transform(standardized_tfidf_w2v)\n",
    "\n",
    "# creating a new data frame which help us in ploting the result data\n",
    "tsne_data = np.vstack((tsne_data.T, FinalSortedPositiveNegativeScore_1000)).T\n",
    "tsne_df = pd.DataFrame(data=tsne_data, columns=(\"Dim_1\", \"Dim_2\", \"Score\"))"
   ]
  },
  {
   "cell_type": "code",
   "execution_count": 65,
   "metadata": {},
   "outputs": [
    {
     "data": {
      "image/png": "[encoded data removed]",
      "text/plain": [
       "<matplotlib.figure.Figure at 0xb78cb297f0>"
      ]
     },
     "metadata": {},
     "output_type": "display_data"
    }
   ],
   "source": [
    "# Ploting the result of tsne\n",
    "sns.FacetGrid(tsne_df, hue=\"Score\", size=6).map(plot.scatter, 'Dim_1', 'Dim_2').add_legend()\n",
    "plot.show()"
   ]
  },
  {
   "cell_type": "code",
   "execution_count": 66,
   "metadata": {
    "collapsed": true
   },
   "outputs": [],
   "source": [
    "from sklearn.manifold import TSNE\n",
    "\n",
    "model = TSNE(n_components=2, random_state=0, perplexity=200, n_iter=2500)\n",
    "\n",
    "tsne_data = model.fit_transform(standardized_tfidf_w2v)\n",
    "\n",
    "# creating a new data frame which help us in ploting the result data\n",
    "tsne_data = np.vstack((tsne_data.T, FinalSortedPositiveNegativeScore_1000)).T\n",
    "tsne_df = pd.DataFrame(data=tsne_data, columns=(\"Dim_1\", \"Dim_2\", \"Score\"))"
   ]
  },
  {
   "cell_type": "code",
   "execution_count": 67,
   "metadata": {},
   "outputs": [
    {
     "data": {
      "image/png": "[encoded data removed]",
      "text/plain": [
       "<matplotlib.figure.Figure at 0xb78cbf9c88>"
      ]
     },
     "metadata": {},
     "output_type": "display_data"
    }
   ],
   "source": [
    "# Ploting the result of tsne\n",
    "sns.FacetGrid(tsne_df, hue=\"Score\", size=6).map(plot.scatter, 'Dim_1', 'Dim_2').add_legend()\n",
    "plot.show()"
   ]
  },
  {
   "cell_type": "code",
   "execution_count": null,
   "metadata": {
    "collapsed": true
   },
   "outputs": [],
   "source": []
  }
 ],
 "metadata": {
  "kernelspec": {
   "display_name": "Python 3",
   "language": "python",
   "name": "python3"
  },
  "language_info": {
   "codemirror_mode": {
    "name": "ipython",
    "version": 3
   },
   "file_extension": ".py",
   "mimetype": "text/x-python",
   "name": "python",
   "nbconvert_exporter": "python",
   "pygments_lexer": "ipython3",
   "version": "3.6.5"
  }
 },
 "nbformat": 4,
 "nbformat_minor": 2
}
