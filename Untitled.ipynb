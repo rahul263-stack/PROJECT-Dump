{
 "cells": [
  {
   "cell_type": "code",
   "execution_count": 4,
   "metadata": {},
   "outputs": [],
   "source": [
    "#An empty Network\n",
    "weight = 0.1\n",
    "alpha = 0.01\n",
    "def neural_network(input, weight):\n",
    "    prediction = input * weight\n",
    "    return prediction\n",
    "number_of_toes = [8.5]\n",
    "win_or_lose_binary = [1]\n",
    "\n",
    "input = number_of_toes[0]\n",
    "goal_pred = win_or_lose_binary[0]\n",
    "\n",
    "pred = neural_network(input, weight)\n",
    "\n",
    "error = (pred - goal_pred) **2\n",
    "\n",
    "delta = pred - goal_pred\n",
    "weight_delta = input * delta\n",
    "alpha = 0.01\n",
    "weight -= weight_delta * alpha"
   ]
  },
  {
   "cell_type": "code",
   "execution_count": 5,
   "metadata": {},
   "outputs": [
    {
     "name": "stdout",
     "output_type": "stream",
     "text": [
      "Error:0.6400000000000001Prediction:0.0\n",
      "Error:0.3600000000000001Prediction:0.2\n",
      "Error:0.2025Prediction:0.35000000000000003\n",
      "Error:0.11390625000000001Prediction:0.4625\n"
     ]
    }
   ],
   "source": [
    "weight ,goal_pred, input = (0.0, 0.8, 0.5)\n",
    "for iteration in range(4):\n",
    "    pred = input * weight \n",
    "    error = (pred - goal_pred)**2\n",
    "    delta = pred - goal_pred\n",
    "    weight_delta = delta * input\n",
    "    weight = weight - weight_delta\n",
    "    print(\"Error:\" + str (error) + \"Prediction:\" + str(pred))"
   ]
  },
  {
   "cell_type": "code",
   "execution_count": 9,
   "metadata": {},
   "outputs": [
    {
     "name": "stdout",
     "output_type": "stream",
     "text": [
      "Error:0.6400000000000001Prediction:0.0\n",
      "Delta: -0.8 Weight Delta:-0.8800000000000001\n",
      "Error:0.02822400000000005Prediction:0.9680000000000002\n",
      "Delta: 0.16800000000000015 Weight Delta:0.1848000000000002\n",
      "Error:0.0012446784000000064Prediction:0.76472\n",
      "Delta: -0.03528000000000009 Weight Delta:-0.0388080000000001\n",
      "Error:5.4890317439999896e-05Prediction:0.8074088\n",
      "Delta: 0.007408799999999993 Weight Delta:0.008149679999999992\n",
      "Error:2.4206629991042546e-06Prediction:0.798444152\n",
      "Delta: -0.0015558480000000818 Weight Delta:-0.0017114328000000902\n"
     ]
    }
   ],
   "source": [
    " weight ,goal_pred, input = (0.0, 0.8, 1.1)\n",
    "for iteration in range(5):\n",
    "    pred = input * weight \n",
    "    error = (pred - goal_pred)**2\n",
    "    delta = pred - goal_pred\n",
    "    weight_delta = delta * input\n",
    "    weight = weight - weight_delta\n",
    "    print(\"Error:\" + str (error) + \"Prediction:\" + str(pred))\n",
    "    print(\"Delta: \" + str(delta)+\" Weight Delta:\" +str(weight_delta))"
   ]
  },
  {
   "cell_type": "code",
   "execution_count": null,
   "metadata": {},
   "outputs": [],
   "source": []
  }
 ],
 "metadata": {
  "kernelspec": {
   "display_name": "Python 3",
   "language": "python",
   "name": "python3"
  },
  "language_info": {
   "codemirror_mode": {
    "name": "ipython",
    "version": 3
   },
   "file_extension": ".py",
   "mimetype": "text/x-python",
   "name": "python",
   "nbconvert_exporter": "python",
   "pygments_lexer": "ipython3",
   "version": "3.7.4"
  }
 },
 "nbformat": 4,
 "nbformat_minor": 2
}
