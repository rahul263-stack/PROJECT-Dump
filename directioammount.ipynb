{
 "cells": [
  {
   "cell_type": "code",
   "execution_count": 1,
   "metadata": {},
   "outputs": [
    {
     "name": "stdout",
     "output_type": "stream",
     "text": [
      "Error:0.30250000000000005Prediction0.25\n",
      "Error:0.17015625000000004Prediction0.3875\n",
      "Error:0.095712890625Prediction0.49062500000000003\n",
      "Error:0.05383850097656251Prediction0.56796875\n",
      "Error:0.03028415679931642Prediction0.6259765625\n",
      "Error:0.0170348381996155Prediction0.669482421875\n",
      "Error:0.00958209648728372Prediction0.70211181640625\n",
      "Error:0.005389929274097089Prediction0.7265838623046875\n",
      "Error:0.0030318352166796153Prediction0.7449378967285156\n",
      "Error:0.0017054073093822882Prediction0.7587034225463867\n",
      "Error:0.0009592916115275371Prediction0.76902756690979\n",
      "Error:0.0005396015314842384Prediction0.7767706751823426\n",
      "Error:0.000303525861459885Prediction0.7825780063867569\n",
      "Error:0.00017073329707118678Prediction0.7869335047900676\n",
      "Error:9.603747960254256e-05Prediction0.7902001285925507\n",
      "Error:5.402108227642978e-05Prediction0.7926500964444131\n",
      "Error:3.038685878049206e-05Prediction0.7944875723333098\n",
      "Error:1.7092608064027242e-05Prediction0.7958656792499823\n",
      "Error:9.614592036015323e-06Prediction0.7968992594374867\n",
      "Error:5.408208020258491e-06Prediction0.7976744445781151\n"
     ]
    }
   ],
   "source": [
    "weight = 0.5\n",
    "goal_pred = 0.8\n",
    "input = 0.5\n",
    "\n",
    "for iteration in range (20):\n",
    "    pred = input * weight\n",
    "    error = (pred-goal_pred) ** 2\n",
    "    direction_and_ammount = (pred - goal_pred) * input\n",
    "    weight = weight - direction_and_ammount\n",
    "    \n",
    "    print(\"Error:\"+ str(error) + \"Prediction\" + str(pred))"
   ]
  },
  {
   "cell_type": "code",
   "execution_count": null,
   "metadata": {},
   "outputs": [],
   "source": []
  }
 ],
 "metadata": {
  "kernelspec": {
   "display_name": "Python 3",
   "language": "python",
   "name": "python3"
  },
  "language_info": {
   "codemirror_mode": {
    "name": "ipython",
    "version": 3
   },
   "file_extension": ".py",
   "mimetype": "text/x-python",
   "name": "python",
   "nbconvert_exporter": "python",
   "pygments_lexer": "ipython3",
   "version": "3.7.4"
  }
 },
 "nbformat": 4,
 "nbformat_minor": 2
}
