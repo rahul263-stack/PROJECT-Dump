{
 "cells": [
  {
   "cell_type": "code",
   "execution_count": 6,
   "metadata": {},
   "outputs": [
    {
     "name": "stdout",
     "output_type": "stream",
     "text": [
      "Error: 0.03999999999999998Prediction: 1.0\n",
      "Error: 0.3599999999999998Prediction: 0.20000000000000018\n",
      "Error: 3.2399999999999984Prediction: 2.5999999999999996\n",
      "Error: 29.159999999999986Prediction: -4.599999999999999\n",
      "Error: 262.4399999999999Prediction: 16.999999999999996\n",
      "Error: 2361.959999999998Prediction: -47.79999999999998\n",
      "Error: 21257.639999999978Prediction: 146.59999999999994\n",
      "Error: 191318.75999999983Prediction: -436.5999999999998\n",
      "Error: 1721868.839999999Prediction: 1312.9999999999995\n",
      "Error: 15496819.559999991Prediction: -3935.799999999999\n",
      "Error: 139471376.03999993Prediction: 11810.599999999997\n",
      "Error: 1255242384.3599997Prediction: -35428.59999999999\n",
      "Error: 11297181459.239996Prediction: 106288.99999999999\n",
      "Error: 101674633133.15994Prediction: -318863.79999999993\n",
      "Error: 915071698198.4395Prediction: 956594.5999999997\n",
      "Error: 8235645283785.954Prediction: -2869780.599999999\n",
      "Error: 74120807554073.56Prediction: 8609344.999999996\n",
      "Error: 667087267986662.1Prediction: -25828031.799999986\n",
      "Error: 6003785411879960.0Prediction: 77484098.59999996\n",
      "Error: 5.403406870691965e+16Prediction: -232452292.5999999\n"
     ]
    }
   ],
   "source": [
    "weight = 0.5\n",
    "goal_pred = 0.8\n",
    "input = 2\n",
    "\n",
    "for iteration in range (20):\n",
    "    pred = input * weight\n",
    "    error = (pred - goal_pred)**2\n",
    "    delta = pred - goal_pred\n",
    "    weight_delta = delta *input\n",
    "    weight = weight - weight_delta\n",
    "    \n",
    "    print(\"Error: \" + str(error)+\"Prediction: \"+ str(pred))"
   ]
  },
  {
   "cell_type": "code",
   "execution_count": null,
   "metadata": {},
   "outputs": [],
   "source": []
  },
  {
   "cell_type": "code",
   "execution_count": null,
   "metadata": {},
   "outputs": [],
   "source": []
  }
 ],
 "metadata": {
  "kernelspec": {
   "display_name": "Python 3",
   "language": "python",
   "name": "python3"
  },
  "language_info": {
   "codemirror_mode": {
    "name": "ipython",
    "version": 3
   },
   "file_extension": ".py",
   "mimetype": "text/x-python",
   "name": "python",
   "nbconvert_exporter": "python",
   "pygments_lexer": "ipython3",
   "version": "3.7.4"
  }
 },
 "nbformat": 4,
 "nbformat_minor": 2
}
